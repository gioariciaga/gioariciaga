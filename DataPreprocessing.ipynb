{
 "cells": [
  {
   "cell_type": "markdown",
   "metadata": {},
   "source": [
    "# Analyzing borrowers’ risk of defaulting\n",
    "\n",
    "Your project is to prepare a report for a bank’s loan division. You’ll need to find out if a customer’s marital status and number of children has an impact on whether they will default on a loan. The bank already has some data on customers’ credit worthiness.\n",
    "\n",
    "Your report will be considered when building the **credit score** of a potential customer. The **credit score** is used to evaluate the ability of a potential borrower to repay their loan.\n",
    "\n",
    "The purpose of the project is to use the existing data to understand if there is any correlation between martial status and credit worthiness as well as number of children and credit worthiness. This project will use the already collected bank data, process it to account for any inconsistencies, and then test for correlations between the variables."
   ]
  },
  {
   "cell_type": "markdown",
   "metadata": {},
   "source": [
    "## Open the data file and have a look at the general information. "
   ]
  },
  {
   "cell_type": "code",
   "execution_count": 11,
   "metadata": {},
   "outputs": [
    {
     "name": "stdout",
     "output_type": "stream",
     "text": [
      "Requirement already satisfied: pandas in /opt/anaconda3/lib/python3.9/site-packages (1.3.4)\n",
      "Requirement already satisfied: python-dateutil>=2.7.3 in /opt/anaconda3/lib/python3.9/site-packages (from pandas) (2.8.2)\n",
      "Requirement already satisfied: pytz>=2017.3 in /opt/anaconda3/lib/python3.9/site-packages (from pandas) (2021.3)\n",
      "Requirement already satisfied: numpy>=1.17.3 in /opt/anaconda3/lib/python3.9/site-packages (from pandas) (1.20.3)\n",
      "Requirement already satisfied: six>=1.5 in /opt/anaconda3/lib/python3.9/site-packages (from python-dateutil>=2.7.3->pandas) (1.16.0)\n",
      "Requirement already satisfied: python-pptx in /opt/anaconda3/lib/python3.9/site-packages (0.6.21)\n",
      "Requirement already satisfied: XlsxWriter>=0.5.7 in /opt/anaconda3/lib/python3.9/site-packages (from python-pptx) (3.0.1)\n",
      "Requirement already satisfied: lxml>=3.1.0 in /opt/anaconda3/lib/python3.9/site-packages (from python-pptx) (4.6.3)\n",
      "Requirement already satisfied: Pillow>=3.3.2 in /opt/anaconda3/lib/python3.9/site-packages (from python-pptx) (8.4.0)\n",
      "<class 'pandas.core.frame.DataFrame'>\n",
      "RangeIndex: 21525 entries, 0 to 21524\n",
      "Data columns (total 12 columns):\n",
      " #   Column            Non-Null Count  Dtype  \n",
      "---  ------            --------------  -----  \n",
      " 0   children          21525 non-null  int64  \n",
      " 1   days_employed     19351 non-null  float64\n",
      " 2   dob_years         21525 non-null  int64  \n",
      " 3   education         21525 non-null  object \n",
      " 4   education_id      21525 non-null  int64  \n",
      " 5   family_status     21525 non-null  object \n",
      " 6   family_status_id  21525 non-null  int64  \n",
      " 7   gender            21525 non-null  object \n",
      " 8   income_type       21525 non-null  object \n",
      " 9   debt              21525 non-null  int64  \n",
      " 10  total_income      19351 non-null  float64\n",
      " 11  purpose           21525 non-null  object \n",
      "dtypes: float64(2), int64(5), object(5)\n",
      "memory usage: 2.0+ MB\n",
      "None\n"
     ]
    }
   ],
   "source": [
    "import pandas as pd\n",
    "!pip install pandas\n",
    "!pip install python-pptx\n",
    "from pptx import Presentation\n",
    "from datetime import date\n",
    "\n",
    "data = pd.read_csv(\"/Users/macbookpro/Desktop/credit_scoring_eng.csv\")\n",
    "print(data.info())"
   ]
  },
  {
   "cell_type": "markdown",
   "metadata": {},
   "source": [
    "## Task 1. Data exploration\n",
    "\n",
    "**Description of the data**\n",
    "- `children` - the number of children in the family\n",
    "- `days_employed` - work experience in days\n",
    "- `dob_years` - client's age in years\n",
    "- `education` - client's education\n",
    "- `education_id` - education identifier\n",
    "- `family_status` - marital status\n",
    "- `family_status_id` - marital status identifier\n",
    "- `gender` - gender of the client\n",
    "- `income_type` - type of employment\n",
    "- `debt` - was there any debt on loan repayment\n",
    "- `total_income` - monthly income\n",
    "- `purpose` - the purpose of obtaining a loan"
   ]
  },
  {
   "cell_type": "code",
   "execution_count": 12,
   "metadata": {},
   "outputs": [
    {
     "name": "stdout",
     "output_type": "stream",
     "text": [
      "Number of rows: 21525\n",
      "Number of cols: 12\n"
     ]
    }
   ],
   "source": [
    "print(\"Number of rows: \" + str(data.shape[0]))\n",
    "print(\"Number of cols: \" + str(data.shape[1]))"
   ]
  },
  {
   "cell_type": "code",
   "execution_count": 13,
   "metadata": {
    "scrolled": true
   },
   "outputs": [
    {
     "data": {
      "text/html": [
       "<div>\n",
       "<style scoped>\n",
       "    .dataframe tbody tr th:only-of-type {\n",
       "        vertical-align: middle;\n",
       "    }\n",
       "\n",
       "    .dataframe tbody tr th {\n",
       "        vertical-align: top;\n",
       "    }\n",
       "\n",
       "    .dataframe thead th {\n",
       "        text-align: right;\n",
       "    }\n",
       "</style>\n",
       "<table border=\"1\" class=\"dataframe\">\n",
       "  <thead>\n",
       "    <tr style=\"text-align: right;\">\n",
       "      <th></th>\n",
       "      <th>children</th>\n",
       "      <th>days_employed</th>\n",
       "      <th>dob_years</th>\n",
       "      <th>education</th>\n",
       "      <th>education_id</th>\n",
       "      <th>family_status</th>\n",
       "      <th>family_status_id</th>\n",
       "      <th>gender</th>\n",
       "      <th>income_type</th>\n",
       "      <th>debt</th>\n",
       "      <th>total_income</th>\n",
       "      <th>purpose</th>\n",
       "    </tr>\n",
       "  </thead>\n",
       "  <tbody>\n",
       "    <tr>\n",
       "      <th>0</th>\n",
       "      <td>1</td>\n",
       "      <td>-8437.673028</td>\n",
       "      <td>42</td>\n",
       "      <td>bachelor's degree</td>\n",
       "      <td>0</td>\n",
       "      <td>married</td>\n",
       "      <td>0</td>\n",
       "      <td>F</td>\n",
       "      <td>employee</td>\n",
       "      <td>0</td>\n",
       "      <td>40620.102</td>\n",
       "      <td>purchase of the house</td>\n",
       "    </tr>\n",
       "    <tr>\n",
       "      <th>1</th>\n",
       "      <td>1</td>\n",
       "      <td>-4024.803754</td>\n",
       "      <td>36</td>\n",
       "      <td>secondary education</td>\n",
       "      <td>1</td>\n",
       "      <td>married</td>\n",
       "      <td>0</td>\n",
       "      <td>F</td>\n",
       "      <td>employee</td>\n",
       "      <td>0</td>\n",
       "      <td>17932.802</td>\n",
       "      <td>car purchase</td>\n",
       "    </tr>\n",
       "    <tr>\n",
       "      <th>2</th>\n",
       "      <td>0</td>\n",
       "      <td>-5623.422610</td>\n",
       "      <td>33</td>\n",
       "      <td>Secondary Education</td>\n",
       "      <td>1</td>\n",
       "      <td>married</td>\n",
       "      <td>0</td>\n",
       "      <td>M</td>\n",
       "      <td>employee</td>\n",
       "      <td>0</td>\n",
       "      <td>23341.752</td>\n",
       "      <td>purchase of the house</td>\n",
       "    </tr>\n",
       "    <tr>\n",
       "      <th>3</th>\n",
       "      <td>3</td>\n",
       "      <td>-4124.747207</td>\n",
       "      <td>32</td>\n",
       "      <td>secondary education</td>\n",
       "      <td>1</td>\n",
       "      <td>married</td>\n",
       "      <td>0</td>\n",
       "      <td>M</td>\n",
       "      <td>employee</td>\n",
       "      <td>0</td>\n",
       "      <td>42820.568</td>\n",
       "      <td>supplementary education</td>\n",
       "    </tr>\n",
       "    <tr>\n",
       "      <th>4</th>\n",
       "      <td>0</td>\n",
       "      <td>340266.072047</td>\n",
       "      <td>53</td>\n",
       "      <td>secondary education</td>\n",
       "      <td>1</td>\n",
       "      <td>civil partnership</td>\n",
       "      <td>1</td>\n",
       "      <td>F</td>\n",
       "      <td>retiree</td>\n",
       "      <td>0</td>\n",
       "      <td>25378.572</td>\n",
       "      <td>to have a wedding</td>\n",
       "    </tr>\n",
       "  </tbody>\n",
       "</table>\n",
       "</div>"
      ],
      "text/plain": [
       "   children  days_employed  dob_years            education  education_id  \\\n",
       "0         1   -8437.673028         42    bachelor's degree             0   \n",
       "1         1   -4024.803754         36  secondary education             1   \n",
       "2         0   -5623.422610         33  Secondary Education             1   \n",
       "3         3   -4124.747207         32  secondary education             1   \n",
       "4         0  340266.072047         53  secondary education             1   \n",
       "\n",
       "       family_status  family_status_id gender income_type  debt  total_income  \\\n",
       "0            married                 0      F    employee     0     40620.102   \n",
       "1            married                 0      F    employee     0     17932.802   \n",
       "2            married                 0      M    employee     0     23341.752   \n",
       "3            married                 0      M    employee     0     42820.568   \n",
       "4  civil partnership                 1      F     retiree     0     25378.572   \n",
       "\n",
       "                   purpose  \n",
       "0    purchase of the house  \n",
       "1             car purchase  \n",
       "2    purchase of the house  \n",
       "3  supplementary education  \n",
       "4        to have a wedding  "
      ]
     },
     "execution_count": 13,
     "metadata": {},
     "output_type": "execute_result"
    }
   ],
   "source": [
    "data.head()"
   ]
  },
  {
   "cell_type": "markdown",
   "metadata": {},
   "source": [
    "A few things to note just based on the first couple rows: \n",
    "1. Inconsistent education categories (i.e. \"secondary education\" versus \"Secondary Education\")\n",
    "2. Negative days of experience"
   ]
  },
  {
   "cell_type": "code",
   "execution_count": 14,
   "metadata": {
    "scrolled": false
   },
   "outputs": [
    {
     "name": "stdout",
     "output_type": "stream",
     "text": [
      "<class 'pandas.core.frame.DataFrame'>\n",
      "RangeIndex: 21525 entries, 0 to 21524\n",
      "Data columns (total 12 columns):\n",
      " #   Column            Non-Null Count  Dtype  \n",
      "---  ------            --------------  -----  \n",
      " 0   children          21525 non-null  int64  \n",
      " 1   days_employed     19351 non-null  float64\n",
      " 2   dob_years         21525 non-null  int64  \n",
      " 3   education         21525 non-null  object \n",
      " 4   education_id      21525 non-null  int64  \n",
      " 5   family_status     21525 non-null  object \n",
      " 6   family_status_id  21525 non-null  int64  \n",
      " 7   gender            21525 non-null  object \n",
      " 8   income_type       21525 non-null  object \n",
      " 9   debt              21525 non-null  int64  \n",
      " 10  total_income      19351 non-null  float64\n",
      " 11  purpose           21525 non-null  object \n",
      "dtypes: float64(2), int64(5), object(5)\n",
      "memory usage: 2.0+ MB\n"
     ]
    }
   ],
   "source": [
    "data.info()"
   ]
  },
  {
   "cell_type": "code",
   "execution_count": 15,
   "metadata": {},
   "outputs": [
    {
     "name": "stdout",
     "output_type": "stream",
     "text": [
      "Appears to have 4348 missing values in the entire dataframe. The columns that are missing values seem to be days_employed and total_income.\n"
     ]
    }
   ],
   "source": [
    "missing = data.isnull().sum().sum()\n",
    "\n",
    "print(\"Appears to have \" + str(missing) + \" missing values in the entire dataframe. The columns that are missing values seem to be days_employed and total_income.\")"
   ]
  },
  {
   "cell_type": "code",
   "execution_count": 16,
   "metadata": {},
   "outputs": [
    {
     "name": "stdout",
     "output_type": "stream",
     "text": [
      "total_income missing values: 2174\n",
      "days_employed missing values: 2174\n",
      "0\n"
     ]
    }
   ],
   "source": [
    "print(\"total_income missing values: \" + str(data.total_income.isnull().sum()))\n",
    "print(\"days_employed missing values: \" + str(data.days_employed.isnull().sum()))\n",
    "filtered = data[data['total_income'].notna()]\n",
    "print(filtered.days_employed.isnull().sum())"
   ]
  },
  {
   "cell_type": "markdown",
   "metadata": {},
   "source": [
    "**Intermediate conclusion**\n",
    "\n",
    "It appears that the total_income & days_employed are sysmetrical. Whenever the NaN total_income rows are removed, there are no remaining days_employed NaN rows.\n",
    "\n",
    "This suggests that there may be certain charasteristics that cause an entry to have both missing total_income and days_employed. I hypothesis that it may be the income type that is causing this. To test this hypothesis, I will group the data by income type and see how many values are missing by income type on a percentage basis."
   ]
  },
  {
   "cell_type": "code",
   "execution_count": 17,
   "metadata": {},
   "outputs": [
    {
     "name": "stdout",
     "output_type": "stream",
     "text": [
      "                             total_income\n",
      "income_type                              \n",
      "business                        11.098973\n",
      "civil servant                   11.204268\n",
      "employee                        11.034552\n",
      "entrepreneur                   100.000000\n",
      "paternity / maternity leave      0.000000\n",
      "retiree                         11.995353\n",
      "student                          0.000000\n",
      "unemployed                       0.000000\n"
     ]
    }
   ],
   "source": [
    "# Let's investigate clients who do not have data on identified characteristic and the column with the missing values\n",
    "print(data.groupby('income_type').agg({'total_income': lambda x: x.isnull().sum()/x.count()*100}))"
   ]
  },
  {
   "cell_type": "code",
   "execution_count": 18,
   "metadata": {},
   "outputs": [
    {
     "name": "stdout",
     "output_type": "stream",
     "text": [
      "          total_income\n",
      "children              \n",
      "-1            6.818182\n",
      " 0           11.321794\n",
      " 1           10.937140\n",
      " 2           11.021070\n",
      " 3           12.244898\n",
      " 4           20.588235\n",
      " 5           12.500000\n",
      " 20          13.432836\n",
      "                     total_income\n",
      "education                        \n",
      "BACHELOR'S DEGREE        9.163347\n",
      "Bachelor's Degree       10.288066\n",
      "GRADUATE DEGREE          0.000000\n",
      "Graduate Degree          0.000000\n",
      "PRIMARY EDUCATION        6.250000\n",
      "Primary Education        7.142857\n",
      "SECONDARY EDUCATION      9.503546\n",
      "SOME COLLEGE            31.818182\n",
      "Secondary Education     10.061920\n",
      "Some College            17.500000\n",
      "bachelor's degree       11.747987\n",
      "graduate degree          0.000000\n",
      "primary education        8.225108\n",
      "secondary education     11.408200\n",
      "some college             8.972268\n",
      "                   total_income\n",
      "family_status                  \n",
      "civil partnership     11.834003\n",
      "divorced              10.341644\n",
      "married               11.101140\n",
      "unmarried             11.405941\n",
      "widow / widower       10.982659\n"
     ]
    }
   ],
   "source": [
    "print(data.groupby('children').agg({'total_income': lambda x: x.isnull().sum()/x.count()*100}))\n",
    "print(data.groupby('education').agg({'total_income': lambda x: x.isnull().sum()/x.count()*100}))\n",
    "print(data.groupby('family_status').agg({'total_income': lambda x: x.isnull().sum()/x.count()*100}))"
   ]
  },
  {
   "cell_type": "markdown",
   "metadata": {},
   "source": [
    "**Possible reasons for missing values in data**\n",
    "\n",
    "After checking a couple some of the key variables it seems that the % NaN is the same (~10%) across the different categories. This leads me to hypothesis that the missing values are random. "
   ]
  },
  {
   "cell_type": "markdown",
   "metadata": {},
   "source": [
    "**Intermediate conclusion**\n",
    "It seems that the hypothesis of family status and education, or children does not have a pattern for NaN total income. Distributions can be used to see if there are any other patterns in the non-discrete categories."
   ]
  },
  {
   "cell_type": "code",
   "execution_count": 19,
   "metadata": {},
   "outputs": [
    {
     "data": {
      "image/png": "[encoded data removed]",
      "text/plain": [
       "<Figure size 432x288 with 1 Axes>"
      ]
     },
     "metadata": {
      "needs_background": "light"
     },
     "output_type": "display_data"
    },
    {
     "data": {
      "image/png": "[encoded data removed]",
      "text/plain": [
       "<Figure size 432x288 with 1 Axes>"
      ]
     },
     "metadata": {
      "needs_background": "light"
     },
     "output_type": "display_data"
    },
    {
     "data": {
      "image/png": "[encoded data removed]",
      "text/plain": [
       "<Figure size 432x288 with 1 Axes>"
      ]
     },
     "metadata": {
      "needs_background": "light"
     },
     "output_type": "display_data"
    },
    {
     "data": {
      "image/png": "[encoded data removed]",
      "text/plain": [
       "<Figure size 432x288 with 1 Axes>"
      ]
     },
     "metadata": {
      "needs_background": "light"
     },
     "output_type": "display_data"
    },
    {
     "data": {
      "image/png": "[encoded data removed]",
      "text/plain": [
       "<Figure size 432x288 with 1 Axes>"
      ]
     },
     "metadata": {
      "needs_background": "light"
     },
     "output_type": "display_data"
    },
    {
     "data": {
      "image/png": "[encoded data removed]",
      "text/plain": [
       "<Figure size 432x288 with 1 Axes>"
      ]
     },
     "metadata": {
      "needs_background": "light"
     },
     "output_type": "display_data"
    },
    {
     "data": {
      "image/png": "[encoded data removed]",
      "text/plain": [
       "<Figure size 432x288 with 1 Axes>"
      ]
     },
     "metadata": {
      "needs_background": "light"
     },
     "output_type": "display_data"
    },
    {
     "data": {
      "image/png": "[encoded data removed]",
      "text/plain": [
       "<Figure size 432x288 with 1 Axes>"
      ]
     },
     "metadata": {
      "needs_background": "light"
     },
     "output_type": "display_data"
    },
    {
     "data": {
      "image/png": "[encoded data removed]",
      "text/plain": [
       "<Figure size 432x288 with 1 Axes>"
      ]
     },
     "metadata": {
      "needs_background": "light"
     },
     "output_type": "display_data"
    },
    {
     "data": {
      "image/png": "[encoded data removed]",
      "text/plain": [
       "<Figure size 432x288 with 1 Axes>"
      ]
     },
     "metadata": {
      "needs_background": "light"
     },
     "output_type": "display_data"
    }
   ],
   "source": [
    "# Check for other reasons and patterns that could lead to missing values\n",
    "data.hist(column=\"children\");\n",
    "filtered.hist(column=\"children\");\n",
    "data.hist(column=\"education_id\");\n",
    "filtered.hist(column=\"education_id\");\n",
    "data.hist(column=\"family_status_id\");\n",
    "filtered.hist(column=\"family_status_id\");\n",
    "data.hist(column=\"debt\");\n",
    "filtered.hist(column=\"debt\");\n",
    "data.hist(column=\"dob_years\");\n",
    "filtered.hist(column=\"dob_years\");"
   ]
  },
  {
   "cell_type": "markdown",
   "metadata": {},
   "source": [
    "**Intermediate conclusion**\n",
    "All of the distributions are the same as shown by the graphs above. This further supports the idea the NaN being random"
   ]
  },
  {
   "cell_type": "markdown",
   "metadata": {},
   "source": [
    "**Conclusions**\n",
    "\n",
    "Without additional contextual information, there are not any patterns in the data the explain why the rows without days_employed or total_income have this issue."
   ]
  },
  {
   "cell_type": "markdown",
   "metadata": {},
   "source": [
    "## Data transformation"
   ]
  },
  {
   "cell_type": "code",
   "execution_count": 20,
   "metadata": {},
   "outputs": [
    {
     "name": "stdout",
     "output_type": "stream",
     "text": [
      "[\"bachelor's degree\" 'secondary education' 'Secondary Education'\n",
      " 'SECONDARY EDUCATION' \"BACHELOR'S DEGREE\" 'some college'\n",
      " 'primary education' \"Bachelor's Degree\" 'SOME COLLEGE' 'Some College'\n",
      " 'PRIMARY EDUCATION' 'Primary Education' 'Graduate Degree'\n",
      " 'GRADUATE DEGREE' 'graduate degree']\n"
     ]
    }
   ],
   "source": [
    "# Let's see all values in education column to check if and what spellings will need to be fixed\n",
    "print(data['education'].unique())\n"
   ]
  },
  {
   "cell_type": "code",
   "execution_count": 21,
   "metadata": {
    "scrolled": true
   },
   "outputs": [],
   "source": [
    "# Fix the registers if required\n",
    "data['education'] = data['education'].str.upper()"
   ]
  },
  {
   "cell_type": "code",
   "execution_count": 22,
   "metadata": {
    "scrolled": true
   },
   "outputs": [
    {
     "name": "stdout",
     "output_type": "stream",
     "text": [
      "[\"BACHELOR'S DEGREE\" 'SECONDARY EDUCATION' 'SOME COLLEGE'\n",
      " 'PRIMARY EDUCATION' 'GRADUATE DEGREE']\n"
     ]
    }
   ],
   "source": [
    "# Checking all the values in the column to make sure we fixed them\n",
    "print(data['education'].unique())"
   ]
  },
  {
   "cell_type": "code",
   "execution_count": 23,
   "metadata": {},
   "outputs": [
    {
     "data": {
      "text/plain": [
       "array([[<AxesSubplot:title={'center':'children'}>]], dtype=object)"
      ]
     },
     "execution_count": 23,
     "metadata": {},
     "output_type": "execute_result"
    },
    {
     "data": {
      "image/png": "[encoded data removed]",
      "text/plain": [
       "<Figure size 432x288 with 1 Axes>"
      ]
     },
     "metadata": {
      "needs_background": "light"
     },
     "output_type": "display_data"
    }
   ],
   "source": [
    "# Let's see the distribution of values in the `children` column\n",
    "data.hist(column=\"children\")"
   ]
  },
  {
   "cell_type": "markdown",
   "metadata": {},
   "source": [
    "There are two strange things observed in the histogram:\n",
    "1. There are entries with -1 children (which is impossible)\n",
    "2. There are entries with 20 children (not impossible but seems unlikely given that nearly all people have between 0-5 children)\n",
    "\n",
    "I hypothesis that these errors occured by manual data entry mistakes: \n",
    "1. The 20 should be a 2; A 0 was accidentally appended when updating\n",
    "2. The -1 should be 1; A - was accidentally appended when updating"
   ]
  },
  {
   "cell_type": "code",
   "execution_count": 24,
   "metadata": {},
   "outputs": [],
   "source": [
    "# [fix the data based on your decision]\n",
    "data.loc[data.children <0, 'children'] = data.children*-1\n",
    "data.loc[data.children ==20, 'children'] = 2"
   ]
  },
  {
   "cell_type": "code",
   "execution_count": 25,
   "metadata": {
    "scrolled": true
   },
   "outputs": [
    {
     "data": {
      "image/png": "[encoded data removed]",
      "text/plain": [
       "<Figure size 432x288 with 1 Axes>"
      ]
     },
     "metadata": {
      "needs_background": "light"
     },
     "output_type": "display_data"
    }
   ],
   "source": [
    "# Checking the `children` column again to make sure it's all fixed\n",
    "data['children'].value_counts(dropna=False)\n",
    "data.hist(column=\"children\");"
   ]
  },
  {
   "cell_type": "markdown",
   "metadata": {},
   "source": [
    "The potential issues with days_employed are potenital imposible entries such as:\n",
    "1. Negative days_employed\n",
    "2. Being employed for an unrealistic amount of time (i.e. over 80 years)"
   ]
  },
  {
   "cell_type": "code",
   "execution_count": 26,
   "metadata": {},
   "outputs": [
    {
     "name": "stdout",
     "output_type": "stream",
     "text": [
      "days_employed < 0: 82.19730246498888%\n",
      "days_employed > 80 yrs: 17.80269753501111%\n"
     ]
    },
    {
     "data": {
      "image/png": "[encoded data removed]",
      "text/plain": [
       "<Figure size 432x288 with 1 Axes>"
      ]
     },
     "metadata": {
      "needs_background": "light"
     },
     "output_type": "display_data"
    }
   ],
   "source": [
    "# Find problematic data in `days_employed`, if they exist, and calculate the percentage\n",
    "data.hist(column=\"days_employed\");\n",
    "total = data[\"days_employed\"].count()\n",
    "print(\"days_employed < 0: \" + str(data[(data[\"days_employed\"]<0)][\"days_employed\"].count()/total*100)+\"%\")\n",
    "print(\"days_employed > 80 yrs: \" + str(data[(data[\"days_employed\"]>80*365)][\"days_employed\"].count()/total*100)+\"%\")"
   ]
  },
  {
   "cell_type": "markdown",
   "metadata": {},
   "source": [
    "I hypothesize that the negative values were intended to be positive, and the excessively large values are entered in hours instead of days."
   ]
  },
  {
   "cell_type": "code",
   "execution_count": 27,
   "metadata": {},
   "outputs": [],
   "source": [
    "# Address the problematic values, if they exist\n",
    "data.loc[data.days_employed <0, 'days_employed'] = data.days_employed*-1\n",
    "data.loc[data.days_employed > 80*365, 'days_employed'] = data.days_employed/24\n"
   ]
  },
  {
   "cell_type": "code",
   "execution_count": 28,
   "metadata": {},
   "outputs": [
    {
     "name": "stdout",
     "output_type": "stream",
     "text": [
      "days_employed < 0: 0\n",
      "days_employed > 80 yrs: 0\n"
     ]
    },
    {
     "data": {
      "image/png": "[encoded data removed]",
      "text/plain": [
       "<Figure size 432x288 with 1 Axes>"
      ]
     },
     "metadata": {
      "needs_background": "light"
     },
     "output_type": "display_data"
    }
   ],
   "source": [
    "# Check the result - make sure it's fixed\n",
    "data.hist(column=\"days_employed\");\n",
    "print(\"days_employed < 0: \" + str(data[(data[\"days_employed\"]<0)][\"days_employed\"].count()))\n",
    "print(\"days_employed > 80 yrs: \" + str(data[(data[\"days_employed\"]>80*365)][\"days_employed\"].count()))"
   ]
  },
  {
   "cell_type": "code",
   "execution_count": 29,
   "metadata": {
    "scrolled": true
   },
   "outputs": [
    {
     "data": {
      "text/plain": [
       "101"
      ]
     },
     "execution_count": 29,
     "metadata": {},
     "output_type": "execute_result"
    },
    {
     "data": {
      "image/png": "[encoded data removed]",
      "text/plain": [
       "<Figure size 432x288 with 1 Axes>"
      ]
     },
     "metadata": {
      "needs_background": "light"
     },
     "output_type": "display_data"
    }
   ],
   "source": [
    "# Check the `dob_years` for suspicious values and count the percentage\n",
    "data.hist(column=\"dob_years\");\n",
    "data.loc[data.dob_years==0, 'dob_years'].count()"
   ]
  },
  {
   "cell_type": "markdown",
   "metadata": {},
   "source": [
    "There is a problem where 101 entries have an age of 0. Since this is such a small portion of the data set, it is best to drop these rows since it would be arbitrary to assign ages to these rows."
   ]
  },
  {
   "cell_type": "code",
   "execution_count": 30,
   "metadata": {},
   "outputs": [],
   "source": [
    "# Address the issues in the `dob_years` column, if they exist\n",
    "data.drop(data.loc[data['dob_years']==0].index, inplace=True)"
   ]
  },
  {
   "cell_type": "code",
   "execution_count": 31,
   "metadata": {},
   "outputs": [
    {
     "data": {
      "text/plain": [
       "0"
      ]
     },
     "execution_count": 31,
     "metadata": {},
     "output_type": "execute_result"
    },
    {
     "data": {
      "image/png": "[encoded data removed]",
      "text/plain": [
       "<Figure size 432x288 with 1 Axes>"
      ]
     },
     "metadata": {
      "needs_background": "light"
     },
     "output_type": "display_data"
    }
   ],
   "source": [
    "# Check the result - make sure it's fixed\n",
    "data.hist(column=\"dob_years\");\n",
    "data.loc[data.dob_years==0, 'dob_years'].count()"
   ]
  },
  {
   "cell_type": "code",
   "execution_count": 32,
   "metadata": {},
   "outputs": [
    {
     "name": "stdout",
     "output_type": "stream",
     "text": [
      "married              12331\n",
      "civil partnership     4156\n",
      "unmarried             2797\n",
      "divorced              1185\n",
      "widow / widower        955\n",
      "Name: family_status, dtype: int64\n"
     ]
    }
   ],
   "source": [
    "# Let's see the values for the column\n",
    "print(data['family_status'].value_counts(dropna=False))"
   ]
  },
  {
   "cell_type": "markdown",
   "metadata": {},
   "source": [
    "The values in the family_status column seem ok. "
   ]
  },
  {
   "cell_type": "code",
   "execution_count": 33,
   "metadata": {},
   "outputs": [
    {
     "name": "stdout",
     "output_type": "stream",
     "text": [
      "F      14164\n",
      "M       7259\n",
      "XNA        1\n",
      "Name: gender, dtype: int64\n"
     ]
    }
   ],
   "source": [
    "# Let's see the values in the column\n",
    "print(data['gender'].value_counts(dropna=False))"
   ]
  },
  {
   "cell_type": "markdown",
   "metadata": {},
   "source": [
    "There is one value that is an unknown data, XNA. This will not be useful in proving the hypothesis since it can not be extrapolated and could skew the results. It is a small enough relative to the size of the dataset that it should not cause a problem"
   ]
  },
  {
   "cell_type": "code",
   "execution_count": 34,
   "metadata": {},
   "outputs": [],
   "source": [
    "# Address the problematic values, if they exist\n",
    "data = data[data.gender != \"XNA\"]"
   ]
  },
  {
   "cell_type": "code",
   "execution_count": 35,
   "metadata": {},
   "outputs": [
    {
     "name": "stdout",
     "output_type": "stream",
     "text": [
      "F    14164\n",
      "M     7259\n",
      "Name: gender, dtype: int64\n"
     ]
    }
   ],
   "source": [
    "# Check the result - make sure it's fixed\n",
    "print(data['gender'].value_counts(dropna=False))"
   ]
  },
  {
   "cell_type": "code",
   "execution_count": 36,
   "metadata": {},
   "outputs": [
    {
     "data": {
      "text/plain": [
       "employee                       11064\n",
       "business                        5064\n",
       "retiree                         3836\n",
       "civil servant                   1453\n",
       "unemployed                         2\n",
       "entrepreneur                       2\n",
       "student                            1\n",
       "paternity / maternity leave        1\n",
       "Name: income_type, dtype: int64"
      ]
     },
     "execution_count": 36,
     "metadata": {},
     "output_type": "execute_result"
    }
   ],
   "source": [
    "# Let's see the values in the column\n",
    "data[\"income_type\"].value_counts(dropna=False)"
   ]
  },
  {
   "cell_type": "markdown",
   "metadata": {},
   "source": [
    "There doesn't seem to be any problem with the income_type column.\n"
   ]
  },
  {
   "cell_type": "code",
   "execution_count": 37,
   "metadata": {},
   "outputs": [
    {
     "name": "stdout",
     "output_type": "stream",
     "text": [
      "71\n",
      "NaN          2164\n",
      "42413.096       2\n",
      "17312.717       2\n",
      "31791.384       2\n",
      "40620.102       1\n",
      "             ... \n",
      "9606.294        1\n",
      "28156.762       1\n",
      "24931.195       1\n",
      "32346.594       1\n",
      "13127.587       1\n",
      "Name: total_income, Length: 19257, dtype: int64\n"
     ]
    }
   ],
   "source": [
    "# Checking duplicates\n",
    "print(data.duplicated().sum())\n",
    "print(data['total_income'].value_counts(dropna=False))"
   ]
  },
  {
   "cell_type": "markdown",
   "metadata": {},
   "source": [
    "There are 71 duplicates and they all are missing total_income values. It is difficult to distinguish if these are true duplicates are not, but since we will later have to fill these values in, it is best to drop the duplicates for now since it is such a small portion of the data set."
   ]
  },
  {
   "cell_type": "code",
   "execution_count": 38,
   "metadata": {},
   "outputs": [],
   "source": [
    "# Address the duplicates, if they exist\n",
    "data = data.drop_duplicates()"
   ]
  },
  {
   "cell_type": "code",
   "execution_count": 39,
   "metadata": {},
   "outputs": [
    {
     "name": "stdout",
     "output_type": "stream",
     "text": [
      "0\n"
     ]
    }
   ],
   "source": [
    "# Last check whether we have any duplicates\n",
    "print(data.duplicated().sum())"
   ]
  },
  {
   "cell_type": "code",
   "execution_count": 40,
   "metadata": {},
   "outputs": [
    {
     "name": "stdout",
     "output_type": "stream",
     "text": [
      "<class 'pandas.core.frame.DataFrame'>\n",
      "Int64Index: 21352 entries, 0 to 21524\n",
      "Data columns (total 12 columns):\n",
      " #   Column            Non-Null Count  Dtype  \n",
      "---  ------            --------------  -----  \n",
      " 0   children          21352 non-null  int64  \n",
      " 1   days_employed     19259 non-null  float64\n",
      " 2   dob_years         21352 non-null  int64  \n",
      " 3   education         21352 non-null  object \n",
      " 4   education_id      21352 non-null  int64  \n",
      " 5   family_status     21352 non-null  object \n",
      " 6   family_status_id  21352 non-null  int64  \n",
      " 7   gender            21352 non-null  object \n",
      " 8   income_type       21352 non-null  object \n",
      " 9   debt              21352 non-null  int64  \n",
      " 10  total_income      19259 non-null  float64\n",
      " 11  purpose           21352 non-null  object \n",
      "dtypes: float64(2), int64(5), object(5)\n",
      "memory usage: 2.1+ MB\n"
     ]
    }
   ],
   "source": [
    "# Check the size of the dataset that you now have after your first manipulations with it\n",
    "data.info()"
   ]
  },
  {
   "cell_type": "markdown",
   "metadata": {},
   "source": [
    "Originally there was 21525 rows of data and now there are 21352. This means that about 1% of data was removed for the following reasons:\n",
    "1. Duplicates\n",
    "2. XNA gender\n",
    "3. 0 age"
   ]
  },
  {
   "cell_type": "markdown",
   "metadata": {},
   "source": [
    "# Working with missing values"
   ]
  },
  {
   "cell_type": "markdown",
   "metadata": {},
   "source": [
    "I chose not to work with dictionaries to fill the missing values."
   ]
  },
  {
   "cell_type": "markdown",
   "metadata": {},
   "source": [
    "### Restoring missing values in `total_income`"
   ]
  },
  {
   "cell_type": "markdown",
   "metadata": {},
   "source": [
    "The columns total_income and days_employed columns are missing values. To fix this, I will find means/medians based on some key factors and fill them in with the missing values."
   ]
  },
  {
   "cell_type": "code",
   "execution_count": 41,
   "metadata": {},
   "outputs": [],
   "source": [
    "# Let's write a function that calculates the age category\n",
    "\n",
    "def ageGroup(age):\n",
    "    if age < 20:\n",
    "        return \"< 20 yo\"\n",
    "    elif age < 30:\n",
    "        return \"20 - 29 yo\"\n",
    "    elif age < 40:\n",
    "        return \"30 - 39 yo\"\n",
    "    elif age < 50:\n",
    "        return \"40 - 49 yo\"\n",
    "    elif age < 60:\n",
    "        return \"50 - 59 yo\"\n",
    "    else:\n",
    "        return \"> 60 yo\""
   ]
  },
  {
   "cell_type": "code",
   "execution_count": 42,
   "metadata": {},
   "outputs": [
    {
     "name": "stdout",
     "output_type": "stream",
     "text": [
      "< 20 yo 20 - 29 yo 30 - 39 yo 40 - 49 yo 50 - 59 yo > 60 yo\n"
     ]
    }
   ],
   "source": [
    "# Test if the function works\n",
    "print(ageGroup(18),ageGroup(24),ageGroup(35),ageGroup(46),ageGroup(57),ageGroup(68))"
   ]
  },
  {
   "cell_type": "code",
   "execution_count": 43,
   "metadata": {},
   "outputs": [],
   "source": [
    "# Creating new column based on function\n",
    "data['age_group'] = data['dob_years'].apply(ageGroup)"
   ]
  },
  {
   "cell_type": "code",
   "execution_count": 44,
   "metadata": {},
   "outputs": [
    {
     "data": {
      "text/plain": [
       "30 - 39 yo    5662\n",
       "40 - 49 yo    5354\n",
       "50 - 59 yo    4657\n",
       "20 - 29 yo    3165\n",
       "> 60 yo       2500\n",
       "< 20 yo         14\n",
       "Name: age_group, dtype: int64"
      ]
     },
     "execution_count": 44,
     "metadata": {},
     "output_type": "execute_result"
    }
   ],
   "source": [
    "# Checking how values in the new column\n",
    "data['age_group'].value_counts(dropna=False)"
   ]
  },
  {
   "cell_type": "markdown",
   "metadata": {},
   "source": [
    "The factors I will analyze to determine how to restore the missing values for total_income are age group, education, income_type, and gender because these factors usually have the greatest impact on income."
   ]
  },
  {
   "cell_type": "code",
   "execution_count": 45,
   "metadata": {},
   "outputs": [
    {
     "name": "stdout",
     "output_type": "stream",
     "text": [
      "   children  days_employed  dob_years            education  education_id  \\\n",
      "0         1    8437.673028         42    BACHELOR'S DEGREE             0   \n",
      "1         1    4024.803754         36  SECONDARY EDUCATION             1   \n",
      "2         0    5623.422610         33  SECONDARY EDUCATION             1   \n",
      "3         3    4124.747207         32  SECONDARY EDUCATION             1   \n",
      "4         0   14177.753002         53  SECONDARY EDUCATION             1   \n",
      "\n",
      "       family_status  family_status_id gender income_type  debt  total_income  \\\n",
      "0            married                 0      F    employee     0     40620.102   \n",
      "1            married                 0      F    employee     0     17932.802   \n",
      "2            married                 0      M    employee     0     23341.752   \n",
      "3            married                 0      M    employee     0     42820.568   \n",
      "4  civil partnership                 1      F     retiree     0     25378.572   \n",
      "\n",
      "                   purpose   age_group  \n",
      "0    purchase of the house  40 - 49 yo  \n",
      "1             car purchase  30 - 39 yo  \n",
      "2    purchase of the house  30 - 39 yo  \n",
      "3  supplementary education  30 - 39 yo  \n",
      "4        to have a wedding  50 - 59 yo  \n"
     ]
    }
   ],
   "source": [
    "# Create a table without missing values and print a few of its rows to make sure it looks fine\n",
    "filtered = data.dropna(subset=['total_income'])\n",
    "print(filtered.head())"
   ]
  },
  {
   "cell_type": "code",
   "execution_count": 46,
   "metadata": {},
   "outputs": [],
   "source": [
    "## Would need to pip install pandasgui for a hands on table for diff views ## \n",
    "#from pandasgui import show\n",
    "#show(filtered)"
   ]
  },
  {
   "cell_type": "code",
   "execution_count": 47,
   "metadata": {},
   "outputs": [
    {
     "name": "stdout",
     "output_type": "stream",
     "text": [
      "    age_group  total_income\n",
      "0  20 - 29 yo  25570.172966\n",
      "1  30 - 39 yo  28312.479963\n",
      "2  40 - 49 yo  28551.375635\n",
      "3  50 - 59 yo  25811.700327\n",
      "4     < 20 yo  16993.942462\n",
      "             education  total_income\n",
      "0    BACHELOR'S DEGREE  33172.428387\n",
      "1      GRADUATE DEGREE  27960.024667\n",
      "2    PRIMARY EDUCATION  21144.882211\n",
      "3  SECONDARY EDUCATION  24600.353617\n",
      "4         SOME COLLEGE  29035.057865\n",
      "  gender  total_income\n",
      "0      F  24664.752169\n",
      "1      M  30905.772981\n",
      "                   income_type  total_income\n",
      "0                     business  32397.307219\n",
      "1                civil servant  27361.316126\n",
      "2                     employee  25824.679592\n",
      "3                 entrepreneur  79866.103000\n",
      "4  paternity / maternity leave   8612.661000\n",
      "    age_group income_type            education gender  total_income\n",
      "0  20 - 29 yo    business    BACHELOR'S DEGREE      F  29474.189550\n",
      "1  20 - 29 yo    business    BACHELOR'S DEGREE      M  37101.643900\n",
      "2  20 - 29 yo    business    PRIMARY EDUCATION      F  12663.581000\n",
      "3  20 - 29 yo    business    PRIMARY EDUCATION      M  34020.462000\n",
      "4  20 - 29 yo    business  SECONDARY EDUCATION      F  23514.155913\n"
     ]
    }
   ],
   "source": [
    "# Look at the mean values for income based on your identified factors\n",
    "filtered_mean = filtered.groupby(['age_group'])['total_income'].mean().reset_index()\n",
    "print(filtered_mean.head())\n",
    "filtered_mean = filtered.groupby(['education'])['total_income'].mean().reset_index()\n",
    "print(filtered_mean.head())\n",
    "filtered_mean = filtered.groupby(['gender'])['total_income'].mean().reset_index()\n",
    "print(filtered_mean.head())\n",
    "filtered_mean = filtered.groupby(['income_type'])['total_income'].mean().reset_index()\n",
    "print(filtered_mean.head())\n",
    "filtered_mean = filtered.groupby(['age_group','income_type','education','gender'])['total_income'].mean().reset_index()\n",
    "print(filtered_mean.head())"
   ]
  },
  {
   "cell_type": "code",
   "execution_count": 48,
   "metadata": {
    "scrolled": true
   },
   "outputs": [
    {
     "name": "stdout",
     "output_type": "stream",
     "text": [
      "    age_group  total_income\n",
      "0  20 - 29 yo    22798.6650\n",
      "1  30 - 39 yo    24667.5280\n",
      "2  40 - 49 yo    24764.2290\n",
      "3  50 - 59 yo    22203.0745\n",
      "4     < 20 yo    14934.9010\n",
      "             education  total_income\n",
      "0    BACHELOR'S DEGREE    28054.5310\n",
      "1      GRADUATE DEGREE    25161.5835\n",
      "2    PRIMARY EDUCATION    18741.9760\n",
      "3  SECONDARY EDUCATION    21839.4075\n",
      "4         SOME COLLEGE    25608.7945\n",
      "  gender  total_income\n",
      "0      F    21469.0015\n",
      "1      M    26819.5670\n",
      "                   income_type  total_income\n",
      "0                     business    27563.0285\n",
      "1                civil servant    24083.5065\n",
      "2                     employee    22815.1035\n",
      "3                 entrepreneur    79866.1030\n",
      "4  paternity / maternity leave     8612.6610\n",
      "    age_group income_type            education gender  total_income\n",
      "0  20 - 29 yo    business    BACHELOR'S DEGREE      F    26928.3970\n",
      "1  20 - 29 yo    business    BACHELOR'S DEGREE      M    32319.5335\n",
      "2  20 - 29 yo    business    PRIMARY EDUCATION      F    12663.5810\n",
      "3  20 - 29 yo    business    PRIMARY EDUCATION      M    27119.0240\n",
      "4  20 - 29 yo    business  SECONDARY EDUCATION      F    21079.3665\n"
     ]
    }
   ],
   "source": [
    "# Look at the median values for income based on your identified factors\n",
    "filtered_median = filtered.groupby(['age_group'])['total_income'].median().reset_index()\n",
    "print(filtered_median.head())\n",
    "filtered_median = filtered.groupby(['education'])['total_income'].median().reset_index()\n",
    "print(filtered_median.head())\n",
    "filtered_median = filtered.groupby(['gender'])['total_income'].median().reset_index()\n",
    "print(filtered_median.head())\n",
    "filtered_median = filtered.groupby(['income_type'])['total_income'].median().reset_index()\n",
    "print(filtered_median.head())\n",
    "filtered_median = filtered.groupby(['age_group','income_type','education','gender'])['total_income'].median().reset_index()\n",
    "print(filtered_median.head())\n"
   ]
  },
  {
   "cell_type": "code",
   "execution_count": 49,
   "metadata": {},
   "outputs": [],
   "source": [
    "## Correlation Matrix ##\n",
    "#df_trim = filtered[['total_income','age_group']]\n",
    "#import matplotlib.pyplot as plt\n",
    "#import seaborn as sns\n",
    "#trim_corr = df_trim.corr()\n",
    "#ax = sns.heatmap(\n",
    "    #trim_corr, \n",
    "    #vmin=-1, vmax=1, center=0,\n",
    "    #cmap=sns.diverging_palette(20, 220, n=200),\n",
    "    #square=True\n",
    "#)\n",
    "#ax.set_xticklabels(\n",
    "    #ax.get_xticklabels(),\n",
    "    #rotation=45,\n",
    "    #horizontalalignment='right'\n",
    "#)"
   ]
  },
  {
   "cell_type": "markdown",
   "metadata": {},
   "source": [
    "The characteristics I identified all have a major impact on total_income. I will use the median number because there seems to be some outliers in the data set:"
   ]
  },
  {
   "cell_type": "code",
   "execution_count": 50,
   "metadata": {},
   "outputs": [
    {
     "name": "stdout",
     "output_type": "stream",
     "text": [
      "362496.645\n",
      "3306.762\n",
      "26794.13312077475\n",
      "23200.877\n"
     ]
    }
   ],
   "source": [
    "print(filtered['total_income'].max())\n",
    "print(filtered['total_income'].min())\n",
    "print(filtered['total_income'].mean())\n",
    "print(filtered['total_income'].median())"
   ]
  },
  {
   "cell_type": "code",
   "execution_count": 51,
   "metadata": {},
   "outputs": [],
   "source": [
    "#  Write a function that we will use for filling in missing values\n",
    "        \n",
    "def fillValues(age_group,income_type,education, gender):\n",
    "    df = filtered[(filtered[\"age_group\"]==age_group) & (filtered[\"income_type\"]==income_type) & (filtered[\"education\"]==education) & (filtered[\"gender\"]==gender)]\n",
    "    return df[\"total_income\"].median()"
   ]
  },
  {
   "cell_type": "code",
   "execution_count": 52,
   "metadata": {},
   "outputs": [
    {
     "name": "stdout",
     "output_type": "stream",
     "text": [
      "21079.3665\n",
      "27075.362500000003\n",
      "17257.292999999998\n"
     ]
    }
   ],
   "source": [
    "# Check if it works\n",
    "print(fillValues(\"20 - 29 yo\",\"business\",\"SECONDARY EDUCATION\",\"F\"))\n",
    "print(fillValues(\"20 - 29 yo\",\"business\",\"SECONDARY EDUCATION\",\"M\"))\n",
    "print(fillValues(\"20 - 29 yo\",\"employee\",\"SECONDARY EDUCATION\",\"F\"))"
   ]
  },
  {
   "cell_type": "code",
   "execution_count": 53,
   "metadata": {},
   "outputs": [],
   "source": [
    "## Adding from instructor feedback ##\n",
    "import warnings\n",
    "warnings.filterwarnings(\"ignore\")"
   ]
  },
  {
   "cell_type": "code",
   "execution_count": 54,
   "metadata": {},
   "outputs": [],
   "source": [
    "# Apply it to every row\n",
    "to_fill = data[data['total_income'].isnull()]\n",
    "to_fill['total_income'] = to_fill.apply(lambda row: fillValues(row['age_group'],row['income_type'],row['education'],row['gender']), axis=1)"
   ]
  },
  {
   "cell_type": "code",
   "execution_count": 55,
   "metadata": {},
   "outputs": [
    {
     "name": "stdout",
     "output_type": "stream",
     "text": [
      "3\n",
      "       children  days_employed  dob_years          education  education_id  \\\n",
      "5936          0            NaN         58  BACHELOR'S DEGREE             0   \n",
      "8142          0            NaN         64  PRIMARY EDUCATION             3   \n",
      "18739         0            NaN         62       SOME COLLEGE             2   \n",
      "\n",
      "           family_status  family_status_id gender    income_type  debt  \\\n",
      "5936             married                 0      M   entrepreneur     0   \n",
      "8142   civil partnership                 1      F  civil servant     0   \n",
      "18739  civil partnership                 1      M       business     0   \n",
      "\n",
      "       total_income                      purpose   age_group  \n",
      "5936            NaN  buy residential real estate  50 - 59 yo  \n",
      "8142            NaN            to have a wedding     > 60 yo  \n",
      "18739           NaN            to have a wedding     > 60 yo  \n"
     ]
    }
   ],
   "source": [
    "# Check if we got any errors\n",
    "print(to_fill['total_income'].isnull().sum())\n",
    "errors = to_fill[to_fill['total_income'].isnull()]\n",
    "print(errors.head())"
   ]
  },
  {
   "cell_type": "markdown",
   "metadata": {},
   "source": [
    "There are 3 NaN left. This is because there are no other data that match the parameters identified to calculate the median off of. Because this is such a small number of rows they will be dropped from the set.\n"
   ]
  },
  {
   "cell_type": "code",
   "execution_count": 56,
   "metadata": {},
   "outputs": [],
   "source": [
    "# Replacing missing values if there are any errors\n",
    "to_fill = to_fill[to_fill['total_income'].notna()]"
   ]
  },
  {
   "cell_type": "code",
   "execution_count": 57,
   "metadata": {},
   "outputs": [
    {
     "name": "stdout",
     "output_type": "stream",
     "text": [
      "<class 'pandas.core.frame.DataFrame'>\n",
      "Int64Index: 2090 entries, 12 to 21510\n",
      "Data columns (total 13 columns):\n",
      " #   Column            Non-Null Count  Dtype  \n",
      "---  ------            --------------  -----  \n",
      " 0   children          2090 non-null   int64  \n",
      " 1   days_employed     0 non-null      float64\n",
      " 2   dob_years         2090 non-null   int64  \n",
      " 3   education         2090 non-null   object \n",
      " 4   education_id      2090 non-null   int64  \n",
      " 5   family_status     2090 non-null   object \n",
      " 6   family_status_id  2090 non-null   int64  \n",
      " 7   gender            2090 non-null   object \n",
      " 8   income_type       2090 non-null   object \n",
      " 9   debt              2090 non-null   int64  \n",
      " 10  total_income      2090 non-null   float64\n",
      " 11  purpose           2090 non-null   object \n",
      " 12  age_group         2090 non-null   object \n",
      "dtypes: float64(2), int64(5), object(6)\n",
      "memory usage: 228.6+ KB\n"
     ]
    }
   ],
   "source": [
    "# Checking the number of entries in the columns\n",
    "to_fill.info()"
   ]
  },
  {
   "cell_type": "markdown",
   "metadata": {},
   "source": [
    "###  Restoring values in `days_employed`"
   ]
  },
  {
   "cell_type": "markdown",
   "metadata": {},
   "source": [
    "For days_employed, I think the variables that would matter most are the income_type and age_group"
   ]
  },
  {
   "cell_type": "code",
   "execution_count": 58,
   "metadata": {
    "pycharm": {
     "name": "#%%\n"
    }
   },
   "outputs": [
    {
     "name": "stdout",
     "output_type": "stream",
     "text": [
      "income_type\n",
      "business                        1548.009883\n",
      "civil servant                   2673.404956\n",
      "employee                        1576.067689\n",
      "entrepreneur                     520.848083\n",
      "paternity / maternity leave     3296.759962\n",
      "retiree                        15215.680699\n",
      "student                          578.751554\n",
      "unemployed                     15267.235531\n",
      "Name: days_employed, dtype: float64\n",
      "age_group\n",
      "20 - 29 yo     1004.573780\n",
      "30 - 39 yo     1601.784231\n",
      "40 - 49 yo     2111.489906\n",
      "50 - 59 yo     4796.767897\n",
      "< 20 yo         724.492610\n",
      "> 60 yo       14815.302792\n",
      "Name: days_employed, dtype: float64\n"
     ]
    }
   ],
   "source": [
    "# Distribution of `days_employed` medians based on your identified parameters\n",
    "\n",
    "df = filtered.groupby('income_type')['days_employed'].median()\n",
    "print(df)\n",
    "df = filtered.groupby('age_group')['days_employed'].median()\n",
    "print(df)"
   ]
  },
  {
   "cell_type": "code",
   "execution_count": 59,
   "metadata": {},
   "outputs": [
    {
     "name": "stdout",
     "output_type": "stream",
     "text": [
      "income_type\n",
      "business                        2112.744402\n",
      "civil servant                   3388.508552\n",
      "employee                        2328.603723\n",
      "entrepreneur                     520.848083\n",
      "paternity / maternity leave     3296.759962\n",
      "retiree                        15208.988648\n",
      "student                          578.751554\n",
      "unemployed                     15267.235531\n",
      "Name: days_employed, dtype: float64\n",
      "age_group\n",
      "20 - 29 yo     1245.844393\n",
      "30 - 39 yo     2103.700591\n",
      "40 - 49 yo     3065.967424\n",
      "50 - 59 yo     7541.593571\n",
      "< 20 yo         633.678086\n",
      "> 60 yo       12743.739504\n",
      "Name: days_employed, dtype: float64\n"
     ]
    }
   ],
   "source": [
    "# Distribution of `days_employed` means based on your identified parameters\n",
    "df = filtered.groupby('income_type')['days_employed'].mean()\n",
    "print(df)\n",
    "df = filtered.groupby('age_group')['days_employed'].mean()\n",
    "print(df)"
   ]
  },
  {
   "cell_type": "markdown",
   "metadata": {},
   "source": [
    "Based on this analysis it makes the most sense to use the age_group to assign days_employed. I am choosing to use the mean in this case because it doesn't seem that outliers have a large influence here."
   ]
  },
  {
   "cell_type": "code",
   "execution_count": 60,
   "metadata": {},
   "outputs": [],
   "source": [
    "# Let's write a function that calculates means or medians (depending on your decision) based on your identified parameter\n",
    "def fillDaysValues(age_group):\n",
    "    df = filtered[(filtered[\"age_group\"]==age_group)]\n",
    "    return df['days_employed'].mean()\n",
    "    "
   ]
  },
  {
   "cell_type": "code",
   "execution_count": 61,
   "metadata": {},
   "outputs": [
    {
     "name": "stdout",
     "output_type": "stream",
     "text": [
      "1245.8443926168516 12743.739503992949\n"
     ]
    }
   ],
   "source": [
    "# Check that the function works\n",
    "print(fillDaysValues('20 - 29 yo'),fillDaysValues('> 60 yo'))\n"
   ]
  },
  {
   "cell_type": "code",
   "execution_count": 62,
   "metadata": {},
   "outputs": [],
   "source": [
    "# Apply function\n",
    "to_fill['days_employed'] = to_fill.apply(lambda row: fillDaysValues(row['age_group']), axis=1)"
   ]
  },
  {
   "cell_type": "code",
   "execution_count": 63,
   "metadata": {},
   "outputs": [
    {
     "name": "stdout",
     "output_type": "stream",
     "text": [
      "0\n",
      "Empty DataFrame\n",
      "Columns: [children, days_employed, dob_years, education, education_id, family_status, family_status_id, gender, income_type, debt, total_income, purpose, age_group]\n",
      "Index: []\n"
     ]
    }
   ],
   "source": [
    "# Check if function worked\n",
    "print(to_fill['days_employed'].isnull().sum())\n",
    "errors = to_fill[to_fill['days_employed'].isnull()]\n",
    "print(errors.head())"
   ]
  },
  {
   "cell_type": "code",
   "execution_count": 64,
   "metadata": {},
   "outputs": [
    {
     "name": "stdout",
     "output_type": "stream",
     "text": [
      "<class 'pandas.core.frame.DataFrame'>\n",
      "Int64Index: 21349 entries, 0 to 21510\n",
      "Data columns (total 13 columns):\n",
      " #   Column            Non-Null Count  Dtype  \n",
      "---  ------            --------------  -----  \n",
      " 0   children          21349 non-null  int64  \n",
      " 1   days_employed     21349 non-null  float64\n",
      " 2   dob_years         21349 non-null  int64  \n",
      " 3   education         21349 non-null  object \n",
      " 4   education_id      21349 non-null  int64  \n",
      " 5   family_status     21349 non-null  object \n",
      " 6   family_status_id  21349 non-null  int64  \n",
      " 7   gender            21349 non-null  object \n",
      " 8   income_type       21349 non-null  object \n",
      " 9   debt              21349 non-null  int64  \n",
      " 10  total_income      21349 non-null  float64\n",
      " 11  purpose           21349 non-null  object \n",
      " 12  age_group         21349 non-null  object \n",
      "dtypes: float64(2), int64(5), object(6)\n",
      "memory usage: 2.3+ MB\n"
     ]
    }
   ],
   "source": [
    "# Check the entries in all columns - make sure we fixed all missing values\n",
    "frames = [filtered, to_fill]\n",
    "data = pd.concat(frames)\n",
    "data.info()"
   ]
  },
  {
   "cell_type": "markdown",
   "metadata": {},
   "source": [
    "## Categorization of data\n",
    "\n",
    "Is there a connection between having kids and repaying a loan on time?\n",
    "Is there a connection between marital status and repaying a loan on time?\n",
    "Is there a connection between income level and repaying a loan on time?\n",
    "How do different loan purposes affect on-time loan repayment?\n",
    "\n",
    "The text category that needs to be created to answer these questions is purposes."
   ]
  },
  {
   "cell_type": "code",
   "execution_count": 65,
   "metadata": {
    "scrolled": true
   },
   "outputs": [
    {
     "name": "stdout",
     "output_type": "stream",
     "text": [
      "<bound method IndexOpsMixin.value_counts of 0          purchase of the house\n",
      "1                   car purchase\n",
      "2          purchase of the house\n",
      "3        supplementary education\n",
      "4              to have a wedding\n",
      "                  ...           \n",
      "21489          purchase of a car\n",
      "21495           wedding ceremony\n",
      "21497        building a property\n",
      "21502     building a real estate\n",
      "21510               car purchase\n",
      "Name: purpose, Length: 21349, dtype: object>\n"
     ]
    }
   ],
   "source": [
    "# Print the values for your selected data for categorization\n",
    "print(data['purpose'].value_counts)"
   ]
  },
  {
   "cell_type": "code",
   "execution_count": 66,
   "metadata": {},
   "outputs": [
    {
     "name": "stdout",
     "output_type": "stream",
     "text": [
      "['purchase of the house' 'car purchase' 'supplementary education'\n",
      " 'to have a wedding' 'housing transactions' 'education' 'having a wedding'\n",
      " 'purchase of the house for my family' 'buy real estate'\n",
      " 'buy commercial real estate' 'buy residential real estate'\n",
      " 'construction of own property' 'property' 'building a property'\n",
      " 'buying a second-hand car' 'buying my own car'\n",
      " 'transactions with commercial real estate' 'housing'\n",
      " 'transactions with my real estate' 'cars' 'to become educated'\n",
      " 'getting an education' 'second-hand car purchase' 'car'\n",
      " 'wedding ceremony' 'to get a supplementary education'\n",
      " 'purchase of my own house' 'real estate transactions'\n",
      " 'getting higher education' 'to own a car' 'purchase of a car'\n",
      " 'profile education' 'university education'\n",
      " 'buying property for renting out' 'to buy a car' 'building a real estate'\n",
      " 'housing renovation' 'going to university']\n"
     ]
    }
   ],
   "source": [
    "# Check the unique values\n",
    "print(data['purpose'].unique())"
   ]
  },
  {
   "cell_type": "markdown",
   "metadata": {},
   "source": [
    "The main categories are:\n",
    "1. Education\n",
    "2. Wedding\n",
    "3. Car\n",
    "4. Property"
   ]
  },
  {
   "cell_type": "code",
   "execution_count": 67,
   "metadata": {},
   "outputs": [],
   "source": [
    "# Let's write a function to categorize the data based on common topics\n",
    "def category(label):\n",
    "    if \"car\" in label:\n",
    "        return \"Car\"\n",
    "    elif (\"education\" in label) or (\"university\" in label) or (\"educated\" in label):\n",
    "        return \"Education\"\n",
    "    elif \"wedding\" in label:\n",
    "        return \"Wedding\"\n",
    "    elif (\"property\" in label) or (\"estate\" in label) or (\"house\" in label) or (\"housing\" in label):\n",
    "        return \"Property\""
   ]
  },
  {
   "cell_type": "code",
   "execution_count": 68,
   "metadata": {},
   "outputs": [
    {
     "name": "stdout",
     "output_type": "stream",
     "text": [
      "Property     10762\n",
      "Car           4284\n",
      "Education     3995\n",
      "Wedding       2308\n",
      "Name: purpose_category, dtype: int64\n"
     ]
    }
   ],
   "source": [
    "# Create a column with the categories and count the values for them\n",
    "\n",
    "data['purpose_category'] = data['purpose'].apply(category)\n",
    "print(data['purpose_category'].value_counts())"
   ]
  },
  {
   "cell_type": "markdown",
   "metadata": {},
   "source": [
    "To answer the questions, the income level will need to be categorized. To do this, the income levels will be split into quintiles."
   ]
  },
  {
   "cell_type": "code",
   "execution_count": 69,
   "metadata": {},
   "outputs": [
    {
     "name": "stdout",
     "output_type": "stream",
     "text": [
      "0        40620.1020\n",
      "1        17932.8020\n",
      "2        23341.7520\n",
      "3        42820.5680\n",
      "4        25378.5720\n",
      "            ...    \n",
      "21489    29540.0910\n",
      "21495    20438.4245\n",
      "21497    31584.3040\n",
      "21502    20297.4645\n",
      "21510    17257.2930\n",
      "Name: total_income, Length: 21349, dtype: float64\n"
     ]
    }
   ],
   "source": [
    "# Looking through all the numerical data in your selected column for categorization\n",
    "print(data['total_income'])"
   ]
  },
  {
   "cell_type": "code",
   "execution_count": 70,
   "metadata": {},
   "outputs": [],
   "source": [
    "# Getting summary statistics for the column\n",
    "q1 = data.total_income.quantile(0.2)\n",
    "q2 = data.total_income.quantile(0.4)\n",
    "q3 = data.total_income.quantile(0.6)\n",
    "q4 = data.total_income.quantile(0.8)"
   ]
  },
  {
   "cell_type": "markdown",
   "metadata": {},
   "source": [
    "Using the summary statistics, I will group the data by quintiles to make categorys to observe the credit worthiness against."
   ]
  },
  {
   "cell_type": "code",
   "execution_count": 71,
   "metadata": {},
   "outputs": [],
   "source": [
    "# Creating function for categorizing into different numerical groups based on ranges\n",
    "def categoryNum(value,q1,q2,q3,q4):\n",
    "    if(value < q1):\n",
    "        return \"Bottom Quintile\"\n",
    "    elif (value < q2):\n",
    "        return \"Second Quintile\"\n",
    "    elif (value < q3):\n",
    "        return \"Third Quintile\"\n",
    "    elif (value < q4):\n",
    "        return \"Fourth Quintile\"\n",
    "    else:\n",
    "        return \"Top Quintile\""
   ]
  },
  {
   "cell_type": "code",
   "execution_count": 72,
   "metadata": {},
   "outputs": [],
   "source": [
    "# Creating column with categories\n",
    "data['income_category'] = data['total_income'].apply(categoryNum, args = (q1, q2, q3, q4))"
   ]
  },
  {
   "cell_type": "code",
   "execution_count": 73,
   "metadata": {
    "scrolled": true
   },
   "outputs": [
    {
     "name": "stdout",
     "output_type": "stream",
     "text": [
      "Top Quintile       4270\n",
      "Second Quintile    4270\n",
      "Bottom Quintile    4270\n",
      "Fourth Quintile    4270\n",
      "Third Quintile     4269\n",
      "Name: income_category, dtype: int64\n"
     ]
    }
   ],
   "source": [
    "# Count each categories values to see the distribution\n",
    "print(data['income_category'].value_counts())"
   ]
  },
  {
   "cell_type": "markdown",
   "metadata": {},
   "source": [
    "It will also be helpful to have a category for having children or not to save on steps later on."
   ]
  },
  {
   "cell_type": "code",
   "execution_count": 74,
   "metadata": {},
   "outputs": [],
   "source": [
    "def haveChildren(num):\n",
    "    if num ==0:\n",
    "        return 0\n",
    "    else:\n",
    "        return 1"
   ]
  },
  {
   "cell_type": "code",
   "execution_count": 75,
   "metadata": {},
   "outputs": [
    {
     "name": "stdout",
     "output_type": "stream",
     "text": [
      "0    14018\n",
      "1     7331\n",
      "Name: have_children, dtype: int64\n"
     ]
    }
   ],
   "source": [
    "data['have_children'] = data['children'].apply(haveChildren)\n",
    "print(data['have_children'].value_counts())"
   ]
  },
  {
   "cell_type": "markdown",
   "metadata": {},
   "source": [
    "## Checking the Hypotheses\n"
   ]
  },
  {
   "cell_type": "markdown",
   "metadata": {},
   "source": [
    "**Is there a correlation between having children and paying back on time?**"
   ]
  },
  {
   "cell_type": "code",
   "execution_count": 76,
   "metadata": {},
   "outputs": [
    {
     "name": "stdout",
     "output_type": "stream",
     "text": [
      "               debt\n",
      "have_children      \n",
      "0               7.5\n",
      "1               9.2\n"
     ]
    }
   ],
   "source": [
    "print(data.groupby('have_children').agg({'debt': lambda x: round((x==1).sum()/x.count()*100,1)}))\n",
    "\n"
   ]
  },
  {
   "cell_type": "markdown",
   "metadata": {},
   "source": [
    "**Conclusion**\n",
    "\n",
    "It appears that there is a correlation where those who have children have a higher default rate than those who do not. However, this is only looking at one variable so it may not be a causual relationship. More analysis would need to be done to determine this.\n"
   ]
  },
  {
   "cell_type": "markdown",
   "metadata": {},
   "source": [
    "**Is there a correlation between family status and paying back on time?**"
   ]
  },
  {
   "cell_type": "code",
   "execution_count": 77,
   "metadata": {},
   "outputs": [
    {
     "name": "stdout",
     "output_type": "stream",
     "text": [
      "                   debt\n",
      "family_status          \n",
      "civil partnership   9.4\n",
      "divorced            7.2\n",
      "married             7.5\n",
      "unmarried           9.8\n",
      "widow / widower     6.5\n"
     ]
    }
   ],
   "source": [
    "print(data.groupby('family_status').agg({'debt': lambda x: round((x==1).sum()/x.count()*100,1)}))"
   ]
  },
  {
   "cell_type": "markdown",
   "metadata": {},
   "source": [
    "**Conclusion**\n",
    "\n",
    "It appears that there is a correlation where widow/widowers have the lowest default rate and those who are unmarried have the highest default rate. However, this is only looking at one variable so it may not be a causual relationship. More analysis would need to be done to determine this."
   ]
  },
  {
   "cell_type": "markdown",
   "metadata": {},
   "source": [
    "**Is there a correlation between income level and paying back on time?**"
   ]
  },
  {
   "cell_type": "code",
   "execution_count": 78,
   "metadata": {},
   "outputs": [
    {
     "name": "stdout",
     "output_type": "stream",
     "text": [
      "                 debt\n",
      "income_category      \n",
      "Bottom Quintile   8.0\n",
      "Fourth Quintile   8.5\n",
      "Second Quintile   8.4\n",
      "Third Quintile    8.8\n",
      "Top Quintile      7.0\n"
     ]
    }
   ],
   "source": [
    "# Calculating default-rate based on income level\n",
    "print(data.groupby('income_category').agg({'debt': lambda x: round((x==1).sum()/x.count()*100,1)}))\n"
   ]
  },
  {
   "cell_type": "markdown",
   "metadata": {},
   "source": [
    "**Conclusion**\n",
    "\n",
    "It does not appear that there is a correlation based on income level. If there was a correlation, with each step in income level, we would expect a proportional increase or decrease in the default rate which we do not see here."
   ]
  },
  {
   "cell_type": "markdown",
   "metadata": {},
   "source": [
    "**How does credit purpose affect the default rate?**"
   ]
  },
  {
   "cell_type": "code",
   "execution_count": 79,
   "metadata": {},
   "outputs": [
    {
     "name": "stdout",
     "output_type": "stream",
     "text": [
      "                  debt\n",
      "purpose_category      \n",
      "Car                9.3\n",
      "Education          9.3\n",
      "Property           7.2\n",
      "Wedding            8.0\n"
     ]
    }
   ],
   "source": [
    "# Check the percentages for default rate for each credit purpose and analyze them\n",
    "\n",
    "print(data.groupby('purpose_category').agg({'debt': lambda x: round((x==1).sum()/x.count()*100,1)}))"
   ]
  },
  {
   "cell_type": "markdown",
   "metadata": {},
   "source": [
    "**Conclusion**\n",
    "\n",
    "It appears that there is a correlation where those who are using the money for property have a lower default rate. However, this is only looking at one variable so it may not be a causual relationship. More analysis would need to be done to determine this."
   ]
  },
  {
   "cell_type": "markdown",
   "metadata": {},
   "source": [
    "# General Conclusion \n",
    "\n",
    "I concluded that the missing data was done so randomly so I decided to fill the total_income values with the median of the data set and the days_employed with mean of the data set. I concluded that the duplicates were not significant enough to keep as well as not enough information available to determine if they were indeed separate instances. Many problematic artifacts appeared to be due to incorrect data entry. I decided to manually update these including removing those with 0 ages, dividing the extra large days_employed by 24 (convert from hours to days as that appears to be the error), changing the negative signs on children and days_employed. \n",
    "\n",
    "I found correlations for each of the variables questioned except for income level. However, this is only looking at one variable so it may not be a causual relationship. More analysis would need to be done to determine this.\n"
   ]
  },
  {
   "cell_type": "markdown",
   "metadata": {},
   "source": [
    "# Report Outputs\n",
    "\n",
    "Let's create a short deck to share with colleagues via a PPT outlining the process and results"
   ]
  },
  {
   "cell_type": "code",
   "execution_count": 80,
   "metadata": {},
   "outputs": [
    {
     "name": "stdout",
     "output_type": "stream",
     "text": [
      "Data Import & Cleaning\n",
      "Created Columns of Data for Age, Education, etc.\n"
     ]
    }
   ],
   "source": [
    "\n",
    "slide_titles = [\"Data Import & Cleaning\",\"Created Columns of Data for Age, Education, etc.\"]\n",
    "slide_insights = [\"Removed NAs\",\"Manually made some columns\"]\n",
    "ppt_filename = 'credit_score_report_' + str(date.today()) +'.ppt'\n",
    "\n",
    "\n",
    "prs=Presentation()\n",
    "for slide_num in range(len(slide_titles)):\n",
    "    print(slide_titles[slide_num])\n",
    "    lyt=prs.slide_layouts[1] # choosing a slide layout\n",
    "    slide=prs.slides.add_slide(lyt) # adding a slide\n",
    "    title=slide.shapes.title # assigning a title\n",
    "    subtitle=slide.placeholders[1] # placeholder for subtitle\n",
    "    title.text=slide_titles[slide_num] # title\n",
    "    subtitle.text=slide_insights[slide_num] # subtitle\n",
    "    prs.save(ppt_filename) # saving file"
   ]
  },
  {
   "cell_type": "code",
   "execution_count": null,
   "metadata": {},
   "outputs": [],
   "source": []
  }
 ],
 "metadata": {
  "ExecuteTimeLog": [
   {
    "duration": 2741,
    "start_time": "2021-10-21T01:08:49.480Z"
   },
   {
    "duration": 52,
    "start_time": "2021-10-21T01:08:53.315Z"
   },
   {
    "duration": 49,
    "start_time": "2021-10-21T01:08:57.432Z"
   },
   {
    "duration": 70,
    "start_time": "2021-10-21T01:09:07.706Z"
   },
   {
    "duration": 88,
    "start_time": "2021-11-21T17:24:08.620Z"
   },
   {
    "duration": 291,
    "start_time": "2021-11-21T17:24:22.053Z"
   },
   {
    "duration": 18,
    "start_time": "2021-11-21T17:25:03.421Z"
   },
   {
    "duration": 15,
    "start_time": "2021-11-21T17:25:42.946Z"
   },
   {
    "duration": 18,
    "start_time": "2021-11-21T17:25:57.963Z"
   },
   {
    "duration": 277,
    "start_time": "2021-11-21T17:26:21.024Z"
   },
   {
    "duration": 5,
    "start_time": "2021-11-21T17:26:40.691Z"
   },
   {
    "duration": 5,
    "start_time": "2021-11-21T17:27:01.330Z"
   },
   {
    "duration": 4,
    "start_time": "2021-11-21T17:27:17.593Z"
   },
   {
    "duration": 15,
    "start_time": "2021-11-21T17:27:29.901Z"
   },
   {
    "duration": 21,
    "start_time": "2021-11-21T17:30:57.484Z"
   },
   {
    "duration": 9,
    "start_time": "2021-11-21T17:32:48.208Z"
   },
   {
    "duration": 7,
    "start_time": "2021-11-21T17:33:05.204Z"
   },
   {
    "duration": 6,
    "start_time": "2021-11-21T17:33:12.165Z"
   },
   {
    "duration": 123,
    "start_time": "2021-11-21T17:34:13.254Z"
   },
   {
    "duration": 582,
    "start_time": "2021-11-21T17:34:30.041Z"
   },
   {
    "duration": 91,
    "start_time": "2021-11-21T17:34:40.385Z"
   },
   {
    "duration": 7,
    "start_time": "2021-11-21T17:34:58.745Z"
   },
   {
    "duration": 8,
    "start_time": "2021-11-21T17:35:01.159Z"
   },
   {
    "duration": 8,
    "start_time": "2021-11-21T17:35:16.367Z"
   },
   {
    "duration": 7,
    "start_time": "2021-11-21T17:35:23.496Z"
   },
   {
    "duration": 6,
    "start_time": "2021-11-21T17:35:44.015Z"
   },
   {
    "duration": 11,
    "start_time": "2021-11-21T17:36:05.213Z"
   },
   {
    "duration": 7,
    "start_time": "2021-11-21T17:36:50.208Z"
   },
   {
    "duration": 428,
    "start_time": "2021-11-21T17:40:39.305Z"
   },
   {
    "duration": 336,
    "start_time": "2021-11-21T20:22:44.984Z"
   },
   {
    "duration": 8597,
    "start_time": "2021-11-21T20:22:55.086Z"
   },
   {
    "duration": 9535,
    "start_time": "2021-11-21T20:23:06.468Z"
   },
   {
    "duration": 7,
    "start_time": "2021-11-21T20:23:28.071Z"
   },
   {
    "duration": 6,
    "start_time": "2021-11-21T20:24:00.686Z"
   },
   {
    "duration": 3,
    "start_time": "2021-11-21T20:24:04.934Z"
   },
   {
    "duration": 7,
    "start_time": "2021-11-21T20:24:06.848Z"
   },
   {
    "duration": 7,
    "start_time": "2021-11-21T20:24:51.249Z"
   },
   {
    "duration": 8,
    "start_time": "2021-11-21T20:26:28.243Z"
   },
   {
    "duration": 380,
    "start_time": "2021-11-21T20:27:50.495Z"
   },
   {
    "duration": 6,
    "start_time": "2021-11-21T20:27:59.061Z"
   },
   {
    "duration": 6,
    "start_time": "2021-11-21T20:28:01.632Z"
   },
   {
    "duration": 15,
    "start_time": "2021-11-21T20:29:00.195Z"
   },
   {
    "duration": 7,
    "start_time": "2021-11-21T20:29:01.494Z"
   },
   {
    "duration": 301,
    "start_time": "2021-11-21T20:33:24.293Z"
   },
   {
    "duration": 312,
    "start_time": "2021-11-21T20:33:42.080Z"
   },
   {
    "duration": 303,
    "start_time": "2021-11-21T20:34:27.438Z"
   },
   {
    "duration": 325,
    "start_time": "2021-11-21T20:35:12.937Z"
   },
   {
    "duration": 304,
    "start_time": "2021-11-21T20:35:32.440Z"
   },
   {
    "duration": 317,
    "start_time": "2021-11-21T20:35:55.632Z"
   },
   {
    "duration": 7,
    "start_time": "2021-11-21T20:36:51.055Z"
   },
   {
    "duration": 5,
    "start_time": "2021-11-21T20:38:57.414Z"
   },
   {
    "duration": 358,
    "start_time": "2021-11-21T20:46:46.693Z"
   },
   {
    "duration": 5,
    "start_time": "2021-11-21T20:46:53.257Z"
   },
   {
    "duration": 5,
    "start_time": "2021-11-21T20:47:01.476Z"
   },
   {
    "duration": 5,
    "start_time": "2021-11-21T20:47:08.119Z"
   },
   {
    "duration": 310,
    "start_time": "2021-11-21T20:50:09.957Z"
   },
   {
    "duration": 16,
    "start_time": "2021-11-21T20:50:16.316Z"
   },
   {
    "duration": 7,
    "start_time": "2021-11-21T20:50:53.473Z"
   },
   {
    "duration": 14,
    "start_time": "2021-11-21T20:51:11.289Z"
   },
   {
    "duration": 11,
    "start_time": "2021-11-21T20:51:57.141Z"
   },
   {
    "duration": 16,
    "start_time": "2021-11-21T20:56:37.065Z"
   },
   {
    "duration": 21,
    "start_time": "2021-11-21T20:56:44.516Z"
   },
   {
    "duration": 61,
    "start_time": "2021-11-21T20:59:35.600Z"
   },
   {
    "duration": 61,
    "start_time": "2021-11-21T20:59:51.248Z"
   },
   {
    "duration": 69,
    "start_time": "2021-11-21T21:00:09.311Z"
   },
   {
    "duration": 320,
    "start_time": "2021-11-21T21:04:41.374Z"
   },
   {
    "duration": -1749,
    "start_time": "2021-11-21T21:05:08.435Z"
   },
   {
    "duration": 304,
    "start_time": "2021-11-21T21:05:20.276Z"
   },
   {
    "duration": 1031,
    "start_time": "2021-11-21T21:07:54.124Z"
   },
   {
    "duration": 293,
    "start_time": "2021-11-21T21:08:12.918Z"
   },
   {
    "duration": 345,
    "start_time": "2021-11-21T21:08:18.759Z"
   },
   {
    "duration": 5,
    "start_time": "2021-11-21T21:08:27.552Z"
   },
   {
    "duration": 23,
    "start_time": "2021-11-21T21:08:37.828Z"
   },
   {
    "duration": 12,
    "start_time": "2021-11-21T21:09:39.381Z"
   },
   {
    "duration": 21,
    "start_time": "2021-11-21T21:10:39.900Z"
   },
   {
    "duration": 31,
    "start_time": "2021-11-21T21:10:58.337Z"
   },
   {
    "duration": 39,
    "start_time": "2021-11-21T21:11:16.619Z"
   },
   {
    "duration": 48,
    "start_time": "2021-11-21T21:12:30.814Z"
   },
   {
    "duration": 46,
    "start_time": "2021-11-21T21:13:48.929Z"
   },
   {
    "duration": 52,
    "start_time": "2021-11-21T21:14:20.811Z"
   },
   {
    "duration": 58,
    "start_time": "2021-11-21T21:15:52.129Z"
   },
   {
    "duration": 57,
    "start_time": "2021-11-21T21:16:41.232Z"
   },
   {
    "duration": 28,
    "start_time": "2021-11-21T21:27:50.626Z"
   },
   {
    "duration": 25,
    "start_time": "2021-11-21T21:28:11.229Z"
   },
   {
    "duration": 474,
    "start_time": "2021-11-21T21:28:34.630Z"
   },
   {
    "duration": 527,
    "start_time": "2021-11-21T21:28:42.866Z"
   },
   {
    "duration": 14,
    "start_time": "2021-11-21T21:29:00.298Z"
   },
   {
    "duration": 100,
    "start_time": "2021-11-21T21:29:53.618Z"
   },
   {
    "duration": 14,
    "start_time": "2021-11-21T21:30:02.988Z"
   },
   {
    "duration": 12,
    "start_time": "2021-11-21T21:31:44.035Z"
   },
   {
    "duration": 11,
    "start_time": "2021-11-21T21:32:08.871Z"
   },
   {
    "duration": 10,
    "start_time": "2021-11-21T21:33:14.523Z"
   },
   {
    "duration": 3,
    "start_time": "2021-11-21T21:33:59.699Z"
   },
   {
    "duration": 6,
    "start_time": "2021-11-21T21:35:10.237Z"
   },
   {
    "duration": 7,
    "start_time": "2021-11-21T21:36:21.981Z"
   },
   {
    "duration": 10,
    "start_time": "2021-11-21T21:38:58.801Z"
   },
   {
    "duration": 4,
    "start_time": "2021-11-21T21:40:12.013Z"
   },
   {
    "duration": 9,
    "start_time": "2021-11-21T21:40:14.559Z"
   },
   {
    "duration": 8,
    "start_time": "2021-11-21T21:41:12.500Z"
   },
   {
    "duration": 12,
    "start_time": "2021-11-21T21:41:18.628Z"
   },
   {
    "duration": 302,
    "start_time": "2021-11-21T21:41:40.640Z"
   },
   {
    "duration": 17,
    "start_time": "2021-11-21T21:43:20.390Z"
   },
   {
    "duration": 1235,
    "start_time": "2021-11-21T21:47:37.976Z"
   },
   {
    "duration": 10,
    "start_time": "2021-11-21T21:47:43.889Z"
   },
   {
    "duration": 28,
    "start_time": "2021-11-21T21:51:34.545Z"
   },
   {
    "duration": 594,
    "start_time": "2021-11-21T21:52:23.203Z"
   },
   {
    "duration": 535,
    "start_time": "2021-11-21T21:52:42.717Z"
   },
   {
    "duration": 17,
    "start_time": "2021-11-21T21:53:02.382Z"
   },
   {
    "duration": 24,
    "start_time": "2021-11-21T21:53:17.095Z"
   },
   {
    "duration": 5,
    "start_time": "2021-11-21T21:53:21.801Z"
   },
   {
    "duration": 50,
    "start_time": "2021-11-21T21:53:39.519Z"
   },
   {
    "duration": 297,
    "start_time": "2021-11-21T21:58:40.886Z"
   },
   {
    "duration": 292,
    "start_time": "2021-11-21T21:59:08.692Z"
   },
   {
    "duration": 116,
    "start_time": "2021-11-21T21:59:22.221Z"
   },
   {
    "duration": 321,
    "start_time": "2021-11-21T21:59:34.823Z"
   },
   {
    "duration": 382,
    "start_time": "2021-11-21T22:00:00.039Z"
   },
   {
    "duration": 318,
    "start_time": "2021-11-21T22:00:07.523Z"
   },
   {
    "duration": 657,
    "start_time": "2021-11-21T22:01:52.032Z"
   },
   {
    "duration": 229,
    "start_time": "2021-11-21T22:02:04.893Z"
   },
   {
    "duration": 303,
    "start_time": "2021-11-21T22:02:19.405Z"
   },
   {
    "duration": 15,
    "start_time": "2021-11-21T22:06:37.025Z"
   },
   {
    "duration": 404,
    "start_time": "2021-11-21T22:06:38.965Z"
   },
   {
    "duration": 12,
    "start_time": "2021-11-21T22:07:14.503Z"
   },
   {
    "duration": 301,
    "start_time": "2021-11-21T22:07:18.647Z"
   },
   {
    "duration": 292,
    "start_time": "2021-11-21T22:08:48.111Z"
   },
   {
    "duration": 305,
    "start_time": "2021-11-21T22:08:55.633Z"
   },
   {
    "duration": 329,
    "start_time": "2021-11-21T22:09:50.132Z"
   },
   {
    "duration": 912,
    "start_time": "2021-11-21T22:10:03.148Z"
   },
   {
    "duration": 5,
    "start_time": "2021-11-21T22:10:04.063Z"
   },
   {
    "duration": 35,
    "start_time": "2021-11-21T22:10:04.071Z"
   },
   {
    "duration": 27,
    "start_time": "2021-11-21T22:10:04.108Z"
   },
   {
    "duration": 11,
    "start_time": "2021-11-21T22:10:04.138Z"
   },
   {
    "duration": 9,
    "start_time": "2021-11-21T22:10:04.151Z"
   },
   {
    "duration": 9,
    "start_time": "2021-11-21T22:10:04.162Z"
   },
   {
    "duration": 454,
    "start_time": "2021-11-21T22:10:04.175Z"
   },
   {
    "duration": 3,
    "start_time": "2021-11-21T22:10:04.632Z"
   },
   {
    "duration": 8,
    "start_time": "2021-11-21T22:10:04.637Z"
   },
   {
    "duration": 9,
    "start_time": "2021-11-21T22:10:04.647Z"
   },
   {
    "duration": 8,
    "start_time": "2021-11-21T22:10:04.658Z"
   },
   {
    "duration": 18,
    "start_time": "2021-11-21T22:10:04.668Z"
   },
   {
    "duration": 43,
    "start_time": "2021-11-21T22:10:04.688Z"
   },
   {
    "duration": 320,
    "start_time": "2021-11-21T22:10:04.734Z"
   },
   {
    "duration": 3,
    "start_time": "2021-11-21T22:10:05.056Z"
   },
   {
    "duration": 13,
    "start_time": "2021-11-21T22:10:05.062Z"
   },
   {
    "duration": 336,
    "start_time": "2021-11-21T22:10:05.077Z"
   },
   {
    "duration": 30,
    "start_time": "2021-11-21T22:10:05.415Z"
   },
   {
    "duration": 501,
    "start_time": "2021-11-21T22:10:05.447Z"
   },
   {
    "duration": 448,
    "start_time": "2021-11-21T22:10:05.951Z"
   },
   {
    "duration": 3,
    "start_time": "2021-11-21T22:10:06.402Z"
   },
   {
    "duration": 18,
    "start_time": "2021-11-21T22:10:06.415Z"
   },
   {
    "duration": 25,
    "start_time": "2021-11-21T22:10:06.438Z"
   },
   {
    "duration": 28,
    "start_time": "2021-11-21T22:10:06.466Z"
   },
   {
    "duration": 9,
    "start_time": "2021-11-21T22:10:06.497Z"
   },
   {
    "duration": 27,
    "start_time": "2021-11-21T22:10:06.509Z"
   },
   {
    "duration": 26,
    "start_time": "2021-11-21T22:10:06.539Z"
   },
   {
    "duration": 22,
    "start_time": "2021-11-21T22:10:06.568Z"
   },
   {
    "duration": 32,
    "start_time": "2021-11-21T22:10:06.593Z"
   },
   {
    "duration": 28,
    "start_time": "2021-11-21T22:10:06.628Z"
   },
   {
    "duration": 16,
    "start_time": "2021-11-21T22:10:06.658Z"
   },
   {
    "duration": 21,
    "start_time": "2021-11-21T22:10:06.676Z"
   },
   {
    "duration": 10,
    "start_time": "2021-11-21T22:10:06.700Z"
   },
   {
    "duration": 13,
    "start_time": "2021-11-21T22:10:06.712Z"
   },
   {
    "duration": 9,
    "start_time": "2021-11-21T22:10:06.727Z"
   },
   {
    "duration": 13,
    "start_time": "2021-11-21T22:10:06.738Z"
   },
   {
    "duration": 13,
    "start_time": "2021-11-21T22:10:06.753Z"
   },
   {
    "duration": 12,
    "start_time": "2021-11-21T22:10:06.769Z"
   },
   {
    "duration": 19,
    "start_time": "2021-11-21T22:10:06.783Z"
   },
   {
    "duration": 25,
    "start_time": "2021-11-21T22:10:06.804Z"
   },
   {
    "duration": 23,
    "start_time": "2021-11-21T22:10:06.832Z"
   },
   {
    "duration": 78,
    "start_time": "2021-11-21T22:10:06.857Z"
   },
   {
    "duration": 55,
    "start_time": "2021-11-21T22:10:06.938Z"
   },
   {
    "duration": 39,
    "start_time": "2021-11-21T22:10:06.996Z"
   },
   {
    "duration": 6,
    "start_time": "2021-11-21T22:10:07.038Z"
   },
   {
    "duration": 64,
    "start_time": "2021-11-21T22:10:07.047Z"
   },
   {
    "duration": 15,
    "start_time": "2021-11-21T22:10:07.114Z"
   },
   {
    "duration": 22,
    "start_time": "2021-11-21T22:10:07.131Z"
   },
   {
    "duration": 38,
    "start_time": "2021-11-21T22:10:07.156Z"
   },
   {
    "duration": 23,
    "start_time": "2021-11-21T22:10:07.197Z"
   },
   {
    "duration": 26,
    "start_time": "2021-11-21T22:10:07.222Z"
   },
   {
    "duration": 31,
    "start_time": "2021-11-21T22:10:07.250Z"
   },
   {
    "duration": 20,
    "start_time": "2021-11-21T22:10:07.284Z"
   },
   {
    "duration": 28,
    "start_time": "2021-11-21T22:10:07.307Z"
   },
   {
    "duration": 28,
    "start_time": "2021-11-21T22:10:07.337Z"
   },
   {
    "duration": 35,
    "start_time": "2021-11-21T22:10:07.368Z"
   },
   {
    "duration": 19,
    "start_time": "2021-11-21T22:10:07.405Z"
   },
   {
    "duration": 32,
    "start_time": "2021-11-21T22:10:07.426Z"
   },
   {
    "duration": 11,
    "start_time": "2021-11-21T22:10:07.460Z"
   },
   {
    "duration": 6,
    "start_time": "2021-11-21T22:10:07.473Z"
   },
   {
    "duration": 8,
    "start_time": "2021-11-21T22:10:07.481Z"
   },
   {
    "duration": 9,
    "start_time": "2021-11-21T22:10:07.492Z"
   },
   {
    "duration": 5,
    "start_time": "2021-11-21T22:10:07.506Z"
   },
   {
    "duration": 5,
    "start_time": "2021-11-21T22:10:07.514Z"
   },
   {
    "duration": 23,
    "start_time": "2021-11-21T22:10:07.522Z"
   },
   {
    "duration": 16,
    "start_time": "2021-11-21T22:10:07.548Z"
   },
   {
    "duration": 3,
    "start_time": "2021-11-21T22:10:07.574Z"
   },
   {
    "duration": 13,
    "start_time": "2021-11-21T22:10:07.580Z"
   },
   {
    "duration": 19,
    "start_time": "2021-11-21T22:10:07.596Z"
   },
   {
    "duration": 27,
    "start_time": "2021-11-21T22:10:07.618Z"
   },
   {
    "duration": 21,
    "start_time": "2021-11-21T22:10:07.648Z"
   },
   {
    "duration": 292,
    "start_time": "2021-11-21T22:12:06.641Z"
   },
   {
    "duration": 10,
    "start_time": "2021-11-21T22:12:55.443Z"
   },
   {
    "duration": 12,
    "start_time": "2021-11-21T23:14:46.753Z"
   },
   {
    "duration": 295,
    "start_time": "2021-11-21T23:14:47.805Z"
   },
   {
    "duration": 295,
    "start_time": "2021-11-21T23:15:18.291Z"
   },
   {
    "duration": 294,
    "start_time": "2021-11-21T23:15:25.329Z"
   },
   {
    "duration": 293,
    "start_time": "2021-11-21T23:15:36.218Z"
   },
   {
    "duration": 279,
    "start_time": "2021-11-21T23:16:06.076Z"
   },
   {
    "duration": 301,
    "start_time": "2021-11-21T23:16:17.507Z"
   },
   {
    "duration": 283,
    "start_time": "2021-11-21T23:26:05.370Z"
   },
   {
    "duration": 10,
    "start_time": "2021-11-21T23:26:08.531Z"
   },
   {
    "duration": 292,
    "start_time": "2021-11-21T23:26:09.649Z"
   },
   {
    "duration": 8,
    "start_time": "2021-11-21T23:26:42.368Z"
   },
   {
    "duration": 8,
    "start_time": "2021-11-21T23:28:22.710Z"
   },
   {
    "duration": 13,
    "start_time": "2021-11-21T23:33:19.150Z"
   },
   {
    "duration": 11,
    "start_time": "2021-11-21T23:33:25.952Z"
   },
   {
    "duration": 9,
    "start_time": "2021-11-21T23:33:27.598Z"
   },
   {
    "duration": 3,
    "start_time": "2021-11-21T23:33:43.752Z"
   },
   {
    "duration": 10,
    "start_time": "2021-11-21T23:33:46.889Z"
   },
   {
    "duration": 9,
    "start_time": "2021-11-21T23:33:59.336Z"
   },
   {
    "duration": 810,
    "start_time": "2021-11-21T23:34:08.649Z"
   },
   {
    "duration": 4,
    "start_time": "2021-11-21T23:34:09.462Z"
   },
   {
    "duration": 30,
    "start_time": "2021-11-21T23:34:09.469Z"
   },
   {
    "duration": 34,
    "start_time": "2021-11-21T23:34:09.502Z"
   },
   {
    "duration": 29,
    "start_time": "2021-11-21T23:34:09.538Z"
   },
   {
    "duration": 22,
    "start_time": "2021-11-21T23:34:09.569Z"
   },
   {
    "duration": 19,
    "start_time": "2021-11-21T23:34:09.594Z"
   },
   {
    "duration": 440,
    "start_time": "2021-11-21T23:34:09.617Z"
   },
   {
    "duration": 3,
    "start_time": "2021-11-21T23:34:10.060Z"
   },
   {
    "duration": 12,
    "start_time": "2021-11-21T23:34:10.065Z"
   },
   {
    "duration": 12,
    "start_time": "2021-11-21T23:34:10.080Z"
   },
   {
    "duration": 17,
    "start_time": "2021-11-21T23:34:10.094Z"
   },
   {
    "duration": 27,
    "start_time": "2021-11-21T23:34:10.113Z"
   },
   {
    "duration": 7,
    "start_time": "2021-11-21T23:34:10.143Z"
   },
   {
    "duration": 318,
    "start_time": "2021-11-21T23:34:10.153Z"
   },
   {
    "duration": 15,
    "start_time": "2021-11-21T23:34:10.474Z"
   },
   {
    "duration": 336,
    "start_time": "2021-11-21T23:34:10.491Z"
   },
   {
    "duration": 377,
    "start_time": "2021-11-21T23:34:10.830Z"
   },
   {
    "duration": 27,
    "start_time": "2021-11-21T23:34:11.210Z"
   },
   {
    "duration": 334,
    "start_time": "2021-11-21T23:34:11.240Z"
   },
   {
    "duration": 307,
    "start_time": "2021-11-21T23:34:11.576Z"
   },
   {
    "duration": 9,
    "start_time": "2021-11-21T23:34:11.885Z"
   },
   {
    "duration": 328,
    "start_time": "2021-11-21T23:34:11.901Z"
   },
   {
    "duration": 9,
    "start_time": "2021-11-21T23:34:12.232Z"
   },
   {
    "duration": 12,
    "start_time": "2021-11-21T23:34:12.243Z"
   },
   {
    "duration": 5,
    "start_time": "2021-11-21T23:34:12.257Z"
   },
   {
    "duration": 10,
    "start_time": "2021-11-21T23:34:12.265Z"
   },
   {
    "duration": 13,
    "start_time": "2021-11-21T23:34:12.278Z"
   },
   {
    "duration": 38,
    "start_time": "2021-11-21T23:34:12.294Z"
   },
   {
    "duration": 17,
    "start_time": "2021-11-21T23:34:12.334Z"
   },
   {
    "duration": 5,
    "start_time": "2021-11-21T23:34:12.354Z"
   },
   {
    "duration": 7,
    "start_time": "2021-11-21T23:34:12.362Z"
   },
   {
    "duration": 5,
    "start_time": "2021-11-21T23:34:12.372Z"
   },
   {
    "duration": 10,
    "start_time": "2021-11-21T23:34:12.379Z"
   },
   {
    "duration": 38,
    "start_time": "2021-11-21T23:34:12.391Z"
   },
   {
    "duration": 3,
    "start_time": "2021-11-21T23:34:12.431Z"
   },
   {
    "duration": 7,
    "start_time": "2021-11-21T23:34:12.437Z"
   },
   {
    "duration": 9,
    "start_time": "2021-11-21T23:34:12.446Z"
   },
   {
    "duration": 8,
    "start_time": "2021-11-21T23:34:12.457Z"
   },
   {
    "duration": 22,
    "start_time": "2021-11-21T23:34:12.467Z"
   },
   {
    "duration": 9,
    "start_time": "2021-11-21T23:34:12.492Z"
   },
   {
    "duration": 44,
    "start_time": "2021-11-21T23:34:12.503Z"
   },
   {
    "duration": 48,
    "start_time": "2021-11-21T23:34:12.549Z"
   },
   {
    "duration": 76,
    "start_time": "2021-11-21T23:34:12.600Z"
   },
   {
    "duration": 9,
    "start_time": "2021-11-21T23:34:12.679Z"
   },
   {
    "duration": 5,
    "start_time": "2021-11-21T23:34:12.690Z"
   },
   {
    "duration": 68,
    "start_time": "2021-11-21T23:34:12.698Z"
   },
   {
    "duration": 3,
    "start_time": "2021-11-21T23:34:12.768Z"
   },
   {
    "duration": 6,
    "start_time": "2021-11-21T23:34:12.774Z"
   },
   {
    "duration": 5,
    "start_time": "2021-11-21T23:34:12.782Z"
   },
   {
    "duration": 5,
    "start_time": "2021-11-21T23:34:12.790Z"
   },
   {
    "duration": 3,
    "start_time": "2021-11-21T23:34:12.831Z"
   },
   {
    "duration": 9,
    "start_time": "2021-11-21T23:34:12.836Z"
   },
   {
    "duration": 6,
    "start_time": "2021-11-21T23:34:12.848Z"
   },
   {
    "duration": 11,
    "start_time": "2021-11-21T23:34:12.856Z"
   },
   {
    "duration": 6,
    "start_time": "2021-11-21T23:34:12.870Z"
   },
   {
    "duration": 12,
    "start_time": "2021-11-21T23:34:12.879Z"
   },
   {
    "duration": 7,
    "start_time": "2021-11-21T23:34:12.894Z"
   },
   {
    "duration": 33,
    "start_time": "2021-11-21T23:34:12.904Z"
   },
   {
    "duration": 3,
    "start_time": "2021-11-21T23:34:12.940Z"
   },
   {
    "duration": 6,
    "start_time": "2021-11-21T23:34:12.945Z"
   },
   {
    "duration": 5,
    "start_time": "2021-11-21T23:34:12.953Z"
   },
   {
    "duration": 8,
    "start_time": "2021-11-21T23:34:12.960Z"
   },
   {
    "duration": 13,
    "start_time": "2021-11-21T23:34:12.970Z"
   },
   {
    "duration": 8,
    "start_time": "2021-11-21T23:34:12.985Z"
   },
   {
    "duration": 5,
    "start_time": "2021-11-21T23:34:12.995Z"
   },
   {
    "duration": 3,
    "start_time": "2021-11-21T23:34:13.030Z"
   },
   {
    "duration": 3,
    "start_time": "2021-11-21T23:34:13.040Z"
   },
   {
    "duration": 6,
    "start_time": "2021-11-21T23:34:13.045Z"
   },
   {
    "duration": 5,
    "start_time": "2021-11-21T23:34:13.054Z"
   },
   {
    "duration": 16,
    "start_time": "2021-11-21T23:34:13.062Z"
   },
   {
    "duration": 5,
    "start_time": "2021-11-21T23:34:13.081Z"
   },
   {
    "duration": 3,
    "start_time": "2021-11-21T23:34:53.467Z"
   },
   {
    "duration": 3,
    "start_time": "2021-11-21T23:35:35.557Z"
   },
   {
    "duration": 23,
    "start_time": "2021-11-21T23:37:23.659Z"
   },
   {
    "duration": 47,
    "start_time": "2021-11-21T23:37:30.621Z"
   },
   {
    "duration": 417,
    "start_time": "2021-11-21T23:38:54.225Z"
   },
   {
    "duration": 306,
    "start_time": "2021-11-21T23:39:08.713Z"
   },
   {
    "duration": 39,
    "start_time": "2021-11-21T23:39:24.432Z"
   },
   {
    "duration": 292,
    "start_time": "2021-11-21T23:39:45.283Z"
   },
   {
    "duration": 38,
    "start_time": "2021-11-21T23:39:52.624Z"
   },
   {
    "duration": 321,
    "start_time": "2021-11-21T23:41:49.784Z"
   },
   {
    "duration": 307,
    "start_time": "2021-11-21T23:41:58.842Z"
   },
   {
    "duration": 41,
    "start_time": "2021-11-21T23:42:19.225Z"
   },
   {
    "duration": 26,
    "start_time": "2021-11-21T23:46:21.190Z"
   },
   {
    "duration": 317,
    "start_time": "2021-11-21T23:46:26.219Z"
   },
   {
    "duration": 24,
    "start_time": "2021-11-21T23:47:48.970Z"
   },
   {
    "duration": 53,
    "start_time": "2021-11-21T23:47:55.515Z"
   },
   {
    "duration": 27,
    "start_time": "2021-11-21T23:48:07.420Z"
   },
   {
    "duration": 16,
    "start_time": "2021-11-21T23:48:12.799Z"
   },
   {
    "duration": 27,
    "start_time": "2021-11-21T23:49:49.861Z"
   },
   {
    "duration": 54,
    "start_time": "2021-11-21T23:49:59.373Z"
   },
   {
    "duration": 28,
    "start_time": "2021-11-21T23:50:01.952Z"
   },
   {
    "duration": 27,
    "start_time": "2021-11-21T23:50:54.183Z"
   },
   {
    "duration": 27,
    "start_time": "2021-11-21T23:50:55.612Z"
   },
   {
    "duration": 22,
    "start_time": "2021-11-21T23:51:10.330Z"
   },
   {
    "duration": 16,
    "start_time": "2021-11-21T23:51:13.635Z"
   },
   {
    "duration": 119,
    "start_time": "2021-11-22T00:06:44.458Z"
   },
   {
    "duration": 109,
    "start_time": "2021-11-22T00:07:12.996Z"
   },
   {
    "duration": 23,
    "start_time": "2021-11-22T00:07:24.535Z"
   },
   {
    "duration": 15,
    "start_time": "2021-11-22T00:07:29.139Z"
   },
   {
    "duration": 16,
    "start_time": "2021-11-22T00:07:40.790Z"
   },
   {
    "duration": 18,
    "start_time": "2021-11-22T00:07:47.596Z"
   },
   {
    "duration": 13,
    "start_time": "2021-11-22T00:08:05.051Z"
   },
   {
    "duration": 331,
    "start_time": "2021-11-22T00:11:01.700Z"
   },
   {
    "duration": 4,
    "start_time": "2021-11-22T00:12:47.913Z"
   },
   {
    "duration": 29,
    "start_time": "2021-11-22T00:12:53.104Z"
   },
   {
    "duration": 97,
    "start_time": "2021-11-22T00:15:52.353Z"
   },
   {
    "duration": 15,
    "start_time": "2021-11-22T00:15:57.467Z"
   },
   {
    "duration": 25,
    "start_time": "2021-11-22T00:16:14.231Z"
   },
   {
    "duration": 14,
    "start_time": "2021-11-22T00:16:31.149Z"
   },
   {
    "duration": 15,
    "start_time": "2021-11-22T00:16:49.190Z"
   },
   {
    "duration": 24,
    "start_time": "2021-11-22T00:17:14.647Z"
   },
   {
    "duration": 112,
    "start_time": "2021-11-22T00:18:20.609Z"
   },
   {
    "duration": 94,
    "start_time": "2021-11-22T00:18:33.756Z"
   },
   {
    "duration": 38,
    "start_time": "2021-11-22T00:18:40.866Z"
   },
   {
    "duration": 30,
    "start_time": "2021-11-22T00:20:35.847Z"
   },
   {
    "duration": 15,
    "start_time": "2021-11-22T00:21:39.476Z"
   },
   {
    "duration": 16,
    "start_time": "2021-11-22T00:21:49.615Z"
   },
   {
    "duration": 34,
    "start_time": "2021-11-22T00:22:01.272Z"
   },
   {
    "duration": 33,
    "start_time": "2021-11-22T00:24:01.657Z"
   },
   {
    "duration": 2577,
    "start_time": "2021-11-22T00:25:42.135Z"
   },
   {
    "duration": 403,
    "start_time": "2021-11-22T00:26:22.705Z"
   },
   {
    "duration": 2671,
    "start_time": "2021-11-22T00:26:32.460Z"
   },
   {
    "duration": 14,
    "start_time": "2021-11-22T00:26:47.129Z"
   },
   {
    "duration": 316,
    "start_time": "2021-11-22T00:26:58.153Z"
   },
   {
    "duration": 649,
    "start_time": "2021-11-22T00:27:09.931Z"
   },
   {
    "duration": 696,
    "start_time": "2021-11-22T00:27:18.810Z"
   },
   {
    "duration": 836,
    "start_time": "2021-11-22T00:27:33.902Z"
   },
   {
    "duration": 4,
    "start_time": "2021-11-22T00:27:34.741Z"
   },
   {
    "duration": 52,
    "start_time": "2021-11-22T00:27:34.748Z"
   },
   {
    "duration": 31,
    "start_time": "2021-11-22T00:27:34.802Z"
   },
   {
    "duration": 19,
    "start_time": "2021-11-22T00:27:34.835Z"
   },
   {
    "duration": 43,
    "start_time": "2021-11-22T00:27:34.856Z"
   },
   {
    "duration": 38,
    "start_time": "2021-11-22T00:27:34.901Z"
   },
   {
    "duration": 51,
    "start_time": "2021-11-22T00:27:34.943Z"
   },
   {
    "duration": 9,
    "start_time": "2021-11-22T00:27:34.997Z"
   },
   {
    "duration": 728,
    "start_time": "2021-11-22T00:27:35.008Z"
   },
   {
    "duration": 4,
    "start_time": "2021-11-22T00:27:35.739Z"
   },
   {
    "duration": 40,
    "start_time": "2021-11-22T00:27:35.745Z"
   },
   {
    "duration": 43,
    "start_time": "2021-11-22T00:27:35.788Z"
   },
   {
    "duration": 28,
    "start_time": "2021-11-22T00:27:35.834Z"
   },
   {
    "duration": 326,
    "start_time": "2021-11-22T00:27:35.865Z"
   },
   {
    "duration": 18,
    "start_time": "2021-11-22T00:27:36.193Z"
   },
   {
    "duration": 357,
    "start_time": "2021-11-22T00:27:36.213Z"
   },
   {
    "duration": 321,
    "start_time": "2021-11-22T00:27:36.573Z"
   },
   {
    "duration": 12,
    "start_time": "2021-11-22T00:27:36.896Z"
   },
   {
    "duration": 319,
    "start_time": "2021-11-22T00:27:36.910Z"
   },
   {
    "duration": 311,
    "start_time": "2021-11-22T00:27:37.231Z"
   },
   {
    "duration": 9,
    "start_time": "2021-11-22T00:27:37.544Z"
   },
   {
    "duration": 324,
    "start_time": "2021-11-22T00:27:37.559Z"
   },
   {
    "duration": 9,
    "start_time": "2021-11-22T00:27:37.886Z"
   },
   {
    "duration": 16,
    "start_time": "2021-11-22T00:27:37.897Z"
   },
   {
    "duration": 11,
    "start_time": "2021-11-22T00:27:37.930Z"
   },
   {
    "duration": 23,
    "start_time": "2021-11-22T00:27:37.943Z"
   },
   {
    "duration": 19,
    "start_time": "2021-11-22T00:27:37.968Z"
   },
   {
    "duration": 405,
    "start_time": "2021-11-22T00:27:37.989Z"
   },
   {
    "duration": 184,
    "start_time": "2021-11-22T00:27:38.213Z"
   },
   {
    "duration": 182,
    "start_time": "2021-11-22T00:27:38.216Z"
   },
   {
    "duration": 183,
    "start_time": "2021-11-22T00:27:38.218Z"
   },
   {
    "duration": 182,
    "start_time": "2021-11-22T00:27:38.221Z"
   },
   {
    "duration": 177,
    "start_time": "2021-11-22T00:27:38.228Z"
   },
   {
    "duration": 177,
    "start_time": "2021-11-22T00:27:38.230Z"
   },
   {
    "duration": 171,
    "start_time": "2021-11-22T00:27:38.237Z"
   },
   {
    "duration": 171,
    "start_time": "2021-11-22T00:27:38.239Z"
   },
   {
    "duration": 171,
    "start_time": "2021-11-22T00:27:38.241Z"
   },
   {
    "duration": 168,
    "start_time": "2021-11-22T00:27:38.245Z"
   },
   {
    "duration": 160,
    "start_time": "2021-11-22T00:27:38.255Z"
   },
   {
    "duration": 160,
    "start_time": "2021-11-22T00:27:38.257Z"
   },
   {
    "duration": 159,
    "start_time": "2021-11-22T00:27:38.260Z"
   },
   {
    "duration": 158,
    "start_time": "2021-11-22T00:27:38.263Z"
   },
   {
    "duration": 153,
    "start_time": "2021-11-22T00:27:38.270Z"
   },
   {
    "duration": 153,
    "start_time": "2021-11-22T00:27:38.272Z"
   },
   {
    "duration": 147,
    "start_time": "2021-11-22T00:27:38.280Z"
   },
   {
    "duration": 146,
    "start_time": "2021-11-22T00:27:38.282Z"
   },
   {
    "duration": 141,
    "start_time": "2021-11-22T00:27:38.289Z"
   },
   {
    "duration": 140,
    "start_time": "2021-11-22T00:27:38.292Z"
   },
   {
    "duration": 132,
    "start_time": "2021-11-22T00:27:38.302Z"
   },
   {
    "duration": 126,
    "start_time": "2021-11-22T00:27:38.309Z"
   },
   {
    "duration": 125,
    "start_time": "2021-11-22T00:27:38.312Z"
   },
   {
    "duration": 115,
    "start_time": "2021-11-22T00:27:38.324Z"
   },
   {
    "duration": 86,
    "start_time": "2021-11-22T00:27:38.354Z"
   },
   {
    "duration": 55,
    "start_time": "2021-11-22T00:27:38.387Z"
   },
   {
    "duration": 49,
    "start_time": "2021-11-22T00:27:38.394Z"
   },
   {
    "duration": 45,
    "start_time": "2021-11-22T00:27:38.399Z"
   },
   {
    "duration": 44,
    "start_time": "2021-11-22T00:27:38.401Z"
   },
   {
    "duration": 42,
    "start_time": "2021-11-22T00:27:38.404Z"
   },
   {
    "duration": 41,
    "start_time": "2021-11-22T00:27:38.406Z"
   },
   {
    "duration": 40,
    "start_time": "2021-11-22T00:27:38.408Z"
   },
   {
    "duration": 40,
    "start_time": "2021-11-22T00:27:38.410Z"
   },
   {
    "duration": 30,
    "start_time": "2021-11-22T00:27:38.421Z"
   },
   {
    "duration": 22,
    "start_time": "2021-11-22T00:27:38.430Z"
   },
   {
    "duration": 21,
    "start_time": "2021-11-22T00:27:38.432Z"
   },
   {
    "duration": 19,
    "start_time": "2021-11-22T00:27:38.435Z"
   },
   {
    "duration": 19,
    "start_time": "2021-11-22T00:27:38.437Z"
   },
   {
    "duration": 18,
    "start_time": "2021-11-22T00:27:38.439Z"
   },
   {
    "duration": 874,
    "start_time": "2021-11-22T00:29:49.462Z"
   },
   {
    "duration": 1206,
    "start_time": "2021-11-22T00:30:18.936Z"
   },
   {
    "duration": 1893,
    "start_time": "2021-11-22T00:30:48.811Z"
   },
   {
    "duration": 1847,
    "start_time": "2021-11-22T00:31:30.532Z"
   },
   {
    "duration": 2651,
    "start_time": "2021-11-22T00:31:36.824Z"
   },
   {
    "duration": 3005,
    "start_time": "2021-11-22T00:32:23.367Z"
   },
   {
    "duration": 319,
    "start_time": "2021-11-22T00:37:04.822Z"
   },
   {
    "duration": 95,
    "start_time": "2021-11-22T00:38:00.317Z"
   },
   {
    "duration": 308,
    "start_time": "2021-11-22T00:38:07.311Z"
   },
   {
    "duration": 281,
    "start_time": "2021-11-22T00:39:29.173Z"
   },
   {
    "duration": 880,
    "start_time": "2021-11-22T00:40:55.205Z"
   },
   {
    "duration": 4,
    "start_time": "2021-11-22T00:40:56.088Z"
   },
   {
    "duration": 41,
    "start_time": "2021-11-22T00:40:56.095Z"
   },
   {
    "duration": 13,
    "start_time": "2021-11-22T00:40:56.139Z"
   },
   {
    "duration": 11,
    "start_time": "2021-11-22T00:40:56.155Z"
   },
   {
    "duration": 12,
    "start_time": "2021-11-22T00:40:56.168Z"
   },
   {
    "duration": 54,
    "start_time": "2021-11-22T00:40:56.182Z"
   },
   {
    "duration": 34,
    "start_time": "2021-11-22T00:40:56.239Z"
   },
   {
    "duration": 3099,
    "start_time": "2021-11-22T00:40:56.276Z"
   },
   {
    "duration": 327,
    "start_time": "2021-11-22T00:40:59.378Z"
   },
   {
    "duration": 6,
    "start_time": "2021-11-22T00:40:59.708Z"
   },
   {
    "duration": 23,
    "start_time": "2021-11-22T00:40:59.730Z"
   },
   {
    "duration": 26,
    "start_time": "2021-11-22T00:40:59.756Z"
   },
   {
    "duration": 300,
    "start_time": "2021-11-22T00:40:59.785Z"
   },
   {
    "duration": 12,
    "start_time": "2021-11-22T00:41:00.087Z"
   },
   {
    "duration": 312,
    "start_time": "2021-11-22T00:41:00.102Z"
   },
   {
    "duration": 336,
    "start_time": "2021-11-22T00:41:00.416Z"
   },
   {
    "duration": 13,
    "start_time": "2021-11-22T00:41:00.755Z"
   },
   {
    "duration": 321,
    "start_time": "2021-11-22T00:41:00.770Z"
   },
   {
    "duration": 309,
    "start_time": "2021-11-22T00:41:01.094Z"
   },
   {
    "duration": 8,
    "start_time": "2021-11-22T00:41:01.406Z"
   },
   {
    "duration": 316,
    "start_time": "2021-11-22T00:41:01.429Z"
   },
   {
    "duration": 9,
    "start_time": "2021-11-22T00:41:01.751Z"
   },
   {
    "duration": 27,
    "start_time": "2021-11-22T00:41:01.764Z"
   },
   {
    "duration": 45,
    "start_time": "2021-11-22T00:41:01.793Z"
   },
   {
    "duration": 16,
    "start_time": "2021-11-22T00:41:01.840Z"
   },
   {
    "duration": 21,
    "start_time": "2021-11-22T00:41:01.858Z"
   },
   {
    "duration": 429,
    "start_time": "2021-11-22T00:41:01.881Z"
   },
   {
    "duration": 202,
    "start_time": "2021-11-22T00:41:02.110Z"
   },
   {
    "duration": 201,
    "start_time": "2021-11-22T00:41:02.113Z"
   },
   {
    "duration": 198,
    "start_time": "2021-11-22T00:41:02.117Z"
   },
   {
    "duration": 193,
    "start_time": "2021-11-22T00:41:02.124Z"
   },
   {
    "duration": 191,
    "start_time": "2021-11-22T00:41:02.127Z"
   },
   {
    "duration": 189,
    "start_time": "2021-11-22T00:41:02.130Z"
   },
   {
    "duration": 186,
    "start_time": "2021-11-22T00:41:02.134Z"
   },
   {
    "duration": 181,
    "start_time": "2021-11-22T00:41:02.141Z"
   },
   {
    "duration": 179,
    "start_time": "2021-11-22T00:41:02.144Z"
   },
   {
    "duration": 178,
    "start_time": "2021-11-22T00:41:02.146Z"
   },
   {
    "duration": 176,
    "start_time": "2021-11-22T00:41:02.150Z"
   },
   {
    "duration": 174,
    "start_time": "2021-11-22T00:41:02.153Z"
   },
   {
    "duration": 173,
    "start_time": "2021-11-22T00:41:02.156Z"
   },
   {
    "duration": 172,
    "start_time": "2021-11-22T00:41:02.158Z"
   },
   {
    "duration": 169,
    "start_time": "2021-11-22T00:41:02.162Z"
   },
   {
    "duration": 167,
    "start_time": "2021-11-22T00:41:02.166Z"
   },
   {
    "duration": 165,
    "start_time": "2021-11-22T00:41:02.169Z"
   },
   {
    "duration": 164,
    "start_time": "2021-11-22T00:41:02.171Z"
   },
   {
    "duration": 164,
    "start_time": "2021-11-22T00:41:02.173Z"
   },
   {
    "duration": 162,
    "start_time": "2021-11-22T00:41:02.176Z"
   },
   {
    "duration": 160,
    "start_time": "2021-11-22T00:41:02.179Z"
   },
   {
    "duration": 154,
    "start_time": "2021-11-22T00:41:02.187Z"
   },
   {
    "duration": 152,
    "start_time": "2021-11-22T00:41:02.190Z"
   },
   {
    "duration": 150,
    "start_time": "2021-11-22T00:41:02.193Z"
   },
   {
    "duration": 148,
    "start_time": "2021-11-22T00:41:02.196Z"
   },
   {
    "duration": 147,
    "start_time": "2021-11-22T00:41:02.199Z"
   },
   {
    "duration": 125,
    "start_time": "2021-11-22T00:41:02.222Z"
   },
   {
    "duration": 115,
    "start_time": "2021-11-22T00:41:02.233Z"
   },
   {
    "duration": 113,
    "start_time": "2021-11-22T00:41:02.236Z"
   },
   {
    "duration": 113,
    "start_time": "2021-11-22T00:41:02.238Z"
   },
   {
    "duration": 111,
    "start_time": "2021-11-22T00:41:02.241Z"
   },
   {
    "duration": 95,
    "start_time": "2021-11-22T00:41:02.258Z"
   },
   {
    "duration": 93,
    "start_time": "2021-11-22T00:41:02.261Z"
   },
   {
    "duration": 89,
    "start_time": "2021-11-22T00:41:02.267Z"
   },
   {
    "duration": 87,
    "start_time": "2021-11-22T00:41:02.270Z"
   },
   {
    "duration": 86,
    "start_time": "2021-11-22T00:41:02.272Z"
   },
   {
    "duration": 84,
    "start_time": "2021-11-22T00:41:02.275Z"
   },
   {
    "duration": 82,
    "start_time": "2021-11-22T00:41:02.278Z"
   },
   {
    "duration": 79,
    "start_time": "2021-11-22T00:41:02.282Z"
   },
   {
    "duration": 3761,
    "start_time": "2021-11-22T00:43:06.740Z"
   },
   {
    "duration": 3050,
    "start_time": "2021-11-22T00:43:44.848Z"
   },
   {
    "duration": 861,
    "start_time": "2021-11-22T00:47:30.328Z"
   },
   {
    "duration": 5,
    "start_time": "2021-11-22T00:47:31.192Z"
   },
   {
    "duration": 43,
    "start_time": "2021-11-22T00:47:31.200Z"
   },
   {
    "duration": 14,
    "start_time": "2021-11-22T00:47:31.246Z"
   },
   {
    "duration": 18,
    "start_time": "2021-11-22T00:47:31.263Z"
   },
   {
    "duration": 12,
    "start_time": "2021-11-22T00:47:31.284Z"
   },
   {
    "duration": 45,
    "start_time": "2021-11-22T00:47:31.298Z"
   },
   {
    "duration": 37,
    "start_time": "2021-11-22T00:47:31.347Z"
   },
   {
    "duration": 3161,
    "start_time": "2021-11-22T00:47:31.387Z"
   },
   {
    "duration": 5,
    "start_time": "2021-11-22T00:47:34.550Z"
   },
   {
    "duration": 25,
    "start_time": "2021-11-22T00:47:34.558Z"
   },
   {
    "duration": 14,
    "start_time": "2021-11-22T00:47:34.586Z"
   },
   {
    "duration": 323,
    "start_time": "2021-11-22T00:47:34.603Z"
   },
   {
    "duration": 17,
    "start_time": "2021-11-22T00:47:34.929Z"
   },
   {
    "duration": 305,
    "start_time": "2021-11-22T00:47:34.949Z"
   },
   {
    "duration": 314,
    "start_time": "2021-11-22T00:47:35.256Z"
   },
   {
    "duration": 12,
    "start_time": "2021-11-22T00:47:35.572Z"
   },
   {
    "duration": 309,
    "start_time": "2021-11-22T00:47:35.586Z"
   },
   {
    "duration": 312,
    "start_time": "2021-11-22T00:47:35.897Z"
   },
   {
    "duration": 18,
    "start_time": "2021-11-22T00:47:36.212Z"
   },
   {
    "duration": 317,
    "start_time": "2021-11-22T00:47:36.232Z"
   },
   {
    "duration": 9,
    "start_time": "2021-11-22T00:47:36.552Z"
   },
   {
    "duration": 9,
    "start_time": "2021-11-22T00:47:36.568Z"
   },
   {
    "duration": 16,
    "start_time": "2021-11-22T00:47:36.580Z"
   },
   {
    "duration": 38,
    "start_time": "2021-11-22T00:47:36.599Z"
   },
   {
    "duration": 10,
    "start_time": "2021-11-22T00:47:36.639Z"
   },
   {
    "duration": 32,
    "start_time": "2021-11-22T00:47:36.651Z"
   },
   {
    "duration": 55,
    "start_time": "2021-11-22T00:47:36.686Z"
   },
   {
    "duration": 21,
    "start_time": "2021-11-22T00:47:36.743Z"
   },
   {
    "duration": 13,
    "start_time": "2021-11-22T00:47:36.766Z"
   },
   {
    "duration": 3,
    "start_time": "2021-11-22T00:47:36.782Z"
   },
   {
    "duration": 7,
    "start_time": "2021-11-22T00:47:36.787Z"
   },
   {
    "duration": 6,
    "start_time": "2021-11-22T00:47:36.829Z"
   },
   {
    "duration": 24,
    "start_time": "2021-11-22T00:47:36.837Z"
   },
   {
    "duration": 29,
    "start_time": "2021-11-22T00:47:36.863Z"
   },
   {
    "duration": 36,
    "start_time": "2021-11-22T00:47:36.894Z"
   },
   {
    "duration": 48,
    "start_time": "2021-11-22T00:47:36.932Z"
   },
   {
    "duration": 70,
    "start_time": "2021-11-22T00:47:36.982Z"
   },
   {
    "duration": 8,
    "start_time": "2021-11-22T00:47:37.054Z"
   },
   {
    "duration": 13,
    "start_time": "2021-11-22T00:47:37.064Z"
   },
   {
    "duration": 59,
    "start_time": "2021-11-22T00:47:37.079Z"
   },
   {
    "duration": 2,
    "start_time": "2021-11-22T00:47:37.141Z"
   },
   {
    "duration": 21,
    "start_time": "2021-11-22T00:47:37.146Z"
   },
   {
    "duration": 15,
    "start_time": "2021-11-22T00:47:37.169Z"
   },
   {
    "duration": 11,
    "start_time": "2021-11-22T00:47:37.187Z"
   },
   {
    "duration": 10,
    "start_time": "2021-11-22T00:47:37.200Z"
   },
   {
    "duration": 12,
    "start_time": "2021-11-22T00:47:37.212Z"
   },
   {
    "duration": 6,
    "start_time": "2021-11-22T00:47:37.227Z"
   },
   {
    "duration": 7,
    "start_time": "2021-11-22T00:47:37.235Z"
   },
   {
    "duration": 6,
    "start_time": "2021-11-22T00:47:37.244Z"
   },
   {
    "duration": 7,
    "start_time": "2021-11-22T00:47:37.252Z"
   },
   {
    "duration": 7,
    "start_time": "2021-11-22T00:47:37.261Z"
   },
   {
    "duration": 22,
    "start_time": "2021-11-22T00:47:37.271Z"
   },
   {
    "duration": 3,
    "start_time": "2021-11-22T00:47:37.295Z"
   },
   {
    "duration": 6,
    "start_time": "2021-11-22T00:47:37.300Z"
   },
   {
    "duration": 8,
    "start_time": "2021-11-22T00:47:37.330Z"
   },
   {
    "duration": 9,
    "start_time": "2021-11-22T00:47:37.340Z"
   },
   {
    "duration": 7,
    "start_time": "2021-11-22T00:47:37.352Z"
   },
   {
    "duration": 9,
    "start_time": "2021-11-22T00:47:37.361Z"
   },
   {
    "duration": 7,
    "start_time": "2021-11-22T00:47:37.372Z"
   },
   {
    "duration": 8,
    "start_time": "2021-11-22T00:47:37.381Z"
   },
   {
    "duration": 10,
    "start_time": "2021-11-22T00:47:37.391Z"
   },
   {
    "duration": 6,
    "start_time": "2021-11-22T00:47:37.403Z"
   },
   {
    "duration": 19,
    "start_time": "2021-11-22T00:47:37.411Z"
   },
   {
    "duration": 11,
    "start_time": "2021-11-22T00:47:37.432Z"
   },
   {
    "duration": 5,
    "start_time": "2021-11-22T00:47:37.446Z"
   },
   {
    "duration": 8,
    "start_time": "2021-11-22T00:48:49.221Z"
   },
   {
    "duration": 309,
    "start_time": "2021-11-22T00:48:51.432Z"
   },
   {
    "duration": 826,
    "start_time": "2021-11-22T00:49:18.520Z"
   },
   {
    "duration": 5,
    "start_time": "2021-11-22T00:49:19.348Z"
   },
   {
    "duration": 35,
    "start_time": "2021-11-22T00:49:19.355Z"
   },
   {
    "duration": 14,
    "start_time": "2021-11-22T00:49:19.519Z"
   },
   {
    "duration": 17,
    "start_time": "2021-11-22T00:49:19.535Z"
   },
   {
    "duration": 30,
    "start_time": "2021-11-22T00:49:19.555Z"
   },
   {
    "duration": 32,
    "start_time": "2021-11-22T00:49:19.587Z"
   },
   {
    "duration": 39,
    "start_time": "2021-11-22T00:49:19.623Z"
   },
   {
    "duration": 3529,
    "start_time": "2021-11-22T00:49:19.665Z"
   },
   {
    "duration": 6,
    "start_time": "2021-11-22T00:49:23.197Z"
   },
   {
    "duration": 34,
    "start_time": "2021-11-22T00:49:23.207Z"
   },
   {
    "duration": 10,
    "start_time": "2021-11-22T00:49:23.244Z"
   },
   {
    "duration": 341,
    "start_time": "2021-11-22T00:49:23.259Z"
   },
   {
    "duration": 27,
    "start_time": "2021-11-22T00:49:23.603Z"
   },
   {
    "duration": 408,
    "start_time": "2021-11-22T00:49:23.633Z"
   },
   {
    "duration": 328,
    "start_time": "2021-11-22T00:49:24.044Z"
   },
   {
    "duration": 12,
    "start_time": "2021-11-22T00:49:24.375Z"
   },
   {
    "duration": 321,
    "start_time": "2021-11-22T00:49:24.390Z"
   },
   {
    "duration": 320,
    "start_time": "2021-11-22T00:49:24.714Z"
   },
   {
    "duration": 9,
    "start_time": "2021-11-22T00:49:25.037Z"
   },
   {
    "duration": 327,
    "start_time": "2021-11-22T00:49:25.048Z"
   },
   {
    "duration": 9,
    "start_time": "2021-11-22T00:49:25.380Z"
   },
   {
    "duration": 12,
    "start_time": "2021-11-22T00:49:25.393Z"
   },
   {
    "duration": 31,
    "start_time": "2021-11-22T00:49:25.407Z"
   },
   {
    "duration": 9,
    "start_time": "2021-11-22T00:49:25.441Z"
   },
   {
    "duration": 12,
    "start_time": "2021-11-22T00:49:25.452Z"
   },
   {
    "duration": 30,
    "start_time": "2021-11-22T00:49:25.467Z"
   },
   {
    "duration": 23,
    "start_time": "2021-11-22T00:49:25.530Z"
   },
   {
    "duration": 21,
    "start_time": "2021-11-22T00:49:25.556Z"
   },
   {
    "duration": 14,
    "start_time": "2021-11-22T00:49:25.579Z"
   },
   {
    "duration": 34,
    "start_time": "2021-11-22T00:49:25.596Z"
   },
   {
    "duration": 6,
    "start_time": "2021-11-22T00:49:25.633Z"
   },
   {
    "duration": 9,
    "start_time": "2021-11-22T00:49:25.642Z"
   },
   {
    "duration": 13,
    "start_time": "2021-11-22T00:49:25.653Z"
   },
   {
    "duration": 12,
    "start_time": "2021-11-22T00:49:25.668Z"
   },
   {
    "duration": 57,
    "start_time": "2021-11-22T00:49:25.683Z"
   },
   {
    "duration": 48,
    "start_time": "2021-11-22T00:49:25.743Z"
   },
   {
    "duration": 73,
    "start_time": "2021-11-22T00:49:25.793Z"
   },
   {
    "duration": 8,
    "start_time": "2021-11-22T00:49:25.868Z"
   },
   {
    "duration": 4,
    "start_time": "2021-11-22T00:49:25.879Z"
   },
   {
    "duration": 67,
    "start_time": "2021-11-22T00:49:25.886Z"
   },
   {
    "duration": 3,
    "start_time": "2021-11-22T00:49:25.956Z"
   },
   {
    "duration": 8,
    "start_time": "2021-11-22T00:49:25.961Z"
   },
   {
    "duration": 6,
    "start_time": "2021-11-22T00:49:25.971Z"
   },
   {
    "duration": 6,
    "start_time": "2021-11-22T00:49:25.979Z"
   },
   {
    "duration": 7,
    "start_time": "2021-11-22T00:49:25.987Z"
   },
   {
    "duration": 34,
    "start_time": "2021-11-22T00:49:25.996Z"
   },
   {
    "duration": 9,
    "start_time": "2021-11-22T00:49:26.032Z"
   },
   {
    "duration": 4,
    "start_time": "2021-11-22T00:49:26.047Z"
   },
   {
    "duration": 8,
    "start_time": "2021-11-22T00:49:26.054Z"
   },
   {
    "duration": 7,
    "start_time": "2021-11-22T00:49:26.064Z"
   },
   {
    "duration": 6,
    "start_time": "2021-11-22T00:49:26.073Z"
   },
   {
    "duration": 19,
    "start_time": "2021-11-22T00:49:26.082Z"
   },
   {
    "duration": 25,
    "start_time": "2021-11-22T00:49:26.104Z"
   },
   {
    "duration": 6,
    "start_time": "2021-11-22T00:49:26.132Z"
   },
   {
    "duration": 6,
    "start_time": "2021-11-22T00:49:26.141Z"
   },
   {
    "duration": 7,
    "start_time": "2021-11-22T00:49:26.149Z"
   },
   {
    "duration": 13,
    "start_time": "2021-11-22T00:49:26.159Z"
   },
   {
    "duration": 13,
    "start_time": "2021-11-22T00:49:26.175Z"
   },
   {
    "duration": 8,
    "start_time": "2021-11-22T00:49:26.191Z"
   },
   {
    "duration": 9,
    "start_time": "2021-11-22T00:49:26.202Z"
   },
   {
    "duration": 19,
    "start_time": "2021-11-22T00:49:26.213Z"
   },
   {
    "duration": 8,
    "start_time": "2021-11-22T00:49:26.235Z"
   },
   {
    "duration": 9,
    "start_time": "2021-11-22T00:49:26.245Z"
   },
   {
    "duration": 14,
    "start_time": "2021-11-22T00:49:26.256Z"
   },
   {
    "duration": 8,
    "start_time": "2021-11-22T00:49:26.272Z"
   },
   {
    "duration": 109,
    "start_time": "2021-11-22T00:50:29.028Z"
   },
   {
    "duration": 6,
    "start_time": "2021-11-22T00:50:34.814Z"
   },
   {
    "duration": 737,
    "start_time": "2021-11-22T00:50:37.600Z"
   },
   {
    "duration": 276,
    "start_time": "2021-11-22T00:51:28.053Z"
   },
   {
    "duration": 881,
    "start_time": "2021-11-22T00:51:38.838Z"
   },
   {
    "duration": 5,
    "start_time": "2021-11-22T00:51:39.722Z"
   },
   {
    "duration": 46,
    "start_time": "2021-11-22T00:51:39.730Z"
   },
   {
    "duration": 19,
    "start_time": "2021-11-22T00:51:39.779Z"
   },
   {
    "duration": 24,
    "start_time": "2021-11-22T00:51:39.800Z"
   },
   {
    "duration": 17,
    "start_time": "2021-11-22T00:51:39.826Z"
   },
   {
    "duration": 28,
    "start_time": "2021-11-22T00:51:39.846Z"
   },
   {
    "duration": 39,
    "start_time": "2021-11-22T00:51:39.878Z"
   },
   {
    "duration": 3187,
    "start_time": "2021-11-22T00:51:39.919Z"
   },
   {
    "duration": 6,
    "start_time": "2021-11-22T00:51:43.109Z"
   },
   {
    "duration": 25,
    "start_time": "2021-11-22T00:51:43.117Z"
   },
   {
    "duration": 7,
    "start_time": "2021-11-22T00:51:43.144Z"
   },
   {
    "duration": 332,
    "start_time": "2021-11-22T00:51:43.153Z"
   },
   {
    "duration": 18,
    "start_time": "2021-11-22T00:51:43.487Z"
   },
   {
    "duration": 315,
    "start_time": "2021-11-22T00:51:43.507Z"
   },
   {
    "duration": 319,
    "start_time": "2021-11-22T00:51:43.828Z"
   },
   {
    "duration": 12,
    "start_time": "2021-11-22T00:51:44.150Z"
   },
   {
    "duration": 318,
    "start_time": "2021-11-22T00:51:44.165Z"
   },
   {
    "duration": 331,
    "start_time": "2021-11-22T00:51:44.485Z"
   },
   {
    "duration": 13,
    "start_time": "2021-11-22T00:51:44.819Z"
   },
   {
    "duration": 322,
    "start_time": "2021-11-22T00:51:44.834Z"
   },
   {
    "duration": 10,
    "start_time": "2021-11-22T00:51:45.158Z"
   },
   {
    "duration": 11,
    "start_time": "2021-11-22T00:51:45.175Z"
   },
   {
    "duration": 42,
    "start_time": "2021-11-22T00:51:45.189Z"
   },
   {
    "duration": 9,
    "start_time": "2021-11-22T00:51:45.233Z"
   },
   {
    "duration": 12,
    "start_time": "2021-11-22T00:51:45.245Z"
   },
   {
    "duration": 31,
    "start_time": "2021-11-22T00:51:45.260Z"
   },
   {
    "duration": 50,
    "start_time": "2021-11-22T00:51:45.294Z"
   },
   {
    "duration": 21,
    "start_time": "2021-11-22T00:51:45.347Z"
   },
   {
    "duration": 15,
    "start_time": "2021-11-22T00:51:45.370Z"
   },
   {
    "duration": 3,
    "start_time": "2021-11-22T00:51:45.388Z"
   },
   {
    "duration": 37,
    "start_time": "2021-11-22T00:51:45.393Z"
   },
   {
    "duration": 7,
    "start_time": "2021-11-22T00:51:45.433Z"
   },
   {
    "duration": 13,
    "start_time": "2021-11-22T00:51:45.442Z"
   },
   {
    "duration": 10,
    "start_time": "2021-11-22T00:51:45.457Z"
   },
   {
    "duration": 61,
    "start_time": "2021-11-22T00:51:45.470Z"
   },
   {
    "duration": 48,
    "start_time": "2021-11-22T00:51:45.533Z"
   },
   {
    "duration": 73,
    "start_time": "2021-11-22T00:51:45.584Z"
   },
   {
    "duration": 11,
    "start_time": "2021-11-22T00:51:45.659Z"
   },
   {
    "duration": 5,
    "start_time": "2021-11-22T00:51:45.672Z"
   },
   {
    "duration": 64,
    "start_time": "2021-11-22T00:51:45.679Z"
   },
   {
    "duration": 4,
    "start_time": "2021-11-22T00:51:45.745Z"
   },
   {
    "duration": 15,
    "start_time": "2021-11-22T00:51:45.751Z"
   },
   {
    "duration": 5,
    "start_time": "2021-11-22T00:51:45.768Z"
   },
   {
    "duration": 6,
    "start_time": "2021-11-22T00:51:45.775Z"
   },
   {
    "duration": 7,
    "start_time": "2021-11-22T00:51:45.783Z"
   },
   {
    "duration": 10,
    "start_time": "2021-11-22T00:51:45.792Z"
   },
   {
    "duration": 25,
    "start_time": "2021-11-22T00:51:45.804Z"
   },
   {
    "duration": 27,
    "start_time": "2021-11-22T00:51:45.832Z"
   },
   {
    "duration": 6,
    "start_time": "2021-11-22T00:51:45.862Z"
   },
   {
    "duration": 17,
    "start_time": "2021-11-22T00:51:45.870Z"
   },
   {
    "duration": 8,
    "start_time": "2021-11-22T00:51:45.890Z"
   },
   {
    "duration": 21,
    "start_time": "2021-11-22T00:51:45.900Z"
   },
   {
    "duration": 4,
    "start_time": "2021-11-22T00:51:45.923Z"
   },
   {
    "duration": 9,
    "start_time": "2021-11-22T00:51:45.929Z"
   },
   {
    "duration": 9,
    "start_time": "2021-11-22T00:51:45.940Z"
   },
   {
    "duration": 16,
    "start_time": "2021-11-22T00:51:45.951Z"
   },
   {
    "duration": 8,
    "start_time": "2021-11-22T00:51:45.969Z"
   },
   {
    "duration": 8,
    "start_time": "2021-11-22T00:51:45.979Z"
   },
   {
    "duration": 8,
    "start_time": "2021-11-22T00:51:45.989Z"
   },
   {
    "duration": 8,
    "start_time": "2021-11-22T00:51:45.999Z"
   },
   {
    "duration": 7,
    "start_time": "2021-11-22T00:51:46.009Z"
   },
   {
    "duration": 14,
    "start_time": "2021-11-22T00:51:46.018Z"
   },
   {
    "duration": 9,
    "start_time": "2021-11-22T00:51:46.034Z"
   },
   {
    "duration": 10,
    "start_time": "2021-11-22T00:51:46.045Z"
   },
   {
    "duration": 5,
    "start_time": "2021-11-22T00:51:46.057Z"
   },
   {
    "duration": 13,
    "start_time": "2021-11-22T00:53:01.689Z"
   },
   {
    "duration": 775,
    "start_time": "2021-11-22T00:53:09.979Z"
   },
   {
    "duration": 5,
    "start_time": "2021-11-22T00:53:10.757Z"
   },
   {
    "duration": 26,
    "start_time": "2021-11-22T00:53:10.765Z"
   },
   {
    "duration": 38,
    "start_time": "2021-11-22T00:53:10.793Z"
   },
   {
    "duration": 10,
    "start_time": "2021-11-22T00:53:10.834Z"
   },
   {
    "duration": 11,
    "start_time": "2021-11-22T00:53:10.846Z"
   },
   {
    "duration": 16,
    "start_time": "2021-11-22T00:53:10.859Z"
   },
   {
    "duration": 76,
    "start_time": "2021-11-22T00:53:10.878Z"
   },
   {
    "duration": 3110,
    "start_time": "2021-11-22T00:53:10.957Z"
   },
   {
    "duration": 7,
    "start_time": "2021-11-22T00:53:14.070Z"
   },
   {
    "duration": 17,
    "start_time": "2021-11-22T00:53:14.080Z"
   },
   {
    "duration": 36,
    "start_time": "2021-11-22T00:53:14.099Z"
   },
   {
    "duration": 319,
    "start_time": "2021-11-22T00:53:14.138Z"
   },
   {
    "duration": 19,
    "start_time": "2021-11-22T00:53:14.461Z"
   },
   {
    "duration": 319,
    "start_time": "2021-11-22T00:53:14.482Z"
   },
   {
    "duration": 347,
    "start_time": "2021-11-22T00:53:14.805Z"
   },
   {
    "duration": 12,
    "start_time": "2021-11-22T00:53:15.154Z"
   },
   {
    "duration": 318,
    "start_time": "2021-11-22T00:53:15.168Z"
   },
   {
    "duration": 328,
    "start_time": "2021-11-22T00:53:15.488Z"
   },
   {
    "duration": 17,
    "start_time": "2021-11-22T00:53:15.819Z"
   },
   {
    "duration": 319,
    "start_time": "2021-11-22T00:53:15.838Z"
   },
   {
    "duration": 9,
    "start_time": "2021-11-22T00:53:16.159Z"
   },
   {
    "duration": 10,
    "start_time": "2021-11-22T00:53:16.174Z"
   },
   {
    "duration": 18,
    "start_time": "2021-11-22T00:53:16.188Z"
   },
   {
    "duration": 8,
    "start_time": "2021-11-22T00:53:16.229Z"
   },
   {
    "duration": 28,
    "start_time": "2021-11-22T00:53:16.240Z"
   },
   {
    "duration": 47,
    "start_time": "2021-11-22T00:53:16.270Z"
   },
   {
    "duration": 26,
    "start_time": "2021-11-22T00:53:16.319Z"
   },
   {
    "duration": 21,
    "start_time": "2021-11-22T00:53:16.347Z"
   },
   {
    "duration": 14,
    "start_time": "2021-11-22T00:53:16.370Z"
   },
   {
    "duration": 4,
    "start_time": "2021-11-22T00:53:16.386Z"
   },
   {
    "duration": 37,
    "start_time": "2021-11-22T00:53:16.392Z"
   },
   {
    "duration": 7,
    "start_time": "2021-11-22T00:53:16.431Z"
   },
   {
    "duration": 15,
    "start_time": "2021-11-22T00:53:16.440Z"
   },
   {
    "duration": 9,
    "start_time": "2021-11-22T00:53:16.458Z"
   },
   {
    "duration": 24,
    "start_time": "2021-11-22T00:53:16.469Z"
   },
   {
    "duration": 135,
    "start_time": "2021-11-22T00:53:16.495Z"
   },
   {
    "duration": 53,
    "start_time": "2021-11-22T00:53:16.633Z"
   },
   {
    "duration": 9,
    "start_time": "2021-11-22T00:53:16.688Z"
   },
   {
    "duration": 5,
    "start_time": "2021-11-22T00:53:16.699Z"
   },
   {
    "duration": 51,
    "start_time": "2021-11-22T00:53:16.707Z"
   },
   {
    "duration": 3,
    "start_time": "2021-11-22T00:53:16.761Z"
   },
   {
    "duration": 5,
    "start_time": "2021-11-22T00:53:16.766Z"
   },
   {
    "duration": 6,
    "start_time": "2021-11-22T00:53:16.774Z"
   },
   {
    "duration": 5,
    "start_time": "2021-11-22T00:53:16.782Z"
   },
   {
    "duration": 10,
    "start_time": "2021-11-22T00:53:16.789Z"
   },
   {
    "duration": 4,
    "start_time": "2021-11-22T00:53:16.802Z"
   },
   {
    "duration": 6,
    "start_time": "2021-11-22T00:53:16.808Z"
   },
   {
    "duration": 9,
    "start_time": "2021-11-22T00:53:16.817Z"
   },
   {
    "duration": 5,
    "start_time": "2021-11-22T00:53:16.828Z"
   },
   {
    "duration": 5,
    "start_time": "2021-11-22T00:53:16.835Z"
   },
   {
    "duration": 5,
    "start_time": "2021-11-22T00:53:16.842Z"
   },
   {
    "duration": 21,
    "start_time": "2021-11-22T00:53:16.850Z"
   },
   {
    "duration": 3,
    "start_time": "2021-11-22T00:53:16.873Z"
   },
   {
    "duration": 5,
    "start_time": "2021-11-22T00:53:16.878Z"
   },
   {
    "duration": 10,
    "start_time": "2021-11-22T00:53:16.885Z"
   },
   {
    "duration": 5,
    "start_time": "2021-11-22T00:53:16.898Z"
   },
   {
    "duration": 6,
    "start_time": "2021-11-22T00:53:16.905Z"
   },
   {
    "duration": 5,
    "start_time": "2021-11-22T00:53:16.914Z"
   },
   {
    "duration": 6,
    "start_time": "2021-11-22T00:53:16.921Z"
   },
   {
    "duration": 6,
    "start_time": "2021-11-22T00:53:16.930Z"
   },
   {
    "duration": 6,
    "start_time": "2021-11-22T00:53:16.938Z"
   },
   {
    "duration": 9,
    "start_time": "2021-11-22T00:53:16.946Z"
   },
   {
    "duration": 9,
    "start_time": "2021-11-22T00:53:16.957Z"
   },
   {
    "duration": 13,
    "start_time": "2021-11-22T00:53:16.969Z"
   },
   {
    "duration": 8,
    "start_time": "2021-11-22T00:53:16.984Z"
   },
   {
    "duration": 1214,
    "start_time": "2021-11-22T01:05:09.117Z"
   },
   {
    "duration": 5,
    "start_time": "2021-11-22T01:05:36.258Z"
   },
   {
    "duration": 36,
    "start_time": "2021-11-22T01:05:49.026Z"
   },
   {
    "duration": 1413,
    "start_time": "2021-11-22T01:05:51.862Z"
   },
   {
    "duration": 103,
    "start_time": "2021-11-22T01:10:14.284Z"
   },
   {
    "duration": 514,
    "start_time": "2021-11-22T01:10:24.478Z"
   },
   {
    "duration": 5,
    "start_time": "2021-11-22T01:10:39.897Z"
   },
   {
    "duration": 35,
    "start_time": "2021-11-22T01:10:41.180Z"
   },
   {
    "duration": 10,
    "start_time": "2021-11-22T01:12:37.286Z"
   },
   {
    "duration": 7,
    "start_time": "2021-11-22T01:12:37.290Z"
   },
   {
    "duration": 845,
    "start_time": "2021-11-22T01:13:12.800Z"
   },
   {
    "duration": 5,
    "start_time": "2021-11-22T01:13:13.647Z"
   },
   {
    "duration": 34,
    "start_time": "2021-11-22T01:13:13.654Z"
   },
   {
    "duration": 16,
    "start_time": "2021-11-22T01:13:13.691Z"
   },
   {
    "duration": 26,
    "start_time": "2021-11-22T01:13:13.710Z"
   },
   {
    "duration": 10,
    "start_time": "2021-11-22T01:13:13.739Z"
   },
   {
    "duration": 24,
    "start_time": "2021-11-22T01:13:13.752Z"
   },
   {
    "duration": 65,
    "start_time": "2021-11-22T01:13:13.781Z"
   },
   {
    "duration": 3268,
    "start_time": "2021-11-22T01:13:13.850Z"
   },
   {
    "duration": 10,
    "start_time": "2021-11-22T01:13:17.120Z"
   },
   {
    "duration": 30,
    "start_time": "2021-11-22T01:13:17.133Z"
   },
   {
    "duration": 29,
    "start_time": "2021-11-22T01:13:17.165Z"
   },
   {
    "duration": 311,
    "start_time": "2021-11-22T01:13:17.196Z"
   },
   {
    "duration": 26,
    "start_time": "2021-11-22T01:13:17.510Z"
   },
   {
    "duration": 329,
    "start_time": "2021-11-22T01:13:17.539Z"
   },
   {
    "duration": 364,
    "start_time": "2021-11-22T01:13:17.872Z"
   },
   {
    "duration": 15,
    "start_time": "2021-11-22T01:13:18.239Z"
   },
   {
    "duration": 347,
    "start_time": "2021-11-22T01:13:18.256Z"
   },
   {
    "duration": 301,
    "start_time": "2021-11-22T01:13:18.606Z"
   },
   {
    "duration": 11,
    "start_time": "2021-11-22T01:13:18.910Z"
   },
   {
    "duration": 319,
    "start_time": "2021-11-22T01:13:18.923Z"
   },
   {
    "duration": 8,
    "start_time": "2021-11-22T01:13:19.245Z"
   },
   {
    "duration": 10,
    "start_time": "2021-11-22T01:13:19.259Z"
   },
   {
    "duration": 16,
    "start_time": "2021-11-22T01:13:19.273Z"
   },
   {
    "duration": 10,
    "start_time": "2021-11-22T01:13:19.291Z"
   },
   {
    "duration": 24,
    "start_time": "2021-11-22T01:13:19.303Z"
   },
   {
    "duration": 31,
    "start_time": "2021-11-22T01:13:19.329Z"
   },
   {
    "duration": 22,
    "start_time": "2021-11-22T01:13:19.362Z"
   },
   {
    "duration": 21,
    "start_time": "2021-11-22T01:13:19.386Z"
   },
   {
    "duration": 20,
    "start_time": "2021-11-22T01:13:19.410Z"
   },
   {
    "duration": 5,
    "start_time": "2021-11-22T01:13:19.432Z"
   },
   {
    "duration": 9,
    "start_time": "2021-11-22T01:13:19.439Z"
   },
   {
    "duration": 18,
    "start_time": "2021-11-22T01:13:19.450Z"
   },
   {
    "duration": 12,
    "start_time": "2021-11-22T01:13:19.470Z"
   },
   {
    "duration": 52,
    "start_time": "2021-11-22T01:13:19.485Z"
   },
   {
    "duration": 106,
    "start_time": "2021-11-22T01:13:19.540Z"
   },
   {
    "duration": 55,
    "start_time": "2021-11-22T01:13:19.648Z"
   },
   {
    "duration": 29,
    "start_time": "2021-11-22T01:13:19.706Z"
   },
   {
    "duration": 5,
    "start_time": "2021-11-22T01:13:19.737Z"
   },
   {
    "duration": 37,
    "start_time": "2021-11-22T01:13:19.744Z"
   },
   {
    "duration": 59468,
    "start_time": "2021-11-22T01:13:19.784Z"
   },
   {
    "duration": -31,
    "start_time": "2021-11-22T01:14:19.285Z"
   },
   {
    "duration": -34,
    "start_time": "2021-11-22T01:14:19.290Z"
   },
   {
    "duration": -37,
    "start_time": "2021-11-22T01:14:19.294Z"
   },
   {
    "duration": -39,
    "start_time": "2021-11-22T01:14:19.297Z"
   },
   {
    "duration": -42,
    "start_time": "2021-11-22T01:14:19.302Z"
   },
   {
    "duration": -44,
    "start_time": "2021-11-22T01:14:19.305Z"
   },
   {
    "duration": -44,
    "start_time": "2021-11-22T01:14:19.307Z"
   },
   {
    "duration": -46,
    "start_time": "2021-11-22T01:14:19.310Z"
   },
   {
    "duration": -48,
    "start_time": "2021-11-22T01:14:19.313Z"
   },
   {
    "duration": -48,
    "start_time": "2021-11-22T01:14:19.315Z"
   },
   {
    "duration": -49,
    "start_time": "2021-11-22T01:14:19.317Z"
   },
   {
    "duration": -125,
    "start_time": "2021-11-22T01:14:19.395Z"
   },
   {
    "duration": -126,
    "start_time": "2021-11-22T01:14:19.397Z"
   },
   {
    "duration": -128,
    "start_time": "2021-11-22T01:14:19.400Z"
   },
   {
    "duration": -138,
    "start_time": "2021-11-22T01:14:19.412Z"
   },
   {
    "duration": -139,
    "start_time": "2021-11-22T01:14:19.414Z"
   },
   {
    "duration": -140,
    "start_time": "2021-11-22T01:14:19.416Z"
   },
   {
    "duration": -140,
    "start_time": "2021-11-22T01:14:19.418Z"
   },
   {
    "duration": -144,
    "start_time": "2021-11-22T01:14:19.423Z"
   },
   {
    "duration": -158,
    "start_time": "2021-11-22T01:14:19.438Z"
   },
   {
    "duration": -159,
    "start_time": "2021-11-22T01:14:19.441Z"
   },
   {
    "duration": -161,
    "start_time": "2021-11-22T01:14:19.444Z"
   },
   {
    "duration": -162,
    "start_time": "2021-11-22T01:14:19.446Z"
   },
   {
    "duration": -164,
    "start_time": "2021-11-22T01:14:19.450Z"
   },
   {
    "duration": 4,
    "start_time": "2021-11-22T01:15:59.015Z"
   },
   {
    "duration": 6,
    "start_time": "2021-11-22T01:16:03.172Z"
   },
   {
    "duration": 18,
    "start_time": "2021-11-22T01:16:09.613Z"
   },
   {
    "duration": 304,
    "start_time": "2021-11-22T01:17:10.288Z"
   },
   {
    "duration": 8,
    "start_time": "2021-11-22T01:17:17.898Z"
   },
   {
    "duration": 11,
    "start_time": "2021-11-22T01:17:23.411Z"
   },
   {
    "duration": 298,
    "start_time": "2021-11-22T01:17:51.367Z"
   },
   {
    "duration": 1625,
    "start_time": "2021-11-22T01:18:40.067Z"
   },
   {
    "duration": 12,
    "start_time": "2021-11-22T01:18:48.064Z"
   },
   {
    "duration": 14,
    "start_time": "2021-11-22T01:19:05.672Z"
   },
   {
    "duration": 14,
    "start_time": "2021-11-22T01:19:24.418Z"
   },
   {
    "duration": 332,
    "start_time": "2021-11-22T01:20:42.852Z"
   },
   {
    "duration": 617,
    "start_time": "2021-11-22T01:21:13.473Z"
   },
   {
    "duration": 13,
    "start_time": "2021-11-22T01:21:40.947Z"
   },
   {
    "duration": 13,
    "start_time": "2021-11-22T01:23:43.594Z"
   },
   {
    "duration": 13,
    "start_time": "2021-11-22T01:23:52.022Z"
   },
   {
    "duration": 3,
    "start_time": "2021-11-22T01:24:21.954Z"
   },
   {
    "duration": 723,
    "start_time": "2021-11-22T01:24:54.994Z"
   },
   {
    "duration": 4,
    "start_time": "2021-11-22T01:25:49.566Z"
   },
   {
    "duration": 4,
    "start_time": "2021-11-22T01:26:39.242Z"
   },
   {
    "duration": 181,
    "start_time": "2021-11-22T01:26:42.127Z"
   },
   {
    "duration": 4,
    "start_time": "2021-11-22T01:26:51.932Z"
   },
   {
    "duration": 183,
    "start_time": "2021-11-22T01:26:52.876Z"
   },
   {
    "duration": 4,
    "start_time": "2021-11-22T01:27:21.649Z"
   },
   {
    "duration": 5,
    "start_time": "2021-11-22T01:28:46.494Z"
   },
   {
    "duration": 13,
    "start_time": "2021-11-22T01:28:47.244Z"
   },
   {
    "duration": 12,
    "start_time": "2021-11-22T01:39:50.718Z"
   },
   {
    "duration": 1127,
    "start_time": "2021-11-22T01:43:08.845Z"
   },
   {
    "duration": 118,
    "start_time": "2021-11-22T01:44:03.566Z"
   },
   {
    "duration": 99,
    "start_time": "2021-11-22T01:44:26.916Z"
   },
   {
    "duration": 1425,
    "start_time": "2021-11-22T01:44:35.851Z"
   },
   {
    "duration": 3910,
    "start_time": "2021-11-22T01:44:56.291Z"
   },
   {
    "duration": 3894,
    "start_time": "2021-11-22T01:45:51.548Z"
   },
   {
    "duration": 5,
    "start_time": "2021-11-22T01:47:31.850Z"
   },
   {
    "duration": 36,
    "start_time": "2021-11-22T01:47:32.891Z"
   },
   {
    "duration": 3739,
    "start_time": "2021-11-22T01:47:33.895Z"
   },
   {
    "duration": 1141,
    "start_time": "2021-11-22T01:50:20.696Z"
   },
   {
    "duration": 6431,
    "start_time": "2021-11-22T01:50:56.568Z"
   },
   {
    "duration": 586,
    "start_time": "2021-11-22T01:52:59.794Z"
   },
   {
    "duration": 6436,
    "start_time": "2021-11-22T01:56:55.246Z"
   },
   {
    "duration": 13,
    "start_time": "2021-11-22T01:57:24.394Z"
   },
   {
    "duration": 18410,
    "start_time": "2021-11-22T01:58:36.354Z"
   },
   {
    "duration": 12,
    "start_time": "2021-11-22T01:59:36.306Z"
   },
   {
    "duration": 16,
    "start_time": "2021-11-22T02:00:02.426Z"
   },
   {
    "duration": 108,
    "start_time": "2021-11-22T02:00:25.836Z"
   },
   {
    "duration": 5,
    "start_time": "2021-11-22T02:00:34.131Z"
   },
   {
    "duration": 15,
    "start_time": "2021-11-22T02:01:53.057Z"
   },
   {
    "duration": 15,
    "start_time": "2021-11-22T02:02:44.570Z"
   },
   {
    "duration": 15,
    "start_time": "2021-11-22T02:03:43.735Z"
   },
   {
    "duration": 6379,
    "start_time": "2021-11-22T02:04:46.769Z"
   },
   {
    "duration": 9,
    "start_time": "2021-11-22T02:04:53.150Z"
   },
   {
    "duration": 640,
    "start_time": "2021-11-22T02:07:04.435Z"
   },
   {
    "duration": 297,
    "start_time": "2021-11-22T02:07:39.105Z"
   },
   {
    "duration": 31,
    "start_time": "2021-11-22T02:07:51.101Z"
   },
   {
    "duration": 37,
    "start_time": "2021-11-22T02:15:23.789Z"
   },
   {
    "duration": 10,
    "start_time": "2021-11-22T02:15:28.809Z"
   },
   {
    "duration": 844,
    "start_time": "2021-11-22T02:16:06.497Z"
   },
   {
    "duration": 5,
    "start_time": "2021-11-22T02:16:07.343Z"
   },
   {
    "duration": 38,
    "start_time": "2021-11-22T02:16:07.351Z"
   },
   {
    "duration": 22,
    "start_time": "2021-11-22T02:16:07.392Z"
   },
   {
    "duration": 16,
    "start_time": "2021-11-22T02:16:07.416Z"
   },
   {
    "duration": 13,
    "start_time": "2021-11-22T02:16:07.434Z"
   },
   {
    "duration": 20,
    "start_time": "2021-11-22T02:16:07.450Z"
   },
   {
    "duration": 64,
    "start_time": "2021-11-22T02:16:07.473Z"
   },
   {
    "duration": 3092,
    "start_time": "2021-11-22T02:16:07.540Z"
   },
   {
    "duration": 6,
    "start_time": "2021-11-22T02:16:10.634Z"
   },
   {
    "duration": 31,
    "start_time": "2021-11-22T02:16:10.642Z"
   },
   {
    "duration": 15,
    "start_time": "2021-11-22T02:16:10.676Z"
   },
   {
    "duration": 313,
    "start_time": "2021-11-22T02:16:10.693Z"
   },
   {
    "duration": 26,
    "start_time": "2021-11-22T02:16:11.008Z"
   },
   {
    "duration": 403,
    "start_time": "2021-11-22T02:16:11.036Z"
   },
   {
    "duration": 320,
    "start_time": "2021-11-22T02:16:11.442Z"
   },
   {
    "duration": 11,
    "start_time": "2021-11-22T02:16:11.765Z"
   },
   {
    "duration": 307,
    "start_time": "2021-11-22T02:16:11.778Z"
   },
   {
    "duration": 408,
    "start_time": "2021-11-22T02:16:12.088Z"
   },
   {
    "duration": 10,
    "start_time": "2021-11-22T02:16:12.498Z"
   },
   {
    "duration": 316,
    "start_time": "2021-11-22T02:16:12.510Z"
   },
   {
    "duration": 8,
    "start_time": "2021-11-22T02:16:12.829Z"
   },
   {
    "duration": 7,
    "start_time": "2021-11-22T02:16:12.845Z"
   },
   {
    "duration": 11,
    "start_time": "2021-11-22T02:16:12.855Z"
   },
   {
    "duration": 7,
    "start_time": "2021-11-22T02:16:12.869Z"
   },
   {
    "duration": 50,
    "start_time": "2021-11-22T02:16:12.879Z"
   },
   {
    "duration": 26,
    "start_time": "2021-11-22T02:16:12.931Z"
   },
   {
    "duration": 21,
    "start_time": "2021-11-22T02:16:12.960Z"
   },
   {
    "duration": 50,
    "start_time": "2021-11-22T02:16:12.983Z"
   },
   {
    "duration": 14,
    "start_time": "2021-11-22T02:16:13.035Z"
   },
   {
    "duration": 4,
    "start_time": "2021-11-22T02:16:13.051Z"
   },
   {
    "duration": 10,
    "start_time": "2021-11-22T02:16:13.057Z"
   },
   {
    "duration": 13,
    "start_time": "2021-11-22T02:16:13.069Z"
   },
   {
    "duration": 50,
    "start_time": "2021-11-22T02:16:13.084Z"
   },
   {
    "duration": 22,
    "start_time": "2021-11-22T02:16:13.136Z"
   },
   {
    "duration": 48,
    "start_time": "2021-11-22T02:16:13.160Z"
   },
   {
    "duration": 48,
    "start_time": "2021-11-22T02:16:13.230Z"
   },
   {
    "duration": 8,
    "start_time": "2021-11-22T02:16:13.280Z"
   },
   {
    "duration": 39,
    "start_time": "2021-11-22T02:16:13.290Z"
   },
   {
    "duration": 39,
    "start_time": "2021-11-22T02:16:13.332Z"
   },
   {
    "duration": 17784,
    "start_time": "2021-11-22T02:16:13.373Z"
   },
   {
    "duration": 13,
    "start_time": "2021-11-22T02:16:31.159Z"
   },
   {
    "duration": 27,
    "start_time": "2021-11-22T02:16:31.174Z"
   },
   {
    "duration": 28,
    "start_time": "2021-11-22T02:16:31.204Z"
   },
   {
    "duration": 28,
    "start_time": "2021-11-22T02:16:31.235Z"
   },
   {
    "duration": 26,
    "start_time": "2021-11-22T02:16:31.265Z"
   },
   {
    "duration": 13,
    "start_time": "2021-11-22T02:16:31.294Z"
   },
   {
    "duration": 30,
    "start_time": "2021-11-22T02:16:31.309Z"
   },
   {
    "duration": 6260,
    "start_time": "2021-11-22T02:16:31.342Z"
   },
   {
    "duration": 8,
    "start_time": "2021-11-22T02:16:37.604Z"
   },
   {
    "duration": 46,
    "start_time": "2021-11-22T02:16:37.614Z"
   },
   {
    "duration": 4,
    "start_time": "2021-11-22T02:16:37.662Z"
   },
   {
    "duration": 32,
    "start_time": "2021-11-22T02:16:37.668Z"
   },
   {
    "duration": 18,
    "start_time": "2021-11-22T02:16:37.702Z"
   },
   {
    "duration": 26,
    "start_time": "2021-11-22T02:16:37.722Z"
   },
   {
    "duration": 18,
    "start_time": "2021-11-22T02:16:37.750Z"
   },
   {
    "duration": 19,
    "start_time": "2021-11-22T02:16:37.770Z"
   },
   {
    "duration": 24,
    "start_time": "2021-11-22T02:16:37.791Z"
   },
   {
    "duration": 25,
    "start_time": "2021-11-22T02:16:37.818Z"
   },
   {
    "duration": 17,
    "start_time": "2021-11-22T02:16:37.845Z"
   },
   {
    "duration": 14,
    "start_time": "2021-11-22T02:16:37.865Z"
   },
   {
    "duration": 8,
    "start_time": "2021-11-22T02:16:37.881Z"
   },
   {
    "duration": 10,
    "start_time": "2021-11-22T02:16:37.891Z"
   },
   {
    "duration": 8,
    "start_time": "2021-11-22T02:16:37.903Z"
   },
   {
    "duration": 7,
    "start_time": "2021-11-22T02:21:13.222Z"
   },
   {
    "duration": 6,
    "start_time": "2021-11-22T02:21:25.472Z"
   },
   {
    "duration": 6,
    "start_time": "2021-11-22T02:28:47.288Z"
   },
   {
    "duration": 43,
    "start_time": "2021-11-22T02:30:58.797Z"
   },
   {
    "duration": 21,
    "start_time": "2021-11-22T02:31:32.435Z"
   },
   {
    "duration": 19,
    "start_time": "2021-11-22T02:32:19.601Z"
   },
   {
    "duration": 19,
    "start_time": "2021-11-22T02:32:25.828Z"
   },
   {
    "duration": 31,
    "start_time": "2021-11-22T02:32:34.091Z"
   },
   {
    "duration": 4,
    "start_time": "2021-11-22T02:32:52.342Z"
   },
   {
    "duration": 29,
    "start_time": "2021-11-22T02:32:54.280Z"
   },
   {
    "duration": 5,
    "start_time": "2021-11-22T02:33:23.000Z"
   },
   {
    "duration": 30,
    "start_time": "2021-11-22T02:33:23.751Z"
   },
   {
    "duration": 47,
    "start_time": "2021-11-22T02:33:54.502Z"
   },
   {
    "duration": 6,
    "start_time": "2021-11-22T02:34:13.210Z"
   },
   {
    "duration": 35,
    "start_time": "2021-11-22T02:34:13.766Z"
   },
   {
    "duration": 30,
    "start_time": "2021-11-22T02:34:23.536Z"
   },
   {
    "duration": 11,
    "start_time": "2021-11-22T02:40:06.690Z"
   },
   {
    "duration": 6,
    "start_time": "2021-11-22T02:40:36.437Z"
   },
   {
    "duration": 30,
    "start_time": "2021-11-22T02:43:10.361Z"
   },
   {
    "duration": 33,
    "start_time": "2021-11-22T02:43:18.942Z"
   },
   {
    "duration": 20,
    "start_time": "2021-11-22T02:43:25.065Z"
   },
   {
    "duration": 793,
    "start_time": "2021-11-22T02:43:43.366Z"
   },
   {
    "duration": 11,
    "start_time": "2021-11-22T02:43:48.239Z"
   },
   {
    "duration": 4,
    "start_time": "2021-11-22T02:43:58.734Z"
   },
   {
    "duration": 25,
    "start_time": "2021-11-22T02:45:16.955Z"
   },
   {
    "duration": 11,
    "start_time": "2021-11-22T02:45:30.258Z"
   },
   {
    "duration": 21,
    "start_time": "2021-11-22T02:47:23.298Z"
   },
   {
    "duration": 15,
    "start_time": "2021-11-22T02:47:59.250Z"
   },
   {
    "duration": 15,
    "start_time": "2021-11-22T02:48:18.867Z"
   },
   {
    "duration": 16,
    "start_time": "2021-11-22T02:48:26.622Z"
   },
   {
    "duration": 16,
    "start_time": "2021-11-22T02:48:36.611Z"
   },
   {
    "duration": 15,
    "start_time": "2021-11-22T02:49:05.472Z"
   },
   {
    "duration": 4,
    "start_time": "2021-11-22T02:52:11.055Z"
   },
   {
    "duration": 19,
    "start_time": "2021-11-22T02:52:11.838Z"
   },
   {
    "duration": 13,
    "start_time": "2021-11-22T02:52:19.258Z"
   },
   {
    "duration": 776,
    "start_time": "2021-11-22T03:00:33.281Z"
   },
   {
    "duration": 6,
    "start_time": "2021-11-22T03:00:34.061Z"
   },
   {
    "duration": 40,
    "start_time": "2021-11-22T03:00:34.071Z"
   },
   {
    "duration": 25,
    "start_time": "2021-11-22T03:00:34.115Z"
   },
   {
    "duration": 27,
    "start_time": "2021-11-22T03:00:34.143Z"
   },
   {
    "duration": 30,
    "start_time": "2021-11-22T03:00:34.173Z"
   },
   {
    "duration": 39,
    "start_time": "2021-11-22T03:00:34.206Z"
   },
   {
    "duration": 43,
    "start_time": "2021-11-22T03:00:34.249Z"
   },
   {
    "duration": 3150,
    "start_time": "2021-11-22T03:00:34.298Z"
   },
   {
    "duration": 6,
    "start_time": "2021-11-22T03:00:37.451Z"
   },
   {
    "duration": 18,
    "start_time": "2021-11-22T03:00:37.459Z"
   },
   {
    "duration": 12,
    "start_time": "2021-11-22T03:00:37.479Z"
   },
   {
    "duration": 320,
    "start_time": "2021-11-22T03:00:37.493Z"
   },
   {
    "duration": 21,
    "start_time": "2021-11-22T03:00:37.815Z"
   },
   {
    "duration": 315,
    "start_time": "2021-11-22T03:00:37.839Z"
   },
   {
    "duration": 348,
    "start_time": "2021-11-22T03:00:38.157Z"
   },
   {
    "duration": 22,
    "start_time": "2021-11-22T03:00:38.507Z"
   },
   {
    "duration": 300,
    "start_time": "2021-11-22T03:00:38.531Z"
   },
   {
    "duration": 320,
    "start_time": "2021-11-22T03:00:38.833Z"
   },
   {
    "duration": 10,
    "start_time": "2021-11-22T03:00:39.155Z"
   },
   {
    "duration": 325,
    "start_time": "2021-11-22T03:00:39.167Z"
   },
   {
    "duration": 9,
    "start_time": "2021-11-22T03:00:39.494Z"
   },
   {
    "duration": 27,
    "start_time": "2021-11-22T03:00:39.505Z"
   },
   {
    "duration": 15,
    "start_time": "2021-11-22T03:00:39.535Z"
   },
   {
    "duration": 9,
    "start_time": "2021-11-22T03:00:39.552Z"
   },
   {
    "duration": 11,
    "start_time": "2021-11-22T03:00:39.563Z"
   },
   {
    "duration": 57,
    "start_time": "2021-11-22T03:00:39.581Z"
   },
   {
    "duration": 21,
    "start_time": "2021-11-22T03:00:39.641Z"
   },
   {
    "duration": 23,
    "start_time": "2021-11-22T03:00:39.664Z"
   },
   {
    "duration": 47,
    "start_time": "2021-11-22T03:00:39.689Z"
   },
   {
    "duration": 5,
    "start_time": "2021-11-22T03:00:39.739Z"
   },
   {
    "duration": 10,
    "start_time": "2021-11-22T03:00:39.747Z"
   },
   {
    "duration": 13,
    "start_time": "2021-11-22T03:00:39.759Z"
   },
   {
    "duration": 10,
    "start_time": "2021-11-22T03:00:39.774Z"
   },
   {
    "duration": 63,
    "start_time": "2021-11-22T03:00:39.787Z"
   },
   {
    "duration": 81,
    "start_time": "2021-11-22T03:00:39.852Z"
   },
   {
    "duration": 50,
    "start_time": "2021-11-22T03:00:39.935Z"
   },
   {
    "duration": 8,
    "start_time": "2021-11-22T03:00:39.987Z"
   },
   {
    "duration": 34,
    "start_time": "2021-11-22T03:00:39.997Z"
   },
   {
    "duration": 40,
    "start_time": "2021-11-22T03:00:40.033Z"
   },
   {
    "duration": 17727,
    "start_time": "2021-11-22T03:00:40.076Z"
   },
   {
    "duration": 25,
    "start_time": "2021-11-22T03:00:57.805Z"
   },
   {
    "duration": 15,
    "start_time": "2021-11-22T03:00:57.833Z"
   },
   {
    "duration": 19,
    "start_time": "2021-11-22T03:00:57.850Z"
   },
   {
    "duration": 13,
    "start_time": "2021-11-22T03:00:57.871Z"
   },
   {
    "duration": 16,
    "start_time": "2021-11-22T03:00:57.887Z"
   },
   {
    "duration": 4,
    "start_time": "2021-11-22T03:00:57.930Z"
   },
   {
    "duration": 18,
    "start_time": "2021-11-22T03:00:57.937Z"
   },
   {
    "duration": 6538,
    "start_time": "2021-11-22T03:00:57.958Z"
   },
   {
    "duration": 7,
    "start_time": "2021-11-22T03:01:04.499Z"
   },
   {
    "duration": 43,
    "start_time": "2021-11-22T03:01:04.509Z"
   },
   {
    "duration": 6,
    "start_time": "2021-11-22T03:01:04.554Z"
   },
   {
    "duration": 9,
    "start_time": "2021-11-22T03:01:04.562Z"
   },
   {
    "duration": 5,
    "start_time": "2021-11-22T03:01:04.573Z"
   },
   {
    "duration": 54,
    "start_time": "2021-11-22T03:01:04.580Z"
   },
   {
    "duration": 6,
    "start_time": "2021-11-22T03:01:04.636Z"
   },
   {
    "duration": 33,
    "start_time": "2021-11-22T03:01:04.644Z"
   },
   {
    "duration": 12,
    "start_time": "2021-11-22T03:01:04.679Z"
   },
   {
    "duration": 38,
    "start_time": "2021-11-22T03:01:04.693Z"
   },
   {
    "duration": 8,
    "start_time": "2021-11-22T03:01:04.733Z"
   },
   {
    "duration": 24,
    "start_time": "2021-11-22T03:01:04.743Z"
   },
   {
    "duration": 25,
    "start_time": "2021-11-22T03:01:04.769Z"
   },
   {
    "duration": 21,
    "start_time": "2021-11-22T03:01:04.796Z"
   },
   {
    "duration": 24,
    "start_time": "2021-11-22T03:01:04.819Z"
   },
   {
    "duration": 14,
    "start_time": "2021-11-22T03:01:04.845Z"
   },
   {
    "duration": 22,
    "start_time": "2021-11-22T03:01:04.861Z"
   },
   {
    "duration": 13,
    "start_time": "2021-11-22T03:04:18.006Z"
   },
   {
    "duration": 16,
    "start_time": "2021-11-22T03:04:23.674Z"
   },
   {
    "duration": 11,
    "start_time": "2021-11-22T03:04:38.676Z"
   },
   {
    "duration": 12,
    "start_time": "2021-11-22T03:07:14.604Z"
   },
   {
    "duration": 299,
    "start_time": "2021-11-22T03:07:18.615Z"
   },
   {
    "duration": 36,
    "start_time": "2021-11-22T03:07:26.649Z"
   },
   {
    "duration": 17,
    "start_time": "2021-11-22T03:07:33.399Z"
   },
   {
    "duration": 24,
    "start_time": "2021-11-22T03:07:39.325Z"
   },
   {
    "duration": 405,
    "start_time": "2021-11-22T03:07:50.558Z"
   },
   {
    "duration": 16,
    "start_time": "2021-11-22T03:08:44.825Z"
   },
   {
    "duration": 666,
    "start_time": "2021-11-22T21:06:24.295Z"
   },
   {
    "duration": 3,
    "start_time": "2021-11-22T21:06:24.964Z"
   },
   {
    "duration": 19,
    "start_time": "2021-11-22T21:06:24.969Z"
   },
   {
    "duration": 11,
    "start_time": "2021-11-22T21:06:24.990Z"
   },
   {
    "duration": 9,
    "start_time": "2021-11-22T21:06:25.002Z"
   },
   {
    "duration": 31,
    "start_time": "2021-11-22T21:06:25.013Z"
   },
   {
    "duration": 10,
    "start_time": "2021-11-22T21:06:25.046Z"
   },
   {
    "duration": 23,
    "start_time": "2021-11-22T21:06:25.059Z"
   },
   {
    "duration": 1903,
    "start_time": "2021-11-22T21:06:25.084Z"
   },
   {
    "duration": 4,
    "start_time": "2021-11-22T21:06:26.988Z"
   },
   {
    "duration": 12,
    "start_time": "2021-11-22T21:06:26.994Z"
   },
   {
    "duration": 11,
    "start_time": "2021-11-22T21:06:27.008Z"
   },
   {
    "duration": 189,
    "start_time": "2021-11-22T21:06:27.021Z"
   },
   {
    "duration": 14,
    "start_time": "2021-11-22T21:06:27.211Z"
   },
   {
    "duration": 190,
    "start_time": "2021-11-22T21:06:27.226Z"
   },
   {
    "duration": 192,
    "start_time": "2021-11-22T21:06:27.418Z"
   },
   {
    "duration": 8,
    "start_time": "2021-11-22T21:06:27.612Z"
   },
   {
    "duration": 186,
    "start_time": "2021-11-22T21:06:27.621Z"
   },
   {
    "duration": 188,
    "start_time": "2021-11-22T21:06:27.809Z"
   },
   {
    "duration": 7,
    "start_time": "2021-11-22T21:06:27.999Z"
   },
   {
    "duration": 194,
    "start_time": "2021-11-22T21:06:28.008Z"
   },
   {
    "duration": 7,
    "start_time": "2021-11-22T21:06:28.204Z"
   },
   {
    "duration": 6,
    "start_time": "2021-11-22T21:06:28.217Z"
   },
   {
    "duration": 24,
    "start_time": "2021-11-22T21:06:28.225Z"
   },
   {
    "duration": 6,
    "start_time": "2021-11-22T21:06:28.251Z"
   },
   {
    "duration": 8,
    "start_time": "2021-11-22T21:06:28.258Z"
   },
   {
    "duration": 20,
    "start_time": "2021-11-22T21:06:28.268Z"
   },
   {
    "duration": 15,
    "start_time": "2021-11-22T21:06:28.290Z"
   },
   {
    "duration": 47,
    "start_time": "2021-11-22T21:06:28.306Z"
   },
   {
    "duration": 11,
    "start_time": "2021-11-22T21:06:28.354Z"
   },
   {
    "duration": 3,
    "start_time": "2021-11-22T21:06:28.366Z"
   },
   {
    "duration": 6,
    "start_time": "2021-11-22T21:06:28.371Z"
   },
   {
    "duration": 10,
    "start_time": "2021-11-22T21:06:28.379Z"
   },
   {
    "duration": 8,
    "start_time": "2021-11-22T21:06:28.390Z"
   },
   {
    "duration": 53,
    "start_time": "2021-11-22T21:06:28.400Z"
   },
   {
    "duration": 33,
    "start_time": "2021-11-22T21:06:28.455Z"
   },
   {
    "duration": 31,
    "start_time": "2021-11-22T21:06:28.490Z"
   },
   {
    "duration": 27,
    "start_time": "2021-11-22T21:06:28.523Z"
   },
   {
    "duration": 3,
    "start_time": "2021-11-22T21:06:28.552Z"
   },
   {
    "duration": 30,
    "start_time": "2021-11-22T21:06:28.557Z"
   },
   {
    "duration": 12378,
    "start_time": "2021-11-22T21:06:28.588Z"
   },
   {
    "duration": 9,
    "start_time": "2021-11-22T21:06:40.968Z"
   },
   {
    "duration": 9,
    "start_time": "2021-11-22T21:06:40.978Z"
   },
   {
    "duration": 13,
    "start_time": "2021-11-22T21:06:40.988Z"
   },
   {
    "duration": 20,
    "start_time": "2021-11-22T21:06:41.003Z"
   },
   {
    "duration": 25,
    "start_time": "2021-11-22T21:06:41.025Z"
   },
   {
    "duration": 2,
    "start_time": "2021-11-22T21:06:41.052Z"
   },
   {
    "duration": 10,
    "start_time": "2021-11-22T21:06:41.056Z"
   },
   {
    "duration": 4485,
    "start_time": "2021-11-22T21:06:41.068Z"
   },
   {
    "duration": 5,
    "start_time": "2021-11-22T21:06:45.555Z"
   },
   {
    "duration": 41,
    "start_time": "2021-11-22T21:06:45.562Z"
   },
   {
    "duration": 4,
    "start_time": "2021-11-22T21:06:45.605Z"
   },
   {
    "duration": 29,
    "start_time": "2021-11-22T21:06:45.610Z"
   },
   {
    "duration": 15,
    "start_time": "2021-11-22T21:06:45.642Z"
   },
   {
    "duration": 31,
    "start_time": "2021-11-22T21:06:45.659Z"
   },
   {
    "duration": 25,
    "start_time": "2021-11-22T21:06:45.691Z"
   },
   {
    "duration": 18,
    "start_time": "2021-11-22T21:06:45.717Z"
   },
   {
    "duration": 23,
    "start_time": "2021-11-22T21:06:45.736Z"
   },
   {
    "duration": 40,
    "start_time": "2021-11-22T21:06:45.761Z"
   },
   {
    "duration": 29,
    "start_time": "2021-11-22T21:06:45.804Z"
   },
   {
    "duration": 27,
    "start_time": "2021-11-22T21:06:45.835Z"
   },
   {
    "duration": 36,
    "start_time": "2021-11-22T21:06:45.863Z"
   },
   {
    "duration": 33,
    "start_time": "2021-11-22T21:06:45.900Z"
   },
   {
    "duration": 25,
    "start_time": "2021-11-22T21:06:45.934Z"
   },
   {
    "duration": 27,
    "start_time": "2021-11-22T21:06:45.960Z"
   },
   {
    "duration": 29,
    "start_time": "2021-11-22T21:06:45.988Z"
   },
   {
    "duration": 14,
    "start_time": "2021-11-22T21:11:24.271Z"
   },
   {
    "duration": 236,
    "start_time": "2021-11-24T15:42:27.963Z"
   },
   {
    "duration": 176,
    "start_time": "2021-11-24T15:42:35.238Z"
   },
   {
    "duration": 858,
    "start_time": "2021-11-24T15:43:15.041Z"
   },
   {
    "duration": 3,
    "start_time": "2021-11-24T15:43:18.235Z"
   },
   {
    "duration": 19,
    "start_time": "2021-11-24T15:43:20.471Z"
   },
   {
    "duration": 10,
    "start_time": "2021-11-24T15:43:22.938Z"
   },
   {
    "duration": 9,
    "start_time": "2021-11-24T15:43:35.008Z"
   },
   {
    "duration": 23,
    "start_time": "2021-11-24T15:43:35.018Z"
   },
   {
    "duration": 16,
    "start_time": "2021-11-24T15:43:35.161Z"
   },
   {
    "duration": 28,
    "start_time": "2021-11-24T15:43:35.179Z"
   },
   {
    "duration": 2031,
    "start_time": "2021-11-24T15:43:47.545Z"
   },
   {
    "duration": 1902,
    "start_time": "2021-11-24T15:44:09.575Z"
   },
   {
    "duration": 5,
    "start_time": "2021-11-24T15:44:14.217Z"
   },
   {
    "duration": 186,
    "start_time": "2021-11-24T15:44:15.901Z"
   },
   {
    "duration": 10,
    "start_time": "2021-11-24T15:44:18.809Z"
   },
   {
    "duration": 186,
    "start_time": "2021-11-24T15:44:21.147Z"
   },
   {
    "duration": 294,
    "start_time": "2021-11-24T15:44:24.072Z"
   },
   {
    "duration": 10,
    "start_time": "2021-11-24T15:44:26.777Z"
   },
   {
    "duration": 183,
    "start_time": "2021-11-24T15:44:28.587Z"
   },
   {
    "duration": 182,
    "start_time": "2021-11-24T15:44:31.030Z"
   },
   {
    "duration": 7,
    "start_time": "2021-11-24T15:44:33.643Z"
   },
   {
    "duration": 192,
    "start_time": "2021-11-24T15:44:41.525Z"
   },
   {
    "duration": 7,
    "start_time": "2021-11-24T15:44:41.719Z"
   },
   {
    "duration": 8,
    "start_time": "2021-11-24T15:44:41.728Z"
   },
   {
    "duration": 9,
    "start_time": "2021-11-24T15:44:44.245Z"
   },
   {
    "duration": 6,
    "start_time": "2021-11-24T15:44:46.072Z"
   },
   {
    "duration": 8,
    "start_time": "2021-11-24T15:44:48.444Z"
   },
   {
    "duration": 19,
    "start_time": "2021-11-24T15:44:50.619Z"
   },
   {
    "duration": 16,
    "start_time": "2021-11-24T15:44:53.238Z"
   },
   {
    "duration": 15,
    "start_time": "2021-11-24T15:44:54.995Z"
   },
   {
    "duration": 10,
    "start_time": "2021-11-24T15:44:57.388Z"
   },
   {
    "duration": 4,
    "start_time": "2021-11-24T15:45:00.239Z"
   },
   {
    "duration": 4,
    "start_time": "2021-11-24T15:45:02.388Z"
   },
   {
    "duration": 8,
    "start_time": "2021-11-24T15:45:04.202Z"
   },
   {
    "duration": 11,
    "start_time": "2021-11-24T15:45:05.932Z"
   },
   {
    "duration": 14,
    "start_time": "2021-11-24T15:45:09.056Z"
   },
   {
    "duration": 33,
    "start_time": "2021-11-24T15:45:12.591Z"
   },
   {
    "duration": 32,
    "start_time": "2021-11-24T15:47:45.524Z"
   },
   {
    "duration": 5620,
    "start_time": "2021-11-24T15:47:57.349Z"
   },
   {
    "duration": 4602,
    "start_time": "2021-11-24T15:48:15.058Z"
   },
   {
    "duration": 4869,
    "start_time": "2021-11-24T15:49:10.568Z"
   },
   {
    "duration": 73,
    "start_time": "2021-11-24T15:50:04.960Z"
   },
   {
    "duration": 42,
    "start_time": "2021-11-24T15:50:13.335Z"
   },
   {
    "duration": 54,
    "start_time": "2021-11-24T15:55:15.548Z"
   },
   {
    "duration": 44,
    "start_time": "2021-11-24T16:00:30.286Z"
   },
   {
    "duration": 126,
    "start_time": "2021-11-24T16:06:39.973Z"
   },
   {
    "duration": 139,
    "start_time": "2021-11-24T16:06:56.959Z"
   },
   {
    "duration": 121,
    "start_time": "2021-11-24T16:07:20.785Z"
   },
   {
    "duration": 883,
    "start_time": "2021-11-24T16:16:25.957Z"
   },
   {
    "duration": 340,
    "start_time": "2021-11-24T16:16:36.484Z"
   },
   {
    "duration": 303,
    "start_time": "2021-11-25T15:25:34.828Z"
   },
   {
    "duration": 127,
    "start_time": "2021-11-25T15:25:49.154Z"
   },
   {
    "duration": 845,
    "start_time": "2021-11-25T18:26:05.389Z"
   },
   {
    "duration": 5,
    "start_time": "2021-11-25T18:26:08.309Z"
   },
   {
    "duration": 30,
    "start_time": "2021-11-25T18:26:11.160Z"
   },
   {
    "duration": 17,
    "start_time": "2021-11-25T18:26:15.708Z"
   },
   {
    "duration": 13,
    "start_time": "2021-11-25T18:26:18.253Z"
   },
   {
    "duration": 12,
    "start_time": "2021-11-25T18:26:21.478Z"
   },
   {
    "duration": 19,
    "start_time": "2021-11-25T18:27:14.935Z"
   },
   {
    "duration": 39,
    "start_time": "2021-11-25T18:27:17.038Z"
   },
   {
    "duration": 3265,
    "start_time": "2021-11-25T18:27:19.818Z"
   },
   {
    "duration": 6,
    "start_time": "2021-11-25T18:27:31.960Z"
   },
   {
    "duration": 15,
    "start_time": "2021-11-25T18:27:33.684Z"
   },
   {
    "duration": 6,
    "start_time": "2021-11-25T18:27:36.177Z"
   },
   {
    "duration": 292,
    "start_time": "2021-11-25T18:27:38.414Z"
   },
   {
    "duration": 21,
    "start_time": "2021-11-25T18:27:42.426Z"
   },
   {
    "duration": 322,
    "start_time": "2021-11-25T18:27:52.006Z"
   },
   {
    "duration": 299,
    "start_time": "2021-11-25T18:27:56.611Z"
   },
   {
    "duration": 3304,
    "start_time": "2021-11-25T18:28:18.769Z"
   },
   {
    "duration": 3870,
    "start_time": "2021-11-25T18:28:33.628Z"
   },
   {
    "duration": 3333,
    "start_time": "2021-11-25T18:28:49.689Z"
   },
   {
    "duration": 503,
    "start_time": "2021-11-25T18:29:09.413Z"
   },
   {
    "duration": 13,
    "start_time": "2021-11-25T18:29:27.083Z"
   },
   {
    "duration": 313,
    "start_time": "2021-11-25T18:29:30.802Z"
   },
   {
    "duration": 305,
    "start_time": "2021-11-25T18:29:35.204Z"
   },
   {
    "duration": 12,
    "start_time": "2021-11-25T18:29:42.818Z"
   },
   {
    "duration": 494,
    "start_time": "2021-11-25T18:29:47.123Z"
   },
   {
    "duration": 13,
    "start_time": "2021-11-25T18:29:51.076Z"
   },
   {
    "duration": 12,
    "start_time": "2021-11-25T18:29:53.651Z"
   },
   {
    "duration": 14,
    "start_time": "2021-11-25T18:29:56.389Z"
   },
   {
    "duration": 9,
    "start_time": "2021-11-25T18:29:58.752Z"
   },
   {
    "duration": 11,
    "start_time": "2021-11-25T18:30:00.283Z"
   },
   {
    "duration": 29,
    "start_time": "2021-11-25T18:30:04.139Z"
   },
   {
    "duration": 35,
    "start_time": "2021-11-25T18:30:06.841Z"
   },
   {
    "duration": 32,
    "start_time": "2021-11-25T18:30:08.673Z"
   },
   {
    "duration": 23,
    "start_time": "2021-11-25T18:30:10.216Z"
   },
   {
    "duration": 19,
    "start_time": "2021-11-25T18:31:22.957Z"
   },
   {
    "duration": 431,
    "start_time": "2021-11-25T18:31:25.916Z"
   },
   {
    "duration": 5,
    "start_time": "2021-11-25T18:31:38.083Z"
   },
   {
    "duration": 14,
    "start_time": "2021-11-25T18:31:41.150Z"
   },
   {
    "duration": 479,
    "start_time": "2021-11-25T18:31:45.079Z"
   },
   {
    "duration": 5,
    "start_time": "2021-11-25T18:31:59.040Z"
   },
   {
    "duration": 5,
    "start_time": "2021-11-25T18:32:00.119Z"
   },
   {
    "duration": 13,
    "start_time": "2021-11-25T18:32:09.420Z"
   },
   {
    "duration": 15,
    "start_time": "2021-11-25T18:32:09.436Z"
   },
   {
    "duration": 21,
    "start_time": "2021-11-25T18:32:10.677Z"
   },
   {
    "duration": 55,
    "start_time": "2021-11-25T18:32:14.775Z"
   },
   {
    "duration": 53,
    "start_time": "2021-11-25T18:32:17.457Z"
   },
   {
    "duration": 9,
    "start_time": "2021-11-25T18:32:21.686Z"
   },
   {
    "duration": 5,
    "start_time": "2021-11-25T18:32:24.029Z"
   },
   {
    "duration": 39,
    "start_time": "2021-11-25T18:32:25.773Z"
   },
   {
    "duration": 4,
    "start_time": "2021-11-25T18:32:27.971Z"
   },
   {
    "duration": 19392,
    "start_time": "2021-11-25T18:32:29.780Z"
   },
   {
    "duration": 14,
    "start_time": "2021-11-25T18:33:08.799Z"
   },
   {
    "duration": 6,
    "start_time": "2021-11-25T18:33:11.428Z"
   },
   {
    "duration": 11,
    "start_time": "2021-11-25T18:33:13.605Z"
   },
   {
    "duration": 14,
    "start_time": "2021-11-25T18:33:16.175Z"
   },
   {
    "duration": 13,
    "start_time": "2021-11-25T18:33:18.607Z"
   },
   {
    "duration": 4,
    "start_time": "2021-11-25T18:33:27.248Z"
   },
   {
    "duration": 12,
    "start_time": "2021-11-25T18:33:28.976Z"
   },
   {
    "duration": 6808,
    "start_time": "2021-11-25T18:33:30.631Z"
   },
   {
    "duration": 9,
    "start_time": "2021-11-25T18:33:42.463Z"
   },
   {
    "duration": 33,
    "start_time": "2021-11-25T18:33:44.849Z"
   },
   {
    "duration": 7,
    "start_time": "2021-11-25T18:33:47.911Z"
   },
   {
    "duration": 6,
    "start_time": "2021-11-25T18:33:50.616Z"
   },
   {
    "duration": 5,
    "start_time": "2021-11-25T18:33:59.319Z"
   },
   {
    "duration": 20,
    "start_time": "2021-11-25T18:33:59.480Z"
   },
   {
    "duration": 9,
    "start_time": "2021-11-25T18:33:59.502Z"
   },
   {
    "duration": 12,
    "start_time": "2021-11-25T18:34:00.069Z"
   },
   {
    "duration": 11,
    "start_time": "2021-11-25T18:34:02.482Z"
   },
   {
    "duration": 5,
    "start_time": "2021-11-25T18:34:04.424Z"
   },
   {
    "duration": 27,
    "start_time": "2021-11-25T18:34:06.976Z"
   },
   {
    "duration": 9,
    "start_time": "2021-11-25T18:34:09.360Z"
   },
   {
    "duration": 4,
    "start_time": "2021-11-25T18:34:11.584Z"
   },
   {
    "duration": 19,
    "start_time": "2021-11-25T18:34:13.239Z"
   },
   {
    "duration": 21,
    "start_time": "2021-11-25T18:34:15.817Z"
   },
   {
    "duration": 19,
    "start_time": "2021-11-25T18:34:19.736Z"
   },
   {
    "duration": 18,
    "start_time": "2021-11-25T18:34:22.992Z"
   },
   {
    "duration": 17,
    "start_time": "2021-11-25T18:34:25.583Z"
   },
   {
    "duration": 298,
    "start_time": "2021-11-25T19:06:43.112Z"
   },
   {
    "duration": 284,
    "start_time": "2021-11-25T19:06:56.784Z"
   },
   {
    "duration": 293,
    "start_time": "2021-11-25T19:07:15.539Z"
   },
   {
    "duration": 481,
    "start_time": "2021-11-25T19:07:53.434Z"
   },
   {
    "duration": 93,
    "start_time": "2021-11-25T19:08:20.046Z"
   },
   {
    "duration": 288,
    "start_time": "2021-11-25T19:09:09.697Z"
   },
   {
    "duration": 301,
    "start_time": "2021-11-25T19:09:43.212Z"
   },
   {
    "duration": 1235,
    "start_time": "2021-11-27T08:38:14.989Z"
   },
   {
    "duration": 6,
    "start_time": "2021-11-27T08:38:16.228Z"
   },
   {
    "duration": 37,
    "start_time": "2021-11-27T08:38:16.238Z"
   },
   {
    "duration": 16,
    "start_time": "2021-11-27T08:38:16.278Z"
   },
   {
    "duration": 11,
    "start_time": "2021-11-27T08:38:16.298Z"
   },
   {
    "duration": 13,
    "start_time": "2021-11-27T08:38:16.312Z"
   },
   {
    "duration": 54,
    "start_time": "2021-11-27T08:38:16.328Z"
   },
   {
    "duration": 36,
    "start_time": "2021-11-27T08:38:16.386Z"
   },
   {
    "duration": 3564,
    "start_time": "2021-11-27T08:38:16.426Z"
   },
   {
    "duration": 8,
    "start_time": "2021-11-27T08:38:19.993Z"
   },
   {
    "duration": 31,
    "start_time": "2021-11-27T08:38:20.003Z"
   },
   {
    "duration": 19,
    "start_time": "2021-11-27T08:38:20.037Z"
   },
   {
    "duration": 335,
    "start_time": "2021-11-27T08:38:20.069Z"
   },
   {
    "duration": 16,
    "start_time": "2021-11-27T08:38:20.407Z"
   },
   {
    "duration": 320,
    "start_time": "2021-11-27T08:38:20.426Z"
   },
   {
    "duration": 334,
    "start_time": "2021-11-27T08:38:20.749Z"
   },
   {
    "duration": 13,
    "start_time": "2021-11-27T08:38:21.086Z"
   },
   {
    "duration": 326,
    "start_time": "2021-11-27T08:38:21.101Z"
   },
   {
    "duration": 326,
    "start_time": "2021-11-27T08:38:21.429Z"
   },
   {
    "duration": 12,
    "start_time": "2021-11-27T08:38:21.766Z"
   },
   {
    "duration": 336,
    "start_time": "2021-11-27T08:38:21.781Z"
   },
   {
    "duration": 9,
    "start_time": "2021-11-27T08:38:22.119Z"
   },
   {
    "duration": 10,
    "start_time": "2021-11-27T08:38:22.134Z"
   },
   {
    "duration": 11,
    "start_time": "2021-11-27T08:38:22.169Z"
   },
   {
    "duration": 17,
    "start_time": "2021-11-27T08:38:22.182Z"
   },
   {
    "duration": 15,
    "start_time": "2021-11-27T08:38:22.202Z"
   },
   {
    "duration": 52,
    "start_time": "2021-11-27T08:38:22.219Z"
   },
   {
    "duration": 23,
    "start_time": "2021-11-27T08:38:22.273Z"
   },
   {
    "duration": 23,
    "start_time": "2021-11-27T08:38:22.298Z"
   },
   {
    "duration": 44,
    "start_time": "2021-11-27T08:38:22.323Z"
   },
   {
    "duration": 4,
    "start_time": "2021-11-27T08:38:22.370Z"
   },
   {
    "duration": 14,
    "start_time": "2021-11-27T08:38:22.376Z"
   },
   {
    "duration": 18,
    "start_time": "2021-11-27T08:38:22.392Z"
   },
   {
    "duration": 14,
    "start_time": "2021-11-27T08:38:22.412Z"
   },
   {
    "duration": 43,
    "start_time": "2021-11-27T08:38:22.429Z"
   },
   {
    "duration": 3,
    "start_time": "2021-11-27T08:38:22.474Z"
   },
   {
    "duration": 53,
    "start_time": "2021-11-27T08:38:22.479Z"
   },
   {
    "duration": 78,
    "start_time": "2021-11-27T08:38:22.534Z"
   },
   {
    "duration": 3,
    "start_time": "2021-11-27T08:38:22.615Z"
   },
   {
    "duration": 13,
    "start_time": "2021-11-27T08:38:22.620Z"
   },
   {
    "duration": 34,
    "start_time": "2021-11-27T08:38:22.635Z"
   },
   {
    "duration": 42,
    "start_time": "2021-11-27T08:38:22.672Z"
   },
   {
    "duration": 3,
    "start_time": "2021-11-27T08:38:22.716Z"
   },
   {
    "duration": 18597,
    "start_time": "2021-11-27T08:38:22.721Z"
   },
   {
    "duration": 14,
    "start_time": "2021-11-27T08:38:41.320Z"
   },
   {
    "duration": 31,
    "start_time": "2021-11-27T08:38:41.336Z"
   },
   {
    "duration": 11,
    "start_time": "2021-11-27T08:38:41.369Z"
   },
   {
    "duration": 13,
    "start_time": "2021-11-27T08:38:41.383Z"
   },
   {
    "duration": 11,
    "start_time": "2021-11-27T08:38:41.399Z"
   },
   {
    "duration": 4,
    "start_time": "2021-11-27T08:38:41.412Z"
   },
   {
    "duration": 53,
    "start_time": "2021-11-27T08:38:41.419Z"
   },
   {
    "duration": 6617,
    "start_time": "2021-11-27T08:38:41.475Z"
   },
   {
    "duration": 8,
    "start_time": "2021-11-27T08:38:48.094Z"
   },
   {
    "duration": 38,
    "start_time": "2021-11-27T08:38:48.105Z"
   },
   {
    "duration": 24,
    "start_time": "2021-11-27T08:38:48.145Z"
   },
   {
    "duration": 11,
    "start_time": "2021-11-27T08:38:48.172Z"
   },
   {
    "duration": 5,
    "start_time": "2021-11-27T08:38:48.186Z"
   },
   {
    "duration": 27,
    "start_time": "2021-11-27T08:38:48.193Z"
   },
   {
    "duration": 12,
    "start_time": "2021-11-27T08:38:48.222Z"
   },
   {
    "duration": 40,
    "start_time": "2021-11-27T08:38:48.237Z"
   },
   {
    "duration": 4,
    "start_time": "2021-11-27T08:38:48.280Z"
   },
   {
    "duration": 38,
    "start_time": "2021-11-27T08:38:48.287Z"
   },
   {
    "duration": 40,
    "start_time": "2021-11-27T08:38:48.328Z"
   },
   {
    "duration": 6,
    "start_time": "2021-11-27T08:38:48.371Z"
   },
   {
    "duration": 23,
    "start_time": "2021-11-27T08:38:48.380Z"
   },
   {
    "duration": 23,
    "start_time": "2021-11-27T08:38:48.406Z"
   },
   {
    "duration": 56,
    "start_time": "2021-11-27T08:38:48.432Z"
   },
   {
    "duration": 16,
    "start_time": "2021-11-27T08:38:48.495Z"
   },
   {
    "duration": 16,
    "start_time": "2021-11-27T08:38:48.513Z"
   },
   {
    "duration": 481,
    "start_time": "2021-11-27T08:38:48.531Z"
   },
   {
    "duration": 385,
    "start_time": "2021-11-27T08:40:23.147Z"
   },
   {
    "duration": 4,
    "start_time": "2021-11-27T08:42:58.107Z"
   },
   {
    "duration": 344,
    "start_time": "2021-11-27T08:42:59.251Z"
   },
   {
    "duration": 366,
    "start_time": "2021-11-27T08:43:08.467Z"
   },
   {
    "duration": 4,
    "start_time": "2021-11-27T08:43:23.387Z"
   },
   {
    "duration": 411,
    "start_time": "2021-11-27T08:43:24.679Z"
   },
   {
    "duration": 3,
    "start_time": "2021-11-27T08:44:01.155Z"
   },
   {
    "duration": 5,
    "start_time": "2021-11-27T08:44:06.418Z"
   },
   {
    "duration": 453,
    "start_time": "2021-11-27T08:44:13.486Z"
   }
  ],
  "kernelspec": {
   "display_name": "Python 3 (ipykernel)",
   "language": "python",
   "name": "python3"
  },
  "language_info": {
   "codemirror_mode": {
    "name": "ipython",
    "version": 3
   },
   "file_extension": ".py",
   "mimetype": "text/x-python",
   "name": "python",
   "nbconvert_exporter": "python",
   "pygments_lexer": "ipython3",
   "version": "3.9.7"
  },
  "toc": {
   "base_numbering": 1,
   "nav_menu": {},
   "number_sections": true,
   "sideBar": true,
   "skip_h1_title": true,
   "title_cell": "Table of Contents",
   "title_sidebar": "Contents",
   "toc_cell": false,
   "toc_position": {},
   "toc_section_display": true,
   "toc_window_display": false
  }
 },
 "nbformat": 4,
 "nbformat_minor": 2
}
