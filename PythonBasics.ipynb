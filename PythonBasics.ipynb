{
 "cells": [
  {
   "cell_type": "markdown",
   "metadata": {},
   "source": [
    "Hello, my name is Ivan Alexeev and I am going to review your project.\n",
    "\n",
    "\n",
    "There may be some shortcomings in the work that I will ask you to eliminate, you fix them and I check your decisions. You can find my comments in <font color='green'>green</font>, <font color='orange'>orange</font> or <font color='red'>red</font> boxes like this:\n",
    "\n",
    "\n",
    "<div class=\"alert alert-success\" style=\"box-shadow: 4px 4px 4px\">\n",
    "Success: if everything is done successfully\n",
    "</div>\n",
    "\n",
    "\n",
    "<div class=\"alert alert-warning\" style=\"box-shadow: 4px 4px 4px\">\n",
    "Remark: if I can give some recommendations or additional information\n",
    "</div>\n",
    "\n",
    "\n",
    "<div class=\"alert alert-danger\" style=\"box-shadow: 4px 4px 4px\">\n",
    "Need fixing: if the block requires some corrections. Work can't be accepted with the red comments\n",
    "</div>\n",
    "\n",
    "\n",
    "Thank you for taking time to complete this project, I appreciate the amount of work you've done! There are some issues that you need to work on, but overall it is a great start! \n",
    "\n",
    "\n",
    "Please, don't delete my comments) "
   ]
  },
  {
   "cell_type": "markdown",
   "metadata": {},
   "source": [
    "# General feedback\n",
    "First of all, your project is accepted! You've done an amazing job! I want to highlight your use of the pandas library separately. It is at the highest level! Also, the notebook design is very professional!\n",
    "\n",
    "\n",
    "Good luck in future learning! "
   ]
  },
  {
   "cell_type": "markdown",
   "metadata": {
    "id": "E0vqbgi9ay0H"
   },
   "source": [
    "# Yandex.Music"
   ]
  },
  {
   "cell_type": "markdown",
   "metadata": {
    "id": "fhq_eyov_Zcs"
   },
   "source": [
    "# Contents <a id='back'></a>\n",
    "\n",
    "* [Introduction](#intro)\n",
    "* [Stage 1. Data overview](#data_review)\n",
    "    * [Conclusions](#data_review_conclusions)\n",
    "* [Stage 2. Data preprocessing](#data_preprocessing)\n",
    "    * [2.1 Header style](#header_style)\n",
    "    * [2.2 Missing values](#missing_values)\n",
    "    * [2.3 Duplicates](#duplicates)\n",
    "    * [2.4 Conclusions](#data_preprocessing_conclusions)\n",
    "* [Stage 3. Testing the hypotheses](#hypotheses)\n",
    "    * [3.1 Hypothesis 1: user activity in the two cities](#activity)\n",
    "    * [3.2 Hypothesis 2: music preferences on Monday and Friday](#week)\n",
    "    * [3.3 Hypothesis 3: genre preferences in Springfield and Shelbyville](#genre)\n",
    "* [Findings](#end)"
   ]
  },
  {
   "cell_type": "markdown",
   "metadata": {
    "id": "VUC88oWjTJw2"
   },
   "source": [
    "## Introduction <a id='intro'></a>\n",
    "Whenever we're doing research, we need to formulate hypotheses that we can then test. Sometimes we accept these hypotheses; other times, we reject them. To make the right decisions, a business must be able to understand whether or not it's making the right assumptions.\n",
    "\n",
    "In this project, you'll compare the music preferences of the cities of Springfield and Shelbyville. You'll study real Yandex.Music data to test the hypotheses below and compare user behavior for these two cities.\n",
    "\n",
    "### Goal: \n",
    "Test three hypotheses:\n",
    "1. User activity differs depending on the day of the week and from city to city. \n",
    "2. On Monday mornings, Springfield and Shelbyville residents listen to different genres. This is also true for Friday evenings. \n",
    "3. Springfield and Shelbyville listeners have different preferences. In Springfield, they prefer pop, while Shelbyville has more rap fans.\n",
    "\n",
    "### Stages \n",
    "Data on user behavior is stored in the file `/datasets/music_project_en.csv`. There is no information about the quality of the data, so you will need to explore it before testing the hypotheses. \n",
    "\n",
    "First, you'll evaluate the quality of the data and see whether its issues are significant. Then, during data preprocessing, you will try to account for the most critical problems.\n",
    " \n",
    "Your project will consist of three stages:\n",
    " 1. Data overview\n",
    " 2. Data preprocessing\n",
    " 3. Testing the hypotheses\n",
    " \n",
    "[Back to Contents](#back)"
   ]
  },
  {
   "cell_type": "markdown",
   "metadata": {},
   "source": [
    "<div class=\"alert alert-success\" style=\"box-shadow: 4px 4px 4px\">\n",
    "Success: it is great that introduction was added! It is one of the most important parts of the project. \n",
    "</div>"
   ]
  },
  {
   "cell_type": "markdown",
   "metadata": {
    "id": "Ml1hmfXC_Zcs"
   },
   "source": [
    "## Stage 1. Data overview <a id='data_review'></a>\n",
    "\n",
    "Open the data on Yandex.Music and explore it."
   ]
  },
  {
   "cell_type": "markdown",
   "metadata": {
    "id": "57eAOGIz_Zcs"
   },
   "source": [
    "You'll need `pandas`, so import it."
   ]
  },
  {
   "cell_type": "code",
   "execution_count": 1,
   "metadata": {
    "id": "AXN7PHPN_Zcs"
   },
   "outputs": [],
   "source": [
    "import pandas"
   ]
  },
  {
   "cell_type": "markdown",
   "metadata": {
    "id": "SG23P8tt_Zcs"
   },
   "source": [
    "Read the file `music_project_en.csv` from the `/datasets/` folder and save it in the `df` variable:"
   ]
  },
  {
   "cell_type": "code",
   "execution_count": 2,
   "metadata": {
    "id": "fFVu7vqh_Zct"
   },
   "outputs": [],
   "source": [
    "df = pandas.read_csv('/datasets/music_project_en.csv')"
   ]
  },
  {
   "cell_type": "markdown",
   "metadata": {
    "id": "rDoOMd3uTqnZ"
   },
   "source": [
    "Print the first 10 table rows:"
   ]
  },
  {
   "cell_type": "code",
   "execution_count": 3,
   "metadata": {
    "id": "oWTVX3gW_Zct"
   },
   "outputs": [
    {
     "name": "stdout",
     "output_type": "stream",
     "text": [
      "     userID                        Track            artist   genre  \\\n",
      "0  FFB692EC            Kamigata To Boots  The Mass Missile    rock   \n",
      "1  55204538  Delayed Because of Accident  Andreas Rönnberg    rock   \n",
      "2    20EC38            Funiculì funiculà       Mario Lanza     pop   \n",
      "3  A3DD03C9        Dragons in the Sunset        Fire + Ice    folk   \n",
      "4  E2DC1FAE                  Soul People        Space Echo   dance   \n",
      "5  842029A1                       Chains          Obladaet  rusrap   \n",
      "6  4CB90AA5                         True      Roman Messer   dance   \n",
      "7  F03E1C1F             Feeling This Way   Polina Griffith   dance   \n",
      "8  8FA1D3BE                     L’estate       Julia Dalia  ruspop   \n",
      "9  E772D5C0                    Pessimist               NaN   dance   \n",
      "\n",
      "        City        time        Day  \n",
      "0  Shelbyville  20:28:33  Wednesday  \n",
      "1  Springfield  14:07:09     Friday  \n",
      "2  Shelbyville  20:58:07  Wednesday  \n",
      "3  Shelbyville  08:37:09     Monday  \n",
      "4  Springfield  08:34:34     Monday  \n",
      "5  Shelbyville  13:09:41     Friday  \n",
      "6  Springfield  13:00:07  Wednesday  \n",
      "7  Springfield  20:47:49  Wednesday  \n",
      "8  Springfield  09:17:40     Friday  \n",
      "9  Shelbyville  21:20:49  Wednesday  \n"
     ]
    }
   ],
   "source": [
    "# obtaining the first 10 rows from the df table\n",
    "result = df.head(10)\n",
    "print(result)"
   ]
  },
  {
   "cell_type": "markdown",
   "metadata": {},
   "source": [
    "<div class=\"alert alert-success\" style=\"box-shadow: 4px 4px 4px\">\n",
    "    Remark: It is possible to write just <code> df.head()</code>\n",
    "</div>"
   ]
  },
  {
   "cell_type": "markdown",
   "metadata": {
    "id": "EO73Kwic_Zct"
   },
   "source": [
    "Obtaining the general information about the table with one command:"
   ]
  },
  {
   "cell_type": "code",
   "execution_count": 4,
   "metadata": {
    "id": "DSf2kIb-_Zct"
   },
   "outputs": [
    {
     "name": "stdout",
     "output_type": "stream",
     "text": [
      "<class 'pandas.core.frame.DataFrame'>\n",
      "RangeIndex: 65079 entries, 0 to 65078\n",
      "Data columns (total 7 columns):\n",
      "  userID    65079 non-null object\n",
      "Track       63736 non-null object\n",
      "artist      57512 non-null object\n",
      "genre       63881 non-null object\n",
      "  City      65079 non-null object\n",
      "time        65079 non-null object\n",
      "Day         65079 non-null object\n",
      "dtypes: object(7)\n",
      "memory usage: 3.5+ MB\n"
     ]
    }
   ],
   "source": [
    "# obtaining general information about the data in df\n",
    "df.info()"
   ]
  },
  {
   "cell_type": "markdown",
   "metadata": {
    "id": "TaQ2Iwbr_Zct"
   },
   "source": [
    "The table contains seven columns. They all store the same data type: `object`.\n",
    "\n",
    "According to the documentation:\n",
    "- `'userID'` — user identifier\n",
    "- `'Track'` — track title\n",
    "- `'artist'` — artist's name\n",
    "- `'genre'`\n",
    "- `'City'` — user's city\n",
    "- `'time'` — the exact time the track was played\n",
    "- `'Day'` — day of the week\n",
    "\n",
    "We can see three issues with style in the column names:\n",
    "1. Some names are uppercase, some are lowercase.\n",
    "2. There are spaces in some names.\n",
    "3. `Detect the third issue yourself and describe it here`.\n",
    "\n",
    "The number of column values is different. This means the data contains missing values. Additionally, userID is two words so it should follow the snake_case style and be user_id.\n"
   ]
  },
  {
   "cell_type": "markdown",
   "metadata": {
    "id": "MCB6-dXG_Zct"
   },
   "source": [
    "### Conclusions <a id='data_review_conclusions'></a> \n",
    "\n",
    "Each row in the table stores data on a track that was played. Some columns describe the track itself: its title, artist and genre. The rest convey information about the user: the city they come from, the time they played the track. \n",
    "\n",
    "It's clear that the data is sufficient to test the hypotheses. However, there are missing values.\n",
    "\n",
    "To move forward, we need to preprocess the data."
   ]
  },
  {
   "cell_type": "markdown",
   "metadata": {
    "id": "3eL__vcwViOi"
   },
   "source": [
    "[Back to Contents](#back)"
   ]
  },
  {
   "cell_type": "markdown",
   "metadata": {
    "id": "SjYF6Ub9_Zct"
   },
   "source": [
    "## Stage 2. Data preprocessing <a id='data_preprocessing'></a>\n",
    "Correct the formatting in the column headers and deal with the missing values. Then, check whether there are duplicates in the data."
   ]
  },
  {
   "cell_type": "markdown",
   "metadata": {
    "id": "dIaKXr29_Zct"
   },
   "source": [
    "### Header style <a id='header_style'></a>\n",
    "Print the column header:"
   ]
  },
  {
   "cell_type": "code",
   "execution_count": 5,
   "metadata": {
    "id": "oKOTdF_Q_Zct"
   },
   "outputs": [
    {
     "name": "stdout",
     "output_type": "stream",
     "text": [
      "['  userID', 'Track', 'artist', 'genre', '  City  ', 'time', 'Day']\n"
     ]
    }
   ],
   "source": [
    "# the list of column names in the df table\n",
    "column_names = list(df.columns)\n",
    "print(column_names)"
   ]
  },
  {
   "cell_type": "markdown",
   "metadata": {
    "id": "zj5534cv_Zct"
   },
   "source": [
    "Change column names according to the rules of good style:\n",
    "* If the name has several words, use snake_case\n",
    "* All characters must be lowercase\n",
    "* Delete spaces"
   ]
  },
  {
   "cell_type": "code",
   "execution_count": 6,
   "metadata": {
    "id": "ISlFqs5y_Zct"
   },
   "outputs": [],
   "source": [
    "# renaming columns\n",
    "df = df.rename(columns = {'  userID':'user_id', 'Track':'track', '  City  ':'city', 'Day':'day'})"
   ]
  },
  {
   "cell_type": "markdown",
   "metadata": {
    "id": "1dqbh00J_Zct"
   },
   "source": [
    "Check the result. Print the names of the columns once more:"
   ]
  },
  {
   "cell_type": "code",
   "execution_count": 7,
   "metadata": {
    "id": "d4NOAmTW_Zct"
   },
   "outputs": [
    {
     "name": "stdout",
     "output_type": "stream",
     "text": [
      "['user_id', 'track', 'artist', 'genre', 'city', 'time', 'day']\n"
     ]
    }
   ],
   "source": [
    "# checking result: the list of column names\n",
    "column_names = list(df.columns)\n",
    "print(column_names)"
   ]
  },
  {
   "cell_type": "markdown",
   "metadata": {},
   "source": [
    "<div class=\"alert alert-success\" style=\"box-shadow: 4px 4px 4px\">\n",
    "Success: Perfect!\n",
    "</div>"
   ]
  },
  {
   "cell_type": "markdown",
   "metadata": {
    "id": "xYJk6ksJVpOl"
   },
   "source": [
    "[Back to Contents](#back)"
   ]
  },
  {
   "cell_type": "markdown",
   "metadata": {
    "id": "5ISfbcfY_Zct"
   },
   "source": [
    "### Missing values <a id='missing_values'></a>\n",
    "First, find the number of missing values in the table. To do so, use two `pandas` methods:"
   ]
  },
  {
   "cell_type": "code",
   "execution_count": 8,
   "metadata": {
    "id": "RskX29qr_Zct"
   },
   "outputs": [
    {
     "name": "stdout",
     "output_type": "stream",
     "text": [
      "user_id       0\n",
      "track      1343\n",
      "artist     7567\n",
      "genre      1198\n",
      "city          0\n",
      "time          0\n",
      "day           0\n",
      "dtype: int64\n",
      "user_id       0\n",
      "track      1343\n",
      "artist     7567\n",
      "genre      1198\n",
      "city          0\n",
      "time          0\n",
      "day           0\n",
      "dtype: int64\n"
     ]
    }
   ],
   "source": [
    "# calculating missing values\n",
    "# First method using isna()\n",
    "missing_count_sum=df.isna().sum()\n",
    "\n",
    "# Second method using index\n",
    "missing_count_index=len(df.index)-df.count()\n",
    "\n",
    "print(missing_count_sum)\n",
    "print(missing_count_index)"
   ]
  },
  {
   "cell_type": "markdown",
   "metadata": {},
   "source": [
    "<div class=\"alert alert-warning\" style=\"box-shadow: 4px 4px 4px\">\n",
    "    Remark: You can also use <code>df.isnull().sum()</code> \n",
    "</div>"
   ]
  },
  {
   "cell_type": "markdown",
   "metadata": {
    "id": "qubhgnlO_Zct"
   },
   "source": [
    "Not all missing values affect the research. For instance, the missing values in `track` and `artist` are not critical. You can simply replace them with clear markers.\n",
    "\n",
    "But missing values in `'genre'` can affect the comparison of music preferences in Springfield and Shelbyville. In real life, it would be useful to learn the reasons why the data is missing and try to make up for them. But we do not have that opportunity in this project. So you will have to:\n",
    "* Fill in these missing values with markers\n",
    "* Evaluate how much the missing values may affect your computations"
   ]
  },
  {
   "cell_type": "markdown",
   "metadata": {
    "id": "fSv2laPA_Zct"
   },
   "source": [
    "Replace the missing values in `'track'`, `'artist'`, and `'genre'` with the string `'unknown'`. To do this, create the `columns_to_replace` list, loop over it with `for`, and replace the missing values in each of the columns:"
   ]
  },
  {
   "cell_type": "code",
   "execution_count": 9,
   "metadata": {
    "id": "KplB5qWs_Zct"
   },
   "outputs": [],
   "source": [
    "# looping over column names and replacing missing values with 'unknown'\n",
    "columns_to_replace = ['track', 'artist', 'genre']\n",
    "\n",
    "for col in columns_to_replace:\n",
    "    df[col] = df[col].fillna('unknown')"
   ]
  },
  {
   "cell_type": "markdown",
   "metadata": {
    "id": "Ilsm-MZo_Zct"
   },
   "source": [
    "Make sure the table contains no more missing values. Count the missing values again."
   ]
  },
  {
   "cell_type": "code",
   "execution_count": 10,
   "metadata": {
    "id": "Tq4nYRX4_Zct"
   },
   "outputs": [
    {
     "name": "stdout",
     "output_type": "stream",
     "text": [
      "user_id    0\n",
      "track      0\n",
      "artist     0\n",
      "genre      0\n",
      "city       0\n",
      "time       0\n",
      "day        0\n",
      "dtype: int64\n"
     ]
    }
   ],
   "source": [
    "# counting missing values\n",
    "missing_count_sum=df.isna().sum()\n",
    "print(missing_count_sum)"
   ]
  },
  {
   "cell_type": "markdown",
   "metadata": {},
   "source": [
    "<div class=\"alert alert-success\" style=\"box-shadow: 4px 4px 4px\">\n",
    "Success: Excellent!\n",
    "</div>"
   ]
  },
  {
   "cell_type": "markdown",
   "metadata": {
    "id": "74ZIBmq9VrsK"
   },
   "source": [
    "[Back to Contents](#back)"
   ]
  },
  {
   "cell_type": "markdown",
   "metadata": {
    "id": "BWKRtBJ3_Zct"
   },
   "source": [
    "### Duplicates <a id='duplicates'></a>\n",
    "Find the number of obvious duplicates in the table using one command:"
   ]
  },
  {
   "cell_type": "code",
   "execution_count": 11,
   "metadata": {
    "id": "36eES_S0_Zct"
   },
   "outputs": [
    {
     "name": "stdout",
     "output_type": "stream",
     "text": [
      "3826\n"
     ]
    }
   ],
   "source": [
    "# counting clear duplicates\n",
    "duplicates_count = len(df)-len(df.drop_duplicates())\n",
    "print(duplicates_count)"
   ]
  },
  {
   "cell_type": "markdown",
   "metadata": {
    "id": "Ot25h6XR_Zct"
   },
   "source": [
    "Call the `pandas` method for getting rid of obvious duplicates:"
   ]
  },
  {
   "cell_type": "code",
   "execution_count": 12,
   "metadata": {
    "id": "exFHq6tt_Zct"
   },
   "outputs": [],
   "source": [
    "# removing obvious duplicates\n",
    "df = df.drop_duplicates()"
   ]
  },
  {
   "cell_type": "markdown",
   "metadata": {
    "id": "Im2YwBEG_Zct"
   },
   "source": [
    "Count obvious duplicates once more to make sure you have removed all of them:"
   ]
  },
  {
   "cell_type": "code",
   "execution_count": 13,
   "metadata": {
    "id": "-8PuNWQ0_Zct"
   },
   "outputs": [
    {
     "name": "stdout",
     "output_type": "stream",
     "text": [
      "0\n"
     ]
    }
   ],
   "source": [
    "# checking for duplicates\n",
    "duplicates_count = len(df)-len(df.drop_duplicates())\n",
    "print(duplicates_count)"
   ]
  },
  {
   "cell_type": "markdown",
   "metadata": {},
   "source": [
    "<div class=\"alert alert-success\" style=\"box-shadow: 4px 4px 4px\">\n",
    "Success: Correct!\n",
    "</div>"
   ]
  },
  {
   "cell_type": "markdown",
   "metadata": {
    "id": "QlFBsxAr_Zct"
   },
   "source": [
    "Now get rid of implicit duplicates in the `genre` column. For example, the name of a genre can be written in different ways. Such errors will also affect the result."
   ]
  },
  {
   "cell_type": "markdown",
   "metadata": {
    "id": "eSjWwsOh_Zct"
   },
   "source": [
    "Print a list of unique genre names, sorted in alphabetical order. To do so:\n",
    "* Retrieve the intended DataFrame column \n",
    "* Apply a sorting method to it\n",
    "* For the sorted column, call the method that will return all unique column values"
   ]
  },
  {
   "cell_type": "code",
   "execution_count": 14,
   "metadata": {
    "id": "JIUcqzZN_Zct"
   },
   "outputs": [
    {
     "name": "stdout",
     "output_type": "stream",
     "text": [
      "['acid' 'acoustic' 'action' 'adult' 'africa' 'afrikaans' 'alternative'\n",
      " 'ambient' 'americana' 'animated' 'anime' 'arabesk' 'arabic' 'arena'\n",
      " 'argentinetango' 'art' 'audiobook' 'avantgarde' 'axé' 'baile' 'balkan'\n",
      " 'beats' 'bigroom' 'black' 'bluegrass' 'blues' 'bollywood' 'bossa'\n",
      " 'brazilian' 'breakbeat' 'breaks' 'broadway' 'cantautori' 'cantopop'\n",
      " 'canzone' 'caribbean' 'caucasian' 'celtic' 'chamber' 'children' 'chill'\n",
      " 'chinese' 'choral' 'christian' 'christmas' 'classical' 'classicmetal'\n",
      " 'club' 'colombian' 'comedy' 'conjazz' 'contemporary' 'country' 'cuban'\n",
      " 'dance' 'dancehall' 'dancepop' 'dark' 'death' 'deep' 'deutschrock'\n",
      " 'deutschspr' 'dirty' 'disco' 'dnb' 'documentary' 'downbeat' 'downtempo'\n",
      " 'drum' 'dub' 'dubstep' 'eastern' 'easy' 'electronic' 'electropop' 'emo'\n",
      " 'entehno' 'epicmetal' 'estrada' 'ethnic' 'eurofolk' 'european'\n",
      " 'experimental' 'extrememetal' 'fado' 'film' 'fitness' 'flamenco' 'folk'\n",
      " 'folklore' 'folkmetal' 'folkrock' 'folktronica' 'forró' 'frankreich'\n",
      " 'französisch' 'french' 'funk' 'future' 'gangsta' 'garage' 'german'\n",
      " 'ghazal' 'gitarre' 'glitch' 'gospel' 'gothic' 'grime' 'grunge' 'gypsy'\n",
      " 'handsup' \"hard'n'heavy\" 'hardcore' 'hardstyle' 'hardtechno' 'hip'\n",
      " 'hip-hop' 'hiphop' 'historisch' 'holiday' 'hop' 'horror' 'house' 'idm'\n",
      " 'independent' 'indian' 'indie' 'indipop' 'industrial' 'inspirational'\n",
      " 'instrumental' 'international' 'irish' 'jam' 'japanese' 'jazz' 'jewish'\n",
      " 'jpop' 'jungle' 'k-pop' 'karadeniz' 'karaoke' 'kayokyoku' 'korean'\n",
      " 'laiko' 'latin' 'latino' 'leftfield' 'local' 'lounge' 'loungeelectronic'\n",
      " 'lovers' 'malaysian' 'mandopop' 'marschmusik' 'meditative'\n",
      " 'mediterranean' 'melodic' 'metal' 'metalcore' 'mexican' 'middle'\n",
      " 'minimal' 'miscellaneous' 'modern' 'mood' 'mpb' 'muslim' 'native'\n",
      " 'neoklassik' 'neue' 'new' 'newage' 'newwave' 'nu' 'nujazz' 'numetal'\n",
      " 'oceania' 'old' 'opera' 'orchestral' 'other' 'piano' 'pop'\n",
      " 'popelectronic' 'popeurodance' 'post' 'posthardcore' 'postrock' 'power'\n",
      " 'progmetal' 'progressive' 'psychedelic' 'punjabi' 'punk' 'quebecois'\n",
      " 'ragga' 'ram' 'rancheras' 'rap' 'rave' 'reggae' 'reggaeton' 'regional'\n",
      " 'relax' 'religious' 'retro' 'rhythm' 'rnb' 'rnr' 'rock' 'rockabilly'\n",
      " 'romance' 'roots' 'ruspop' 'rusrap' 'rusrock' 'salsa' 'samba' 'schlager'\n",
      " 'self' 'sertanejo' 'shoegazing' 'showtunes' 'singer' 'ska' 'slow'\n",
      " 'smooth' 'soul' 'soulful' 'sound' 'soundtrack' 'southern' 'specialty'\n",
      " 'speech' 'spiritual' 'sport' 'stonerrock' 'surf' 'swing' 'synthpop'\n",
      " 'sängerportrait' 'tango' 'tanzorchester' 'taraftar' 'tech' 'techno'\n",
      " 'thrash' 'top' 'traditional' 'tradjazz' 'trance' 'tribal' 'trip'\n",
      " 'triphop' 'tropical' 'türk' 'türkçe' 'unknown' 'urban' 'uzbek' 'variété'\n",
      " 'vi' 'videogame' 'vocal' 'western' 'world' 'worldbeat' 'ïîï']\n"
     ]
    }
   ],
   "source": [
    "# viewing unique genre names\n",
    "# First select data from genre column\n",
    "search_column = df['genre']\n",
    "# Second use sort_values() method to sort the list\n",
    "sorted_column = search_column.sort_values()\n",
    "# Third use unique to return the unique items from sorted list\n",
    "unique_column = sorted_column.unique()\n",
    "\n",
    "print(unique_column)"
   ]
  },
  {
   "cell_type": "markdown",
   "metadata": {
    "id": "qej-Qmuo_Zct"
   },
   "source": [
    "Look through the list to find implicit duplicates of the genre `hiphop`. These could be names written incorrectly or alternative names of the same genre.\n",
    "\n",
    "You will see the following implicit duplicates:\n",
    "* `hip`\n",
    "* `hop`\n",
    "* `hip-hop`\n",
    "\n",
    "To get rid of them, declare the function `replace_wrong_genres()` with two parameters: \n",
    "* `wrong_genres=` — the list of duplicates\n",
    "* `correct_genre=` — the string with the correct value\n",
    "\n",
    "The function should correct the names in the `'genre'` column from the `df` table, i.e. replace each value from the `wrong_genres` list with the value in `correct_genre`."
   ]
  },
  {
   "cell_type": "code",
   "execution_count": 15,
   "metadata": {
    "id": "ErNDkmns_Zct"
   },
   "outputs": [],
   "source": [
    "# function for replacing implicit duplicates\n",
    "\n",
    "def replace_wrong_genres(wrong_genres,correct_genre):\n",
    "    # Loop through each of the wrong genres\n",
    "    for genre in wrong_genres:\n",
    "        # Replace the wrong genre with correct genre\n",
    "        df['genre'].replace(genre, correct_genre,inplace=True)"
   ]
  },
  {
   "cell_type": "markdown",
   "metadata": {},
   "source": [
    "<div class=\"alert alert-success\" style=\"box-shadow: 4px 4px 4px\">\n",
    "Success: It is great that function was used!\n",
    "</div>"
   ]
  },
  {
   "cell_type": "markdown",
   "metadata": {
    "id": "aDoBJxbA_Zct"
   },
   "source": [
    "Call `replace_wrong_genres()` and pass it arguments so that it clears implicit duplcates (`hip`, `hop`, and `hip-hop`) and replaces them with `hiphop`:"
   ]
  },
  {
   "cell_type": "code",
   "execution_count": 16,
   "metadata": {
    "id": "YN5i2hpmSo09"
   },
   "outputs": [],
   "source": [
    "# removing implicit duplicates\n",
    "wrong_genres = ['hip', 'hop', 'hip-hop']\n",
    "correct_genre = 'hiphop'\n",
    "replace_wrong_genres(wrong_genres,correct_genre)"
   ]
  },
  {
   "cell_type": "markdown",
   "metadata": {
    "id": "zQKF16_RG15m"
   },
   "source": [
    "Make sure the duplicate names were removed. Print the list of unique values from the `'genre'` column:"
   ]
  },
  {
   "cell_type": "code",
   "execution_count": 17,
   "metadata": {
    "id": "wvixALnFG15m"
   },
   "outputs": [
    {
     "name": "stdout",
     "output_type": "stream",
     "text": [
      "['acid' 'acoustic' 'action' 'adult' 'africa' 'afrikaans' 'alternative'\n",
      " 'ambient' 'americana' 'animated' 'anime' 'arabesk' 'arabic' 'arena'\n",
      " 'argentinetango' 'art' 'audiobook' 'avantgarde' 'axé' 'baile' 'balkan'\n",
      " 'beats' 'bigroom' 'black' 'bluegrass' 'blues' 'bollywood' 'bossa'\n",
      " 'brazilian' 'breakbeat' 'breaks' 'broadway' 'cantautori' 'cantopop'\n",
      " 'canzone' 'caribbean' 'caucasian' 'celtic' 'chamber' 'children' 'chill'\n",
      " 'chinese' 'choral' 'christian' 'christmas' 'classical' 'classicmetal'\n",
      " 'club' 'colombian' 'comedy' 'conjazz' 'contemporary' 'country' 'cuban'\n",
      " 'dance' 'dancehall' 'dancepop' 'dark' 'death' 'deep' 'deutschrock'\n",
      " 'deutschspr' 'dirty' 'disco' 'dnb' 'documentary' 'downbeat' 'downtempo'\n",
      " 'drum' 'dub' 'dubstep' 'eastern' 'easy' 'electronic' 'electropop' 'emo'\n",
      " 'entehno' 'epicmetal' 'estrada' 'ethnic' 'eurofolk' 'european'\n",
      " 'experimental' 'extrememetal' 'fado' 'film' 'fitness' 'flamenco' 'folk'\n",
      " 'folklore' 'folkmetal' 'folkrock' 'folktronica' 'forró' 'frankreich'\n",
      " 'französisch' 'french' 'funk' 'future' 'gangsta' 'garage' 'german'\n",
      " 'ghazal' 'gitarre' 'glitch' 'gospel' 'gothic' 'grime' 'grunge' 'gypsy'\n",
      " 'handsup' \"hard'n'heavy\" 'hardcore' 'hardstyle' 'hardtechno' 'hiphop'\n",
      " 'historisch' 'holiday' 'horror' 'house' 'idm' 'independent' 'indian'\n",
      " 'indie' 'indipop' 'industrial' 'inspirational' 'instrumental'\n",
      " 'international' 'irish' 'jam' 'japanese' 'jazz' 'jewish' 'jpop' 'jungle'\n",
      " 'k-pop' 'karadeniz' 'karaoke' 'kayokyoku' 'korean' 'laiko' 'latin'\n",
      " 'latino' 'leftfield' 'local' 'lounge' 'loungeelectronic' 'lovers'\n",
      " 'malaysian' 'mandopop' 'marschmusik' 'meditative' 'mediterranean'\n",
      " 'melodic' 'metal' 'metalcore' 'mexican' 'middle' 'minimal'\n",
      " 'miscellaneous' 'modern' 'mood' 'mpb' 'muslim' 'native' 'neoklassik'\n",
      " 'neue' 'new' 'newage' 'newwave' 'nu' 'nujazz' 'numetal' 'oceania' 'old'\n",
      " 'opera' 'orchestral' 'other' 'piano' 'pop' 'popelectronic' 'popeurodance'\n",
      " 'post' 'posthardcore' 'postrock' 'power' 'progmetal' 'progressive'\n",
      " 'psychedelic' 'punjabi' 'punk' 'quebecois' 'ragga' 'ram' 'rancheras'\n",
      " 'rap' 'rave' 'reggae' 'reggaeton' 'regional' 'relax' 'religious' 'retro'\n",
      " 'rhythm' 'rnb' 'rnr' 'rock' 'rockabilly' 'romance' 'roots' 'ruspop'\n",
      " 'rusrap' 'rusrock' 'salsa' 'samba' 'schlager' 'self' 'sertanejo'\n",
      " 'shoegazing' 'showtunes' 'singer' 'ska' 'slow' 'smooth' 'soul' 'soulful'\n",
      " 'sound' 'soundtrack' 'southern' 'specialty' 'speech' 'spiritual' 'sport'\n",
      " 'stonerrock' 'surf' 'swing' 'synthpop' 'sängerportrait' 'tango'\n",
      " 'tanzorchester' 'taraftar' 'tech' 'techno' 'thrash' 'top' 'traditional'\n",
      " 'tradjazz' 'trance' 'tribal' 'trip' 'triphop' 'tropical' 'türk' 'türkçe'\n",
      " 'unknown' 'urban' 'uzbek' 'variété' 'vi' 'videogame' 'vocal' 'western'\n",
      " 'world' 'worldbeat' 'ïîï']\n"
     ]
    }
   ],
   "source": [
    "# viewing unique genre names\n",
    "# First select data from genre column\n",
    "search_column = df['genre']\n",
    "# Second use sort_values() method to sort the list\n",
    "sorted_column = search_column.sort_values()\n",
    "# Third use unique to return the unique items from sorted list\n",
    "unique_column = sorted_column.unique()\n",
    "\n",
    "print(unique_column)"
   ]
  },
  {
   "cell_type": "markdown",
   "metadata": {
    "id": "ALgNbvF3VtPA"
   },
   "source": [
    "[Back to Contents](#back)"
   ]
  },
  {
   "cell_type": "markdown",
   "metadata": {
    "id": "jz6a9-7HQUDd"
   },
   "source": [
    "### Conclusions <a id='data_preprocessing_conclusions'></a>\n",
    "We detected three issues with the data:\n",
    "\n",
    "- Incorrect header styles\n",
    "- Missing values\n",
    "- Obvious and implicit duplicates\n",
    "\n",
    "The headers have been cleaned up to make processing the table simpler.\n",
    "\n",
    "All missing values have been replaced with `'unknown'`. But we still have to see whether the missing values in `'genre'` will affect our calculations.\n",
    "\n",
    "The absence of duplicates will make the results more precise and easier to understand.\n",
    "\n",
    "Now we can move on to testing hypotheses. "
   ]
  },
  {
   "cell_type": "markdown",
   "metadata": {
    "id": "eK1es74rVujj"
   },
   "source": [
    "[Back to Contents](#back)"
   ]
  },
  {
   "cell_type": "markdown",
   "metadata": {
    "id": "WttZHXH0SqKk"
   },
   "source": [
    "## Stage 3. Testing hypotheses <a id='hypotheses'></a>"
   ]
  },
  {
   "cell_type": "markdown",
   "metadata": {
    "id": "Im936VVi_Zcu"
   },
   "source": [
    "### Hypothesis 1: comparing user behavior in two cities <a id='activity'></a>"
   ]
  },
  {
   "cell_type": "markdown",
   "metadata": {
    "id": "nwt_MuaL_Zcu"
   },
   "source": [
    "According to the first hypothesis, users from Springfield and Shelbyville listen to music differently. Test this using the data on three days of the week: Monday, Wednesday, and Friday.\n",
    "\n",
    "* Divide the users into groups by city.\n",
    "* Compare how many tracks each group played on Monday, Wednesday, and Friday.\n"
   ]
  },
  {
   "cell_type": "markdown",
   "metadata": {
    "id": "8Dw_YMmT_Zcu"
   },
   "source": [
    "For the sake of practice, perform each computation separately. \n",
    "\n",
    "Evaluate user activity in each city. Group the data by city and find the number of songs played in each group.\n",
    "\n"
   ]
  },
  {
   "cell_type": "code",
   "execution_count": 18,
   "metadata": {
    "id": "0_Qs96oh_Zcu",
    "scrolled": true
   },
   "outputs": [
    {
     "data": {
      "text/plain": [
       "city\n",
       "Shelbyville    18512\n",
       "Springfield    42741\n",
       "dtype: int64"
      ]
     },
     "execution_count": 18,
     "metadata": {},
     "output_type": "execute_result"
    }
   ],
   "source": [
    "# Counting up the tracks played in each city\n",
    "df.groupby('city').size()"
   ]
  },
  {
   "cell_type": "markdown",
   "metadata": {
    "id": "dzli3w8o_Zcu"
   },
   "source": [
    "Springfield has more tracks played than Shelbyville. But that does not imply that citizens of Springfield listen to music more often. This city is simply bigger, and there are more users.\n",
    "\n",
    "Now group the data by day of the week and find the number of tracks played on Monday, Wednesday, and Friday.\n"
   ]
  },
  {
   "cell_type": "code",
   "execution_count": 19,
   "metadata": {
    "id": "uZMKjiJz_Zcu"
   },
   "outputs": [
    {
     "data": {
      "text/plain": [
       "day\n",
       "Friday       21840\n",
       "Monday       21354\n",
       "Wednesday    18059\n",
       "dtype: int64"
      ]
     },
     "execution_count": 19,
     "metadata": {},
     "output_type": "execute_result"
    }
   ],
   "source": [
    "# Calculating tracks played on each of the three days\n",
    "df.groupby('day').size()"
   ]
  },
  {
   "cell_type": "markdown",
   "metadata": {},
   "source": [
    "<div class=\"alert alert-success\" style=\"box-shadow: 4px 4px 4px\">\n",
    "Success: Absolutely correct!\n",
    "</div>"
   ]
  },
  {
   "cell_type": "markdown",
   "metadata": {
    "id": "cC2tNrlL_Zcu"
   },
   "source": [
    "Wednesday is the quietest day overall. But if we consider the two cities separately, we might come to a different conclusion."
   ]
  },
  {
   "cell_type": "markdown",
   "metadata": {
    "id": "POzs8bGa_Zcu"
   },
   "source": [
    "You have seen how grouping by city or day works. Now write a function that will group by both.\n",
    "\n",
    "Create the `number_tracks()` function to calculate the number of songs played for a given day and city. It will require two parameters:\n",
    "* day of the week\n",
    "* name of the city\n",
    "\n",
    "In the function, use a variable to store the rows from the original table, where:\n",
    "  * `'day'` column value is equal to the `day` parameter\n",
    "  * `'city'` column value is equal to the `city` parameter\n",
    "\n",
    "Apply consecutive filtering with logical indexing.\n",
    "\n",
    "Then calculate the `'user_id'` column values in the resulting table. Store the result to a new variable. Return this variable from the function."
   ]
  },
  {
   "cell_type": "code",
   "execution_count": 20,
   "metadata": {
    "id": "Nz3GdQB1_Zcu"
   },
   "outputs": [],
   "source": [
    "# <creating the function number_tracks()>\n",
    "# We'll declare a function with two parameters: day=, city=.\n",
    "# Let the track_list variable store the df rows where\n",
    "# the value in the 'day' column is equal to the day= parameter and, at the same time, \n",
    "# the value in the 'city' column is equal to the city= parameter (apply consecutive filtering \n",
    "# with logical indexing).\n",
    "# Let the track_list_count variable store the number of 'user_id' column values in track_list\n",
    "# (found with the count() method).\n",
    "# Let the function return a number: the value of track_list_count.\n",
    "\n",
    "# The function counts tracked played for a certain city and day.\n",
    "# It first retrieves the rows with the intended day from the table,\n",
    "# then filters out the rows with the intended city from the result,\n",
    "# then finds the number of 'user_id' values in the filtered table,\n",
    "# then returns that number.\n",
    "# To see what it returns, wrap the function call in print().\n",
    "\n",
    "def number_tracks(day,city):\n",
    "    track_list = df.loc[(df['day']==day)&(df['city']==city)]\n",
    "    track_list_count = track_list['user_id'].count()\n",
    "    return track_list_count"
   ]
  },
  {
   "cell_type": "markdown",
   "metadata": {
    "id": "ytf7xFrFJQ2r"
   },
   "source": [
    "Call `number_tracks()` six times, changing the parameter values, so that you retrieve the data on both cities for each of the three days."
   ]
  },
  {
   "cell_type": "code",
   "execution_count": 21,
   "metadata": {
    "id": "rJcRATNQ_Zcu"
   },
   "outputs": [
    {
     "name": "stdout",
     "output_type": "stream",
     "text": [
      "15740\n"
     ]
    }
   ],
   "source": [
    "# the number of songs played in Springfield on Monday\n",
    "print(number_tracks('Monday','Springfield'))"
   ]
  },
  {
   "cell_type": "code",
   "execution_count": 22,
   "metadata": {
    "id": "hq_ncZ5T_Zcu"
   },
   "outputs": [
    {
     "name": "stdout",
     "output_type": "stream",
     "text": [
      "5614\n"
     ]
    }
   ],
   "source": [
    "# the number of songs played in Shelbyville on Monday\n",
    "print(number_tracks('Monday','Shelbyville'))"
   ]
  },
  {
   "cell_type": "code",
   "execution_count": 23,
   "metadata": {
    "id": "_NTy2VPU_Zcu"
   },
   "outputs": [
    {
     "name": "stdout",
     "output_type": "stream",
     "text": [
      "11056\n"
     ]
    }
   ],
   "source": [
    "# the number of songs played in Springfield on Wednesday\n",
    "print(number_tracks('Wednesday','Springfield'))"
   ]
  },
  {
   "cell_type": "code",
   "execution_count": 24,
   "metadata": {
    "id": "j2y3TAwo_Zcu"
   },
   "outputs": [
    {
     "name": "stdout",
     "output_type": "stream",
     "text": [
      "7003\n"
     ]
    }
   ],
   "source": [
    "# the number of songs played in Shelbyville on Wednesday\n",
    "print(number_tracks('Wednesday','Shelbyville'))"
   ]
  },
  {
   "cell_type": "code",
   "execution_count": 25,
   "metadata": {
    "id": "vYDw5u_K_Zcu"
   },
   "outputs": [
    {
     "name": "stdout",
     "output_type": "stream",
     "text": [
      "15945\n"
     ]
    }
   ],
   "source": [
    "# the number of songs played in Springfield on Friday\n",
    "print(number_tracks('Friday','Springfield'))"
   ]
  },
  {
   "cell_type": "code",
   "execution_count": 26,
   "metadata": {
    "id": "8_yzFtW3_Zcu"
   },
   "outputs": [
    {
     "name": "stdout",
     "output_type": "stream",
     "text": [
      "5895\n"
     ]
    }
   ],
   "source": [
    "# the number of songs played in Shelbyville on Friday\n",
    "print(number_tracks('Friday','Shelbyville'))"
   ]
  },
  {
   "cell_type": "markdown",
   "metadata": {},
   "source": [
    "<div class=\"alert alert-success\" style=\"box-shadow: 4px 4px 4px\">\n",
    "Success: Everything is perfect!\n",
    "</div>"
   ]
  },
  {
   "cell_type": "markdown",
   "metadata": {
    "id": "7QXffbO-_Zcu"
   },
   "source": [
    "Use `pd.DataFrame` to create a table, where\n",
    "* Column names are: `['city', 'monday', 'wednesday', 'friday']`\n",
    "* The data is the results you got from `number_tracks()`"
   ]
  },
  {
   "cell_type": "code",
   "execution_count": 27,
   "metadata": {
    "id": "APAcLpOr_Zcu"
   },
   "outputs": [
    {
     "name": "stdout",
     "output_type": "stream",
     "text": [
      "          city  monday  wednesday  friday\n",
      "0  Springfield   15740      11056   15945\n",
      "1  Shelbyville    5614       7003    5895\n"
     ]
    }
   ],
   "source": [
    "# table with results\n",
    "column_names = ['city', 'monday', 'wednesday', 'friday']\n",
    "city_names = ['Springfield', 'Shelbyville']\n",
    "days_names = ['Monday', 'Wednesday','Friday']\n",
    "\n",
    "rows = []\n",
    "# Loop through each city\n",
    "for i in range(len(city_names)):\n",
    "    # Create row for each city\n",
    "    rows.append([city_names[i]])\n",
    "    # Loop through each day\n",
    "    for j in range(len(days_names)):\n",
    "        # Store result for city / day combination in row\n",
    "        rows[i].append(number_tracks(days_names[j],city_names[i]))\n",
    "# Store populated rows in new dataframe with column names\n",
    "results_df = pandas.DataFrame(rows,columns=column_names)\n",
    "print(results_df)"
   ]
  },
  {
   "cell_type": "markdown",
   "metadata": {
    "id": "-EgPIHYu_Zcu"
   },
   "source": [
    "**Conclusions**\n",
    "\n",
    "The data reveals differences in user behavior:\n",
    "\n",
    "- In Springfield, the number of songs played peaks on Mondays and Fridays, while on Wednesday there is a decrease in activity.\n",
    "- In Shelbyville, on the contrary, users listen to music more on Wednesday. User activity on Monday and Friday is smaller.\n",
    "\n",
    "So the first hypothesis seems to be correct."
   ]
  },
  {
   "cell_type": "markdown",
   "metadata": {
    "id": "p7nFQajCVw5B"
   },
   "source": [
    "[Back to Contents](#back)"
   ]
  },
  {
   "cell_type": "markdown",
   "metadata": {
    "id": "atZAxtq4_Zcu"
   },
   "source": [
    "### Hypothesis 2: music at the beginning and end of the week <a id='week'></a>"
   ]
  },
  {
   "cell_type": "markdown",
   "metadata": {
    "id": "eXrQqXFH_Zcu"
   },
   "source": [
    "According to the second hypothesis, on Monday morning and Friday night, citizens of Springfield listen to genres that differ from ones users from Shelbyville enjoy."
   ]
  },
  {
   "cell_type": "markdown",
   "metadata": {
    "id": "S8UcW6Hw_Zcu"
   },
   "source": [
    "Get tables (make sure that the name of your combined table matches the DataFrame given in the two code blocks below):\n",
    "* For Springfield — `spr_general`\n",
    "* For Shelbyville — `shel_general`"
   ]
  },
  {
   "cell_type": "code",
   "execution_count": 28,
   "metadata": {
    "id": "qeaFfM_P_Zcu"
   },
   "outputs": [],
   "source": [
    "# obtaining the spr_general table from the df rows, \n",
    "# where the value in the 'city' column is 'Springfield'\n",
    "\n",
    "spr_general = df[df['city'] == 'Springfield']"
   ]
  },
  {
   "cell_type": "code",
   "execution_count": 29,
   "metadata": {
    "id": "ORaVRKto_Zcu"
   },
   "outputs": [],
   "source": [
    "# obtaining the shel_general from the df rows,\n",
    "# where the value in the 'city' column is 'Shelbyville'\n",
    "\n",
    "shel_general = df[df['city'] == 'Shelbyville']"
   ]
  },
  {
   "cell_type": "markdown",
   "metadata": {
    "id": "MEJV-CX2_Zcu"
   },
   "source": [
    "Write the `genre_weekday()` function with four parameters:\n",
    "* A table for data\n",
    "* The day of the week\n",
    "* The first timestamp, in 'hh:mm' format\n",
    "* The last timestamp, in 'hh:mm' format\n",
    "\n",
    "The function should return info on the 15 most popular genres on a given day within the period between the two timestamps."
   ]
  },
  {
   "cell_type": "code",
   "execution_count": 30,
   "metadata": {
    "id": "laJT9BYl_Zcu"
   },
   "outputs": [],
   "source": [
    "# Declaring the genre_weekday() function with the parameters day=, time1=, and time2=. It should\n",
    "# return information about the most popular genres on a given day at a given time:\n",
    "\n",
    "# 1) Let the genre_df variable store the rows that meet several conditions:\n",
    "#    - the value in the 'day' column is equal to the value of the day= argument\n",
    "#    - the value in the 'time' column is greater than the value of the time1= argument\n",
    "#    - the value in the 'time' column is smaller than the value of the time2= argument\n",
    "#    Use consecutive filtering with logical indexing.\n",
    "\n",
    "# 2) Group genre_df by the 'genre' column, take one of its columns, \n",
    "#    and use the count() method to find the number of entries for each of \n",
    "#    the represented genres; store the resulting Series to the\n",
    "#    genre_df_count variable\n",
    "\n",
    "# 3) Sort genre_df_count in descending order of frequency and store the result\n",
    "#    to the genre_df_sorted variable\n",
    "\n",
    "# 4) Return a Series object with the first 15 genre_df_sorted value - the 15 most\n",
    "#    popular genres (on a given day, within a certain timeframe)\n",
    "\n",
    "def genre_weekday(df, day, time1, time2):\n",
    "    # consecutive filtering\n",
    "    # genre_df will store only those df rows where the day is equal to day=\n",
    "    genre_df = df[df['day'] == day]\n",
    "    # genre_df will store only those df rows where the time is smaller than time2=\n",
    "    genre_df = genre_df[genre_df['time'] <= time2]\n",
    "    # genre_df will store only those df rows where the time is greater than time1=\n",
    "    genre_df = genre_df[genre_df['time'] >= time1]\n",
    "    # group the filtered DataFrame by the column with the names of genres, take the genre column, and find the number of rows for each genre with the count() method\n",
    "    genre_df_grouped = genre_df.groupby('genre')['genre'].count()\n",
    "    # we will sort the result in descending order (so that the most popular genres come first in the Series object)\n",
    "    genre_df_sorted = genre_df_grouped.sort_values(ascending=False)\n",
    "    # we will return the Series object storing the 15 most popular genres on a given day in a given timeframe\n",
    "    return genre_df_sorted[:15]"
   ]
  },
  {
   "cell_type": "markdown",
   "metadata": {
    "id": "la2s2_PF_Zcu"
   },
   "source": [
    "Compare the results of the `genre_weekday()` function for Springfield and Shelbyville on Monday morning (from 7AM to 11AM) and on Friday evening (from 17:00 to 23:00):"
   ]
  },
  {
   "cell_type": "code",
   "execution_count": 31,
   "metadata": {
    "id": "yz7itPUQ_Zcu"
   },
   "outputs": [
    {
     "data": {
      "text/plain": [
       "genre\n",
       "pop            781\n",
       "dance          549\n",
       "electronic     480\n",
       "rock           474\n",
       "hiphop         286\n",
       "ruspop         186\n",
       "world          181\n",
       "rusrap         175\n",
       "alternative    164\n",
       "unknown        161\n",
       "classical      157\n",
       "metal          120\n",
       "jazz           100\n",
       "folk            97\n",
       "soundtrack      95\n",
       "Name: genre, dtype: int64"
      ]
     },
     "execution_count": 31,
     "metadata": {},
     "output_type": "execute_result"
    }
   ],
   "source": [
    "# calling the function for Monday morning in Springfield (use spr_general instead of the df table)\n",
    "\n",
    "genre_weekday(spr_general, 'Monday', '07:00', '11:00')"
   ]
  },
  {
   "cell_type": "code",
   "execution_count": 32,
   "metadata": {
    "id": "kwUcHPdy_Zcu"
   },
   "outputs": [
    {
     "data": {
      "text/plain": [
       "genre\n",
       "pop            218\n",
       "dance          182\n",
       "rock           162\n",
       "electronic     147\n",
       "hiphop          80\n",
       "ruspop          64\n",
       "alternative     58\n",
       "rusrap          55\n",
       "jazz            44\n",
       "classical       40\n",
       "world           36\n",
       "rap             32\n",
       "soundtrack      31\n",
       "metal           27\n",
       "rnb             27\n",
       "Name: genre, dtype: int64"
      ]
     },
     "execution_count": 32,
     "metadata": {},
     "output_type": "execute_result"
    }
   ],
   "source": [
    "# calling the function for Monday morning in Shelbyville (use shel_general instead of the df table)\n",
    "\n",
    "genre_weekday(shel_general, 'Monday', '07:00', '11:00')"
   ]
  },
  {
   "cell_type": "code",
   "execution_count": 33,
   "metadata": {
    "id": "EzXVRE1o_Zcu"
   },
   "outputs": [
    {
     "data": {
      "text/plain": [
       "genre\n",
       "pop            713\n",
       "rock           517\n",
       "dance          495\n",
       "electronic     482\n",
       "hiphop         273\n",
       "world          208\n",
       "ruspop         170\n",
       "classical      163\n",
       "alternative    163\n",
       "rusrap         142\n",
       "jazz           111\n",
       "unknown        110\n",
       "soundtrack     105\n",
       "rnb             90\n",
       "metal           88\n",
       "Name: genre, dtype: int64"
      ]
     },
     "execution_count": 33,
     "metadata": {},
     "output_type": "execute_result"
    }
   ],
   "source": [
    "# calling the function for Friday evening in Springfield\n",
    "\n",
    "genre_weekday(spr_general, 'Friday', '17:00', '23:00')"
   ]
  },
  {
   "cell_type": "code",
   "execution_count": 34,
   "metadata": {
    "id": "JZaEKu5v_Zcu"
   },
   "outputs": [
    {
     "data": {
      "text/plain": [
       "genre\n",
       "pop            256\n",
       "rock           216\n",
       "electronic     216\n",
       "dance          210\n",
       "hiphop          97\n",
       "alternative     63\n",
       "jazz            61\n",
       "classical       60\n",
       "rusrap          59\n",
       "world           54\n",
       "ruspop          47\n",
       "unknown         47\n",
       "soundtrack      40\n",
       "metal           39\n",
       "rap             36\n",
       "Name: genre, dtype: int64"
      ]
     },
     "execution_count": 34,
     "metadata": {},
     "output_type": "execute_result"
    }
   ],
   "source": [
    "# calling the function for Friday evening in Shelbyville\n",
    "\n",
    "genre_weekday(shel_general, 'Friday', '17:00', '23:00')"
   ]
  },
  {
   "cell_type": "markdown",
   "metadata": {},
   "source": [
    "<div class=\"alert alert-success\" style=\"box-shadow: 4px 4px 4px\">\n",
    "Success: Correct!\n",
    "</div>"
   ]
  },
  {
   "cell_type": "markdown",
   "metadata": {
    "id": "wrCe4MNX_Zcu"
   },
   "source": [
    "**Conclusion**\n",
    "\n",
    "Having compared the top 15 genres on Monday morning, we can draw the following conclusions:\n",
    "\n",
    "1. Users from Springfield and Shelbyville listen to similar music. The top five genres are the same, only rock and electronic have switched places.\n",
    "\n",
    "2. In Springfield, the number of missing values turned out to be so big that the value `'unknown'` came in 10th. This means that missing values make up a considerable portion of the data, which may be a basis for questioning the reliability of our conclusions.\n",
    "\n",
    "For Friday evening, the situation is similar. Individual genres vary somewhat, but on the whole, the top 15 is similar for the two cities.\n",
    "\n",
    "Thus, the second hypothesis has been partially proven true:\n",
    "* Users listen to similar music at the beginning and end of the week.\n",
    "* There is no major difference between Springfield and Shelbyville. In both cities, pop is the most popular genre.\n",
    "\n",
    "However, the number of missing values makes this result questionable. In Springfield, there are so many that they affect our top 15. Were we not missing these values, things might look different."
   ]
  },
  {
   "cell_type": "markdown",
   "metadata": {
    "id": "jLmXgdanVyhP"
   },
   "source": [
    "[Back to Contents](#back)"
   ]
  },
  {
   "cell_type": "markdown",
   "metadata": {
    "id": "JolODAqr_Zcu"
   },
   "source": [
    "### Hypothesis 3: genre preferences in Springfield and Shelbyville <a id='genre'></a>\n",
    "\n",
    "Hypothesis: Shelbyville loves rap music. Springfield's citizens are more into pop."
   ]
  },
  {
   "cell_type": "markdown",
   "metadata": {
    "id": "DlegSvaT_Zcu"
   },
   "source": [
    "Group the `spr_general` table by genre and find the number of songs played for each genre with the `count()` method. Then sort the result in descending order and store it to `spr_genres`."
   ]
  },
  {
   "cell_type": "code",
   "execution_count": 35,
   "metadata": {
    "id": "r19lIPke_Zcu"
   },
   "outputs": [],
   "source": [
    "# on one line: group the spr_general table by the 'genre' column, \n",
    "# count the 'genre' values with count() in the grouping, \n",
    "# sort the resulting Series in descending order, and store it to spr_genres\n",
    "\n",
    "spr_genres = spr_general.groupby('genre')['genre'].count().sort_values(ascending=False)"
   ]
  },
  {
   "cell_type": "markdown",
   "metadata": {
    "id": "6kMuomxTiIr8"
   },
   "source": [
    "Print the first 10 rows from `spr_genres`:"
   ]
  },
  {
   "cell_type": "code",
   "execution_count": 36,
   "metadata": {
    "id": "WhCSooF8_Zcv"
   },
   "outputs": [
    {
     "name": "stdout",
     "output_type": "stream",
     "text": [
      "genre\n",
      "pop            5892\n",
      "dance          4435\n",
      "rock           3965\n",
      "electronic     3786\n",
      "hiphop         2096\n",
      "classical      1616\n",
      "world          1432\n",
      "alternative    1379\n",
      "ruspop         1372\n",
      "rusrap         1161\n",
      "Name: genre, dtype: int64\n"
     ]
    }
   ],
   "source": [
    "# printing the first 10 rows of spr_genres\n",
    "print(spr_genres.head(10))"
   ]
  },
  {
   "cell_type": "markdown",
   "metadata": {
    "id": "cnPG2vnN_Zcv"
   },
   "source": [
    "Now do the same with the data on Shelbyville.\n",
    "\n",
    "Group the `shel_general` table by genre and find the number of songs played for each genre. Then sort the result in descending order and store it to the `shel_genres` table:\n"
   ]
  },
  {
   "cell_type": "code",
   "execution_count": 37,
   "metadata": {
    "id": "gluLIpE7_Zcv"
   },
   "outputs": [],
   "source": [
    "# on one line: group the shel_general table by the 'genre' column, \n",
    "# count the 'genre' values in the grouping with count(), \n",
    "# sort the resulting Series in descending order and store it to shel_genres\n",
    "shel_genres = shel_general.groupby('genre')['genre'].count().sort_values(ascending=False)"
   ]
  },
  {
   "cell_type": "markdown",
   "metadata": {
    "id": "5Doha_ODgyQ8"
   },
   "source": [
    "Print the first 10 rows of `shel_genres`:"
   ]
  },
  {
   "cell_type": "code",
   "execution_count": 38,
   "metadata": {
    "id": "uaGJHjVU_Zcv"
   },
   "outputs": [
    {
     "name": "stdout",
     "output_type": "stream",
     "text": [
      "genre\n",
      "pop            2431\n",
      "dance          1932\n",
      "rock           1879\n",
      "electronic     1736\n",
      "hiphop          960\n",
      "alternative     649\n",
      "classical       646\n",
      "rusrap          564\n",
      "ruspop          538\n",
      "world           515\n",
      "Name: genre, dtype: int64\n"
     ]
    }
   ],
   "source": [
    "# printing the first 10 rows from shel_genres\n",
    "print(shel_genres.head(10))"
   ]
  },
  {
   "cell_type": "markdown",
   "metadata": {},
   "source": [
    "<div class=\"alert alert-success\" style=\"box-shadow: 4px 4px 4px\">\n",
    "Success: I couldn't agree more!\n",
    "</div>"
   ]
  },
  {
   "cell_type": "markdown",
   "metadata": {
    "id": "RY51YJYu_Zcv"
   },
   "source": [
    "**Conclusion**"
   ]
  },
  {
   "cell_type": "markdown",
   "metadata": {
    "id": "nVhnJEm__Zcv"
   },
   "source": [
    "The hypothesis has been partially proven true:\n",
    "* Pop music is the most popular genre in Springfield, as expected.\n",
    "* However, pop music turned out to be equally popular in Springfield and Shelbyville, and rap wasn't in the top 5 for either city.\n"
   ]
  },
  {
   "cell_type": "markdown",
   "metadata": {
    "id": "Byr0RfpPVz14"
   },
   "source": [
    "[Back to Contents](#back)"
   ]
  },
  {
   "cell_type": "markdown",
   "metadata": {
    "id": "ykKQ0N65_Zcv"
   },
   "source": [
    "# Findings <a id='end'></a>"
   ]
  },
  {
   "cell_type": "markdown",
   "metadata": {
    "id": "tjUwbHb3_Zcv"
   },
   "source": [
    "We have tested the following three hypotheses:\n",
    "\n",
    "1. User activity differs depending on the day of the week and from city to city. \n",
    "2. On Monday mornings, Springfield and Shelbyville residents listen to different genres. This is also true for Friday evenings. \n",
    "3. Springfield and Shelbyville listeners have different preferences. In both Springfield and Shelbyville, they prefer pop.\n",
    "\n",
    "After analyzing the data, we concluded:\n",
    "\n",
    "1. User activity in Springfield and Shelbyville depends on the day of the week, though the cities vary in different ways. \n",
    "\n",
    "The first hypothesis is fully accepted.\n",
    "\n",
    "2. Musical preferences do not vary significantly over the course of the week in both Springfield and Shelbyville. We can see small differences in order on Mondays, but:\n",
    "* In Springfield and Shelbyville, people listen to pop music most.\n",
    "\n",
    "So we can't accept this hypothesis. We must also keep in mind that the result could have been different if not for the missing values.\n",
    "\n",
    "3. It turns out that the musical preferences of users from Springfield and Shelbyville are quite similar.\n",
    "\n",
    "The third hypothesis is rejected. If there is any difference in preferences, it cannot be seen from this data.\n",
    "\n",
    "### Note \n",
    "In real projects, research involves statistical hypothesis testing, which is more precise and more quantitative. Also note that you cannot always draw conclusions about an entire city based on the data from just one source.\n",
    "\n",
    "You will study hypothesis testing in the sprint on statistical data analysis."
   ]
  },
  {
   "cell_type": "markdown",
   "metadata": {
    "id": "Ju4AHDSgV1FE"
   },
   "source": [
    "[Back to Contents](#back)"
   ]
  }
 ],
 "metadata": {
  "ExecuteTimeLog": [
   {
    "duration": 411,
    "start_time": "2021-10-30T20:16:42.928Z"
   },
   {
    "duration": 402,
    "start_time": "2021-10-30T20:16:59.295Z"
   },
   {
    "duration": 343,
    "start_time": "2021-10-30T20:17:06.674Z"
   },
   {
    "duration": 619,
    "start_time": "2021-10-30T20:18:30.595Z"
   },
   {
    "duration": 487,
    "start_time": "2021-10-30T20:18:49.961Z"
   },
   {
    "duration": 695,
    "start_time": "2021-10-31T21:14:16.774Z"
   },
   {
    "duration": 312,
    "start_time": "2021-10-31T21:14:24.045Z"
   },
   {
    "duration": 384,
    "start_time": "2021-10-31T21:15:30.497Z"
   },
   {
    "duration": 181,
    "start_time": "2021-10-31T21:15:54.700Z"
   },
   {
    "duration": 10,
    "start_time": "2021-10-31T21:17:19.885Z"
   },
   {
    "duration": 33,
    "start_time": "2021-10-31T21:18:41.136Z"
   },
   {
    "duration": 4,
    "start_time": "2021-10-31T21:21:27.840Z"
   },
   {
    "duration": 639,
    "start_time": "2021-10-31T21:24:49.747Z"
   },
   {
    "duration": 91,
    "start_time": "2021-10-31T21:26:12.541Z"
   },
   {
    "duration": 230,
    "start_time": "2021-10-31T21:26:19.542Z"
   },
   {
    "duration": 17,
    "start_time": "2021-10-31T21:26:28.779Z"
   },
   {
    "duration": 5,
    "start_time": "2021-10-31T21:26:31.657Z"
   },
   {
    "duration": 235,
    "start_time": "2021-10-31T21:26:44.429Z"
   },
   {
    "duration": 220,
    "start_time": "2021-10-31T21:26:52.923Z"
   },
   {
    "duration": 179,
    "start_time": "2021-10-31T21:27:00.903Z"
   },
   {
    "duration": 18,
    "start_time": "2021-10-31T21:27:02.787Z"
   },
   {
    "duration": 33,
    "start_time": "2021-10-31T21:27:05.793Z"
   },
   {
    "duration": 4,
    "start_time": "2021-10-31T21:27:18.470Z"
   },
   {
    "duration": 26,
    "start_time": "2021-10-31T21:27:49.045Z"
   },
   {
    "duration": 4,
    "start_time": "2021-10-31T21:27:51.317Z"
   },
   {
    "duration": 29,
    "start_time": "2021-10-31T21:33:35.291Z"
   },
   {
    "duration": 61,
    "start_time": "2021-10-31T21:35:00.244Z"
   },
   {
    "duration": 57,
    "start_time": "2021-10-31T21:35:08.488Z"
   },
   {
    "duration": 22,
    "start_time": "2021-10-31T21:36:55.540Z"
   },
   {
    "duration": 28,
    "start_time": "2021-10-31T21:37:18.710Z"
   },
   {
    "duration": 86,
    "start_time": "2021-10-31T21:40:43.056Z"
   },
   {
    "duration": 87,
    "start_time": "2021-10-31T21:40:49.713Z"
   },
   {
    "duration": 89,
    "start_time": "2021-10-31T21:40:52.249Z"
   },
   {
    "duration": 88,
    "start_time": "2021-10-31T21:40:58.199Z"
   },
   {
    "duration": 90,
    "start_time": "2021-10-31T21:41:03.314Z"
   },
   {
    "duration": 4,
    "start_time": "2021-10-31T21:42:49.184Z"
   },
   {
    "duration": 6,
    "start_time": "2021-10-31T21:42:54.755Z"
   },
   {
    "duration": 261,
    "start_time": "2021-10-31T21:43:38.932Z"
   },
   {
    "duration": 54,
    "start_time": "2021-10-31T21:44:04.514Z"
   },
   {
    "duration": 56,
    "start_time": "2021-10-31T21:44:28.677Z"
   },
   {
    "duration": 4,
    "start_time": "2021-10-31T21:47:41.765Z"
   },
   {
    "duration": 5,
    "start_time": "2021-10-31T21:52:00.264Z"
   },
   {
    "duration": 58,
    "start_time": "2021-10-31T21:52:02.377Z"
   },
   {
    "duration": 19,
    "start_time": "2021-10-31T21:52:35.277Z"
   },
   {
    "duration": 843,
    "start_time": "2021-10-31T21:54:28.808Z"
   },
   {
    "duration": 178,
    "start_time": "2021-10-31T21:54:29.654Z"
   },
   {
    "duration": 10,
    "start_time": "2021-10-31T21:54:29.835Z"
   },
   {
    "duration": 33,
    "start_time": "2021-10-31T21:54:29.849Z"
   },
   {
    "duration": 5,
    "start_time": "2021-10-31T21:54:29.886Z"
   },
   {
    "duration": 26,
    "start_time": "2021-10-31T21:54:29.930Z"
   },
   {
    "duration": 5,
    "start_time": "2021-10-31T21:54:29.960Z"
   },
   {
    "duration": 89,
    "start_time": "2021-10-31T21:54:29.970Z"
   },
   {
    "duration": 24,
    "start_time": "2021-10-31T21:54:30.063Z"
   },
   {
    "duration": 51,
    "start_time": "2021-10-31T21:54:30.090Z"
   },
   {
    "duration": 111,
    "start_time": "2021-10-31T21:54:30.144Z"
   },
   {
    "duration": 102,
    "start_time": "2021-10-31T21:54:30.258Z"
   },
   {
    "duration": 97,
    "start_time": "2021-10-31T21:54:30.363Z"
   },
   {
    "duration": 66,
    "start_time": "2021-10-31T21:54:30.463Z"
   },
   {
    "duration": 5,
    "start_time": "2021-10-31T21:54:30.532Z"
   },
   {
    "duration": 51,
    "start_time": "2021-10-31T21:54:30.540Z"
   },
   {
    "duration": 75,
    "start_time": "2021-10-31T21:54:30.594Z"
   },
   {
    "duration": 7,
    "start_time": "2021-10-31T21:54:30.671Z"
   },
   {
    "duration": 22,
    "start_time": "2021-10-31T21:54:30.681Z"
   },
   {
    "duration": 20,
    "start_time": "2021-10-31T21:54:30.705Z"
   },
   {
    "duration": 16,
    "start_time": "2021-10-31T21:54:30.727Z"
   },
   {
    "duration": 30,
    "start_time": "2021-10-31T21:54:30.746Z"
   },
   {
    "duration": 16,
    "start_time": "2021-10-31T21:54:30.780Z"
   },
   {
    "duration": 18,
    "start_time": "2021-10-31T21:54:30.798Z"
   },
   {
    "duration": 15,
    "start_time": "2021-10-31T21:54:30.818Z"
   },
   {
    "duration": 33,
    "start_time": "2021-10-31T21:54:30.836Z"
   },
   {
    "duration": 19,
    "start_time": "2021-10-31T21:54:30.871Z"
   },
   {
    "duration": 31,
    "start_time": "2021-10-31T21:54:30.893Z"
   },
   {
    "duration": 27,
    "start_time": "2021-10-31T21:54:30.927Z"
   },
   {
    "duration": 14,
    "start_time": "2021-10-31T21:54:30.957Z"
   },
   {
    "duration": 52,
    "start_time": "2021-10-31T21:54:30.973Z"
   },
   {
    "duration": 18,
    "start_time": "2021-10-31T21:54:31.028Z"
   },
   {
    "duration": 31,
    "start_time": "2021-10-31T21:54:31.049Z"
   },
   {
    "duration": 19,
    "start_time": "2021-10-31T21:54:31.083Z"
   },
   {
    "duration": 4,
    "start_time": "2021-10-31T21:54:31.130Z"
   },
   {
    "duration": 11,
    "start_time": "2021-10-31T21:54:31.137Z"
   },
   {
    "duration": 6,
    "start_time": "2021-10-31T21:54:31.150Z"
   },
   {
    "duration": 9,
    "start_time": "2021-10-31T21:54:31.158Z"
   },
   {
    "duration": 11,
    "start_time": "2021-10-31T21:56:25.495Z"
   },
   {
    "duration": 11,
    "start_time": "2021-10-31T21:56:43.306Z"
   },
   {
    "duration": 3,
    "start_time": "2021-10-31T21:58:08.334Z"
   },
   {
    "duration": 78,
    "start_time": "2021-10-31T22:03:46.900Z"
   },
   {
    "duration": 83,
    "start_time": "2021-10-31T22:05:26.882Z"
   },
   {
    "duration": 76,
    "start_time": "2021-10-31T22:05:36.615Z"
   },
   {
    "duration": 76,
    "start_time": "2021-10-31T22:06:03.376Z"
   },
   {
    "duration": 4,
    "start_time": "2021-10-31T22:06:07.757Z"
   },
   {
    "duration": 4,
    "start_time": "2021-10-31T22:06:22.863Z"
   },
   {
    "duration": 4,
    "start_time": "2021-10-31T22:06:25.452Z"
   },
   {
    "duration": 15,
    "start_time": "2021-10-31T22:08:58.807Z"
   },
   {
    "duration": 14,
    "start_time": "2021-10-31T22:09:15.097Z"
   },
   {
    "duration": 81,
    "start_time": "2021-10-31T22:09:31.779Z"
   },
   {
    "duration": 77,
    "start_time": "2021-10-31T22:09:45.588Z"
   },
   {
    "duration": 5,
    "start_time": "2021-10-31T22:09:58.327Z"
   },
   {
    "duration": 7,
    "start_time": "2021-10-31T22:10:01.622Z"
   },
   {
    "duration": 16,
    "start_time": "2021-10-31T22:10:03.644Z"
   },
   {
    "duration": 5,
    "start_time": "2021-10-31T22:10:14.583Z"
   },
   {
    "duration": 23,
    "start_time": "2021-10-31T22:10:16.526Z"
   },
   {
    "duration": 58,
    "start_time": "2021-10-31T22:10:34.158Z"
   },
   {
    "duration": 5,
    "start_time": "2021-10-31T22:10:45.375Z"
   },
   {
    "duration": 19,
    "start_time": "2021-10-31T22:10:47.289Z"
   },
   {
    "duration": 18,
    "start_time": "2021-10-31T22:10:55.931Z"
   },
   {
    "duration": 18,
    "start_time": "2021-10-31T22:11:03.539Z"
   },
   {
    "duration": 17,
    "start_time": "2021-10-31T22:11:14.123Z"
   },
   {
    "duration": 20,
    "start_time": "2021-10-31T22:11:22.002Z"
   },
   {
    "duration": 18,
    "start_time": "2021-10-31T22:11:28.205Z"
   },
   {
    "duration": 15,
    "start_time": "2021-10-31T22:15:11.854Z"
   },
   {
    "duration": 18,
    "start_time": "2021-10-31T22:15:16.826Z"
   },
   {
    "duration": 87,
    "start_time": "2021-10-31T22:18:58.181Z"
   },
   {
    "duration": 411,
    "start_time": "2021-10-31T22:19:35.339Z"
   },
   {
    "duration": 321,
    "start_time": "2021-10-31T22:19:46.621Z"
   },
   {
    "duration": 229,
    "start_time": "2021-10-31T22:20:25.035Z"
   },
   {
    "duration": 322,
    "start_time": "2021-10-31T22:20:43.745Z"
   },
   {
    "duration": 86,
    "start_time": "2021-10-31T22:20:55.561Z"
   },
   {
    "duration": 85,
    "start_time": "2021-10-31T22:21:10.843Z"
   },
   {
    "duration": 87,
    "start_time": "2021-10-31T22:21:27.312Z"
   },
   {
    "duration": 85,
    "start_time": "2021-10-31T22:21:58.143Z"
   },
   {
    "duration": 762,
    "start_time": "2021-10-31T22:22:08.913Z"
   },
   {
    "duration": 173,
    "start_time": "2021-10-31T22:22:09.678Z"
   },
   {
    "duration": 9,
    "start_time": "2021-10-31T22:22:09.854Z"
   },
   {
    "duration": 34,
    "start_time": "2021-10-31T22:22:09.866Z"
   },
   {
    "duration": 28,
    "start_time": "2021-10-31T22:22:09.902Z"
   },
   {
    "duration": 33,
    "start_time": "2021-10-31T22:22:09.932Z"
   },
   {
    "duration": 7,
    "start_time": "2021-10-31T22:22:09.967Z"
   },
   {
    "duration": 75,
    "start_time": "2021-10-31T22:22:09.978Z"
   },
   {
    "duration": 22,
    "start_time": "2021-10-31T22:22:10.057Z"
   },
   {
    "duration": 47,
    "start_time": "2021-10-31T22:22:10.082Z"
   },
   {
    "duration": 98,
    "start_time": "2021-10-31T22:22:10.131Z"
   },
   {
    "duration": 82,
    "start_time": "2021-10-31T22:22:10.231Z"
   },
   {
    "duration": 95,
    "start_time": "2021-10-31T22:22:10.315Z"
   },
   {
    "duration": 68,
    "start_time": "2021-10-31T22:22:10.413Z"
   },
   {
    "duration": 4,
    "start_time": "2021-10-31T22:22:10.484Z"
   },
   {
    "duration": 59,
    "start_time": "2021-10-31T22:22:10.490Z"
   },
   {
    "duration": 78,
    "start_time": "2021-10-31T22:22:10.552Z"
   },
   {
    "duration": 11,
    "start_time": "2021-10-31T22:22:10.633Z"
   },
   {
    "duration": 12,
    "start_time": "2021-10-31T22:22:10.646Z"
   },
   {
    "duration": 4,
    "start_time": "2021-10-31T22:22:10.660Z"
   },
   {
    "duration": 24,
    "start_time": "2021-10-31T22:22:10.666Z"
   },
   {
    "duration": 50,
    "start_time": "2021-10-31T22:22:10.693Z"
   },
   {
    "duration": 19,
    "start_time": "2021-10-31T22:22:10.747Z"
   },
   {
    "duration": 18,
    "start_time": "2021-10-31T22:22:10.769Z"
   },
   {
    "duration": 47,
    "start_time": "2021-10-31T22:22:10.789Z"
   },
   {
    "duration": 17,
    "start_time": "2021-10-31T22:22:10.838Z"
   },
   {
    "duration": 103,
    "start_time": "2021-10-31T22:22:10.857Z"
   },
   {
    "duration": 14,
    "start_time": "2021-10-31T22:22:10.963Z"
   },
   {
    "duration": 12,
    "start_time": "2021-10-31T22:22:10.979Z"
   },
   {
    "duration": 6,
    "start_time": "2021-10-31T22:22:10.993Z"
   },
   {
    "duration": 46,
    "start_time": "2021-10-31T22:22:11.002Z"
   },
   {
    "duration": 16,
    "start_time": "2021-10-31T22:22:11.051Z"
   },
   {
    "duration": 25,
    "start_time": "2021-10-31T22:22:11.070Z"
   },
   {
    "duration": 45,
    "start_time": "2021-10-31T22:22:11.097Z"
   },
   {
    "duration": 3,
    "start_time": "2021-10-31T22:22:11.145Z"
   },
   {
    "duration": 15,
    "start_time": "2021-10-31T22:22:11.150Z"
   },
   {
    "duration": 10,
    "start_time": "2021-10-31T22:22:11.167Z"
   },
   {
    "duration": 6,
    "start_time": "2021-10-31T22:22:11.179Z"
   },
   {
    "duration": 25,
    "start_time": "2021-10-31T22:24:27.577Z"
   },
   {
    "duration": 35,
    "start_time": "2021-10-31T22:24:36.724Z"
   },
   {
    "duration": 18,
    "start_time": "2021-10-31T22:25:13.463Z"
   },
   {
    "duration": 13,
    "start_time": "2021-10-31T22:25:17.145Z"
   },
   {
    "duration": 5,
    "start_time": "2021-10-31T22:25:53.871Z"
   },
   {
    "duration": 24,
    "start_time": "2021-10-31T22:26:15.112Z"
   },
   {
    "duration": 6,
    "start_time": "2021-10-31T22:26:36.058Z"
   },
   {
    "duration": 22,
    "start_time": "2021-10-31T22:26:39.734Z"
   },
   {
    "duration": 21,
    "start_time": "2021-10-31T22:26:49.847Z"
   },
   {
    "duration": 25,
    "start_time": "2021-10-31T22:26:56.317Z"
   },
   {
    "duration": 18,
    "start_time": "2021-10-31T22:26:59.004Z"
   },
   {
    "duration": 41,
    "start_time": "2021-10-31T22:29:03.807Z"
   },
   {
    "duration": 11,
    "start_time": "2021-10-31T22:29:24.205Z"
   },
   {
    "duration": 40,
    "start_time": "2021-10-31T22:29:34.420Z"
   },
   {
    "duration": 29,
    "start_time": "2021-10-31T22:30:32.595Z"
   },
   {
    "duration": 8,
    "start_time": "2021-10-31T22:30:35.982Z"
   },
   {
    "duration": 333,
    "start_time": "2021-10-31T22:30:55.252Z"
   },
   {
    "duration": 5,
    "start_time": "2021-10-31T22:31:20.935Z"
   },
   {
    "duration": 4,
    "start_time": "2021-10-31T22:31:28.771Z"
   },
   {
    "duration": 18,
    "start_time": "2021-10-31T22:31:42.198Z"
   },
   {
    "duration": 8,
    "start_time": "2021-10-31T22:31:53.294Z"
   },
   {
    "duration": 11,
    "start_time": "2021-10-31T22:32:00.699Z"
   },
   {
    "duration": 237,
    "start_time": "2021-10-31T22:32:07.907Z"
   },
   {
    "duration": 232,
    "start_time": "2021-10-31T22:32:12.930Z"
   },
   {
    "duration": 11,
    "start_time": "2021-10-31T22:32:17.721Z"
   },
   {
    "duration": 11,
    "start_time": "2021-10-31T22:32:37.161Z"
   },
   {
    "duration": 9,
    "start_time": "2021-10-31T22:32:43.425Z"
   },
   {
    "duration": 5,
    "start_time": "2021-10-31T22:32:46.270Z"
   },
   {
    "duration": 7,
    "start_time": "2021-10-31T22:33:07.307Z"
   },
   {
    "duration": 5,
    "start_time": "2021-10-31T22:33:17.433Z"
   },
   {
    "duration": 788,
    "start_time": "2021-10-31T22:35:16.160Z"
   },
   {
    "duration": 187,
    "start_time": "2021-10-31T22:35:16.951Z"
   },
   {
    "duration": 11,
    "start_time": "2021-10-31T22:35:17.141Z"
   },
   {
    "duration": 37,
    "start_time": "2021-10-31T22:35:17.155Z"
   },
   {
    "duration": 4,
    "start_time": "2021-10-31T22:35:17.194Z"
   },
   {
    "duration": 48,
    "start_time": "2021-10-31T22:35:17.200Z"
   },
   {
    "duration": 12,
    "start_time": "2021-10-31T22:35:17.251Z"
   },
   {
    "duration": 75,
    "start_time": "2021-10-31T22:35:17.267Z"
   },
   {
    "duration": 21,
    "start_time": "2021-10-31T22:35:17.345Z"
   },
   {
    "duration": 37,
    "start_time": "2021-10-31T22:35:17.368Z"
   },
   {
    "duration": 111,
    "start_time": "2021-10-31T22:35:17.407Z"
   },
   {
    "duration": 93,
    "start_time": "2021-10-31T22:35:17.520Z"
   },
   {
    "duration": 86,
    "start_time": "2021-10-31T22:35:17.628Z"
   },
   {
    "duration": 66,
    "start_time": "2021-10-31T22:35:17.716Z"
   },
   {
    "duration": 4,
    "start_time": "2021-10-31T22:35:17.785Z"
   },
   {
    "duration": 61,
    "start_time": "2021-10-31T22:35:17.791Z"
   },
   {
    "duration": 74,
    "start_time": "2021-10-31T22:35:17.855Z"
   },
   {
    "duration": 12,
    "start_time": "2021-10-31T22:35:17.932Z"
   },
   {
    "duration": 12,
    "start_time": "2021-10-31T22:35:17.946Z"
   },
   {
    "duration": 5,
    "start_time": "2021-10-31T22:35:17.960Z"
   },
   {
    "duration": 30,
    "start_time": "2021-10-31T22:35:17.967Z"
   },
   {
    "duration": 42,
    "start_time": "2021-10-31T22:35:17.999Z"
   },
   {
    "duration": 18,
    "start_time": "2021-10-31T22:35:18.047Z"
   },
   {
    "duration": 19,
    "start_time": "2021-10-31T22:35:18.067Z"
   },
   {
    "duration": 57,
    "start_time": "2021-10-31T22:35:18.088Z"
   },
   {
    "duration": 17,
    "start_time": "2021-10-31T22:35:18.148Z"
   },
   {
    "duration": 122,
    "start_time": "2021-10-31T22:35:18.168Z"
   },
   {
    "duration": 17,
    "start_time": "2021-10-31T22:35:18.292Z"
   },
   {
    "duration": 25,
    "start_time": "2021-10-31T22:35:18.311Z"
   },
   {
    "duration": 6,
    "start_time": "2021-10-31T22:35:18.339Z"
   },
   {
    "duration": 27,
    "start_time": "2021-10-31T22:35:18.348Z"
   },
   {
    "duration": 15,
    "start_time": "2021-10-31T22:35:18.377Z"
   },
   {
    "duration": 62,
    "start_time": "2021-10-31T22:35:18.394Z"
   },
   {
    "duration": 17,
    "start_time": "2021-10-31T22:35:18.458Z"
   },
   {
    "duration": 8,
    "start_time": "2021-10-31T22:35:18.477Z"
   },
   {
    "duration": 12,
    "start_time": "2021-10-31T22:35:18.487Z"
   },
   {
    "duration": 7,
    "start_time": "2021-10-31T22:35:18.529Z"
   },
   {
    "duration": 6,
    "start_time": "2021-10-31T22:35:18.539Z"
   },
   {
    "duration": 722,
    "start_time": "2021-10-31T22:38:40.068Z"
   },
   {
    "duration": 180,
    "start_time": "2021-10-31T22:38:40.792Z"
   },
   {
    "duration": 10,
    "start_time": "2021-10-31T22:38:40.975Z"
   },
   {
    "duration": 43,
    "start_time": "2021-10-31T22:38:40.987Z"
   },
   {
    "duration": 4,
    "start_time": "2021-10-31T22:38:41.032Z"
   },
   {
    "duration": 31,
    "start_time": "2021-10-31T22:38:41.038Z"
   },
   {
    "duration": 4,
    "start_time": "2021-10-31T22:38:41.072Z"
   },
   {
    "duration": 90,
    "start_time": "2021-10-31T22:38:41.080Z"
   },
   {
    "duration": 22,
    "start_time": "2021-10-31T22:38:41.172Z"
   },
   {
    "duration": 45,
    "start_time": "2021-10-31T22:38:41.197Z"
   },
   {
    "duration": 99,
    "start_time": "2021-10-31T22:38:41.244Z"
   },
   {
    "duration": 97,
    "start_time": "2021-10-31T22:38:41.345Z"
   },
   {
    "duration": 93,
    "start_time": "2021-10-31T22:38:41.444Z"
   },
   {
    "duration": 57,
    "start_time": "2021-10-31T22:38:41.539Z"
   },
   {
    "duration": 7,
    "start_time": "2021-10-31T22:38:41.599Z"
   },
   {
    "duration": 52,
    "start_time": "2021-10-31T22:38:41.608Z"
   },
   {
    "duration": 74,
    "start_time": "2021-10-31T22:38:41.662Z"
   },
   {
    "duration": 11,
    "start_time": "2021-10-31T22:38:41.738Z"
   },
   {
    "duration": 11,
    "start_time": "2021-10-31T22:38:41.751Z"
   },
   {
    "duration": 5,
    "start_time": "2021-10-31T22:38:41.764Z"
   },
   {
    "duration": 57,
    "start_time": "2021-10-31T22:38:41.771Z"
   },
   {
    "duration": 17,
    "start_time": "2021-10-31T22:38:41.831Z"
   },
   {
    "duration": 18,
    "start_time": "2021-10-31T22:38:41.853Z"
   },
   {
    "duration": 17,
    "start_time": "2021-10-31T22:38:41.873Z"
   },
   {
    "duration": 55,
    "start_time": "2021-10-31T22:38:41.892Z"
   },
   {
    "duration": 21,
    "start_time": "2021-10-31T22:38:41.949Z"
   },
   {
    "duration": 111,
    "start_time": "2021-10-31T22:38:41.972Z"
   },
   {
    "duration": 16,
    "start_time": "2021-10-31T22:38:42.085Z"
   },
   {
    "duration": 29,
    "start_time": "2021-10-31T22:38:42.104Z"
   },
   {
    "duration": 5,
    "start_time": "2021-10-31T22:38:42.135Z"
   },
   {
    "duration": 27,
    "start_time": "2021-10-31T22:38:42.143Z"
   },
   {
    "duration": 16,
    "start_time": "2021-10-31T22:38:42.173Z"
   },
   {
    "duration": 57,
    "start_time": "2021-10-31T22:38:42.191Z"
   },
   {
    "duration": 16,
    "start_time": "2021-10-31T22:38:42.251Z"
   },
   {
    "duration": 11,
    "start_time": "2021-10-31T22:38:42.269Z"
   },
   {
    "duration": 6,
    "start_time": "2021-10-31T22:38:42.282Z"
   },
   {
    "duration": 45,
    "start_time": "2021-10-31T22:38:42.291Z"
   },
   {
    "duration": 10,
    "start_time": "2021-10-31T22:38:42.339Z"
   },
   {
    "duration": 706,
    "start_time": "2021-10-31T22:41:05.085Z"
   },
   {
    "duration": 177,
    "start_time": "2021-10-31T22:41:05.793Z"
   },
   {
    "duration": 10,
    "start_time": "2021-10-31T22:41:05.973Z"
   },
   {
    "duration": 49,
    "start_time": "2021-10-31T22:41:05.986Z"
   },
   {
    "duration": 5,
    "start_time": "2021-10-31T22:41:06.037Z"
   },
   {
    "duration": 33,
    "start_time": "2021-10-31T22:41:06.044Z"
   },
   {
    "duration": 15,
    "start_time": "2021-10-31T22:41:06.079Z"
   },
   {
    "duration": 74,
    "start_time": "2021-10-31T22:41:06.098Z"
   },
   {
    "duration": 21,
    "start_time": "2021-10-31T22:41:06.175Z"
   },
   {
    "duration": 47,
    "start_time": "2021-10-31T22:41:06.198Z"
   },
   {
    "duration": 100,
    "start_time": "2021-10-31T22:41:06.247Z"
   },
   {
    "duration": 92,
    "start_time": "2021-10-31T22:41:06.350Z"
   },
   {
    "duration": 92,
    "start_time": "2021-10-31T22:41:06.444Z"
   },
   {
    "duration": 57,
    "start_time": "2021-10-31T22:41:06.538Z"
   },
   {
    "duration": 8,
    "start_time": "2021-10-31T22:41:06.597Z"
   },
   {
    "duration": 31,
    "start_time": "2021-10-31T22:41:06.607Z"
   },
   {
    "duration": 59,
    "start_time": "2021-10-31T22:41:06.641Z"
   },
   {
    "duration": 39,
    "start_time": "2021-10-31T22:41:06.702Z"
   },
   {
    "duration": 10,
    "start_time": "2021-10-31T22:41:06.743Z"
   },
   {
    "duration": 5,
    "start_time": "2021-10-31T22:41:06.755Z"
   },
   {
    "duration": 32,
    "start_time": "2021-10-31T22:41:06.762Z"
   },
   {
    "duration": 39,
    "start_time": "2021-10-31T22:41:06.797Z"
   },
   {
    "duration": 21,
    "start_time": "2021-10-31T22:41:06.841Z"
   },
   {
    "duration": 19,
    "start_time": "2021-10-31T22:41:06.865Z"
   },
   {
    "duration": 47,
    "start_time": "2021-10-31T22:41:06.886Z"
   },
   {
    "duration": 17,
    "start_time": "2021-10-31T22:41:06.935Z"
   },
   {
    "duration": 109,
    "start_time": "2021-10-31T22:41:06.954Z"
   },
   {
    "duration": 14,
    "start_time": "2021-10-31T22:41:07.065Z"
   },
   {
    "duration": 19,
    "start_time": "2021-10-31T22:41:07.082Z"
   },
   {
    "duration": 26,
    "start_time": "2021-10-31T22:41:07.103Z"
   },
   {
    "duration": 24,
    "start_time": "2021-10-31T22:41:07.131Z"
   },
   {
    "duration": 15,
    "start_time": "2021-10-31T22:41:07.158Z"
   },
   {
    "duration": 25,
    "start_time": "2021-10-31T22:41:07.175Z"
   },
   {
    "duration": 18,
    "start_time": "2021-10-31T22:41:07.229Z"
   },
   {
    "duration": 8,
    "start_time": "2021-10-31T22:41:07.249Z"
   },
   {
    "duration": 7,
    "start_time": "2021-10-31T22:41:07.260Z"
   },
   {
    "duration": 9,
    "start_time": "2021-10-31T22:41:07.269Z"
   },
   {
    "duration": 11,
    "start_time": "2021-10-31T22:41:07.280Z"
   },
   {
    "duration": 734,
    "start_time": "2021-10-31T22:43:41.693Z"
   },
   {
    "duration": 170,
    "start_time": "2021-10-31T22:43:42.430Z"
   },
   {
    "duration": 10,
    "start_time": "2021-10-31T22:43:42.604Z"
   },
   {
    "duration": 39,
    "start_time": "2021-10-31T22:43:42.628Z"
   },
   {
    "duration": 9,
    "start_time": "2021-10-31T22:43:42.669Z"
   },
   {
    "duration": 41,
    "start_time": "2021-10-31T22:43:42.680Z"
   },
   {
    "duration": 12,
    "start_time": "2021-10-31T22:43:42.724Z"
   },
   {
    "duration": 65,
    "start_time": "2021-10-31T22:43:42.740Z"
   },
   {
    "duration": 22,
    "start_time": "2021-10-31T22:43:42.808Z"
   },
   {
    "duration": 28,
    "start_time": "2021-10-31T22:43:42.833Z"
   },
   {
    "duration": 107,
    "start_time": "2021-10-31T22:43:42.864Z"
   },
   {
    "duration": 92,
    "start_time": "2021-10-31T22:43:42.973Z"
   },
   {
    "duration": 91,
    "start_time": "2021-10-31T22:43:43.068Z"
   },
   {
    "duration": 68,
    "start_time": "2021-10-31T22:43:43.161Z"
   },
   {
    "duration": 4,
    "start_time": "2021-10-31T22:43:43.231Z"
   },
   {
    "duration": 26,
    "start_time": "2021-10-31T22:43:43.237Z"
   },
   {
    "duration": 63,
    "start_time": "2021-10-31T22:43:43.266Z"
   },
   {
    "duration": 18,
    "start_time": "2021-10-31T22:43:43.332Z"
   },
   {
    "duration": 10,
    "start_time": "2021-10-31T22:43:43.352Z"
   },
   {
    "duration": 5,
    "start_time": "2021-10-31T22:43:43.364Z"
   },
   {
    "duration": 28,
    "start_time": "2021-10-31T22:43:43.371Z"
   },
   {
    "duration": 18,
    "start_time": "2021-10-31T22:43:43.429Z"
   },
   {
    "duration": 18,
    "start_time": "2021-10-31T22:43:43.452Z"
   },
   {
    "duration": 21,
    "start_time": "2021-10-31T22:43:43.473Z"
   },
   {
    "duration": 46,
    "start_time": "2021-10-31T22:43:43.497Z"
   },
   {
    "duration": 17,
    "start_time": "2021-10-31T22:43:43.545Z"
   },
   {
    "duration": 108,
    "start_time": "2021-10-31T22:43:43.564Z"
   },
   {
    "duration": 14,
    "start_time": "2021-10-31T22:43:43.674Z"
   },
   {
    "duration": 15,
    "start_time": "2021-10-31T22:43:43.690Z"
   },
   {
    "duration": 22,
    "start_time": "2021-10-31T22:43:43.708Z"
   },
   {
    "duration": 31,
    "start_time": "2021-10-31T22:43:43.733Z"
   },
   {
    "duration": 16,
    "start_time": "2021-10-31T22:43:43.766Z"
   },
   {
    "duration": 48,
    "start_time": "2021-10-31T22:43:43.784Z"
   },
   {
    "duration": 17,
    "start_time": "2021-10-31T22:43:43.834Z"
   },
   {
    "duration": 8,
    "start_time": "2021-10-31T22:43:43.853Z"
   },
   {
    "duration": 19,
    "start_time": "2021-10-31T22:43:43.863Z"
   },
   {
    "duration": 12,
    "start_time": "2021-10-31T22:43:43.884Z"
   },
   {
    "duration": 8,
    "start_time": "2021-10-31T22:43:43.899Z"
   },
   {
    "duration": 16,
    "start_time": "2021-10-31T22:45:24.991Z"
   },
   {
    "duration": 5,
    "start_time": "2021-10-31T22:45:27.149Z"
   },
   {
    "duration": 85,
    "start_time": "2021-10-31T22:45:38.644Z"
   },
   {
    "duration": 8,
    "start_time": "2021-10-31T22:45:44.018Z"
   },
   {
    "duration": 6,
    "start_time": "2021-10-31T22:45:48.012Z"
   },
   {
    "duration": 705,
    "start_time": "2021-10-31T22:45:56.765Z"
   },
   {
    "duration": 174,
    "start_time": "2021-10-31T22:45:57.473Z"
   },
   {
    "duration": 10,
    "start_time": "2021-10-31T22:45:57.650Z"
   },
   {
    "duration": 35,
    "start_time": "2021-10-31T22:45:57.663Z"
   },
   {
    "duration": 4,
    "start_time": "2021-10-31T22:45:57.700Z"
   },
   {
    "duration": 49,
    "start_time": "2021-10-31T22:45:57.706Z"
   },
   {
    "duration": 6,
    "start_time": "2021-10-31T22:45:57.758Z"
   },
   {
    "duration": 76,
    "start_time": "2021-10-31T22:45:57.768Z"
   },
   {
    "duration": 22,
    "start_time": "2021-10-31T22:45:57.846Z"
   },
   {
    "duration": 28,
    "start_time": "2021-10-31T22:45:57.871Z"
   },
   {
    "duration": 110,
    "start_time": "2021-10-31T22:45:57.902Z"
   },
   {
    "duration": 98,
    "start_time": "2021-10-31T22:45:58.015Z"
   },
   {
    "duration": 92,
    "start_time": "2021-10-31T22:45:58.116Z"
   },
   {
    "duration": 70,
    "start_time": "2021-10-31T22:45:58.211Z"
   },
   {
    "duration": 5,
    "start_time": "2021-10-31T22:45:58.283Z"
   },
   {
    "duration": 12,
    "start_time": "2021-10-31T22:45:58.290Z"
   },
   {
    "duration": 57,
    "start_time": "2021-10-31T22:45:58.329Z"
   },
   {
    "duration": 40,
    "start_time": "2021-10-31T22:45:58.389Z"
   },
   {
    "duration": 11,
    "start_time": "2021-10-31T22:45:58.431Z"
   },
   {
    "duration": 5,
    "start_time": "2021-10-31T22:45:58.444Z"
   },
   {
    "duration": 20,
    "start_time": "2021-10-31T22:45:58.451Z"
   },
   {
    "duration": 17,
    "start_time": "2021-10-31T22:45:58.474Z"
   },
   {
    "duration": 19,
    "start_time": "2021-10-31T22:45:58.532Z"
   },
   {
    "duration": 17,
    "start_time": "2021-10-31T22:45:58.554Z"
   },
   {
    "duration": 19,
    "start_time": "2021-10-31T22:45:58.573Z"
   },
   {
    "duration": 18,
    "start_time": "2021-10-31T22:45:58.629Z"
   },
   {
    "duration": 102,
    "start_time": "2021-10-31T22:45:58.650Z"
   },
   {
    "duration": 13,
    "start_time": "2021-10-31T22:45:58.755Z"
   },
   {
    "duration": 11,
    "start_time": "2021-10-31T22:45:58.771Z"
   },
   {
    "duration": 5,
    "start_time": "2021-10-31T22:45:58.785Z"
   },
   {
    "duration": 53,
    "start_time": "2021-10-31T22:45:58.793Z"
   },
   {
    "duration": 16,
    "start_time": "2021-10-31T22:45:58.848Z"
   },
   {
    "duration": 25,
    "start_time": "2021-10-31T22:45:58.867Z"
   },
   {
    "duration": 48,
    "start_time": "2021-10-31T22:45:58.894Z"
   },
   {
    "duration": 10,
    "start_time": "2021-10-31T22:45:58.945Z"
   },
   {
    "duration": 5,
    "start_time": "2021-10-31T22:45:58.957Z"
   },
   {
    "duration": 10,
    "start_time": "2021-10-31T22:45:58.964Z"
   },
   {
    "duration": 4,
    "start_time": "2021-10-31T22:45:58.977Z"
   },
   {
    "duration": 18,
    "start_time": "2021-10-31T22:51:23.705Z"
   },
   {
    "duration": 572,
    "start_time": "2021-11-01T09:46:37.897Z"
   },
   {
    "duration": 137,
    "start_time": "2021-11-01T09:46:38.471Z"
   },
   {
    "duration": 8,
    "start_time": "2021-11-01T09:46:38.610Z"
   },
   {
    "duration": 31,
    "start_time": "2021-11-01T09:46:38.620Z"
   },
   {
    "duration": 3,
    "start_time": "2021-11-01T09:46:38.653Z"
   },
   {
    "duration": 25,
    "start_time": "2021-11-01T09:46:38.658Z"
   },
   {
    "duration": 3,
    "start_time": "2021-11-01T09:46:38.685Z"
   },
   {
    "duration": 64,
    "start_time": "2021-11-01T09:46:38.690Z"
   },
   {
    "duration": 16,
    "start_time": "2021-11-01T09:46:38.757Z"
   },
   {
    "duration": 27,
    "start_time": "2021-11-01T09:46:38.775Z"
   },
   {
    "duration": 83,
    "start_time": "2021-11-01T09:46:38.804Z"
   },
   {
    "duration": 65,
    "start_time": "2021-11-01T09:46:38.889Z"
   },
   {
    "duration": 57,
    "start_time": "2021-11-01T09:46:38.956Z"
   },
   {
    "duration": 51,
    "start_time": "2021-11-01T09:46:39.015Z"
   },
   {
    "duration": 3,
    "start_time": "2021-11-01T09:46:39.067Z"
   },
   {
    "duration": 11,
    "start_time": "2021-11-01T09:46:39.072Z"
   },
   {
    "duration": 47,
    "start_time": "2021-11-01T09:46:39.085Z"
   },
   {
    "duration": 13,
    "start_time": "2021-11-01T09:46:39.144Z"
   },
   {
    "duration": 7,
    "start_time": "2021-11-01T09:46:39.158Z"
   },
   {
    "duration": 3,
    "start_time": "2021-11-01T09:46:39.167Z"
   },
   {
    "duration": 20,
    "start_time": "2021-11-01T09:46:39.172Z"
   },
   {
    "duration": 25,
    "start_time": "2021-11-01T09:46:39.193Z"
   },
   {
    "duration": 32,
    "start_time": "2021-11-01T09:46:39.219Z"
   },
   {
    "duration": 17,
    "start_time": "2021-11-01T09:46:39.252Z"
   },
   {
    "duration": 17,
    "start_time": "2021-11-01T09:46:39.271Z"
   },
   {
    "duration": 17,
    "start_time": "2021-11-01T09:46:39.290Z"
   },
   {
    "duration": 96,
    "start_time": "2021-11-01T09:46:39.311Z"
   },
   {
    "duration": 10,
    "start_time": "2021-11-01T09:46:39.409Z"
   },
   {
    "duration": 14,
    "start_time": "2021-11-01T09:46:39.421Z"
   },
   {
    "duration": 4,
    "start_time": "2021-11-01T09:46:39.445Z"
   },
   {
    "duration": 29,
    "start_time": "2021-11-01T09:46:39.450Z"
   },
   {
    "duration": 12,
    "start_time": "2021-11-01T09:46:39.481Z"
   },
   {
    "duration": 20,
    "start_time": "2021-11-01T09:46:39.494Z"
   },
   {
    "duration": 34,
    "start_time": "2021-11-01T09:46:39.515Z"
   },
   {
    "duration": 8,
    "start_time": "2021-11-01T09:46:39.551Z"
   },
   {
    "duration": 3,
    "start_time": "2021-11-01T09:46:39.561Z"
   },
   {
    "duration": 8,
    "start_time": "2021-11-01T09:46:39.566Z"
   },
   {
    "duration": 4,
    "start_time": "2021-11-01T09:46:39.576Z"
   }
  ],
  "colab": {
   "collapsed_sections": [
    "E0vqbgi9ay0H",
    "VUC88oWjTJw2",
    "atZAxtq4_Zcu"
   ],
   "name": "EmptyFinalProject.ipynb\"",
   "provenance": []
  },
  "kernelspec": {
   "display_name": "Python 3 (ipykernel)",
   "language": "python",
   "name": "python3"
  },
  "language_info": {
   "codemirror_mode": {
    "name": "ipython",
    "version": 3
   },
   "file_extension": ".py",
   "mimetype": "text/x-python",
   "name": "python",
   "nbconvert_exporter": "python",
   "pygments_lexer": "ipython3",
   "version": "3.9.5"
  },
  "toc": {
   "base_numbering": 1,
   "nav_menu": {},
   "number_sections": true,
   "sideBar": true,
   "skip_h1_title": true,
   "title_cell": "Table of Contents",
   "title_sidebar": "Contents",
   "toc_cell": false,
   "toc_position": {},
   "toc_section_display": true,
   "toc_window_display": false
  }
 },
 "nbformat": 4,
 "nbformat_minor": 4
}
