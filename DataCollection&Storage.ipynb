{
 "cells": [
  {
   "cell_type": "markdown",
   "metadata": {},
   "source": [
    "Hello, my name is Artem. I'm going to review your project!\n",
    "\n",
    "You can find my comments in <font color='green'>green</font>, <font color='blue'>blue</font> or <font color='red'>red</font> boxes like this:\n",
    "\n",
    "<div class=\"alert alert-block alert-success\">\n",
    "<b>Success:</b> if everything is done succesfully\n",
    "</div>\n",
    "\n",
    "<div class=\"alert alert-block alert-info\">\n",
    "<b>Improve: </b> \"Improve\" comments mean that there are tiny corrections that could help you to make your project better.\n",
    "</div>\n",
    "\n",
    "<div class=\"alert alert-block alert-danger\">\n",
    "<b>Needs fixing:</b> if the block requires some corrections. Work can't be accepted with the red comments.\n",
    "</div>\n",
    "\n",
    "### <font color='orange'>General feedback</font>\n",
    "* You've worked really hard and submitted a solid project.\n",
    "* There are a couple of things that need to be done before your project is complete, but they're pretty straightforward.\n",
    "* There are few things I'd like you to check. They're not mistakes, but your project could be improved if you correct them.\n",
    "* While there's room for improvement, on the whole, your project is looking good.\n",
    "* I believe you can easily fix it! Good luck!"
   ]
  },
  {
   "cell_type": "markdown",
   "metadata": {},
   "source": [
    "### <font color='orange'>General feedback (review 2)</font>\n",
    "* New comments are marked with \"review 2\" keyword.\n",
    "* Good luck in fixing!\n",
    "\n",
    "### <font color='orange'>General feedback (review 3)</font>\n",
    "* New comments are marked with \"review 3\" keyword.\n",
    "\n",
    "### <font color='orange'>General feedback (review 4)</font>\n",
    "* New comment is marked with \"review 4\" keyword.\n",
    "\n",
    "### <font color='orange'>General feedback (review 5)</font>\n",
    "* New comment is marked with \"review 5\" keyword.\n",
    "\n",
    "### <font color='orange'>General feedback (review 6)</font>\n",
    "* New comment is marked with \"review 6\" keyword."
   ]
  },
  {
   "cell_type": "markdown",
   "metadata": {},
   "source": [
    "### <font color='orange'>General feedback (review 7)</font>\n",
    "* All your hard work has paid off, and now your project is acceptable!\n",
    "* Keep up the good work. Good luck next!"
   ]
  },
  {
   "cell_type": "code",
   "execution_count": 3,
   "metadata": {},
   "outputs": [],
   "source": [
    "import pandas as pd # import the pandas module to create DataFrame objects\n",
    "import numpy as np\n",
    "import matplotlib.pyplot as plt\n",
    "from scipy import stats\n",
    "from statsmodels.stats.weightstats import ttest_ind "
   ]
  },
  {
   "cell_type": "markdown",
   "metadata": {},
   "source": [
    "<div class=\"alert alert-block alert-info\">\n",
    "\n",
    "<b>Improve: </b> Please collect all imports in the first cell.\n",
    "</div>"
   ]
  },
  {
   "cell_type": "code",
   "execution_count": 4,
   "metadata": {},
   "outputs": [],
   "source": [
    "# Read the .csv files from the correct file paths and store the data\n",
    "data_1 = pd.read_csv('/datasets/project_sql_result_01.csv')\n",
    "data_2 = pd.read_csv('/datasets/project_sql_result_04.csv')"
   ]
  },
  {
   "cell_type": "code",
   "execution_count": 5,
   "metadata": {},
   "outputs": [
    {
     "data": {
      "text/html": [
       "<div>\n",
       "<style scoped>\n",
       "    .dataframe tbody tr th:only-of-type {\n",
       "        vertical-align: middle;\n",
       "    }\n",
       "\n",
       "    .dataframe tbody tr th {\n",
       "        vertical-align: top;\n",
       "    }\n",
       "\n",
       "    .dataframe thead th {\n",
       "        text-align: right;\n",
       "    }\n",
       "</style>\n",
       "<table border=\"1\" class=\"dataframe\">\n",
       "  <thead>\n",
       "    <tr style=\"text-align: right;\">\n",
       "      <th></th>\n",
       "      <th>company_name</th>\n",
       "      <th>trips_amount</th>\n",
       "    </tr>\n",
       "  </thead>\n",
       "  <tbody>\n",
       "    <tr>\n",
       "      <th>0</th>\n",
       "      <td>Flash Cab</td>\n",
       "      <td>19558</td>\n",
       "    </tr>\n",
       "    <tr>\n",
       "      <th>1</th>\n",
       "      <td>Taxi Affiliation Services</td>\n",
       "      <td>11422</td>\n",
       "    </tr>\n",
       "    <tr>\n",
       "      <th>2</th>\n",
       "      <td>Medallion Leasing</td>\n",
       "      <td>10367</td>\n",
       "    </tr>\n",
       "    <tr>\n",
       "      <th>3</th>\n",
       "      <td>Yellow Cab</td>\n",
       "      <td>9888</td>\n",
       "    </tr>\n",
       "    <tr>\n",
       "      <th>4</th>\n",
       "      <td>Taxi Affiliation Service Yellow</td>\n",
       "      <td>9299</td>\n",
       "    </tr>\n",
       "  </tbody>\n",
       "</table>\n",
       "</div>"
      ],
      "text/plain": [
       "                      company_name  trips_amount\n",
       "0                        Flash Cab         19558\n",
       "1        Taxi Affiliation Services         11422\n",
       "2                Medallion Leasing         10367\n",
       "3                       Yellow Cab          9888\n",
       "4  Taxi Affiliation Service Yellow          9299"
      ]
     },
     "execution_count": 5,
     "metadata": {},
     "output_type": "execute_result"
    }
   ],
   "source": [
    "data_1.head() # First 5 rows of Taxi company and number of trips"
   ]
  },
  {
   "cell_type": "code",
   "execution_count": 6,
   "metadata": {},
   "outputs": [
    {
     "data": {
      "text/plain": [
       "company_name    object\n",
       "trips_amount     int64\n",
       "dtype: object"
      ]
     },
     "execution_count": 6,
     "metadata": {},
     "output_type": "execute_result"
    }
   ],
   "source": [
    "data_1.dtypes # data types of columns"
   ]
  },
  {
   "cell_type": "code",
   "execution_count": 7,
   "metadata": {},
   "outputs": [
    {
     "data": {
      "text/html": [
       "<div>\n",
       "<style scoped>\n",
       "    .dataframe tbody tr th:only-of-type {\n",
       "        vertical-align: middle;\n",
       "    }\n",
       "\n",
       "    .dataframe tbody tr th {\n",
       "        vertical-align: top;\n",
       "    }\n",
       "\n",
       "    .dataframe thead th {\n",
       "        text-align: right;\n",
       "    }\n",
       "</style>\n",
       "<table border=\"1\" class=\"dataframe\">\n",
       "  <thead>\n",
       "    <tr style=\"text-align: right;\">\n",
       "      <th></th>\n",
       "      <th>dropoff_location_name</th>\n",
       "      <th>average_trips</th>\n",
       "    </tr>\n",
       "  </thead>\n",
       "  <tbody>\n",
       "    <tr>\n",
       "      <th>0</th>\n",
       "      <td>Loop</td>\n",
       "      <td>10727.466667</td>\n",
       "    </tr>\n",
       "    <tr>\n",
       "      <th>1</th>\n",
       "      <td>River North</td>\n",
       "      <td>9523.666667</td>\n",
       "    </tr>\n",
       "    <tr>\n",
       "      <th>2</th>\n",
       "      <td>Streeterville</td>\n",
       "      <td>6664.666667</td>\n",
       "    </tr>\n",
       "    <tr>\n",
       "      <th>3</th>\n",
       "      <td>West Loop</td>\n",
       "      <td>5163.666667</td>\n",
       "    </tr>\n",
       "    <tr>\n",
       "      <th>4</th>\n",
       "      <td>O'Hare</td>\n",
       "      <td>2546.900000</td>\n",
       "    </tr>\n",
       "  </tbody>\n",
       "</table>\n",
       "</div>"
      ],
      "text/plain": [
       "  dropoff_location_name  average_trips\n",
       "0                  Loop   10727.466667\n",
       "1           River North    9523.666667\n",
       "2         Streeterville    6664.666667\n",
       "3             West Loop    5163.666667\n",
       "4                O'Hare    2546.900000"
      ]
     },
     "execution_count": 7,
     "metadata": {},
     "output_type": "execute_result"
    }
   ],
   "source": [
    "data_2.head() # First 5 rows of Dropoff locations and average length of trips"
   ]
  },
  {
   "cell_type": "code",
   "execution_count": 8,
   "metadata": {},
   "outputs": [
    {
     "data": {
      "text/plain": [
       "dropoff_location_name     object\n",
       "average_trips            float64\n",
       "dtype: object"
      ]
     },
     "execution_count": 8,
     "metadata": {},
     "output_type": "execute_result"
    }
   ],
   "source": [
    "data_2.dtypes # data types of columns"
   ]
  },
  {
   "cell_type": "code",
   "execution_count": 9,
   "metadata": {},
   "outputs": [],
   "source": [
    "# Read in results of last query and store in a DataFrame\n",
    "data_3 = pd.read_csv('/datasets/project_sql_result_07.csv')"
   ]
  },
  {
   "cell_type": "code",
   "execution_count": 10,
   "metadata": {},
   "outputs": [
    {
     "data": {
      "text/html": [
       "<div>\n",
       "<style scoped>\n",
       "    .dataframe tbody tr th:only-of-type {\n",
       "        vertical-align: middle;\n",
       "    }\n",
       "\n",
       "    .dataframe tbody tr th {\n",
       "        vertical-align: top;\n",
       "    }\n",
       "\n",
       "    .dataframe thead th {\n",
       "        text-align: right;\n",
       "    }\n",
       "</style>\n",
       "<table border=\"1\" class=\"dataframe\">\n",
       "  <thead>\n",
       "    <tr style=\"text-align: right;\">\n",
       "      <th></th>\n",
       "      <th>start_ts</th>\n",
       "      <th>weather_conditions</th>\n",
       "      <th>duration_seconds</th>\n",
       "    </tr>\n",
       "  </thead>\n",
       "  <tbody>\n",
       "    <tr>\n",
       "      <th>0</th>\n",
       "      <td>2017-11-25 16:00:00</td>\n",
       "      <td>Good</td>\n",
       "      <td>2410.0</td>\n",
       "    </tr>\n",
       "    <tr>\n",
       "      <th>1</th>\n",
       "      <td>2017-11-25 14:00:00</td>\n",
       "      <td>Good</td>\n",
       "      <td>1920.0</td>\n",
       "    </tr>\n",
       "    <tr>\n",
       "      <th>2</th>\n",
       "      <td>2017-11-25 12:00:00</td>\n",
       "      <td>Good</td>\n",
       "      <td>1543.0</td>\n",
       "    </tr>\n",
       "    <tr>\n",
       "      <th>3</th>\n",
       "      <td>2017-11-04 10:00:00</td>\n",
       "      <td>Good</td>\n",
       "      <td>2512.0</td>\n",
       "    </tr>\n",
       "    <tr>\n",
       "      <th>4</th>\n",
       "      <td>2017-11-11 07:00:00</td>\n",
       "      <td>Good</td>\n",
       "      <td>1440.0</td>\n",
       "    </tr>\n",
       "  </tbody>\n",
       "</table>\n",
       "</div>"
      ],
      "text/plain": [
       "              start_ts weather_conditions  duration_seconds\n",
       "0  2017-11-25 16:00:00               Good            2410.0\n",
       "1  2017-11-25 14:00:00               Good            1920.0\n",
       "2  2017-11-25 12:00:00               Good            1543.0\n",
       "3  2017-11-04 10:00:00               Good            2512.0\n",
       "4  2017-11-11 07:00:00               Good            1440.0"
      ]
     },
     "execution_count": 10,
     "metadata": {},
     "output_type": "execute_result"
    }
   ],
   "source": [
    "data_3.head()"
   ]
  },
  {
   "cell_type": "code",
   "execution_count": 11,
   "metadata": {},
   "outputs": [
    {
     "data": {
      "text/plain": [
       "start_ts               object\n",
       "weather_conditions     object\n",
       "duration_seconds      float64\n",
       "dtype: object"
      ]
     },
     "execution_count": 11,
     "metadata": {},
     "output_type": "execute_result"
    }
   ],
   "source": [
    "data_3.dtypes # May need to convert start_ts to a datetime object"
   ]
  },
  {
   "cell_type": "code",
   "execution_count": 12,
   "metadata": {},
   "outputs": [
    {
     "data": {
      "text/plain": [
       "0                  Loop\n",
       "1           River North\n",
       "2         Streeterville\n",
       "3             West Loop\n",
       "4                O'Hare\n",
       "5             Lake View\n",
       "6            Grant Park\n",
       "7         Museum Campus\n",
       "8            Gold Coast\n",
       "9    Sheffield & DePaul\n",
       "Name: dropoff_location_name, dtype: object"
      ]
     },
     "execution_count": 12,
     "metadata": {},
     "output_type": "execute_result"
    }
   ],
   "source": [
    "# identify the top 10 neighborhoods in terms of drop-offs\n",
    "top_10_neighborhoods = data_2['dropoff_location_name'][:10]\n",
    "top_10_neighborhoods"
   ]
  },
  {
   "cell_type": "code",
   "execution_count": 13,
   "metadata": {},
   "outputs": [],
   "source": [
    "# make graphs: taxi companies and number of rides, top 10 neighborhoods by number of dropoffs"
   ]
  },
  {
   "cell_type": "markdown",
   "metadata": {},
   "source": [
    "<div class=\"alert alert-block alert-success\">\n",
    "<b>Success:</b> Data loading was done well!\n",
    "</div>"
   ]
  },
  {
   "cell_type": "code",
   "execution_count": 14,
   "metadata": {},
   "outputs": [
    {
     "data": {
      "text/plain": [
       "0                            Flash Cab\n",
       "1            Taxi Affiliation Services\n",
       "2                    Medallion Leasing\n",
       "3                           Yellow Cab\n",
       "4      Taxi Affiliation Service Yellow\n",
       "5            Chicago Carriage Cab Corp\n",
       "6                         City Service\n",
       "7                             Sun Taxi\n",
       "8            Star North Management LLC\n",
       "9    Blue Ribbon Taxi Association Inc.\n",
       "Name: company_name, dtype: object"
      ]
     },
     "execution_count": 14,
     "metadata": {},
     "output_type": "execute_result"
    }
   ],
   "source": [
    "data_1['company_name'].head(10)"
   ]
  },
  {
   "cell_type": "code",
   "execution_count": 15,
   "metadata": {},
   "outputs": [
    {
     "data": {
      "image/png": "[encoded data removed]",
      "text/plain": [
       "<Figure size 1296x432 with 1 Axes>"
      ]
     },
     "metadata": {
      "needs_background": "light"
     },
     "output_type": "display_data"
    }
   ],
   "source": [
    "# data_1.plot.line(x = 'company_name', y = 'trips_amount')\n",
    "plt.figure()\n",
    "plt.bar(data_1['company_name'].head(10), data_1['trips_amount'].head(10))\n",
    "plt.gcf().set_size_inches(18, 6)\n",
    "plt.title(r'Top 10 Taxi firms and number of trips', fontsize=17)\n",
    "plt.xlabel('Taxi Companies', fontsize=16)\n",
    "plt.ylabel('Number of trips', fontsize=14)\n",
    "plt.xticks(rotation = 60)\n",
    "# plt.grid(True)\n",
    "plt.show()"
   ]
  },
  {
   "cell_type": "markdown",
   "metadata": {},
   "source": [
    "<div class=\"alert alert-block alert-info\">\n",
    "<b>Improve: </b> It would be better if barplot was used here.\n",
    "</div>"
   ]
  },
  {
   "cell_type": "markdown",
   "metadata": {},
   "source": [
    "<div class=\"alert alert-block alert-success\">\n",
    "<b>Success (review 2):</b> Good job!\n",
    "</div>"
   ]
  },
  {
   "cell_type": "code",
   "execution_count": 16,
   "metadata": {},
   "outputs": [
    {
     "data": {
      "text/html": [
       "<div>\n",
       "<style scoped>\n",
       "    .dataframe tbody tr th:only-of-type {\n",
       "        vertical-align: middle;\n",
       "    }\n",
       "\n",
       "    .dataframe tbody tr th {\n",
       "        vertical-align: top;\n",
       "    }\n",
       "\n",
       "    .dataframe thead th {\n",
       "        text-align: right;\n",
       "    }\n",
       "</style>\n",
       "<table border=\"1\" class=\"dataframe\">\n",
       "  <thead>\n",
       "    <tr style=\"text-align: right;\">\n",
       "      <th></th>\n",
       "      <th>dropoff_location_name</th>\n",
       "      <th>average_trips</th>\n",
       "    </tr>\n",
       "  </thead>\n",
       "  <tbody>\n",
       "    <tr>\n",
       "      <th>0</th>\n",
       "      <td>Loop</td>\n",
       "      <td>10727.466667</td>\n",
       "    </tr>\n",
       "    <tr>\n",
       "      <th>1</th>\n",
       "      <td>River North</td>\n",
       "      <td>9523.666667</td>\n",
       "    </tr>\n",
       "    <tr>\n",
       "      <th>2</th>\n",
       "      <td>Streeterville</td>\n",
       "      <td>6664.666667</td>\n",
       "    </tr>\n",
       "    <tr>\n",
       "      <th>3</th>\n",
       "      <td>West Loop</td>\n",
       "      <td>5163.666667</td>\n",
       "    </tr>\n",
       "    <tr>\n",
       "      <th>4</th>\n",
       "      <td>O'Hare</td>\n",
       "      <td>2546.900000</td>\n",
       "    </tr>\n",
       "    <tr>\n",
       "      <th>...</th>\n",
       "      <td>...</td>\n",
       "      <td>...</td>\n",
       "    </tr>\n",
       "    <tr>\n",
       "      <th>89</th>\n",
       "      <td>Mount Greenwood</td>\n",
       "      <td>3.137931</td>\n",
       "    </tr>\n",
       "    <tr>\n",
       "      <th>90</th>\n",
       "      <td>Hegewisch</td>\n",
       "      <td>3.117647</td>\n",
       "    </tr>\n",
       "    <tr>\n",
       "      <th>91</th>\n",
       "      <td>Burnside</td>\n",
       "      <td>2.333333</td>\n",
       "    </tr>\n",
       "    <tr>\n",
       "      <th>92</th>\n",
       "      <td>East Side</td>\n",
       "      <td>1.961538</td>\n",
       "    </tr>\n",
       "    <tr>\n",
       "      <th>93</th>\n",
       "      <td>Riverdale</td>\n",
       "      <td>1.800000</td>\n",
       "    </tr>\n",
       "  </tbody>\n",
       "</table>\n",
       "<p>94 rows × 2 columns</p>\n",
       "</div>"
      ],
      "text/plain": [
       "   dropoff_location_name  average_trips\n",
       "0                   Loop   10727.466667\n",
       "1            River North    9523.666667\n",
       "2          Streeterville    6664.666667\n",
       "3              West Loop    5163.666667\n",
       "4                 O'Hare    2546.900000\n",
       "..                   ...            ...\n",
       "89       Mount Greenwood       3.137931\n",
       "90             Hegewisch       3.117647\n",
       "91              Burnside       2.333333\n",
       "92             East Side       1.961538\n",
       "93             Riverdale       1.800000\n",
       "\n",
       "[94 rows x 2 columns]"
      ]
     },
     "execution_count": 16,
     "metadata": {},
     "output_type": "execute_result"
    }
   ],
   "source": [
    "data_2"
   ]
  },
  {
   "cell_type": "code",
   "execution_count": 17,
   "metadata": {},
   "outputs": [
    {
     "data": {
      "text/html": [
       "<div>\n",
       "<style scoped>\n",
       "    .dataframe tbody tr th:only-of-type {\n",
       "        vertical-align: middle;\n",
       "    }\n",
       "\n",
       "    .dataframe tbody tr th {\n",
       "        vertical-align: top;\n",
       "    }\n",
       "\n",
       "    .dataframe thead th {\n",
       "        text-align: right;\n",
       "    }\n",
       "</style>\n",
       "<table border=\"1\" class=\"dataframe\">\n",
       "  <thead>\n",
       "    <tr style=\"text-align: right;\">\n",
       "      <th></th>\n",
       "      <th>dropoff_location_name</th>\n",
       "      <th>average_trips</th>\n",
       "    </tr>\n",
       "  </thead>\n",
       "  <tbody>\n",
       "    <tr>\n",
       "      <th>0</th>\n",
       "      <td>Loop</td>\n",
       "      <td>10727.466667</td>\n",
       "    </tr>\n",
       "    <tr>\n",
       "      <th>1</th>\n",
       "      <td>River North</td>\n",
       "      <td>9523.666667</td>\n",
       "    </tr>\n",
       "    <tr>\n",
       "      <th>2</th>\n",
       "      <td>Streeterville</td>\n",
       "      <td>6664.666667</td>\n",
       "    </tr>\n",
       "    <tr>\n",
       "      <th>3</th>\n",
       "      <td>West Loop</td>\n",
       "      <td>5163.666667</td>\n",
       "    </tr>\n",
       "    <tr>\n",
       "      <th>4</th>\n",
       "      <td>O'Hare</td>\n",
       "      <td>2546.900000</td>\n",
       "    </tr>\n",
       "    <tr>\n",
       "      <th>5</th>\n",
       "      <td>Lake View</td>\n",
       "      <td>2420.966667</td>\n",
       "    </tr>\n",
       "    <tr>\n",
       "      <th>6</th>\n",
       "      <td>Grant Park</td>\n",
       "      <td>2068.533333</td>\n",
       "    </tr>\n",
       "    <tr>\n",
       "      <th>7</th>\n",
       "      <td>Museum Campus</td>\n",
       "      <td>1510.000000</td>\n",
       "    </tr>\n",
       "    <tr>\n",
       "      <th>8</th>\n",
       "      <td>Gold Coast</td>\n",
       "      <td>1364.233333</td>\n",
       "    </tr>\n",
       "    <tr>\n",
       "      <th>9</th>\n",
       "      <td>Sheffield &amp; DePaul</td>\n",
       "      <td>1259.766667</td>\n",
       "    </tr>\n",
       "  </tbody>\n",
       "</table>\n",
       "</div>"
      ],
      "text/plain": [
       "  dropoff_location_name  average_trips\n",
       "0                  Loop   10727.466667\n",
       "1           River North    9523.666667\n",
       "2         Streeterville    6664.666667\n",
       "3             West Loop    5163.666667\n",
       "4                O'Hare    2546.900000\n",
       "5             Lake View    2420.966667\n",
       "6            Grant Park    2068.533333\n",
       "7         Museum Campus    1510.000000\n",
       "8            Gold Coast    1364.233333\n",
       "9    Sheffield & DePaul    1259.766667"
      ]
     },
     "execution_count": 17,
     "metadata": {},
     "output_type": "execute_result"
    }
   ],
   "source": [
    "data_2_top_10 = data_2.head(10)\n",
    "data_2_top_10"
   ]
  },
  {
   "cell_type": "code",
   "execution_count": 18,
   "metadata": {
    "scrolled": false
   },
   "outputs": [
    {
     "data": {
      "image/png": "[encoded data removed]",
      "text/plain": [
       "<Figure size 1296x432 with 1 Axes>"
      ]
     },
     "metadata": {
      "needs_background": "light"
     },
     "output_type": "display_data"
    }
   ],
   "source": [
    "# data_2_top_10.plot.line(x = 'dropoff_location_name', y = 'average_trips')\n",
    "# plt.gcf().set_size_inches(18, 6)\n",
    "# plt.xticks(rotation = 60)\n",
    "# data_1.plot.line(x = 'company_name', y = 'trips_amount')\n",
    "plt.figure()\n",
    "plt.bar(data_2['dropoff_location_name'].head(10), data_2['average_trips'].head(10))\n",
    "plt.gcf().set_size_inches(18, 6)\n",
    "plt.title(r'Top 10 Taxi firms and number of trips', fontsize=17)\n",
    "plt.xlabel('Taxi Companies', fontsize=16)\n",
    "plt.ylabel('Number of trips', fontsize=14)\n",
    "plt.xticks(rotation = 60)\n",
    "# plt.grid(True)\n",
    "plt.show()"
   ]
  },
  {
   "cell_type": "markdown",
   "metadata": {},
   "source": [
    "Based on the given plots, we can make a strong assumption that relates the number of trips completed by the taxi companies to those in the top 10 neighborhoods. Several top taxi companies completed a huge fraction of their trips in the top 10 neighborhoods in Chicago."
   ]
  },
  {
   "cell_type": "markdown",
   "metadata": {},
   "source": [
    "<div class=\"alert alert-block alert-danger\">\n",
    "<b>Needs fixing:</b> Don't forget about hypothesis testing.\n",
    "</div>"
   ]
  },
  {
   "cell_type": "markdown",
   "metadata": {},
   "source": [
    "<div class=\"alert alert-block alert-danger\">\n",
    "<b>Needs fixing (review 2):</b> May be notebook was saved incorrect or you have question?\n",
    "</div>"
   ]
  },
  {
   "cell_type": "code",
   "execution_count": 19,
   "metadata": {},
   "outputs": [],
   "source": [
    "# Test the hypothesis:\n",
    "# \"The average duration of rides from the Loop to O'Hare International Airport changes on rainy Saturdays.\"\n",
    "# Decide where to set the significance level (alpha) on your own.\n",
    "# Explain:\n",
    "# how you formed the null and alternative hypotheses\n",
    "# what criterion you used to test the hypotheses and why"
   ]
  },
  {
   "cell_type": "code",
   "execution_count": 20,
   "metadata": {},
   "outputs": [],
   "source": [
    "# Significance level (alpha-value) = ..."
   ]
  },
  {
   "cell_type": "code",
   "execution_count": 21,
   "metadata": {},
   "outputs": [],
   "source": [
    "# Null hypotheses:The average duration of rides from the loop to O'hareinternational airport does not change on any day"
   ]
  },
  {
   "cell_type": "code",
   "execution_count": 22,
   "metadata": {},
   "outputs": [],
   "source": [
    "# Alternative hypotheses: The average duration of rides from the loop to O'hareinternational airport changes everyday"
   ]
  },
  {
   "cell_type": "code",
   "execution_count": 23,
   "metadata": {},
   "outputs": [],
   "source": [
    "#Significance level: 5-% (0.05)\n",
    "#Chosen because it indicates there is less than a 5% probability the null is correct"
   ]
  },
  {
   "cell_type": "markdown",
   "metadata": {},
   "source": [
    "***Step 5: Testing hypotheses***"
   ]
  },
  {
   "cell_type": "code",
   "execution_count": 24,
   "metadata": {},
   "outputs": [
    {
     "data": {
      "text/html": [
       "<div>\n",
       "<style scoped>\n",
       "    .dataframe tbody tr th:only-of-type {\n",
       "        vertical-align: middle;\n",
       "    }\n",
       "\n",
       "    .dataframe tbody tr th {\n",
       "        vertical-align: top;\n",
       "    }\n",
       "\n",
       "    .dataframe thead th {\n",
       "        text-align: right;\n",
       "    }\n",
       "</style>\n",
       "<table border=\"1\" class=\"dataframe\">\n",
       "  <thead>\n",
       "    <tr style=\"text-align: right;\">\n",
       "      <th></th>\n",
       "      <th>start_ts</th>\n",
       "      <th>weather_conditions</th>\n",
       "      <th>duration_seconds</th>\n",
       "    </tr>\n",
       "  </thead>\n",
       "  <tbody>\n",
       "    <tr>\n",
       "      <th>0</th>\n",
       "      <td>2017-11-25 16:00:00</td>\n",
       "      <td>Good</td>\n",
       "      <td>2410.0</td>\n",
       "    </tr>\n",
       "    <tr>\n",
       "      <th>1</th>\n",
       "      <td>2017-11-25 14:00:00</td>\n",
       "      <td>Good</td>\n",
       "      <td>1920.0</td>\n",
       "    </tr>\n",
       "    <tr>\n",
       "      <th>2</th>\n",
       "      <td>2017-11-25 12:00:00</td>\n",
       "      <td>Good</td>\n",
       "      <td>1543.0</td>\n",
       "    </tr>\n",
       "    <tr>\n",
       "      <th>3</th>\n",
       "      <td>2017-11-04 10:00:00</td>\n",
       "      <td>Good</td>\n",
       "      <td>2512.0</td>\n",
       "    </tr>\n",
       "    <tr>\n",
       "      <th>4</th>\n",
       "      <td>2017-11-11 07:00:00</td>\n",
       "      <td>Good</td>\n",
       "      <td>1440.0</td>\n",
       "    </tr>\n",
       "  </tbody>\n",
       "</table>\n",
       "</div>"
      ],
      "text/plain": [
       "              start_ts weather_conditions  duration_seconds\n",
       "0  2017-11-25 16:00:00               Good            2410.0\n",
       "1  2017-11-25 14:00:00               Good            1920.0\n",
       "2  2017-11-25 12:00:00               Good            1543.0\n",
       "3  2017-11-04 10:00:00               Good            2512.0\n",
       "4  2017-11-11 07:00:00               Good            1440.0"
      ]
     },
     "execution_count": 24,
     "metadata": {},
     "output_type": "execute_result"
    }
   ],
   "source": [
    "data_3.head()# First 5 rows of weather"
   ]
  },
  {
   "cell_type": "code",
   "execution_count": 25,
   "metadata": {},
   "outputs": [],
   "source": [
    "#creating a semi dummy column for t-test \n",
    "data_3['Rain'] = np.where(data_3['weather_conditions']=='Bad', 1, 0)"
   ]
  },
  {
   "cell_type": "code",
   "execution_count": 26,
   "metadata": {},
   "outputs": [
    {
     "name": "stdout",
     "output_type": "stream",
     "text": [
      "6.517970327099473e-12\n"
     ]
    }
   ],
   "source": [
    "# Using a t test to test for a significant difference between related variables \n",
    "bad = data_3[data_3['weather_conditions']=='Bad']['duration_seconds']\n",
    "good = data_3[data_3['weather_conditions']=='Good']['duration_seconds']\n",
    "pval = ttest_ind(bad, good)[1]\n",
    "print(pval)"
   ]
  },
  {
   "cell_type": "markdown",
   "metadata": {},
   "source": [
    "<div class=\"alert alert-block alert-danger\">\n",
    "<b>Needs fixing (review 3):</b> Bad should be compared with Good (not with all).\n",
    "</div>"
   ]
  },
  {
   "cell_type": "markdown",
   "metadata": {},
   "source": [
    "<div class=\"alert alert-block alert-danger\">\n",
    "\n",
    "<b>Needs fixing (review 4):</b> Please compare BAD weathe with GOOD. Don't use paired ttest (bocaues we don't have pairs in thos case). `ttest_ind` should be used.\n",
    "    \n",
    "`bad = data_3[data_3['weather_conditions']=='Bad']['duration_seconds']`\n",
    "    \n",
    "`good = data_3[data_3['weather_conditions']=='Good']['duration_seconds']`\n",
    "</div>\n"
   ]
  },
  {
   "cell_type": "code",
   "execution_count": 27,
   "metadata": {
    "scrolled": true
   },
   "outputs": [
    {
     "name": "stdout",
     "output_type": "stream",
     "text": [
      "We reject null hypothesis that the duration does not change in favor of the test hypothesis.\n"
     ]
    }
   ],
   "source": [
    "alpha = 0.05\n",
    "\n",
    "\n",
    "if pval<alpha:\n",
    "    print(\"We reject null hypothesis that the duration does not change in favor of the test hypothesis.\")\n",
    "else:\n",
    "    print(\"Fail to reject the null hypothesis. Did not find that ride durations were statistically different.\")"
   ]
  },
  {
   "cell_type": "markdown",
   "metadata": {},
   "source": [
    "Conclusion: We fail to reject the null hypothesis at the 5% significance level. There is not sufficient evidence to support that average ride duration changes on days with bad weather. Since we rejected the null hypothesis, we conclude that the Alternative Hypothesis holds."
   ]
  },
  {
   "cell_type": "markdown",
   "metadata": {},
   "source": [
    "<div class=\"alert alert-block alert-danger\">\n",
    "\n",
    "<b>Needs fixing (review 5):</b> pval is here: `ttest_ind(bad, good)[1]`. Please make conclusion null hypothesis is rejected or not?\n",
    "</div>\n",
    "\n",
    "<div class=\"alert alert-block alert-danger\">\n",
    "\n",
    "<b>Needs fixing (review 6):</b> Please make final conclusion: null hypothesis is rejected or not?\n",
    "</div>"
   ]
  },
  {
   "cell_type": "markdown",
   "metadata": {},
   "source": [
    "<div class=\"alert alert-block alert-danger\">\n",
    "<b>Needs fixing (review 3):</b> Null hypothesis is always about equality&\n",
    "</div>"
   ]
  }
 ],
 "metadata": {
  "ExecuteTimeLog": [
   {
    "duration": 3,
    "start_time": "2022-08-12T01:09:04.404Z"
   },
   {
    "duration": 70,
    "start_time": "2022-08-12T01:09:15.403Z"
   },
   {
    "duration": 176,
    "start_time": "2022-08-12T01:10:10.105Z"
   },
   {
    "duration": 14,
    "start_time": "2022-08-12T01:10:17.056Z"
   },
   {
    "duration": 7,
    "start_time": "2022-08-12T01:10:25.784Z"
   },
   {
    "duration": 7,
    "start_time": "2022-08-12T01:10:32.436Z"
   },
   {
    "duration": 10,
    "start_time": "2022-08-12T01:10:40.886Z"
   },
   {
    "duration": 5,
    "start_time": "2022-08-12T01:11:12.554Z"
   },
   {
    "duration": 5,
    "start_time": "2022-08-12T01:11:23.741Z"
   },
   {
    "duration": 4,
    "start_time": "2022-08-12T01:11:34.316Z"
   },
   {
    "duration": 6,
    "start_time": "2022-08-12T01:13:04.991Z"
   },
   {
    "duration": 9,
    "start_time": "2022-08-12T01:13:24.432Z"
   },
   {
    "duration": 7,
    "start_time": "2022-08-12T01:13:29.314Z"
   },
   {
    "duration": 3,
    "start_time": "2022-08-12T01:14:10.156Z"
   },
   {
    "duration": 5,
    "start_time": "2022-08-12T01:14:19.809Z"
   },
   {
    "duration": 388,
    "start_time": "2022-08-12T01:16:42.371Z"
   },
   {
    "duration": 147,
    "start_time": "2022-08-12T01:19:03.514Z"
   },
   {
    "duration": 11,
    "start_time": "2022-08-12T01:21:12.058Z"
   },
   {
    "duration": 3,
    "start_time": "2022-08-12T01:21:33.138Z"
   },
   {
    "duration": 7,
    "start_time": "2022-08-12T01:21:38.755Z"
   },
   {
    "duration": 141,
    "start_time": "2022-08-12T01:22:16.465Z"
   },
   {
    "duration": 141,
    "start_time": "2022-08-12T01:24:15.225Z"
   },
   {
    "duration": 250,
    "start_time": "2022-08-12T01:24:21.941Z"
   },
   {
    "duration": 157,
    "start_time": "2022-08-12T01:24:45.824Z"
   },
   {
    "duration": 151,
    "start_time": "2022-08-12T01:24:55.226Z"
   },
   {
    "duration": 7,
    "start_time": "2022-08-12T01:25:20.285Z"
   },
   {
    "duration": 180,
    "start_time": "2022-08-12T01:26:29.562Z"
   },
   {
    "duration": 178,
    "start_time": "2022-08-12T01:26:43.179Z"
   },
   {
    "duration": 174,
    "start_time": "2022-08-12T01:26:57.559Z"
   },
   {
    "duration": 175,
    "start_time": "2022-08-12T01:27:11.386Z"
   },
   {
    "duration": 11,
    "start_time": "2022-08-12T01:29:00.457Z"
   },
   {
    "duration": 7,
    "start_time": "2022-08-12T01:29:14.008Z"
   },
   {
    "duration": 167,
    "start_time": "2022-08-12T01:29:30.473Z"
   },
   {
    "duration": 43,
    "start_time": "2022-08-16T04:02:40.784Z"
   },
   {
    "duration": 2,
    "start_time": "2022-08-16T04:04:09.372Z"
   },
   {
    "duration": 3,
    "start_time": "2022-08-16T04:05:39.443Z"
   },
   {
    "duration": 730,
    "start_time": "2022-08-16T04:06:17.639Z"
   },
   {
    "duration": 202,
    "start_time": "2022-08-16T04:06:21.933Z"
   },
   {
    "duration": 10,
    "start_time": "2022-08-16T04:06:23.594Z"
   },
   {
    "duration": 4,
    "start_time": "2022-08-16T04:06:25.437Z"
   },
   {
    "duration": 7,
    "start_time": "2022-08-16T04:06:27.117Z"
   },
   {
    "duration": 4,
    "start_time": "2022-08-16T04:06:29.135Z"
   },
   {
    "duration": 7,
    "start_time": "2022-08-16T04:06:30.879Z"
   },
   {
    "duration": 4,
    "start_time": "2022-08-16T04:06:33.225Z"
   },
   {
    "duration": 5,
    "start_time": "2022-08-16T04:06:34.700Z"
   },
   {
    "duration": 3,
    "start_time": "2022-08-16T04:06:36.589Z"
   },
   {
    "duration": 1231,
    "start_time": "2022-08-16T04:06:38.257Z"
   },
   {
    "duration": 169,
    "start_time": "2022-08-16T04:06:51.942Z"
   },
   {
    "duration": 5,
    "start_time": "2022-08-16T04:07:25.276Z"
   },
   {
    "duration": 3,
    "start_time": "2022-08-16T04:07:30.765Z"
   },
   {
    "duration": 4,
    "start_time": "2022-08-16T04:07:50.031Z"
   },
   {
    "duration": 4,
    "start_time": "2022-08-16T04:07:53.790Z"
   },
   {
    "duration": 166,
    "start_time": "2022-08-16T04:08:00.066Z"
   },
   {
    "duration": 242,
    "start_time": "2022-08-16T04:08:10.230Z"
   },
   {
    "duration": 178,
    "start_time": "2022-08-16T04:10:16.445Z"
   },
   {
    "duration": 189,
    "start_time": "2022-08-16T04:10:56.449Z"
   },
   {
    "duration": 189,
    "start_time": "2022-08-16T04:11:07.989Z"
   },
   {
    "duration": 193,
    "start_time": "2022-08-16T04:11:24.468Z"
   },
   {
    "duration": 190,
    "start_time": "2022-08-16T04:11:34.636Z"
   },
   {
    "duration": 209,
    "start_time": "2022-08-16T04:12:20.500Z"
   },
   {
    "duration": 212,
    "start_time": "2022-08-16T04:12:30.063Z"
   },
   {
    "duration": 45,
    "start_time": "2022-08-16T22:12:42.441Z"
   },
   {
    "duration": 727,
    "start_time": "2022-08-16T22:13:21.035Z"
   },
   {
    "duration": 205,
    "start_time": "2022-08-16T22:13:21.764Z"
   },
   {
    "duration": 11,
    "start_time": "2022-08-16T22:13:21.970Z"
   },
   {
    "duration": 17,
    "start_time": "2022-08-16T22:13:21.984Z"
   },
   {
    "duration": 31,
    "start_time": "2022-08-16T22:13:22.002Z"
   },
   {
    "duration": 35,
    "start_time": "2022-08-16T22:13:22.034Z"
   },
   {
    "duration": 32,
    "start_time": "2022-08-16T22:13:22.070Z"
   },
   {
    "duration": 27,
    "start_time": "2022-08-16T22:13:22.103Z"
   },
   {
    "duration": 32,
    "start_time": "2022-08-16T22:13:22.132Z"
   },
   {
    "duration": 10,
    "start_time": "2022-08-16T22:13:22.166Z"
   },
   {
    "duration": 13,
    "start_time": "2022-08-16T22:13:22.178Z"
   },
   {
    "duration": 222,
    "start_time": "2022-08-16T22:13:22.193Z"
   },
   {
    "duration": 10,
    "start_time": "2022-08-16T22:13:22.417Z"
   },
   {
    "duration": 10,
    "start_time": "2022-08-16T22:13:22.428Z"
   },
   {
    "duration": 208,
    "start_time": "2022-08-16T22:13:22.440Z"
   },
   {
    "duration": 2,
    "start_time": "2022-08-16T22:13:22.650Z"
   },
   {
    "duration": 6,
    "start_time": "2022-08-16T22:13:22.654Z"
   },
   {
    "duration": 6,
    "start_time": "2022-08-16T22:13:22.661Z"
   },
   {
    "duration": 5,
    "start_time": "2022-08-16T22:13:22.668Z"
   },
   {
    "duration": 6,
    "start_time": "2022-08-16T22:13:22.675Z"
   },
   {
    "duration": 41,
    "start_time": "2022-08-17T18:00:46.939Z"
   },
   {
    "duration": 819,
    "start_time": "2022-08-17T22:28:49.712Z"
   },
   {
    "duration": 170,
    "start_time": "2022-08-17T22:29:03.881Z"
   },
   {
    "duration": 10,
    "start_time": "2022-08-17T22:29:04.731Z"
   },
   {
    "duration": 5,
    "start_time": "2022-08-17T22:29:06.137Z"
   },
   {
    "duration": 19,
    "start_time": "2022-08-17T22:29:06.993Z"
   },
   {
    "duration": 6,
    "start_time": "2022-08-17T22:29:07.638Z"
   },
   {
    "duration": 78,
    "start_time": "2022-08-17T22:29:13.733Z"
   },
   {
    "duration": 6,
    "start_time": "2022-08-17T22:30:56.408Z"
   },
   {
    "duration": 41,
    "start_time": "2022-08-17T22:30:57.344Z"
   },
   {
    "duration": 7,
    "start_time": "2022-08-17T22:30:58.340Z"
   },
   {
    "duration": 6,
    "start_time": "2022-08-17T22:30:58.943Z"
   },
   {
    "duration": 31,
    "start_time": "2022-08-17T22:31:01.600Z"
   },
   {
    "duration": 6,
    "start_time": "2022-08-17T22:31:01.971Z"
   },
   {
    "duration": 5,
    "start_time": "2022-08-17T22:31:28.471Z"
   },
   {
    "duration": 3,
    "start_time": "2022-08-17T22:31:29.027Z"
   },
   {
    "duration": 6,
    "start_time": "2022-08-17T22:31:31.925Z"
   },
   {
    "duration": 228,
    "start_time": "2022-08-17T22:31:41.052Z"
   },
   {
    "duration": 10,
    "start_time": "2022-08-17T22:31:50.766Z"
   },
   {
    "duration": 7,
    "start_time": "2022-08-17T22:31:51.059Z"
   },
   {
    "duration": 251,
    "start_time": "2022-08-17T22:31:56.502Z"
   },
   {
    "duration": 166,
    "start_time": "2022-08-17T22:35:31.102Z"
   },
   {
    "duration": 8,
    "start_time": "2022-08-17T22:35:34.939Z"
   },
   {
    "duration": 8,
    "start_time": "2022-08-17T22:35:59.636Z"
   },
   {
    "duration": 5,
    "start_time": "2022-08-17T22:36:12.133Z"
   },
   {
    "duration": 11,
    "start_time": "2022-08-17T22:36:20.031Z"
   },
   {
    "duration": 11,
    "start_time": "2022-08-17T22:36:37.271Z"
   },
   {
    "duration": 5,
    "start_time": "2022-08-17T22:36:37.942Z"
   },
   {
    "duration": 9,
    "start_time": "2022-08-17T22:38:48.076Z"
   },
   {
    "duration": 12,
    "start_time": "2022-08-17T22:38:54.114Z"
   },
   {
    "duration": 5,
    "start_time": "2022-08-17T22:39:06.944Z"
   },
   {
    "duration": 4,
    "start_time": "2022-08-17T22:39:11.520Z"
   },
   {
    "duration": 9,
    "start_time": "2022-08-17T22:44:32.039Z"
   },
   {
    "duration": 8,
    "start_time": "2022-08-17T22:44:38.053Z"
   },
   {
    "duration": 14,
    "start_time": "2022-08-17T22:49:21.881Z"
   },
   {
    "duration": 2,
    "start_time": "2022-08-17T22:49:31.080Z"
   },
   {
    "duration": 10,
    "start_time": "2022-08-17T22:49:31.647Z"
   },
   {
    "duration": 10,
    "start_time": "2022-08-17T22:49:40.518Z"
   },
   {
    "duration": 18,
    "start_time": "2022-08-17T22:49:44.515Z"
   },
   {
    "duration": 13,
    "start_time": "2022-08-17T22:50:03.216Z"
   },
   {
    "duration": 8,
    "start_time": "2022-08-17T22:51:23.281Z"
   },
   {
    "duration": 10,
    "start_time": "2022-08-17T22:51:24.622Z"
   },
   {
    "duration": 690,
    "start_time": "2022-08-17T22:51:45.930Z"
   },
   {
    "duration": 43,
    "start_time": "2022-08-17T22:51:46.622Z"
   },
   {
    "duration": 16,
    "start_time": "2022-08-17T22:51:46.884Z"
   },
   {
    "duration": 7,
    "start_time": "2022-08-17T22:51:47.193Z"
   },
   {
    "duration": 10,
    "start_time": "2022-08-17T22:51:47.880Z"
   },
   {
    "duration": 5,
    "start_time": "2022-08-17T22:51:48.365Z"
   },
   {
    "duration": 77,
    "start_time": "2022-08-17T22:51:48.875Z"
   },
   {
    "duration": 7,
    "start_time": "2022-08-17T22:51:49.525Z"
   },
   {
    "duration": 6,
    "start_time": "2022-08-17T22:51:50.026Z"
   },
   {
    "duration": 3,
    "start_time": "2022-08-17T22:51:50.783Z"
   },
   {
    "duration": 6,
    "start_time": "2022-08-17T22:51:51.941Z"
   },
   {
    "duration": 225,
    "start_time": "2022-08-17T22:51:52.457Z"
   },
   {
    "duration": 9,
    "start_time": "2022-08-17T22:51:53.727Z"
   },
   {
    "duration": 10,
    "start_time": "2022-08-17T22:51:54.242Z"
   },
   {
    "duration": 215,
    "start_time": "2022-08-17T22:51:54.721Z"
   },
   {
    "duration": 4,
    "start_time": "2022-08-17T22:51:56.417Z"
   },
   {
    "duration": 5,
    "start_time": "2022-08-17T22:51:56.686Z"
   },
   {
    "duration": 2,
    "start_time": "2022-08-17T22:51:57.059Z"
   },
   {
    "duration": 62,
    "start_time": "2022-08-17T22:52:01.180Z"
   },
   {
    "duration": 3,
    "start_time": "2022-08-17T22:52:01.926Z"
   },
   {
    "duration": 8,
    "start_time": "2022-08-17T22:52:11.901Z"
   },
   {
    "duration": 9,
    "start_time": "2022-08-17T22:52:18.026Z"
   },
   {
    "duration": 5,
    "start_time": "2022-08-17T22:53:28.530Z"
   },
   {
    "duration": 8,
    "start_time": "2022-08-17T22:53:29.171Z"
   },
   {
    "duration": 6,
    "start_time": "2022-08-17T22:53:41.810Z"
   },
   {
    "duration": 9,
    "start_time": "2022-08-17T22:53:52.517Z"
   },
   {
    "duration": 6,
    "start_time": "2022-08-17T22:54:00.069Z"
   },
   {
    "duration": 7,
    "start_time": "2022-08-17T22:54:04.913Z"
   },
   {
    "duration": 419,
    "start_time": "2022-08-17T22:55:34.248Z"
   },
   {
    "duration": 9,
    "start_time": "2022-08-17T22:55:54.074Z"
   },
   {
    "duration": 35,
    "start_time": "2022-08-17T22:56:25.344Z"
   },
   {
    "duration": 16,
    "start_time": "2022-08-17T22:57:53.305Z"
   },
   {
    "duration": 9,
    "start_time": "2022-08-17T22:58:13.436Z"
   },
   {
    "duration": 11,
    "start_time": "2022-08-17T22:58:27.372Z"
   },
   {
    "duration": 6,
    "start_time": "2022-08-17T22:58:39.204Z"
   },
   {
    "duration": 14,
    "start_time": "2022-08-17T22:58:51.117Z"
   },
   {
    "duration": 14,
    "start_time": "2022-08-17T23:02:02.037Z"
   },
   {
    "duration": 12,
    "start_time": "2022-08-17T23:02:11.352Z"
   },
   {
    "duration": 6,
    "start_time": "2022-08-17T23:03:02.023Z"
   },
   {
    "duration": 16,
    "start_time": "2022-08-17T23:03:07.214Z"
   },
   {
    "duration": 10,
    "start_time": "2022-08-17T23:03:28.074Z"
   },
   {
    "duration": 14,
    "start_time": "2022-08-17T23:03:37.882Z"
   },
   {
    "duration": 5,
    "start_time": "2022-08-17T23:03:38.648Z"
   },
   {
    "duration": 3,
    "start_time": "2022-08-17T23:03:54.517Z"
   },
   {
    "duration": 15,
    "start_time": "2022-08-17T23:06:58.185Z"
   },
   {
    "duration": 4,
    "start_time": "2022-08-17T23:09:00.727Z"
   },
   {
    "duration": 11,
    "start_time": "2022-08-17T23:10:31.912Z"
   },
   {
    "duration": 1059,
    "start_time": "2022-08-17T23:12:28.580Z"
   },
   {
    "duration": 41,
    "start_time": "2022-08-17T23:12:29.641Z"
   },
   {
    "duration": 19,
    "start_time": "2022-08-17T23:12:29.683Z"
   },
   {
    "duration": 14,
    "start_time": "2022-08-17T23:12:29.710Z"
   },
   {
    "duration": 9,
    "start_time": "2022-08-17T23:12:29.726Z"
   },
   {
    "duration": 11,
    "start_time": "2022-08-17T23:12:29.736Z"
   },
   {
    "duration": 32,
    "start_time": "2022-08-17T23:12:29.749Z"
   },
   {
    "duration": 21,
    "start_time": "2022-08-17T23:12:29.782Z"
   },
   {
    "duration": 25,
    "start_time": "2022-08-17T23:12:29.804Z"
   },
   {
    "duration": 11,
    "start_time": "2022-08-17T23:12:29.831Z"
   },
   {
    "duration": 13,
    "start_time": "2022-08-17T23:12:29.844Z"
   },
   {
    "duration": 12,
    "start_time": "2022-08-17T23:12:29.859Z"
   },
   {
    "duration": 261,
    "start_time": "2022-08-17T23:12:29.873Z"
   },
   {
    "duration": 10,
    "start_time": "2022-08-17T23:12:30.137Z"
   },
   {
    "duration": 79,
    "start_time": "2022-08-17T23:12:30.149Z"
   },
   {
    "duration": 228,
    "start_time": "2022-08-17T23:12:30.230Z"
   },
   {
    "duration": 2,
    "start_time": "2022-08-17T23:12:30.460Z"
   },
   {
    "duration": 47,
    "start_time": "2022-08-17T23:12:30.464Z"
   },
   {
    "duration": 22,
    "start_time": "2022-08-17T23:12:30.517Z"
   },
   {
    "duration": 42,
    "start_time": "2022-08-17T23:12:30.540Z"
   },
   {
    "duration": 60,
    "start_time": "2022-08-17T23:12:30.583Z"
   },
   {
    "duration": 26,
    "start_time": "2022-08-17T23:12:30.645Z"
   },
   {
    "duration": 46,
    "start_time": "2022-08-17T23:12:30.672Z"
   },
   {
    "duration": 25,
    "start_time": "2022-08-17T23:12:30.720Z"
   },
   {
    "duration": 30,
    "start_time": "2022-08-17T23:12:30.747Z"
   },
   {
    "duration": 44,
    "start_time": "2022-08-19T23:49:14.115Z"
   },
   {
    "duration": 5,
    "start_time": "2022-08-19T23:49:18.191Z"
   },
   {
    "duration": 1221,
    "start_time": "2022-08-19T23:49:24.129Z"
   },
   {
    "duration": 126,
    "start_time": "2022-08-19T23:49:26.740Z"
   },
   {
    "duration": 10,
    "start_time": "2022-08-19T23:49:29.261Z"
   },
   {
    "duration": 8,
    "start_time": "2022-08-19T23:49:33.048Z"
   },
   {
    "duration": 5,
    "start_time": "2022-08-19T23:49:35.326Z"
   },
   {
    "duration": 84,
    "start_time": "2022-08-19T23:49:44.347Z"
   },
   {
    "duration": 8,
    "start_time": "2022-08-19T23:49:45.731Z"
   },
   {
    "duration": 5,
    "start_time": "2022-08-19T23:49:46.923Z"
   },
   {
    "duration": 5,
    "start_time": "2022-08-19T23:49:49.445Z"
   },
   {
    "duration": 5,
    "start_time": "2022-08-19T23:49:53.278Z"
   },
   {
    "duration": 9,
    "start_time": "2022-08-19T23:49:56.317Z"
   },
   {
    "duration": 9,
    "start_time": "2022-08-19T23:49:59.527Z"
   },
   {
    "duration": 189,
    "start_time": "2022-08-19T23:50:02.620Z"
   },
   {
    "duration": 8,
    "start_time": "2022-08-19T23:50:15.256Z"
   },
   {
    "duration": 58,
    "start_time": "2022-08-19T23:55:13.266Z"
   },
   {
    "duration": 3,
    "start_time": "2022-08-19T23:55:33.130Z"
   },
   {
    "duration": 11,
    "start_time": "2022-08-19T23:55:45.020Z"
   },
   {
    "duration": 14,
    "start_time": "2022-08-19T23:58:18.504Z"
   },
   {
    "duration": 9,
    "start_time": "2022-08-19T23:58:25.513Z"
   },
   {
    "duration": 10,
    "start_time": "2022-08-19T23:59:36.042Z"
   },
   {
    "duration": 48,
    "start_time": "2022-08-20T17:47:45.814Z"
   },
   {
    "duration": 7,
    "start_time": "2022-08-20T17:49:14.880Z"
   },
   {
    "duration": 6,
    "start_time": "2022-08-20T17:49:23.630Z"
   },
   {
    "duration": 5,
    "start_time": "2022-08-20T17:49:50.208Z"
   },
   {
    "duration": 1130,
    "start_time": "2022-08-20T17:50:06.817Z"
   },
   {
    "duration": 123,
    "start_time": "2022-08-20T17:50:07.949Z"
   },
   {
    "duration": 10,
    "start_time": "2022-08-20T17:50:08.073Z"
   },
   {
    "duration": 13,
    "start_time": "2022-08-20T17:50:08.085Z"
   },
   {
    "duration": 8,
    "start_time": "2022-08-20T17:50:08.100Z"
   },
   {
    "duration": 6,
    "start_time": "2022-08-20T17:50:08.109Z"
   },
   {
    "duration": 75,
    "start_time": "2022-08-20T17:50:08.116Z"
   },
   {
    "duration": 9,
    "start_time": "2022-08-20T17:50:08.192Z"
   },
   {
    "duration": 10,
    "start_time": "2022-08-20T17:50:08.202Z"
   },
   {
    "duration": 5,
    "start_time": "2022-08-20T17:50:08.214Z"
   },
   {
    "duration": 4,
    "start_time": "2022-08-20T17:50:08.220Z"
   },
   {
    "duration": 5,
    "start_time": "2022-08-20T17:50:08.226Z"
   },
   {
    "duration": 229,
    "start_time": "2022-08-20T17:50:08.232Z"
   },
   {
    "duration": 10,
    "start_time": "2022-08-20T17:50:08.463Z"
   },
   {
    "duration": 8,
    "start_time": "2022-08-20T17:50:08.475Z"
   },
   {
    "duration": 189,
    "start_time": "2022-08-20T17:50:08.499Z"
   },
   {
    "duration": 2,
    "start_time": "2022-08-20T17:50:08.690Z"
   },
   {
    "duration": 3,
    "start_time": "2022-08-20T17:50:08.697Z"
   },
   {
    "duration": 10,
    "start_time": "2022-08-20T17:50:08.702Z"
   },
   {
    "duration": 4,
    "start_time": "2022-08-20T17:50:08.713Z"
   },
   {
    "duration": 7,
    "start_time": "2022-08-20T17:50:08.718Z"
   },
   {
    "duration": 10,
    "start_time": "2022-08-20T17:50:08.726Z"
   },
   {
    "duration": 5,
    "start_time": "2022-08-20T17:50:08.738Z"
   },
   {
    "duration": 7,
    "start_time": "2022-08-20T17:50:08.744Z"
   },
   {
    "duration": 114,
    "start_time": "2022-08-20T17:50:08.753Z"
   },
   {
    "duration": 6,
    "start_time": "2022-08-20T17:51:19.810Z"
   },
   {
    "duration": 6,
    "start_time": "2022-08-20T17:53:17.299Z"
   },
   {
    "duration": 7,
    "start_time": "2022-08-20T17:53:22.394Z"
   },
   {
    "duration": 51,
    "start_time": "2022-08-23T03:23:56.049Z"
   },
   {
    "duration": 7,
    "start_time": "2022-08-23T03:24:09.802Z"
   },
   {
    "duration": 1366,
    "start_time": "2022-08-23T03:24:17.613Z"
   },
   {
    "duration": 113,
    "start_time": "2022-08-23T03:24:18.982Z"
   },
   {
    "duration": 12,
    "start_time": "2022-08-23T03:24:19.097Z"
   },
   {
    "duration": 7,
    "start_time": "2022-08-23T03:24:19.111Z"
   },
   {
    "duration": 11,
    "start_time": "2022-08-23T03:24:19.121Z"
   },
   {
    "duration": 6,
    "start_time": "2022-08-23T03:24:19.134Z"
   },
   {
    "duration": 94,
    "start_time": "2022-08-23T03:24:19.142Z"
   },
   {
    "duration": 10,
    "start_time": "2022-08-23T03:24:19.238Z"
   },
   {
    "duration": 10,
    "start_time": "2022-08-23T03:24:19.250Z"
   },
   {
    "duration": 30,
    "start_time": "2022-08-23T03:24:19.261Z"
   },
   {
    "duration": 9,
    "start_time": "2022-08-23T03:24:19.292Z"
   },
   {
    "duration": 54,
    "start_time": "2022-08-23T03:24:19.303Z"
   },
   {
    "duration": 266,
    "start_time": "2022-08-23T03:24:19.359Z"
   },
   {
    "duration": 11,
    "start_time": "2022-08-23T03:24:19.628Z"
   },
   {
    "duration": 13,
    "start_time": "2022-08-23T03:24:19.640Z"
   },
   {
    "duration": 220,
    "start_time": "2022-08-23T03:24:19.655Z"
   },
   {
    "duration": 2,
    "start_time": "2022-08-23T03:24:19.877Z"
   },
   {
    "duration": 14,
    "start_time": "2022-08-23T03:24:19.881Z"
   },
   {
    "duration": 10,
    "start_time": "2022-08-23T03:24:19.897Z"
   },
   {
    "duration": 10,
    "start_time": "2022-08-23T03:24:19.908Z"
   },
   {
    "duration": 8,
    "start_time": "2022-08-23T03:24:19.920Z"
   },
   {
    "duration": 17,
    "start_time": "2022-08-23T03:24:19.930Z"
   },
   {
    "duration": 9,
    "start_time": "2022-08-23T03:24:19.949Z"
   },
   {
    "duration": 19,
    "start_time": "2022-08-23T03:24:19.960Z"
   },
   {
    "duration": 10,
    "start_time": "2022-08-23T03:24:19.981Z"
   }
  ],
  "kernelspec": {
   "display_name": "Python 3 (ipykernel)",
   "language": "python",
   "name": "python3"
  },
  "language_info": {
   "codemirror_mode": {
    "name": "ipython",
    "version": 3
   },
   "file_extension": ".py",
   "mimetype": "text/x-python",
   "name": "python",
   "nbconvert_exporter": "python",
   "pygments_lexer": "ipython3",
   "version": "3.9.5"
  },
  "toc": {
   "base_numbering": 1,
   "nav_menu": {},
   "number_sections": true,
   "sideBar": true,
   "skip_h1_title": true,
   "title_cell": "Table of Contents",
   "title_sidebar": "Contents",
   "toc_cell": false,
   "toc_position": {},
   "toc_section_display": true,
   "toc_window_display": false
  }
 },
 "nbformat": 4,
 "nbformat_minor": 2
}
