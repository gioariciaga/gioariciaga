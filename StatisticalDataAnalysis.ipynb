{
 "cells": [
  {
   "cell_type": "markdown",
   "metadata": {},
   "source": [
    "# Which one is a better plan?\n",
    "\n",
    "You work as an analyst for the telecom operator Megaline. The company offers its clients two prepaid plans, Surf and Ultimate. The commercial department wants to know which of the plans brings in more revenue in order to adjust the advertising budget.\n",
    "\n",
    "You are going to carry out a preliminary analysis of the plans based on a relatively small client selection. You'll have the data on 500 Megaline clients: who the clients are, where they're from, which plan they use, and the number of calls they made and text messages they sent in 2018. Your job is to analyze the clients' behavior and determine which prepaid plan brings in more revenue."
   ]
  },
  {
   "cell_type": "markdown",
   "metadata": {},
   "source": [
    "<u>Goals</u>\n",
    " - Clean + fix any data issues\n",
    " - Generate any extra data needed for reporting\n",
    " - Explore the datasets -> explore how the different plans can interact with the different variables\n",
    " - Explore how revenue can change depending on other variables (plan etc.)\n",
    " - Perform statistical test on the hypotheses\n",
    " - Written Conclusion"
   ]
  },
  {
   "cell_type": "markdown",
   "metadata": {},
   "source": [
    "## Initialization"
   ]
  },
  {
   "cell_type": "markdown",
   "metadata": {},
   "source": [
    "adding needed libraries for data exploration + plotting to complete the data analysis"
   ]
  },
  {
   "cell_type": "code",
   "execution_count": 101,
   "metadata": {},
   "outputs": [],
   "source": [
    "# Loading all the libraries\n",
    "import pandas as pd\n",
    "import numpy as np\n",
    "import datetime\n",
    "import matplotlib.pyplot as plt\n",
    "from scipy import stats as st\n",
    "\n",
    "# imported for merging DataFrames\n",
    "from functools import reduce \n"
   ]
  },
  {
   "cell_type": "markdown",
   "metadata": {},
   "source": [
    "## Load data"
   ]
  },
  {
   "cell_type": "markdown",
   "metadata": {},
   "source": [
    "### 5 different datasets to load\n",
    " - calls\n",
    " - internet\n",
    " - messages\n",
    " - plans\n",
    " - users"
   ]
  },
  {
   "cell_type": "code",
   "execution_count": 102,
   "metadata": {},
   "outputs": [],
   "source": [
    "# Load the data files into different DataFrames\n",
    "calls_df = pd.read_csv('/datasets/megaline_calls.csv')\n",
    "# calls_df.head()\n",
    "\n",
    "internet_df = pd.read_csv('/datasets/megaline_internet.csv')\n",
    "messages_df = pd.read_csv('/datasets/megaline_messages.csv')\n",
    "plans_df = pd.read_csv('/datasets/megaline_plans.csv')\n",
    "users_df = pd.read_csv('/datasets/megaline_users.csv')"
   ]
  },
  {
   "cell_type": "markdown",
   "metadata": {},
   "source": [
    "## Prepare the data"
   ]
  },
  {
   "cell_type": "markdown",
   "metadata": {},
   "source": [
    "## Plans"
   ]
  },
  {
   "cell_type": "code",
   "execution_count": 103,
   "metadata": {},
   "outputs": [
    {
     "data": {
      "text/html": [
       "<div>\n",
       "<style scoped>\n",
       "    .dataframe tbody tr th:only-of-type {\n",
       "        vertical-align: middle;\n",
       "    }\n",
       "\n",
       "    .dataframe tbody tr th {\n",
       "        vertical-align: top;\n",
       "    }\n",
       "\n",
       "    .dataframe thead th {\n",
       "        text-align: right;\n",
       "    }\n",
       "</style>\n",
       "<table border=\"1\" class=\"dataframe\">\n",
       "  <thead>\n",
       "    <tr style=\"text-align: right;\">\n",
       "      <th></th>\n",
       "      <th>messages_included</th>\n",
       "      <th>mb_per_month_included</th>\n",
       "      <th>minutes_included</th>\n",
       "      <th>usd_monthly_pay</th>\n",
       "      <th>usd_per_gb</th>\n",
       "      <th>usd_per_message</th>\n",
       "      <th>usd_per_minute</th>\n",
       "    </tr>\n",
       "  </thead>\n",
       "  <tbody>\n",
       "    <tr>\n",
       "      <th>count</th>\n",
       "      <td>2.000000</td>\n",
       "      <td>2.000000</td>\n",
       "      <td>2.000000</td>\n",
       "      <td>2.000000</td>\n",
       "      <td>2.00000</td>\n",
       "      <td>2.000000</td>\n",
       "      <td>2.000000</td>\n",
       "    </tr>\n",
       "    <tr>\n",
       "      <th>mean</th>\n",
       "      <td>525.000000</td>\n",
       "      <td>23040.000000</td>\n",
       "      <td>1750.000000</td>\n",
       "      <td>45.000000</td>\n",
       "      <td>8.50000</td>\n",
       "      <td>0.020000</td>\n",
       "      <td>0.020000</td>\n",
       "    </tr>\n",
       "    <tr>\n",
       "      <th>std</th>\n",
       "      <td>671.751442</td>\n",
       "      <td>10861.160159</td>\n",
       "      <td>1767.766953</td>\n",
       "      <td>35.355339</td>\n",
       "      <td>2.12132</td>\n",
       "      <td>0.014142</td>\n",
       "      <td>0.014142</td>\n",
       "    </tr>\n",
       "    <tr>\n",
       "      <th>min</th>\n",
       "      <td>50.000000</td>\n",
       "      <td>15360.000000</td>\n",
       "      <td>500.000000</td>\n",
       "      <td>20.000000</td>\n",
       "      <td>7.00000</td>\n",
       "      <td>0.010000</td>\n",
       "      <td>0.010000</td>\n",
       "    </tr>\n",
       "    <tr>\n",
       "      <th>25%</th>\n",
       "      <td>287.500000</td>\n",
       "      <td>19200.000000</td>\n",
       "      <td>1125.000000</td>\n",
       "      <td>32.500000</td>\n",
       "      <td>7.75000</td>\n",
       "      <td>0.015000</td>\n",
       "      <td>0.015000</td>\n",
       "    </tr>\n",
       "    <tr>\n",
       "      <th>50%</th>\n",
       "      <td>525.000000</td>\n",
       "      <td>23040.000000</td>\n",
       "      <td>1750.000000</td>\n",
       "      <td>45.000000</td>\n",
       "      <td>8.50000</td>\n",
       "      <td>0.020000</td>\n",
       "      <td>0.020000</td>\n",
       "    </tr>\n",
       "    <tr>\n",
       "      <th>75%</th>\n",
       "      <td>762.500000</td>\n",
       "      <td>26880.000000</td>\n",
       "      <td>2375.000000</td>\n",
       "      <td>57.500000</td>\n",
       "      <td>9.25000</td>\n",
       "      <td>0.025000</td>\n",
       "      <td>0.025000</td>\n",
       "    </tr>\n",
       "    <tr>\n",
       "      <th>max</th>\n",
       "      <td>1000.000000</td>\n",
       "      <td>30720.000000</td>\n",
       "      <td>3000.000000</td>\n",
       "      <td>70.000000</td>\n",
       "      <td>10.00000</td>\n",
       "      <td>0.030000</td>\n",
       "      <td>0.030000</td>\n",
       "    </tr>\n",
       "  </tbody>\n",
       "</table>\n",
       "</div>"
      ],
      "text/plain": [
       "       messages_included  mb_per_month_included  minutes_included  \\\n",
       "count           2.000000               2.000000          2.000000   \n",
       "mean          525.000000           23040.000000       1750.000000   \n",
       "std           671.751442           10861.160159       1767.766953   \n",
       "min            50.000000           15360.000000        500.000000   \n",
       "25%           287.500000           19200.000000       1125.000000   \n",
       "50%           525.000000           23040.000000       1750.000000   \n",
       "75%           762.500000           26880.000000       2375.000000   \n",
       "max          1000.000000           30720.000000       3000.000000   \n",
       "\n",
       "       usd_monthly_pay  usd_per_gb  usd_per_message  usd_per_minute  \n",
       "count         2.000000     2.00000         2.000000        2.000000  \n",
       "mean         45.000000     8.50000         0.020000        0.020000  \n",
       "std          35.355339     2.12132         0.014142        0.014142  \n",
       "min          20.000000     7.00000         0.010000        0.010000  \n",
       "25%          32.500000     7.75000         0.015000        0.015000  \n",
       "50%          45.000000     8.50000         0.020000        0.020000  \n",
       "75%          57.500000     9.25000         0.025000        0.025000  \n",
       "max          70.000000    10.00000         0.030000        0.030000  "
      ]
     },
     "execution_count": 103,
     "metadata": {},
     "output_type": "execute_result"
    }
   ],
   "source": [
    "# Print the general/summary information about the plans' DataFrame\n",
    "plans_df.describe()"
   ]
  },
  {
   "cell_type": "code",
   "execution_count": 104,
   "metadata": {},
   "outputs": [
    {
     "data": {
      "text/html": [
       "<div>\n",
       "<style scoped>\n",
       "    .dataframe tbody tr th:only-of-type {\n",
       "        vertical-align: middle;\n",
       "    }\n",
       "\n",
       "    .dataframe tbody tr th {\n",
       "        vertical-align: top;\n",
       "    }\n",
       "\n",
       "    .dataframe thead th {\n",
       "        text-align: right;\n",
       "    }\n",
       "</style>\n",
       "<table border=\"1\" class=\"dataframe\">\n",
       "  <thead>\n",
       "    <tr style=\"text-align: right;\">\n",
       "      <th></th>\n",
       "      <th>messages_included</th>\n",
       "      <th>mb_per_month_included</th>\n",
       "      <th>minutes_included</th>\n",
       "      <th>usd_monthly_pay</th>\n",
       "      <th>usd_per_gb</th>\n",
       "      <th>usd_per_message</th>\n",
       "      <th>usd_per_minute</th>\n",
       "      <th>plan_name</th>\n",
       "    </tr>\n",
       "  </thead>\n",
       "  <tbody>\n",
       "    <tr>\n",
       "      <th>0</th>\n",
       "      <td>50</td>\n",
       "      <td>15360</td>\n",
       "      <td>500</td>\n",
       "      <td>20</td>\n",
       "      <td>10</td>\n",
       "      <td>0.03</td>\n",
       "      <td>0.03</td>\n",
       "      <td>surf</td>\n",
       "    </tr>\n",
       "    <tr>\n",
       "      <th>1</th>\n",
       "      <td>1000</td>\n",
       "      <td>30720</td>\n",
       "      <td>3000</td>\n",
       "      <td>70</td>\n",
       "      <td>7</td>\n",
       "      <td>0.01</td>\n",
       "      <td>0.01</td>\n",
       "      <td>ultimate</td>\n",
       "    </tr>\n",
       "  </tbody>\n",
       "</table>\n",
       "</div>"
      ],
      "text/plain": [
       "   messages_included  mb_per_month_included  minutes_included  \\\n",
       "0                 50                  15360               500   \n",
       "1               1000                  30720              3000   \n",
       "\n",
       "   usd_monthly_pay  usd_per_gb  usd_per_message  usd_per_minute plan_name  \n",
       "0               20          10             0.03            0.03      surf  \n",
       "1               70           7             0.01            0.01  ultimate  "
      ]
     },
     "execution_count": 104,
     "metadata": {},
     "output_type": "execute_result"
    }
   ],
   "source": [
    "# Print a sample of data for plans\n",
    "plans_df.head()\n"
   ]
  },
  {
   "cell_type": "code",
   "execution_count": 105,
   "metadata": {},
   "outputs": [
    {
     "data": {
      "text/plain": [
       "messages_included          int64\n",
       "mb_per_month_included      int64\n",
       "minutes_included           int64\n",
       "usd_monthly_pay            int64\n",
       "usd_per_gb                 int64\n",
       "usd_per_message          float64\n",
       "usd_per_minute           float64\n",
       "plan_name                 object\n",
       "dtype: object"
      ]
     },
     "execution_count": 105,
     "metadata": {},
     "output_type": "execute_result"
    }
   ],
   "source": [
    "plans_df.dtypes"
   ]
  },
  {
   "cell_type": "markdown",
   "metadata": {},
   "source": [
    "\n",
    "### Plans data overview\n",
    "\n",
    " - only two rows in the plans DataFrame (relating to each of the megaline packages)\n",
    " - no missing values for any columns\n",
    " - all numerical data besides the plan_name field \n",
    " - Overall the datatypes seem to align well to the fields\n",
    " \n",
    " #### Potential issues/fixes\n",
    "  - We have both int and float datatypes. If Calculations are done with the ints that could potentially result in decimals, we may want to change the datatype to a float to perserve these.\n",
    "  - The above is relevant to the usd_monthly_pay and usd_per_gb, these have no decimals (cents) which we may want to include since it is a currency  \n",
    "  \n",
    "  *The above may not be needed but would make it more consistent with other USD fields*"
   ]
  },
  {
   "cell_type": "markdown",
   "metadata": {},
   "source": [
    " "
   ]
  },
  {
   "cell_type": "markdown",
   "metadata": {},
   "source": [
    "## Fix data"
   ]
  },
  {
   "cell_type": "markdown",
   "metadata": {},
   "source": [
    "We are going to precautiously convert the USD columns to floats. "
   ]
  },
  {
   "cell_type": "code",
   "execution_count": 106,
   "metadata": {},
   "outputs": [
    {
     "name": "stdout",
     "output_type": "stream",
     "text": [
      "messages_included          int64\n",
      "mb_per_month_included      int64\n",
      "minutes_included           int64\n",
      "usd_monthly_pay          float64\n",
      "usd_per_gb               float64\n",
      "usd_per_message          float64\n",
      "usd_per_minute           float64\n",
      "plan_name                 object\n",
      "dtype: object\n"
     ]
    },
    {
     "data": {
      "text/html": [
       "<div>\n",
       "<style scoped>\n",
       "    .dataframe tbody tr th:only-of-type {\n",
       "        vertical-align: middle;\n",
       "    }\n",
       "\n",
       "    .dataframe tbody tr th {\n",
       "        vertical-align: top;\n",
       "    }\n",
       "\n",
       "    .dataframe thead th {\n",
       "        text-align: right;\n",
       "    }\n",
       "</style>\n",
       "<table border=\"1\" class=\"dataframe\">\n",
       "  <thead>\n",
       "    <tr style=\"text-align: right;\">\n",
       "      <th></th>\n",
       "      <th>messages_included</th>\n",
       "      <th>mb_per_month_included</th>\n",
       "      <th>minutes_included</th>\n",
       "      <th>usd_monthly_pay</th>\n",
       "      <th>usd_per_gb</th>\n",
       "      <th>usd_per_message</th>\n",
       "      <th>usd_per_minute</th>\n",
       "      <th>plan_name</th>\n",
       "    </tr>\n",
       "  </thead>\n",
       "  <tbody>\n",
       "    <tr>\n",
       "      <th>0</th>\n",
       "      <td>50</td>\n",
       "      <td>15360</td>\n",
       "      <td>500</td>\n",
       "      <td>20.0</td>\n",
       "      <td>10.0</td>\n",
       "      <td>0.03</td>\n",
       "      <td>0.03</td>\n",
       "      <td>surf</td>\n",
       "    </tr>\n",
       "    <tr>\n",
       "      <th>1</th>\n",
       "      <td>1000</td>\n",
       "      <td>30720</td>\n",
       "      <td>3000</td>\n",
       "      <td>70.0</td>\n",
       "      <td>7.0</td>\n",
       "      <td>0.01</td>\n",
       "      <td>0.01</td>\n",
       "      <td>ultimate</td>\n",
       "    </tr>\n",
       "  </tbody>\n",
       "</table>\n",
       "</div>"
      ],
      "text/plain": [
       "   messages_included  mb_per_month_included  minutes_included  \\\n",
       "0                 50                  15360               500   \n",
       "1               1000                  30720              3000   \n",
       "\n",
       "   usd_monthly_pay  usd_per_gb  usd_per_message  usd_per_minute plan_name  \n",
       "0             20.0        10.0             0.03            0.03      surf  \n",
       "1             70.0         7.0             0.01            0.01  ultimate  "
      ]
     },
     "execution_count": 106,
     "metadata": {},
     "output_type": "execute_result"
    }
   ],
   "source": [
    "# Convert columns to float\n",
    "plans_df['usd_monthly_pay'] = plans_df['usd_monthly_pay'].astype('float')\n",
    "plans_df['usd_per_gb'] = plans_df['usd_per_gb'].astype('float')\n",
    "\n",
    "# view results\n",
    "print(plans_df.dtypes) \n",
    "plans_df.head()"
   ]
  },
  {
   "cell_type": "markdown",
   "metadata": {},
   "source": [
    "## Enrich data"
   ]
  },
  {
   "cell_type": "code",
   "execution_count": 107,
   "metadata": {},
   "outputs": [],
   "source": [
    "# Nothing to add as of now. Come back later?"
   ]
  },
  {
   "cell_type": "markdown",
   "metadata": {},
   "source": [
    "## Users"
   ]
  },
  {
   "cell_type": "code",
   "execution_count": 108,
   "metadata": {},
   "outputs": [
    {
     "data": {
      "text/html": [
       "<div>\n",
       "<style scoped>\n",
       "    .dataframe tbody tr th:only-of-type {\n",
       "        vertical-align: middle;\n",
       "    }\n",
       "\n",
       "    .dataframe tbody tr th {\n",
       "        vertical-align: top;\n",
       "    }\n",
       "\n",
       "    .dataframe thead th {\n",
       "        text-align: right;\n",
       "    }\n",
       "</style>\n",
       "<table border=\"1\" class=\"dataframe\">\n",
       "  <thead>\n",
       "    <tr style=\"text-align: right;\">\n",
       "      <th></th>\n",
       "      <th>user_id</th>\n",
       "      <th>age</th>\n",
       "    </tr>\n",
       "  </thead>\n",
       "  <tbody>\n",
       "    <tr>\n",
       "      <th>count</th>\n",
       "      <td>500.000000</td>\n",
       "      <td>500.000000</td>\n",
       "    </tr>\n",
       "    <tr>\n",
       "      <th>mean</th>\n",
       "      <td>1249.500000</td>\n",
       "      <td>45.486000</td>\n",
       "    </tr>\n",
       "    <tr>\n",
       "      <th>std</th>\n",
       "      <td>144.481833</td>\n",
       "      <td>16.972269</td>\n",
       "    </tr>\n",
       "    <tr>\n",
       "      <th>min</th>\n",
       "      <td>1000.000000</td>\n",
       "      <td>18.000000</td>\n",
       "    </tr>\n",
       "    <tr>\n",
       "      <th>25%</th>\n",
       "      <td>1124.750000</td>\n",
       "      <td>30.000000</td>\n",
       "    </tr>\n",
       "    <tr>\n",
       "      <th>50%</th>\n",
       "      <td>1249.500000</td>\n",
       "      <td>46.000000</td>\n",
       "    </tr>\n",
       "    <tr>\n",
       "      <th>75%</th>\n",
       "      <td>1374.250000</td>\n",
       "      <td>61.000000</td>\n",
       "    </tr>\n",
       "    <tr>\n",
       "      <th>max</th>\n",
       "      <td>1499.000000</td>\n",
       "      <td>75.000000</td>\n",
       "    </tr>\n",
       "  </tbody>\n",
       "</table>\n",
       "</div>"
      ],
      "text/plain": [
       "           user_id         age\n",
       "count   500.000000  500.000000\n",
       "mean   1249.500000   45.486000\n",
       "std     144.481833   16.972269\n",
       "min    1000.000000   18.000000\n",
       "25%    1124.750000   30.000000\n",
       "50%    1249.500000   46.000000\n",
       "75%    1374.250000   61.000000\n",
       "max    1499.000000   75.000000"
      ]
     },
     "execution_count": 108,
     "metadata": {},
     "output_type": "execute_result"
    }
   ],
   "source": [
    "# Print the general/summary information about the users' DataFrame\n",
    "users_df.describe()\n"
   ]
  },
  {
   "cell_type": "code",
   "execution_count": 109,
   "metadata": {},
   "outputs": [
    {
     "data": {
      "text/html": [
       "<div>\n",
       "<style scoped>\n",
       "    .dataframe tbody tr th:only-of-type {\n",
       "        vertical-align: middle;\n",
       "    }\n",
       "\n",
       "    .dataframe tbody tr th {\n",
       "        vertical-align: top;\n",
       "    }\n",
       "\n",
       "    .dataframe thead th {\n",
       "        text-align: right;\n",
       "    }\n",
       "</style>\n",
       "<table border=\"1\" class=\"dataframe\">\n",
       "  <thead>\n",
       "    <tr style=\"text-align: right;\">\n",
       "      <th></th>\n",
       "      <th>user_id</th>\n",
       "      <th>first_name</th>\n",
       "      <th>last_name</th>\n",
       "      <th>age</th>\n",
       "      <th>city</th>\n",
       "      <th>reg_date</th>\n",
       "      <th>plan</th>\n",
       "      <th>churn_date</th>\n",
       "    </tr>\n",
       "  </thead>\n",
       "  <tbody>\n",
       "    <tr>\n",
       "      <th>0</th>\n",
       "      <td>1000</td>\n",
       "      <td>Anamaria</td>\n",
       "      <td>Bauer</td>\n",
       "      <td>45</td>\n",
       "      <td>Atlanta-Sandy Springs-Roswell, GA MSA</td>\n",
       "      <td>2018-12-24</td>\n",
       "      <td>ultimate</td>\n",
       "      <td>NaN</td>\n",
       "    </tr>\n",
       "    <tr>\n",
       "      <th>1</th>\n",
       "      <td>1001</td>\n",
       "      <td>Mickey</td>\n",
       "      <td>Wilkerson</td>\n",
       "      <td>28</td>\n",
       "      <td>Seattle-Tacoma-Bellevue, WA MSA</td>\n",
       "      <td>2018-08-13</td>\n",
       "      <td>surf</td>\n",
       "      <td>NaN</td>\n",
       "    </tr>\n",
       "    <tr>\n",
       "      <th>2</th>\n",
       "      <td>1002</td>\n",
       "      <td>Carlee</td>\n",
       "      <td>Hoffman</td>\n",
       "      <td>36</td>\n",
       "      <td>Las Vegas-Henderson-Paradise, NV MSA</td>\n",
       "      <td>2018-10-21</td>\n",
       "      <td>surf</td>\n",
       "      <td>NaN</td>\n",
       "    </tr>\n",
       "    <tr>\n",
       "      <th>3</th>\n",
       "      <td>1003</td>\n",
       "      <td>Reynaldo</td>\n",
       "      <td>Jenkins</td>\n",
       "      <td>52</td>\n",
       "      <td>Tulsa, OK MSA</td>\n",
       "      <td>2018-01-28</td>\n",
       "      <td>surf</td>\n",
       "      <td>NaN</td>\n",
       "    </tr>\n",
       "    <tr>\n",
       "      <th>4</th>\n",
       "      <td>1004</td>\n",
       "      <td>Leonila</td>\n",
       "      <td>Thompson</td>\n",
       "      <td>40</td>\n",
       "      <td>Seattle-Tacoma-Bellevue, WA MSA</td>\n",
       "      <td>2018-05-23</td>\n",
       "      <td>surf</td>\n",
       "      <td>NaN</td>\n",
       "    </tr>\n",
       "    <tr>\n",
       "      <th>5</th>\n",
       "      <td>1005</td>\n",
       "      <td>Livia</td>\n",
       "      <td>Shields</td>\n",
       "      <td>31</td>\n",
       "      <td>Dallas-Fort Worth-Arlington, TX MSA</td>\n",
       "      <td>2018-11-29</td>\n",
       "      <td>surf</td>\n",
       "      <td>NaN</td>\n",
       "    </tr>\n",
       "    <tr>\n",
       "      <th>6</th>\n",
       "      <td>1006</td>\n",
       "      <td>Jesusa</td>\n",
       "      <td>Bradford</td>\n",
       "      <td>73</td>\n",
       "      <td>San Francisco-Oakland-Berkeley, CA MSA</td>\n",
       "      <td>2018-11-27</td>\n",
       "      <td>ultimate</td>\n",
       "      <td>2018-12-18</td>\n",
       "    </tr>\n",
       "    <tr>\n",
       "      <th>7</th>\n",
       "      <td>1007</td>\n",
       "      <td>Eusebio</td>\n",
       "      <td>Welch</td>\n",
       "      <td>42</td>\n",
       "      <td>Grand Rapids-Kentwood, MI MSA</td>\n",
       "      <td>2018-07-11</td>\n",
       "      <td>surf</td>\n",
       "      <td>NaN</td>\n",
       "    </tr>\n",
       "    <tr>\n",
       "      <th>8</th>\n",
       "      <td>1008</td>\n",
       "      <td>Emely</td>\n",
       "      <td>Hoffman</td>\n",
       "      <td>53</td>\n",
       "      <td>Orlando-Kissimmee-Sanford, FL MSA</td>\n",
       "      <td>2018-08-03</td>\n",
       "      <td>ultimate</td>\n",
       "      <td>NaN</td>\n",
       "    </tr>\n",
       "    <tr>\n",
       "      <th>9</th>\n",
       "      <td>1009</td>\n",
       "      <td>Gerry</td>\n",
       "      <td>Little</td>\n",
       "      <td>19</td>\n",
       "      <td>San Jose-Sunnyvale-Santa Clara, CA MSA</td>\n",
       "      <td>2018-04-22</td>\n",
       "      <td>surf</td>\n",
       "      <td>NaN</td>\n",
       "    </tr>\n",
       "  </tbody>\n",
       "</table>\n",
       "</div>"
      ],
      "text/plain": [
       "   user_id first_name  last_name  age                                    city  \\\n",
       "0     1000   Anamaria      Bauer   45   Atlanta-Sandy Springs-Roswell, GA MSA   \n",
       "1     1001     Mickey  Wilkerson   28         Seattle-Tacoma-Bellevue, WA MSA   \n",
       "2     1002     Carlee    Hoffman   36    Las Vegas-Henderson-Paradise, NV MSA   \n",
       "3     1003   Reynaldo    Jenkins   52                           Tulsa, OK MSA   \n",
       "4     1004    Leonila   Thompson   40         Seattle-Tacoma-Bellevue, WA MSA   \n",
       "5     1005      Livia    Shields   31     Dallas-Fort Worth-Arlington, TX MSA   \n",
       "6     1006     Jesusa   Bradford   73  San Francisco-Oakland-Berkeley, CA MSA   \n",
       "7     1007    Eusebio      Welch   42           Grand Rapids-Kentwood, MI MSA   \n",
       "8     1008      Emely    Hoffman   53       Orlando-Kissimmee-Sanford, FL MSA   \n",
       "9     1009      Gerry     Little   19  San Jose-Sunnyvale-Santa Clara, CA MSA   \n",
       "\n",
       "     reg_date      plan  churn_date  \n",
       "0  2018-12-24  ultimate         NaN  \n",
       "1  2018-08-13      surf         NaN  \n",
       "2  2018-10-21      surf         NaN  \n",
       "3  2018-01-28      surf         NaN  \n",
       "4  2018-05-23      surf         NaN  \n",
       "5  2018-11-29      surf         NaN  \n",
       "6  2018-11-27  ultimate  2018-12-18  \n",
       "7  2018-07-11      surf         NaN  \n",
       "8  2018-08-03  ultimate         NaN  \n",
       "9  2018-04-22      surf         NaN  "
      ]
     },
     "execution_count": 109,
     "metadata": {},
     "output_type": "execute_result"
    }
   ],
   "source": [
    "# Print a sample of data for users\n",
    "users_df.head(10)"
   ]
  },
  {
   "cell_type": "code",
   "execution_count": 110,
   "metadata": {},
   "outputs": [
    {
     "data": {
      "text/plain": [
       "user_id         0\n",
       "first_name      0\n",
       "last_name       0\n",
       "age             0\n",
       "city            0\n",
       "reg_date        0\n",
       "plan            0\n",
       "churn_date    466\n",
       "dtype: int64"
      ]
     },
     "execution_count": 110,
     "metadata": {},
     "output_type": "execute_result"
    }
   ],
   "source": [
    "# Explore NaN counts by column after seeing in churn_date sample\n",
    "users_df.isna().sum()"
   ]
  },
  {
   "cell_type": "code",
   "execution_count": 111,
   "metadata": {},
   "outputs": [
    {
     "data": {
      "text/plain": [
       "user_id        int64\n",
       "first_name    object\n",
       "last_name     object\n",
       "age            int64\n",
       "city          object\n",
       "reg_date      object\n",
       "plan          object\n",
       "churn_date    object\n",
       "dtype: object"
      ]
     },
     "execution_count": 111,
     "metadata": {},
     "output_type": "execute_result"
    }
   ],
   "source": [
    "users_df.dtypes"
   ]
  },
  {
   "cell_type": "markdown",
   "metadata": {},
   "source": [
    "\n",
    "### Users Data Overview\n",
    " - we have 500 user records\n",
    " - All the data IDs or describes information on the user\n",
    " - Most columns are stored as objects (str), the two numerical columns are ID and age. \n",
    " - The churn_date is mostly null, with 466/500 values missing. \n",
    " - the plan column relates to the plan_name column in the plans df, this can be joined so we have detailed plan information with per user \n",
    " \n",
    "  #### potentials issues/fixes\n",
    "  - There are two date fields currently stored as objects, these can be changed to date datatypes\n",
    "  - city has additional information that we could split out to multiple columns if wanted (split by ,)\n",
    "  - though there are a lot of values missing in churn_date, it is not appropriate to impute values here"
   ]
  },
  {
   "cell_type": "markdown",
   "metadata": {},
   "source": [
    " "
   ]
  },
  {
   "cell_type": "markdown",
   "metadata": {},
   "source": [
    "### Fix Data"
   ]
  },
  {
   "cell_type": "markdown",
   "metadata": {},
   "source": [
    "Converting our two date fields to the correct datatypes"
   ]
  },
  {
   "cell_type": "code",
   "execution_count": 112,
   "metadata": {},
   "outputs": [
    {
     "name": "stdout",
     "output_type": "stream",
     "text": [
      "user_id                int64\n",
      "first_name            object\n",
      "last_name             object\n",
      "age                    int64\n",
      "city                  object\n",
      "reg_date      datetime64[ns]\n",
      "plan                  object\n",
      "churn_date    datetime64[ns]\n",
      "dtype: object\n"
     ]
    },
    {
     "data": {
      "text/html": [
       "<div>\n",
       "<style scoped>\n",
       "    .dataframe tbody tr th:only-of-type {\n",
       "        vertical-align: middle;\n",
       "    }\n",
       "\n",
       "    .dataframe tbody tr th {\n",
       "        vertical-align: top;\n",
       "    }\n",
       "\n",
       "    .dataframe thead th {\n",
       "        text-align: right;\n",
       "    }\n",
       "</style>\n",
       "<table border=\"1\" class=\"dataframe\">\n",
       "  <thead>\n",
       "    <tr style=\"text-align: right;\">\n",
       "      <th></th>\n",
       "      <th>user_id</th>\n",
       "      <th>first_name</th>\n",
       "      <th>last_name</th>\n",
       "      <th>age</th>\n",
       "      <th>city</th>\n",
       "      <th>reg_date</th>\n",
       "      <th>plan</th>\n",
       "      <th>churn_date</th>\n",
       "    </tr>\n",
       "  </thead>\n",
       "  <tbody>\n",
       "    <tr>\n",
       "      <th>0</th>\n",
       "      <td>1000</td>\n",
       "      <td>Anamaria</td>\n",
       "      <td>Bauer</td>\n",
       "      <td>45</td>\n",
       "      <td>Atlanta-Sandy Springs-Roswell, GA MSA</td>\n",
       "      <td>2018-12-24</td>\n",
       "      <td>ultimate</td>\n",
       "      <td>NaT</td>\n",
       "    </tr>\n",
       "    <tr>\n",
       "      <th>1</th>\n",
       "      <td>1001</td>\n",
       "      <td>Mickey</td>\n",
       "      <td>Wilkerson</td>\n",
       "      <td>28</td>\n",
       "      <td>Seattle-Tacoma-Bellevue, WA MSA</td>\n",
       "      <td>2018-08-13</td>\n",
       "      <td>surf</td>\n",
       "      <td>NaT</td>\n",
       "    </tr>\n",
       "    <tr>\n",
       "      <th>2</th>\n",
       "      <td>1002</td>\n",
       "      <td>Carlee</td>\n",
       "      <td>Hoffman</td>\n",
       "      <td>36</td>\n",
       "      <td>Las Vegas-Henderson-Paradise, NV MSA</td>\n",
       "      <td>2018-10-21</td>\n",
       "      <td>surf</td>\n",
       "      <td>NaT</td>\n",
       "    </tr>\n",
       "    <tr>\n",
       "      <th>3</th>\n",
       "      <td>1003</td>\n",
       "      <td>Reynaldo</td>\n",
       "      <td>Jenkins</td>\n",
       "      <td>52</td>\n",
       "      <td>Tulsa, OK MSA</td>\n",
       "      <td>2018-01-28</td>\n",
       "      <td>surf</td>\n",
       "      <td>NaT</td>\n",
       "    </tr>\n",
       "    <tr>\n",
       "      <th>4</th>\n",
       "      <td>1004</td>\n",
       "      <td>Leonila</td>\n",
       "      <td>Thompson</td>\n",
       "      <td>40</td>\n",
       "      <td>Seattle-Tacoma-Bellevue, WA MSA</td>\n",
       "      <td>2018-05-23</td>\n",
       "      <td>surf</td>\n",
       "      <td>NaT</td>\n",
       "    </tr>\n",
       "    <tr>\n",
       "      <th>5</th>\n",
       "      <td>1005</td>\n",
       "      <td>Livia</td>\n",
       "      <td>Shields</td>\n",
       "      <td>31</td>\n",
       "      <td>Dallas-Fort Worth-Arlington, TX MSA</td>\n",
       "      <td>2018-11-29</td>\n",
       "      <td>surf</td>\n",
       "      <td>NaT</td>\n",
       "    </tr>\n",
       "    <tr>\n",
       "      <th>6</th>\n",
       "      <td>1006</td>\n",
       "      <td>Jesusa</td>\n",
       "      <td>Bradford</td>\n",
       "      <td>73</td>\n",
       "      <td>San Francisco-Oakland-Berkeley, CA MSA</td>\n",
       "      <td>2018-11-27</td>\n",
       "      <td>ultimate</td>\n",
       "      <td>2018-12-18</td>\n",
       "    </tr>\n",
       "    <tr>\n",
       "      <th>7</th>\n",
       "      <td>1007</td>\n",
       "      <td>Eusebio</td>\n",
       "      <td>Welch</td>\n",
       "      <td>42</td>\n",
       "      <td>Grand Rapids-Kentwood, MI MSA</td>\n",
       "      <td>2018-07-11</td>\n",
       "      <td>surf</td>\n",
       "      <td>NaT</td>\n",
       "    </tr>\n",
       "    <tr>\n",
       "      <th>8</th>\n",
       "      <td>1008</td>\n",
       "      <td>Emely</td>\n",
       "      <td>Hoffman</td>\n",
       "      <td>53</td>\n",
       "      <td>Orlando-Kissimmee-Sanford, FL MSA</td>\n",
       "      <td>2018-08-03</td>\n",
       "      <td>ultimate</td>\n",
       "      <td>NaT</td>\n",
       "    </tr>\n",
       "    <tr>\n",
       "      <th>9</th>\n",
       "      <td>1009</td>\n",
       "      <td>Gerry</td>\n",
       "      <td>Little</td>\n",
       "      <td>19</td>\n",
       "      <td>San Jose-Sunnyvale-Santa Clara, CA MSA</td>\n",
       "      <td>2018-04-22</td>\n",
       "      <td>surf</td>\n",
       "      <td>NaT</td>\n",
       "    </tr>\n",
       "  </tbody>\n",
       "</table>\n",
       "</div>"
      ],
      "text/plain": [
       "   user_id first_name  last_name  age                                    city  \\\n",
       "0     1000   Anamaria      Bauer   45   Atlanta-Sandy Springs-Roswell, GA MSA   \n",
       "1     1001     Mickey  Wilkerson   28         Seattle-Tacoma-Bellevue, WA MSA   \n",
       "2     1002     Carlee    Hoffman   36    Las Vegas-Henderson-Paradise, NV MSA   \n",
       "3     1003   Reynaldo    Jenkins   52                           Tulsa, OK MSA   \n",
       "4     1004    Leonila   Thompson   40         Seattle-Tacoma-Bellevue, WA MSA   \n",
       "5     1005      Livia    Shields   31     Dallas-Fort Worth-Arlington, TX MSA   \n",
       "6     1006     Jesusa   Bradford   73  San Francisco-Oakland-Berkeley, CA MSA   \n",
       "7     1007    Eusebio      Welch   42           Grand Rapids-Kentwood, MI MSA   \n",
       "8     1008      Emely    Hoffman   53       Orlando-Kissimmee-Sanford, FL MSA   \n",
       "9     1009      Gerry     Little   19  San Jose-Sunnyvale-Santa Clara, CA MSA   \n",
       "\n",
       "    reg_date      plan churn_date  \n",
       "0 2018-12-24  ultimate        NaT  \n",
       "1 2018-08-13      surf        NaT  \n",
       "2 2018-10-21      surf        NaT  \n",
       "3 2018-01-28      surf        NaT  \n",
       "4 2018-05-23      surf        NaT  \n",
       "5 2018-11-29      surf        NaT  \n",
       "6 2018-11-27  ultimate 2018-12-18  \n",
       "7 2018-07-11      surf        NaT  \n",
       "8 2018-08-03  ultimate        NaT  \n",
       "9 2018-04-22      surf        NaT  "
      ]
     },
     "execution_count": 112,
     "metadata": {},
     "output_type": "execute_result"
    }
   ],
   "source": [
    "users_df['reg_date'] = pd.to_datetime(users_df['reg_date'])\n",
    "users_df['churn_date'] = pd.to_datetime(users_df['churn_date'])\n",
    "print(users_df.dtypes)\n",
    "users_df.head(10)"
   ]
  },
  {
   "cell_type": "markdown",
   "metadata": {},
   "source": [
    "### Enrich Data"
   ]
  },
  {
   "cell_type": "markdown",
   "metadata": {},
   "source": [
    "Here we a create a binary 1,0 for whether a user churned to allow easier analysis later (easily pick out churned customers if needed) \n",
    "\n",
    "1 - customer churned \n",
    "\n",
    "0 - customer has NOT churned"
   ]
  },
  {
   "cell_type": "code",
   "execution_count": 113,
   "metadata": {},
   "outputs": [
    {
     "data": {
      "text/html": [
       "<div>\n",
       "<style scoped>\n",
       "    .dataframe tbody tr th:only-of-type {\n",
       "        vertical-align: middle;\n",
       "    }\n",
       "\n",
       "    .dataframe tbody tr th {\n",
       "        vertical-align: top;\n",
       "    }\n",
       "\n",
       "    .dataframe thead th {\n",
       "        text-align: right;\n",
       "    }\n",
       "</style>\n",
       "<table border=\"1\" class=\"dataframe\">\n",
       "  <thead>\n",
       "    <tr style=\"text-align: right;\">\n",
       "      <th></th>\n",
       "      <th>user_id</th>\n",
       "      <th>first_name</th>\n",
       "      <th>last_name</th>\n",
       "      <th>age</th>\n",
       "      <th>city</th>\n",
       "      <th>reg_date</th>\n",
       "      <th>plan</th>\n",
       "      <th>churn_date</th>\n",
       "      <th>churned</th>\n",
       "    </tr>\n",
       "  </thead>\n",
       "  <tbody>\n",
       "    <tr>\n",
       "      <th>0</th>\n",
       "      <td>1000</td>\n",
       "      <td>Anamaria</td>\n",
       "      <td>Bauer</td>\n",
       "      <td>45</td>\n",
       "      <td>Atlanta-Sandy Springs-Roswell, GA MSA</td>\n",
       "      <td>2018-12-24</td>\n",
       "      <td>ultimate</td>\n",
       "      <td>NaT</td>\n",
       "      <td>0</td>\n",
       "    </tr>\n",
       "    <tr>\n",
       "      <th>1</th>\n",
       "      <td>1001</td>\n",
       "      <td>Mickey</td>\n",
       "      <td>Wilkerson</td>\n",
       "      <td>28</td>\n",
       "      <td>Seattle-Tacoma-Bellevue, WA MSA</td>\n",
       "      <td>2018-08-13</td>\n",
       "      <td>surf</td>\n",
       "      <td>NaT</td>\n",
       "      <td>0</td>\n",
       "    </tr>\n",
       "    <tr>\n",
       "      <th>2</th>\n",
       "      <td>1002</td>\n",
       "      <td>Carlee</td>\n",
       "      <td>Hoffman</td>\n",
       "      <td>36</td>\n",
       "      <td>Las Vegas-Henderson-Paradise, NV MSA</td>\n",
       "      <td>2018-10-21</td>\n",
       "      <td>surf</td>\n",
       "      <td>NaT</td>\n",
       "      <td>0</td>\n",
       "    </tr>\n",
       "    <tr>\n",
       "      <th>3</th>\n",
       "      <td>1003</td>\n",
       "      <td>Reynaldo</td>\n",
       "      <td>Jenkins</td>\n",
       "      <td>52</td>\n",
       "      <td>Tulsa, OK MSA</td>\n",
       "      <td>2018-01-28</td>\n",
       "      <td>surf</td>\n",
       "      <td>NaT</td>\n",
       "      <td>0</td>\n",
       "    </tr>\n",
       "    <tr>\n",
       "      <th>4</th>\n",
       "      <td>1004</td>\n",
       "      <td>Leonila</td>\n",
       "      <td>Thompson</td>\n",
       "      <td>40</td>\n",
       "      <td>Seattle-Tacoma-Bellevue, WA MSA</td>\n",
       "      <td>2018-05-23</td>\n",
       "      <td>surf</td>\n",
       "      <td>NaT</td>\n",
       "      <td>0</td>\n",
       "    </tr>\n",
       "    <tr>\n",
       "      <th>5</th>\n",
       "      <td>1005</td>\n",
       "      <td>Livia</td>\n",
       "      <td>Shields</td>\n",
       "      <td>31</td>\n",
       "      <td>Dallas-Fort Worth-Arlington, TX MSA</td>\n",
       "      <td>2018-11-29</td>\n",
       "      <td>surf</td>\n",
       "      <td>NaT</td>\n",
       "      <td>0</td>\n",
       "    </tr>\n",
       "    <tr>\n",
       "      <th>6</th>\n",
       "      <td>1006</td>\n",
       "      <td>Jesusa</td>\n",
       "      <td>Bradford</td>\n",
       "      <td>73</td>\n",
       "      <td>San Francisco-Oakland-Berkeley, CA MSA</td>\n",
       "      <td>2018-11-27</td>\n",
       "      <td>ultimate</td>\n",
       "      <td>2018-12-18</td>\n",
       "      <td>1</td>\n",
       "    </tr>\n",
       "    <tr>\n",
       "      <th>7</th>\n",
       "      <td>1007</td>\n",
       "      <td>Eusebio</td>\n",
       "      <td>Welch</td>\n",
       "      <td>42</td>\n",
       "      <td>Grand Rapids-Kentwood, MI MSA</td>\n",
       "      <td>2018-07-11</td>\n",
       "      <td>surf</td>\n",
       "      <td>NaT</td>\n",
       "      <td>0</td>\n",
       "    </tr>\n",
       "    <tr>\n",
       "      <th>8</th>\n",
       "      <td>1008</td>\n",
       "      <td>Emely</td>\n",
       "      <td>Hoffman</td>\n",
       "      <td>53</td>\n",
       "      <td>Orlando-Kissimmee-Sanford, FL MSA</td>\n",
       "      <td>2018-08-03</td>\n",
       "      <td>ultimate</td>\n",
       "      <td>NaT</td>\n",
       "      <td>0</td>\n",
       "    </tr>\n",
       "    <tr>\n",
       "      <th>9</th>\n",
       "      <td>1009</td>\n",
       "      <td>Gerry</td>\n",
       "      <td>Little</td>\n",
       "      <td>19</td>\n",
       "      <td>San Jose-Sunnyvale-Santa Clara, CA MSA</td>\n",
       "      <td>2018-04-22</td>\n",
       "      <td>surf</td>\n",
       "      <td>NaT</td>\n",
       "      <td>0</td>\n",
       "    </tr>\n",
       "  </tbody>\n",
       "</table>\n",
       "</div>"
      ],
      "text/plain": [
       "   user_id first_name  last_name  age                                    city  \\\n",
       "0     1000   Anamaria      Bauer   45   Atlanta-Sandy Springs-Roswell, GA MSA   \n",
       "1     1001     Mickey  Wilkerson   28         Seattle-Tacoma-Bellevue, WA MSA   \n",
       "2     1002     Carlee    Hoffman   36    Las Vegas-Henderson-Paradise, NV MSA   \n",
       "3     1003   Reynaldo    Jenkins   52                           Tulsa, OK MSA   \n",
       "4     1004    Leonila   Thompson   40         Seattle-Tacoma-Bellevue, WA MSA   \n",
       "5     1005      Livia    Shields   31     Dallas-Fort Worth-Arlington, TX MSA   \n",
       "6     1006     Jesusa   Bradford   73  San Francisco-Oakland-Berkeley, CA MSA   \n",
       "7     1007    Eusebio      Welch   42           Grand Rapids-Kentwood, MI MSA   \n",
       "8     1008      Emely    Hoffman   53       Orlando-Kissimmee-Sanford, FL MSA   \n",
       "9     1009      Gerry     Little   19  San Jose-Sunnyvale-Santa Clara, CA MSA   \n",
       "\n",
       "    reg_date      plan churn_date  churned  \n",
       "0 2018-12-24  ultimate        NaT        0  \n",
       "1 2018-08-13      surf        NaT        0  \n",
       "2 2018-10-21      surf        NaT        0  \n",
       "3 2018-01-28      surf        NaT        0  \n",
       "4 2018-05-23      surf        NaT        0  \n",
       "5 2018-11-29      surf        NaT        0  \n",
       "6 2018-11-27  ultimate 2018-12-18        1  \n",
       "7 2018-07-11      surf        NaT        0  \n",
       "8 2018-08-03  ultimate        NaT        0  \n",
       "9 2018-04-22      surf        NaT        0  "
      ]
     },
     "execution_count": 113,
     "metadata": {},
     "output_type": "execute_result"
    }
   ],
   "source": [
    "users_df['churned'] = np.where(np.isnat(users_df['churn_date']), 0, 1)\n",
    "\n",
    "# check results to confirm it worked as expected\n",
    "users_df.head(10)"
   ]
  },
  {
   "cell_type": "markdown",
   "metadata": {},
   "source": [
    "## Calls"
   ]
  },
  {
   "cell_type": "code",
   "execution_count": 114,
   "metadata": {},
   "outputs": [
    {
     "data": {
      "text/html": [
       "<div>\n",
       "<style scoped>\n",
       "    .dataframe tbody tr th:only-of-type {\n",
       "        vertical-align: middle;\n",
       "    }\n",
       "\n",
       "    .dataframe tbody tr th {\n",
       "        vertical-align: top;\n",
       "    }\n",
       "\n",
       "    .dataframe thead th {\n",
       "        text-align: right;\n",
       "    }\n",
       "</style>\n",
       "<table border=\"1\" class=\"dataframe\">\n",
       "  <thead>\n",
       "    <tr style=\"text-align: right;\">\n",
       "      <th></th>\n",
       "      <th>user_id</th>\n",
       "      <th>duration</th>\n",
       "    </tr>\n",
       "  </thead>\n",
       "  <tbody>\n",
       "    <tr>\n",
       "      <th>count</th>\n",
       "      <td>137735.000000</td>\n",
       "      <td>137735.000000</td>\n",
       "    </tr>\n",
       "    <tr>\n",
       "      <th>mean</th>\n",
       "      <td>1247.658046</td>\n",
       "      <td>6.745927</td>\n",
       "    </tr>\n",
       "    <tr>\n",
       "      <th>std</th>\n",
       "      <td>139.416268</td>\n",
       "      <td>5.839241</td>\n",
       "    </tr>\n",
       "    <tr>\n",
       "      <th>min</th>\n",
       "      <td>1000.000000</td>\n",
       "      <td>0.000000</td>\n",
       "    </tr>\n",
       "    <tr>\n",
       "      <th>25%</th>\n",
       "      <td>1128.000000</td>\n",
       "      <td>1.290000</td>\n",
       "    </tr>\n",
       "    <tr>\n",
       "      <th>50%</th>\n",
       "      <td>1247.000000</td>\n",
       "      <td>5.980000</td>\n",
       "    </tr>\n",
       "    <tr>\n",
       "      <th>75%</th>\n",
       "      <td>1365.000000</td>\n",
       "      <td>10.690000</td>\n",
       "    </tr>\n",
       "    <tr>\n",
       "      <th>max</th>\n",
       "      <td>1499.000000</td>\n",
       "      <td>37.600000</td>\n",
       "    </tr>\n",
       "  </tbody>\n",
       "</table>\n",
       "</div>"
      ],
      "text/plain": [
       "             user_id       duration\n",
       "count  137735.000000  137735.000000\n",
       "mean     1247.658046       6.745927\n",
       "std       139.416268       5.839241\n",
       "min      1000.000000       0.000000\n",
       "25%      1128.000000       1.290000\n",
       "50%      1247.000000       5.980000\n",
       "75%      1365.000000      10.690000\n",
       "max      1499.000000      37.600000"
      ]
     },
     "execution_count": 114,
     "metadata": {},
     "output_type": "execute_result"
    }
   ],
   "source": [
    "# Print the general/summary information about the calls' DataFrame\n",
    "calls_df.describe()\n"
   ]
  },
  {
   "cell_type": "code",
   "execution_count": 115,
   "metadata": {},
   "outputs": [
    {
     "data": {
      "text/html": [
       "<div>\n",
       "<style scoped>\n",
       "    .dataframe tbody tr th:only-of-type {\n",
       "        vertical-align: middle;\n",
       "    }\n",
       "\n",
       "    .dataframe tbody tr th {\n",
       "        vertical-align: top;\n",
       "    }\n",
       "\n",
       "    .dataframe thead th {\n",
       "        text-align: right;\n",
       "    }\n",
       "</style>\n",
       "<table border=\"1\" class=\"dataframe\">\n",
       "  <thead>\n",
       "    <tr style=\"text-align: right;\">\n",
       "      <th></th>\n",
       "      <th>id</th>\n",
       "      <th>user_id</th>\n",
       "      <th>call_date</th>\n",
       "      <th>duration</th>\n",
       "    </tr>\n",
       "  </thead>\n",
       "  <tbody>\n",
       "    <tr>\n",
       "      <th>0</th>\n",
       "      <td>1000_93</td>\n",
       "      <td>1000</td>\n",
       "      <td>2018-12-27</td>\n",
       "      <td>8.52</td>\n",
       "    </tr>\n",
       "    <tr>\n",
       "      <th>1</th>\n",
       "      <td>1000_145</td>\n",
       "      <td>1000</td>\n",
       "      <td>2018-12-27</td>\n",
       "      <td>13.66</td>\n",
       "    </tr>\n",
       "    <tr>\n",
       "      <th>2</th>\n",
       "      <td>1000_247</td>\n",
       "      <td>1000</td>\n",
       "      <td>2018-12-27</td>\n",
       "      <td>14.48</td>\n",
       "    </tr>\n",
       "    <tr>\n",
       "      <th>3</th>\n",
       "      <td>1000_309</td>\n",
       "      <td>1000</td>\n",
       "      <td>2018-12-28</td>\n",
       "      <td>5.76</td>\n",
       "    </tr>\n",
       "    <tr>\n",
       "      <th>4</th>\n",
       "      <td>1000_380</td>\n",
       "      <td>1000</td>\n",
       "      <td>2018-12-30</td>\n",
       "      <td>4.22</td>\n",
       "    </tr>\n",
       "    <tr>\n",
       "      <th>5</th>\n",
       "      <td>1000_388</td>\n",
       "      <td>1000</td>\n",
       "      <td>2018-12-31</td>\n",
       "      <td>2.20</td>\n",
       "    </tr>\n",
       "    <tr>\n",
       "      <th>6</th>\n",
       "      <td>1000_510</td>\n",
       "      <td>1000</td>\n",
       "      <td>2018-12-27</td>\n",
       "      <td>5.75</td>\n",
       "    </tr>\n",
       "    <tr>\n",
       "      <th>7</th>\n",
       "      <td>1000_521</td>\n",
       "      <td>1000</td>\n",
       "      <td>2018-12-28</td>\n",
       "      <td>14.18</td>\n",
       "    </tr>\n",
       "    <tr>\n",
       "      <th>8</th>\n",
       "      <td>1000_530</td>\n",
       "      <td>1000</td>\n",
       "      <td>2018-12-28</td>\n",
       "      <td>5.77</td>\n",
       "    </tr>\n",
       "    <tr>\n",
       "      <th>9</th>\n",
       "      <td>1000_544</td>\n",
       "      <td>1000</td>\n",
       "      <td>2018-12-26</td>\n",
       "      <td>4.40</td>\n",
       "    </tr>\n",
       "  </tbody>\n",
       "</table>\n",
       "</div>"
      ],
      "text/plain": [
       "         id  user_id   call_date  duration\n",
       "0   1000_93     1000  2018-12-27      8.52\n",
       "1  1000_145     1000  2018-12-27     13.66\n",
       "2  1000_247     1000  2018-12-27     14.48\n",
       "3  1000_309     1000  2018-12-28      5.76\n",
       "4  1000_380     1000  2018-12-30      4.22\n",
       "5  1000_388     1000  2018-12-31      2.20\n",
       "6  1000_510     1000  2018-12-27      5.75\n",
       "7  1000_521     1000  2018-12-28     14.18\n",
       "8  1000_530     1000  2018-12-28      5.77\n",
       "9  1000_544     1000  2018-12-26      4.40"
      ]
     },
     "execution_count": 115,
     "metadata": {},
     "output_type": "execute_result"
    }
   ],
   "source": [
    "# Print a sample of data for calls\n",
    "calls_df.head(10)"
   ]
  },
  {
   "cell_type": "code",
   "execution_count": 116,
   "metadata": {},
   "outputs": [
    {
     "data": {
      "text/plain": [
       "id            object\n",
       "user_id        int64\n",
       "call_date     object\n",
       "duration     float64\n",
       "dtype: object"
      ]
     },
     "execution_count": 116,
     "metadata": {},
     "output_type": "execute_result"
    }
   ],
   "source": [
    "calls_df.dtypes"
   ]
  },
  {
   "cell_type": "code",
   "execution_count": 117,
   "metadata": {},
   "outputs": [
    {
     "data": {
      "text/plain": [
       "id           0\n",
       "user_id      0\n",
       "call_date    0\n",
       "duration     0\n",
       "dtype: int64"
      ]
     },
     "execution_count": 117,
     "metadata": {},
     "output_type": "execute_result"
    }
   ],
   "source": [
    "calls_df.isna().sum()"
   ]
  },
  {
   "cell_type": "markdown",
   "metadata": {},
   "source": [
    "\n",
    "### Calls data overview\n",
    " - this data shows a record for each call\n",
    " - the user_id can link back to the id in the user_df \n",
    " - there are no columns with Null values\n",
    " \n",
    " #### potential issues/fixes\n",
    " - again here we can fix the date column to be the correct datatype\n",
    " - The duration column includes a decimal, we know this data is by minute, but we also know the company rounds up to whole minutes. This makes the decimal in the column not useful. We should round this column UP and remove the decimal. "
   ]
  },
  {
   "cell_type": "markdown",
   "metadata": {},
   "source": [
    " "
   ]
  },
  {
   "cell_type": "markdown",
   "metadata": {},
   "source": [
    "### Fix data"
   ]
  },
  {
   "cell_type": "markdown",
   "metadata": {},
   "source": [
    "We convert the date column to the correct datatype "
   ]
  },
  {
   "cell_type": "code",
   "execution_count": 118,
   "metadata": {},
   "outputs": [
    {
     "data": {
      "text/plain": [
       "id                   object\n",
       "user_id               int64\n",
       "call_date    datetime64[ns]\n",
       "duration            float64\n",
       "dtype: object"
      ]
     },
     "execution_count": 118,
     "metadata": {},
     "output_type": "execute_result"
    }
   ],
   "source": [
    "calls_df['call_date'] = pd.to_datetime(calls_df['call_date'])\n",
    "calls_df.dtypes"
   ]
  },
  {
   "cell_type": "markdown",
   "metadata": {},
   "source": [
    "### Enrich data"
   ]
  },
  {
   "cell_type": "markdown",
   "metadata": {},
   "source": [
    "Add an additional column that rounds the duration up to align with billing"
   ]
  },
  {
   "cell_type": "code",
   "execution_count": 119,
   "metadata": {},
   "outputs": [
    {
     "data": {
      "text/html": [
       "<div>\n",
       "<style scoped>\n",
       "    .dataframe tbody tr th:only-of-type {\n",
       "        vertical-align: middle;\n",
       "    }\n",
       "\n",
       "    .dataframe tbody tr th {\n",
       "        vertical-align: top;\n",
       "    }\n",
       "\n",
       "    .dataframe thead th {\n",
       "        text-align: right;\n",
       "    }\n",
       "</style>\n",
       "<table border=\"1\" class=\"dataframe\">\n",
       "  <thead>\n",
       "    <tr style=\"text-align: right;\">\n",
       "      <th></th>\n",
       "      <th>id</th>\n",
       "      <th>user_id</th>\n",
       "      <th>call_date</th>\n",
       "      <th>duration</th>\n",
       "      <th>duration_rounded</th>\n",
       "    </tr>\n",
       "  </thead>\n",
       "  <tbody>\n",
       "    <tr>\n",
       "      <th>0</th>\n",
       "      <td>1000_93</td>\n",
       "      <td>1000</td>\n",
       "      <td>2018-12-27</td>\n",
       "      <td>8.52</td>\n",
       "      <td>9.0</td>\n",
       "    </tr>\n",
       "    <tr>\n",
       "      <th>1</th>\n",
       "      <td>1000_145</td>\n",
       "      <td>1000</td>\n",
       "      <td>2018-12-27</td>\n",
       "      <td>13.66</td>\n",
       "      <td>14.0</td>\n",
       "    </tr>\n",
       "    <tr>\n",
       "      <th>2</th>\n",
       "      <td>1000_247</td>\n",
       "      <td>1000</td>\n",
       "      <td>2018-12-27</td>\n",
       "      <td>14.48</td>\n",
       "      <td>15.0</td>\n",
       "    </tr>\n",
       "    <tr>\n",
       "      <th>3</th>\n",
       "      <td>1000_309</td>\n",
       "      <td>1000</td>\n",
       "      <td>2018-12-28</td>\n",
       "      <td>5.76</td>\n",
       "      <td>6.0</td>\n",
       "    </tr>\n",
       "    <tr>\n",
       "      <th>4</th>\n",
       "      <td>1000_380</td>\n",
       "      <td>1000</td>\n",
       "      <td>2018-12-30</td>\n",
       "      <td>4.22</td>\n",
       "      <td>5.0</td>\n",
       "    </tr>\n",
       "    <tr>\n",
       "      <th>5</th>\n",
       "      <td>1000_388</td>\n",
       "      <td>1000</td>\n",
       "      <td>2018-12-31</td>\n",
       "      <td>2.20</td>\n",
       "      <td>3.0</td>\n",
       "    </tr>\n",
       "    <tr>\n",
       "      <th>6</th>\n",
       "      <td>1000_510</td>\n",
       "      <td>1000</td>\n",
       "      <td>2018-12-27</td>\n",
       "      <td>5.75</td>\n",
       "      <td>6.0</td>\n",
       "    </tr>\n",
       "    <tr>\n",
       "      <th>7</th>\n",
       "      <td>1000_521</td>\n",
       "      <td>1000</td>\n",
       "      <td>2018-12-28</td>\n",
       "      <td>14.18</td>\n",
       "      <td>15.0</td>\n",
       "    </tr>\n",
       "    <tr>\n",
       "      <th>8</th>\n",
       "      <td>1000_530</td>\n",
       "      <td>1000</td>\n",
       "      <td>2018-12-28</td>\n",
       "      <td>5.77</td>\n",
       "      <td>6.0</td>\n",
       "    </tr>\n",
       "    <tr>\n",
       "      <th>9</th>\n",
       "      <td>1000_544</td>\n",
       "      <td>1000</td>\n",
       "      <td>2018-12-26</td>\n",
       "      <td>4.40</td>\n",
       "      <td>5.0</td>\n",
       "    </tr>\n",
       "  </tbody>\n",
       "</table>\n",
       "</div>"
      ],
      "text/plain": [
       "         id  user_id  call_date  duration  duration_rounded\n",
       "0   1000_93     1000 2018-12-27      8.52               9.0\n",
       "1  1000_145     1000 2018-12-27     13.66              14.0\n",
       "2  1000_247     1000 2018-12-27     14.48              15.0\n",
       "3  1000_309     1000 2018-12-28      5.76               6.0\n",
       "4  1000_380     1000 2018-12-30      4.22               5.0\n",
       "5  1000_388     1000 2018-12-31      2.20               3.0\n",
       "6  1000_510     1000 2018-12-27      5.75               6.0\n",
       "7  1000_521     1000 2018-12-28     14.18              15.0\n",
       "8  1000_530     1000 2018-12-28      5.77               6.0\n",
       "9  1000_544     1000 2018-12-26      4.40               5.0"
      ]
     },
     "execution_count": 119,
     "metadata": {},
     "output_type": "execute_result"
    }
   ],
   "source": [
    "calls_df['duration_rounded'] = calls_df['duration'].apply(np.ceil)\n",
    "calls_df.head(10)"
   ]
  },
  {
   "cell_type": "markdown",
   "metadata": {},
   "source": [
    "## Messages"
   ]
  },
  {
   "cell_type": "code",
   "execution_count": 120,
   "metadata": {},
   "outputs": [
    {
     "data": {
      "text/html": [
       "<div>\n",
       "<style scoped>\n",
       "    .dataframe tbody tr th:only-of-type {\n",
       "        vertical-align: middle;\n",
       "    }\n",
       "\n",
       "    .dataframe tbody tr th {\n",
       "        vertical-align: top;\n",
       "    }\n",
       "\n",
       "    .dataframe thead th {\n",
       "        text-align: right;\n",
       "    }\n",
       "</style>\n",
       "<table border=\"1\" class=\"dataframe\">\n",
       "  <thead>\n",
       "    <tr style=\"text-align: right;\">\n",
       "      <th></th>\n",
       "      <th>user_id</th>\n",
       "    </tr>\n",
       "  </thead>\n",
       "  <tbody>\n",
       "    <tr>\n",
       "      <th>count</th>\n",
       "      <td>76051.000000</td>\n",
       "    </tr>\n",
       "    <tr>\n",
       "      <th>mean</th>\n",
       "      <td>1245.972768</td>\n",
       "    </tr>\n",
       "    <tr>\n",
       "      <th>std</th>\n",
       "      <td>139.843635</td>\n",
       "    </tr>\n",
       "    <tr>\n",
       "      <th>min</th>\n",
       "      <td>1000.000000</td>\n",
       "    </tr>\n",
       "    <tr>\n",
       "      <th>25%</th>\n",
       "      <td>1123.000000</td>\n",
       "    </tr>\n",
       "    <tr>\n",
       "      <th>50%</th>\n",
       "      <td>1251.000000</td>\n",
       "    </tr>\n",
       "    <tr>\n",
       "      <th>75%</th>\n",
       "      <td>1362.000000</td>\n",
       "    </tr>\n",
       "    <tr>\n",
       "      <th>max</th>\n",
       "      <td>1497.000000</td>\n",
       "    </tr>\n",
       "  </tbody>\n",
       "</table>\n",
       "</div>"
      ],
      "text/plain": [
       "            user_id\n",
       "count  76051.000000\n",
       "mean    1245.972768\n",
       "std      139.843635\n",
       "min     1000.000000\n",
       "25%     1123.000000\n",
       "50%     1251.000000\n",
       "75%     1362.000000\n",
       "max     1497.000000"
      ]
     },
     "execution_count": 120,
     "metadata": {},
     "output_type": "execute_result"
    }
   ],
   "source": [
    "# Print the general/summary information about the messages' DataFrame\n",
    "messages_df.describe()"
   ]
  },
  {
   "cell_type": "code",
   "execution_count": 121,
   "metadata": {},
   "outputs": [
    {
     "data": {
      "text/html": [
       "<div>\n",
       "<style scoped>\n",
       "    .dataframe tbody tr th:only-of-type {\n",
       "        vertical-align: middle;\n",
       "    }\n",
       "\n",
       "    .dataframe tbody tr th {\n",
       "        vertical-align: top;\n",
       "    }\n",
       "\n",
       "    .dataframe thead th {\n",
       "        text-align: right;\n",
       "    }\n",
       "</style>\n",
       "<table border=\"1\" class=\"dataframe\">\n",
       "  <thead>\n",
       "    <tr style=\"text-align: right;\">\n",
       "      <th></th>\n",
       "      <th>id</th>\n",
       "      <th>user_id</th>\n",
       "      <th>message_date</th>\n",
       "    </tr>\n",
       "  </thead>\n",
       "  <tbody>\n",
       "    <tr>\n",
       "      <th>0</th>\n",
       "      <td>1000_125</td>\n",
       "      <td>1000</td>\n",
       "      <td>2018-12-27</td>\n",
       "    </tr>\n",
       "    <tr>\n",
       "      <th>1</th>\n",
       "      <td>1000_160</td>\n",
       "      <td>1000</td>\n",
       "      <td>2018-12-31</td>\n",
       "    </tr>\n",
       "    <tr>\n",
       "      <th>2</th>\n",
       "      <td>1000_223</td>\n",
       "      <td>1000</td>\n",
       "      <td>2018-12-31</td>\n",
       "    </tr>\n",
       "    <tr>\n",
       "      <th>3</th>\n",
       "      <td>1000_251</td>\n",
       "      <td>1000</td>\n",
       "      <td>2018-12-27</td>\n",
       "    </tr>\n",
       "    <tr>\n",
       "      <th>4</th>\n",
       "      <td>1000_255</td>\n",
       "      <td>1000</td>\n",
       "      <td>2018-12-26</td>\n",
       "    </tr>\n",
       "    <tr>\n",
       "      <th>5</th>\n",
       "      <td>1000_346</td>\n",
       "      <td>1000</td>\n",
       "      <td>2018-12-29</td>\n",
       "    </tr>\n",
       "    <tr>\n",
       "      <th>6</th>\n",
       "      <td>1000_386</td>\n",
       "      <td>1000</td>\n",
       "      <td>2018-12-30</td>\n",
       "    </tr>\n",
       "    <tr>\n",
       "      <th>7</th>\n",
       "      <td>1000_413</td>\n",
       "      <td>1000</td>\n",
       "      <td>2018-12-31</td>\n",
       "    </tr>\n",
       "    <tr>\n",
       "      <th>8</th>\n",
       "      <td>1000_502</td>\n",
       "      <td>1000</td>\n",
       "      <td>2018-12-27</td>\n",
       "    </tr>\n",
       "    <tr>\n",
       "      <th>9</th>\n",
       "      <td>1000_525</td>\n",
       "      <td>1000</td>\n",
       "      <td>2018-12-28</td>\n",
       "    </tr>\n",
       "  </tbody>\n",
       "</table>\n",
       "</div>"
      ],
      "text/plain": [
       "         id  user_id message_date\n",
       "0  1000_125     1000   2018-12-27\n",
       "1  1000_160     1000   2018-12-31\n",
       "2  1000_223     1000   2018-12-31\n",
       "3  1000_251     1000   2018-12-27\n",
       "4  1000_255     1000   2018-12-26\n",
       "5  1000_346     1000   2018-12-29\n",
       "6  1000_386     1000   2018-12-30\n",
       "7  1000_413     1000   2018-12-31\n",
       "8  1000_502     1000   2018-12-27\n",
       "9  1000_525     1000   2018-12-28"
      ]
     },
     "execution_count": 121,
     "metadata": {},
     "output_type": "execute_result"
    }
   ],
   "source": [
    "# Print a sample of data for messages\n",
    "messages_df.head(10)\n"
   ]
  },
  {
   "cell_type": "code",
   "execution_count": 122,
   "metadata": {},
   "outputs": [
    {
     "data": {
      "text/plain": [
       "id              object\n",
       "user_id          int64\n",
       "message_date    object\n",
       "dtype: object"
      ]
     },
     "execution_count": 122,
     "metadata": {},
     "output_type": "execute_result"
    }
   ],
   "source": [
    "messages_df.dtypes"
   ]
  },
  {
   "cell_type": "code",
   "execution_count": 123,
   "metadata": {},
   "outputs": [
    {
     "data": {
      "text/plain": [
       "id              0\n",
       "user_id         0\n",
       "message_date    0\n",
       "dtype: int64"
      ]
     },
     "execution_count": 123,
     "metadata": {},
     "output_type": "execute_result"
    }
   ],
   "source": [
    "messages_df.isna().sum()"
   ]
  },
  {
   "cell_type": "markdown",
   "metadata": {},
   "source": [
    "\n",
    "### Messages data overview\n",
    " - This is a very simple data structure where each row represents a message sent by a user\n",
    " - The user_id column can relate to the user_df \n",
    " - There are no null values\n",
    " - To do any analysis we will want to do a count of records aggregated by user and or date to get a feel of how many messages have been sent. \n",
    " \n",
    " #### potential issues/fixes\n",
    "  - The only thing to look at here is the message_date, we can fix the datatype to be a date"
   ]
  },
  {
   "cell_type": "markdown",
   "metadata": {},
   "source": [
    " "
   ]
  },
  {
   "cell_type": "markdown",
   "metadata": {},
   "source": [
    "### Fix data"
   ]
  },
  {
   "cell_type": "markdown",
   "metadata": {},
   "source": [
    "adjust message_date field to be a date"
   ]
  },
  {
   "cell_type": "code",
   "execution_count": 124,
   "metadata": {},
   "outputs": [
    {
     "data": {
      "text/plain": [
       "id                      object\n",
       "user_id                  int64\n",
       "message_date    datetime64[ns]\n",
       "dtype: object"
      ]
     },
     "execution_count": 124,
     "metadata": {},
     "output_type": "execute_result"
    }
   ],
   "source": [
    "messages_df['message_date'] = pd.to_datetime(messages_df['message_date'])\n",
    "messages_df.dtypes"
   ]
  },
  {
   "cell_type": "markdown",
   "metadata": {},
   "source": [
    "### Enrich data"
   ]
  },
  {
   "cell_type": "markdown",
   "metadata": {},
   "source": [
    "No Enrichment needed"
   ]
  },
  {
   "cell_type": "markdown",
   "metadata": {},
   "source": [
    "## Internet"
   ]
  },
  {
   "cell_type": "code",
   "execution_count": 125,
   "metadata": {},
   "outputs": [
    {
     "data": {
      "text/html": [
       "<div>\n",
       "<style scoped>\n",
       "    .dataframe tbody tr th:only-of-type {\n",
       "        vertical-align: middle;\n",
       "    }\n",
       "\n",
       "    .dataframe tbody tr th {\n",
       "        vertical-align: top;\n",
       "    }\n",
       "\n",
       "    .dataframe thead th {\n",
       "        text-align: right;\n",
       "    }\n",
       "</style>\n",
       "<table border=\"1\" class=\"dataframe\">\n",
       "  <thead>\n",
       "    <tr style=\"text-align: right;\">\n",
       "      <th></th>\n",
       "      <th>user_id</th>\n",
       "      <th>mb_used</th>\n",
       "    </tr>\n",
       "  </thead>\n",
       "  <tbody>\n",
       "    <tr>\n",
       "      <th>count</th>\n",
       "      <td>104825.000000</td>\n",
       "      <td>104825.000000</td>\n",
       "    </tr>\n",
       "    <tr>\n",
       "      <th>mean</th>\n",
       "      <td>1242.496361</td>\n",
       "      <td>366.713701</td>\n",
       "    </tr>\n",
       "    <tr>\n",
       "      <th>std</th>\n",
       "      <td>142.053913</td>\n",
       "      <td>277.170542</td>\n",
       "    </tr>\n",
       "    <tr>\n",
       "      <th>min</th>\n",
       "      <td>1000.000000</td>\n",
       "      <td>0.000000</td>\n",
       "    </tr>\n",
       "    <tr>\n",
       "      <th>25%</th>\n",
       "      <td>1122.000000</td>\n",
       "      <td>136.080000</td>\n",
       "    </tr>\n",
       "    <tr>\n",
       "      <th>50%</th>\n",
       "      <td>1236.000000</td>\n",
       "      <td>343.980000</td>\n",
       "    </tr>\n",
       "    <tr>\n",
       "      <th>75%</th>\n",
       "      <td>1367.000000</td>\n",
       "      <td>554.610000</td>\n",
       "    </tr>\n",
       "    <tr>\n",
       "      <th>max</th>\n",
       "      <td>1499.000000</td>\n",
       "      <td>1693.470000</td>\n",
       "    </tr>\n",
       "  </tbody>\n",
       "</table>\n",
       "</div>"
      ],
      "text/plain": [
       "             user_id        mb_used\n",
       "count  104825.000000  104825.000000\n",
       "mean     1242.496361     366.713701\n",
       "std       142.053913     277.170542\n",
       "min      1000.000000       0.000000\n",
       "25%      1122.000000     136.080000\n",
       "50%      1236.000000     343.980000\n",
       "75%      1367.000000     554.610000\n",
       "max      1499.000000    1693.470000"
      ]
     },
     "execution_count": 125,
     "metadata": {},
     "output_type": "execute_result"
    }
   ],
   "source": [
    "# Print the general/summary information about the internet DataFrame\n",
    "internet_df.describe()\n"
   ]
  },
  {
   "cell_type": "code",
   "execution_count": 126,
   "metadata": {},
   "outputs": [
    {
     "data": {
      "text/html": [
       "<div>\n",
       "<style scoped>\n",
       "    .dataframe tbody tr th:only-of-type {\n",
       "        vertical-align: middle;\n",
       "    }\n",
       "\n",
       "    .dataframe tbody tr th {\n",
       "        vertical-align: top;\n",
       "    }\n",
       "\n",
       "    .dataframe thead th {\n",
       "        text-align: right;\n",
       "    }\n",
       "</style>\n",
       "<table border=\"1\" class=\"dataframe\">\n",
       "  <thead>\n",
       "    <tr style=\"text-align: right;\">\n",
       "      <th></th>\n",
       "      <th>id</th>\n",
       "      <th>user_id</th>\n",
       "      <th>session_date</th>\n",
       "      <th>mb_used</th>\n",
       "    </tr>\n",
       "  </thead>\n",
       "  <tbody>\n",
       "    <tr>\n",
       "      <th>0</th>\n",
       "      <td>1000_13</td>\n",
       "      <td>1000</td>\n",
       "      <td>2018-12-29</td>\n",
       "      <td>89.86</td>\n",
       "    </tr>\n",
       "    <tr>\n",
       "      <th>1</th>\n",
       "      <td>1000_204</td>\n",
       "      <td>1000</td>\n",
       "      <td>2018-12-31</td>\n",
       "      <td>0.00</td>\n",
       "    </tr>\n",
       "    <tr>\n",
       "      <th>2</th>\n",
       "      <td>1000_379</td>\n",
       "      <td>1000</td>\n",
       "      <td>2018-12-28</td>\n",
       "      <td>660.40</td>\n",
       "    </tr>\n",
       "    <tr>\n",
       "      <th>3</th>\n",
       "      <td>1000_413</td>\n",
       "      <td>1000</td>\n",
       "      <td>2018-12-26</td>\n",
       "      <td>270.99</td>\n",
       "    </tr>\n",
       "    <tr>\n",
       "      <th>4</th>\n",
       "      <td>1000_442</td>\n",
       "      <td>1000</td>\n",
       "      <td>2018-12-27</td>\n",
       "      <td>880.22</td>\n",
       "    </tr>\n",
       "    <tr>\n",
       "      <th>5</th>\n",
       "      <td>1001_0</td>\n",
       "      <td>1001</td>\n",
       "      <td>2018-08-24</td>\n",
       "      <td>284.68</td>\n",
       "    </tr>\n",
       "    <tr>\n",
       "      <th>6</th>\n",
       "      <td>1001_3</td>\n",
       "      <td>1001</td>\n",
       "      <td>2018-12-09</td>\n",
       "      <td>656.04</td>\n",
       "    </tr>\n",
       "    <tr>\n",
       "      <th>7</th>\n",
       "      <td>1001_4</td>\n",
       "      <td>1001</td>\n",
       "      <td>2018-11-04</td>\n",
       "      <td>16.97</td>\n",
       "    </tr>\n",
       "    <tr>\n",
       "      <th>8</th>\n",
       "      <td>1001_10</td>\n",
       "      <td>1001</td>\n",
       "      <td>2018-11-27</td>\n",
       "      <td>135.18</td>\n",
       "    </tr>\n",
       "    <tr>\n",
       "      <th>9</th>\n",
       "      <td>1001_15</td>\n",
       "      <td>1001</td>\n",
       "      <td>2018-12-13</td>\n",
       "      <td>761.92</td>\n",
       "    </tr>\n",
       "  </tbody>\n",
       "</table>\n",
       "</div>"
      ],
      "text/plain": [
       "         id  user_id session_date  mb_used\n",
       "0   1000_13     1000   2018-12-29    89.86\n",
       "1  1000_204     1000   2018-12-31     0.00\n",
       "2  1000_379     1000   2018-12-28   660.40\n",
       "3  1000_413     1000   2018-12-26   270.99\n",
       "4  1000_442     1000   2018-12-27   880.22\n",
       "5    1001_0     1001   2018-08-24   284.68\n",
       "6    1001_3     1001   2018-12-09   656.04\n",
       "7    1001_4     1001   2018-11-04    16.97\n",
       "8   1001_10     1001   2018-11-27   135.18\n",
       "9   1001_15     1001   2018-12-13   761.92"
      ]
     },
     "execution_count": 126,
     "metadata": {},
     "output_type": "execute_result"
    }
   ],
   "source": [
    "# Print a sample of data for the internet traffic\n",
    "internet_df.head(10)\n"
   ]
  },
  {
   "cell_type": "code",
   "execution_count": 127,
   "metadata": {},
   "outputs": [
    {
     "data": {
      "text/plain": [
       "id               object\n",
       "user_id           int64\n",
       "session_date     object\n",
       "mb_used         float64\n",
       "dtype: object"
      ]
     },
     "execution_count": 127,
     "metadata": {},
     "output_type": "execute_result"
    }
   ],
   "source": [
    "internet_df.dtypes"
   ]
  },
  {
   "cell_type": "code",
   "execution_count": 128,
   "metadata": {},
   "outputs": [
    {
     "data": {
      "text/plain": [
       "id              0\n",
       "user_id         0\n",
       "session_date    0\n",
       "mb_used         0\n",
       "dtype: int64"
      ]
     },
     "execution_count": 128,
     "metadata": {},
     "output_type": "execute_result"
    }
   ],
   "source": [
    "internet_df.isna().sum()"
   ]
  },
  {
   "cell_type": "markdown",
   "metadata": {},
   "source": [
    "\n",
    "### internet data overview\n",
    " - Each record represents a session of usage and the amount of data used. \n",
    " - In this instance we only round at a monthly level, we may want to extract month from the session date for use in analysis later. \n",
    " - We may also want to create a GB column from the MB usage for easier aggregation/rounding later\n",
    " - Once again we can link to a user using the user_id \n",
    " \n",
    " #### Potential issues/fixes\n",
    " - We can change the date to the correct datetime. \n",
    " - The mb_used field can be left alone\n",
    "  "
   ]
  },
  {
   "cell_type": "markdown",
   "metadata": {},
   "source": [
    " "
   ]
  },
  {
   "cell_type": "markdown",
   "metadata": {},
   "source": [
    "### Fix data"
   ]
  },
  {
   "cell_type": "markdown",
   "metadata": {},
   "source": [
    "We correct the date datatype in the session_date field"
   ]
  },
  {
   "cell_type": "code",
   "execution_count": 129,
   "metadata": {},
   "outputs": [
    {
     "data": {
      "text/plain": [
       "id                      object\n",
       "user_id                  int64\n",
       "session_date    datetime64[ns]\n",
       "mb_used                float64\n",
       "dtype: object"
      ]
     },
     "execution_count": 129,
     "metadata": {},
     "output_type": "execute_result"
    }
   ],
   "source": [
    "internet_df['session_date'] = pd.to_datetime(internet_df['session_date'])\n",
    "internet_df.dtypes"
   ]
  },
  {
   "cell_type": "markdown",
   "metadata": {},
   "source": [
    "### Enrich data"
   ]
  },
  {
   "cell_type": "markdown",
   "metadata": {},
   "source": [
    "Here we add a month column that may be used in future analysis (billing is rounded up on to GB on monthly use)\n",
    "We also add a GB usage column (derived from mb used) "
   ]
  },
  {
   "cell_type": "code",
   "execution_count": 130,
   "metadata": {},
   "outputs": [
    {
     "data": {
      "text/html": [
       "<div>\n",
       "<style scoped>\n",
       "    .dataframe tbody tr th:only-of-type {\n",
       "        vertical-align: middle;\n",
       "    }\n",
       "\n",
       "    .dataframe tbody tr th {\n",
       "        vertical-align: top;\n",
       "    }\n",
       "\n",
       "    .dataframe thead th {\n",
       "        text-align: right;\n",
       "    }\n",
       "</style>\n",
       "<table border=\"1\" class=\"dataframe\">\n",
       "  <thead>\n",
       "    <tr style=\"text-align: right;\">\n",
       "      <th></th>\n",
       "      <th>id</th>\n",
       "      <th>user_id</th>\n",
       "      <th>session_date</th>\n",
       "      <th>mb_used</th>\n",
       "      <th>month</th>\n",
       "      <th>gb_used</th>\n",
       "    </tr>\n",
       "  </thead>\n",
       "  <tbody>\n",
       "    <tr>\n",
       "      <th>0</th>\n",
       "      <td>1000_13</td>\n",
       "      <td>1000</td>\n",
       "      <td>2018-12-29</td>\n",
       "      <td>89.86</td>\n",
       "      <td>12</td>\n",
       "      <td>0.087754</td>\n",
       "    </tr>\n",
       "    <tr>\n",
       "      <th>1</th>\n",
       "      <td>1000_204</td>\n",
       "      <td>1000</td>\n",
       "      <td>2018-12-31</td>\n",
       "      <td>0.00</td>\n",
       "      <td>12</td>\n",
       "      <td>0.000000</td>\n",
       "    </tr>\n",
       "    <tr>\n",
       "      <th>2</th>\n",
       "      <td>1000_379</td>\n",
       "      <td>1000</td>\n",
       "      <td>2018-12-28</td>\n",
       "      <td>660.40</td>\n",
       "      <td>12</td>\n",
       "      <td>0.644922</td>\n",
       "    </tr>\n",
       "    <tr>\n",
       "      <th>3</th>\n",
       "      <td>1000_413</td>\n",
       "      <td>1000</td>\n",
       "      <td>2018-12-26</td>\n",
       "      <td>270.99</td>\n",
       "      <td>12</td>\n",
       "      <td>0.264639</td>\n",
       "    </tr>\n",
       "    <tr>\n",
       "      <th>4</th>\n",
       "      <td>1000_442</td>\n",
       "      <td>1000</td>\n",
       "      <td>2018-12-27</td>\n",
       "      <td>880.22</td>\n",
       "      <td>12</td>\n",
       "      <td>0.859590</td>\n",
       "    </tr>\n",
       "    <tr>\n",
       "      <th>5</th>\n",
       "      <td>1001_0</td>\n",
       "      <td>1001</td>\n",
       "      <td>2018-08-24</td>\n",
       "      <td>284.68</td>\n",
       "      <td>8</td>\n",
       "      <td>0.278008</td>\n",
       "    </tr>\n",
       "    <tr>\n",
       "      <th>6</th>\n",
       "      <td>1001_3</td>\n",
       "      <td>1001</td>\n",
       "      <td>2018-12-09</td>\n",
       "      <td>656.04</td>\n",
       "      <td>12</td>\n",
       "      <td>0.640664</td>\n",
       "    </tr>\n",
       "    <tr>\n",
       "      <th>7</th>\n",
       "      <td>1001_4</td>\n",
       "      <td>1001</td>\n",
       "      <td>2018-11-04</td>\n",
       "      <td>16.97</td>\n",
       "      <td>11</td>\n",
       "      <td>0.016572</td>\n",
       "    </tr>\n",
       "    <tr>\n",
       "      <th>8</th>\n",
       "      <td>1001_10</td>\n",
       "      <td>1001</td>\n",
       "      <td>2018-11-27</td>\n",
       "      <td>135.18</td>\n",
       "      <td>11</td>\n",
       "      <td>0.132012</td>\n",
       "    </tr>\n",
       "    <tr>\n",
       "      <th>9</th>\n",
       "      <td>1001_15</td>\n",
       "      <td>1001</td>\n",
       "      <td>2018-12-13</td>\n",
       "      <td>761.92</td>\n",
       "      <td>12</td>\n",
       "      <td>0.744062</td>\n",
       "    </tr>\n",
       "  </tbody>\n",
       "</table>\n",
       "</div>"
      ],
      "text/plain": [
       "         id  user_id session_date  mb_used  month   gb_used\n",
       "0   1000_13     1000   2018-12-29    89.86     12  0.087754\n",
       "1  1000_204     1000   2018-12-31     0.00     12  0.000000\n",
       "2  1000_379     1000   2018-12-28   660.40     12  0.644922\n",
       "3  1000_413     1000   2018-12-26   270.99     12  0.264639\n",
       "4  1000_442     1000   2018-12-27   880.22     12  0.859590\n",
       "5    1001_0     1001   2018-08-24   284.68      8  0.278008\n",
       "6    1001_3     1001   2018-12-09   656.04     12  0.640664\n",
       "7    1001_4     1001   2018-11-04    16.97     11  0.016572\n",
       "8   1001_10     1001   2018-11-27   135.18     11  0.132012\n",
       "9   1001_15     1001   2018-12-13   761.92     12  0.744062"
      ]
     },
     "execution_count": 130,
     "metadata": {},
     "output_type": "execute_result"
    }
   ],
   "source": [
    "internet_df['month'] = internet_df['session_date'].dt.month\n",
    "internet_df['gb_used'] = internet_df['mb_used'] / 1024\n",
    "\n",
    "internet_df.head(10)"
   ]
  },
  {
   "cell_type": "markdown",
   "metadata": {},
   "source": [
    "## Study plan conditions"
   ]
  },
  {
   "cell_type": "code",
   "execution_count": 131,
   "metadata": {},
   "outputs": [
    {
     "data": {
      "text/html": [
       "<div>\n",
       "<style scoped>\n",
       "    .dataframe tbody tr th:only-of-type {\n",
       "        vertical-align: middle;\n",
       "    }\n",
       "\n",
       "    .dataframe tbody tr th {\n",
       "        vertical-align: top;\n",
       "    }\n",
       "\n",
       "    .dataframe thead th {\n",
       "        text-align: right;\n",
       "    }\n",
       "</style>\n",
       "<table border=\"1\" class=\"dataframe\">\n",
       "  <thead>\n",
       "    <tr style=\"text-align: right;\">\n",
       "      <th></th>\n",
       "      <th>messages_included</th>\n",
       "      <th>mb_per_month_included</th>\n",
       "      <th>minutes_included</th>\n",
       "      <th>usd_monthly_pay</th>\n",
       "      <th>usd_per_gb</th>\n",
       "      <th>usd_per_message</th>\n",
       "      <th>usd_per_minute</th>\n",
       "      <th>plan_name</th>\n",
       "    </tr>\n",
       "  </thead>\n",
       "  <tbody>\n",
       "    <tr>\n",
       "      <th>0</th>\n",
       "      <td>50</td>\n",
       "      <td>15360</td>\n",
       "      <td>500</td>\n",
       "      <td>20.0</td>\n",
       "      <td>10.0</td>\n",
       "      <td>0.03</td>\n",
       "      <td>0.03</td>\n",
       "      <td>surf</td>\n",
       "    </tr>\n",
       "    <tr>\n",
       "      <th>1</th>\n",
       "      <td>1000</td>\n",
       "      <td>30720</td>\n",
       "      <td>3000</td>\n",
       "      <td>70.0</td>\n",
       "      <td>7.0</td>\n",
       "      <td>0.01</td>\n",
       "      <td>0.01</td>\n",
       "      <td>ultimate</td>\n",
       "    </tr>\n",
       "  </tbody>\n",
       "</table>\n",
       "</div>"
      ],
      "text/plain": [
       "   messages_included  mb_per_month_included  minutes_included  \\\n",
       "0                 50                  15360               500   \n",
       "1               1000                  30720              3000   \n",
       "\n",
       "   usd_monthly_pay  usd_per_gb  usd_per_message  usd_per_minute plan_name  \n",
       "0             20.0        10.0             0.03            0.03      surf  \n",
       "1             70.0         7.0             0.01            0.01  ultimate  "
      ]
     },
     "execution_count": 131,
     "metadata": {},
     "output_type": "execute_result"
    }
   ],
   "source": [
    "# Print out the plan conditions and make sure they are clear for you\n",
    "plans_df\n"
   ]
  },
  {
   "cell_type": "markdown",
   "metadata": {},
   "source": [
    "## Aggregate data per user\n"
   ]
  },
  {
   "cell_type": "code",
   "execution_count": 132,
   "metadata": {},
   "outputs": [
    {
     "data": {
      "text/html": [
       "<div>\n",
       "<style scoped>\n",
       "    .dataframe tbody tr th:only-of-type {\n",
       "        vertical-align: middle;\n",
       "    }\n",
       "\n",
       "    .dataframe tbody tr th {\n",
       "        vertical-align: top;\n",
       "    }\n",
       "\n",
       "    .dataframe thead th {\n",
       "        text-align: right;\n",
       "    }\n",
       "</style>\n",
       "<table border=\"1\" class=\"dataframe\">\n",
       "  <thead>\n",
       "    <tr style=\"text-align: right;\">\n",
       "      <th></th>\n",
       "      <th></th>\n",
       "      <th>call_count</th>\n",
       "    </tr>\n",
       "    <tr>\n",
       "      <th>user_id</th>\n",
       "      <th>month</th>\n",
       "      <th></th>\n",
       "    </tr>\n",
       "  </thead>\n",
       "  <tbody>\n",
       "    <tr>\n",
       "      <th>1000</th>\n",
       "      <th>12</th>\n",
       "      <td>16</td>\n",
       "    </tr>\n",
       "    <tr>\n",
       "      <th rowspan=\"4\" valign=\"top\">1001</th>\n",
       "      <th>8</th>\n",
       "      <td>27</td>\n",
       "    </tr>\n",
       "    <tr>\n",
       "      <th>9</th>\n",
       "      <td>49</td>\n",
       "    </tr>\n",
       "    <tr>\n",
       "      <th>10</th>\n",
       "      <td>65</td>\n",
       "    </tr>\n",
       "    <tr>\n",
       "      <th>11</th>\n",
       "      <td>64</td>\n",
       "    </tr>\n",
       "    <tr>\n",
       "      <th>...</th>\n",
       "      <th>...</th>\n",
       "      <td>...</td>\n",
       "    </tr>\n",
       "    <tr>\n",
       "      <th>1498</th>\n",
       "      <th>12</th>\n",
       "      <td>39</td>\n",
       "    </tr>\n",
       "    <tr>\n",
       "      <th rowspan=\"4\" valign=\"top\">1499</th>\n",
       "      <th>9</th>\n",
       "      <td>41</td>\n",
       "    </tr>\n",
       "    <tr>\n",
       "      <th>10</th>\n",
       "      <td>53</td>\n",
       "    </tr>\n",
       "    <tr>\n",
       "      <th>11</th>\n",
       "      <td>45</td>\n",
       "    </tr>\n",
       "    <tr>\n",
       "      <th>12</th>\n",
       "      <td>65</td>\n",
       "    </tr>\n",
       "  </tbody>\n",
       "</table>\n",
       "<p>2258 rows × 1 columns</p>\n",
       "</div>"
      ],
      "text/plain": [
       "               call_count\n",
       "user_id month            \n",
       "1000    12             16\n",
       "1001    8              27\n",
       "        9              49\n",
       "        10             65\n",
       "        11             64\n",
       "...                   ...\n",
       "1498    12             39\n",
       "1499    9              41\n",
       "        10             53\n",
       "        11             45\n",
       "        12             65\n",
       "\n",
       "[2258 rows x 1 columns]"
      ]
     },
     "execution_count": 132,
     "metadata": {},
     "output_type": "execute_result"
    }
   ],
   "source": [
    "# Calculate the number of calls made by each user per month. Save the result.\n",
    "calls_df['month'] = calls_df['call_date'].dt.month\n",
    "aggr_calls_df = calls_df[['id','user_id', 'month']].groupby(['user_id', 'month']).count()\n",
    "aggr_calls_df = aggr_calls_df.rename(columns={'id': 'call_count'})\n",
    "aggr_calls_df"
   ]
  },
  {
   "cell_type": "code",
   "execution_count": 133,
   "metadata": {},
   "outputs": [
    {
     "data": {
      "text/html": [
       "<div>\n",
       "<style scoped>\n",
       "    .dataframe tbody tr th:only-of-type {\n",
       "        vertical-align: middle;\n",
       "    }\n",
       "\n",
       "    .dataframe tbody tr th {\n",
       "        vertical-align: top;\n",
       "    }\n",
       "\n",
       "    .dataframe thead th {\n",
       "        text-align: right;\n",
       "    }\n",
       "</style>\n",
       "<table border=\"1\" class=\"dataframe\">\n",
       "  <thead>\n",
       "    <tr style=\"text-align: right;\">\n",
       "      <th></th>\n",
       "      <th></th>\n",
       "      <th>billable_minutes</th>\n",
       "    </tr>\n",
       "    <tr>\n",
       "      <th>user_id</th>\n",
       "      <th>month</th>\n",
       "      <th></th>\n",
       "    </tr>\n",
       "  </thead>\n",
       "  <tbody>\n",
       "    <tr>\n",
       "      <th>1000</th>\n",
       "      <th>12</th>\n",
       "      <td>124.0</td>\n",
       "    </tr>\n",
       "    <tr>\n",
       "      <th rowspan=\"4\" valign=\"top\">1001</th>\n",
       "      <th>8</th>\n",
       "      <td>182.0</td>\n",
       "    </tr>\n",
       "    <tr>\n",
       "      <th>9</th>\n",
       "      <td>315.0</td>\n",
       "    </tr>\n",
       "    <tr>\n",
       "      <th>10</th>\n",
       "      <td>393.0</td>\n",
       "    </tr>\n",
       "    <tr>\n",
       "      <th>11</th>\n",
       "      <td>426.0</td>\n",
       "    </tr>\n",
       "    <tr>\n",
       "      <th>...</th>\n",
       "      <th>...</th>\n",
       "      <td>...</td>\n",
       "    </tr>\n",
       "    <tr>\n",
       "      <th>1498</th>\n",
       "      <th>12</th>\n",
       "      <td>339.0</td>\n",
       "    </tr>\n",
       "    <tr>\n",
       "      <th rowspan=\"4\" valign=\"top\">1499</th>\n",
       "      <th>9</th>\n",
       "      <td>346.0</td>\n",
       "    </tr>\n",
       "    <tr>\n",
       "      <th>10</th>\n",
       "      <td>385.0</td>\n",
       "    </tr>\n",
       "    <tr>\n",
       "      <th>11</th>\n",
       "      <td>308.0</td>\n",
       "    </tr>\n",
       "    <tr>\n",
       "      <th>12</th>\n",
       "      <td>496.0</td>\n",
       "    </tr>\n",
       "  </tbody>\n",
       "</table>\n",
       "<p>2258 rows × 1 columns</p>\n",
       "</div>"
      ],
      "text/plain": [
       "               billable_minutes\n",
       "user_id month                  \n",
       "1000    12                124.0\n",
       "1001    8                 182.0\n",
       "        9                 315.0\n",
       "        10                393.0\n",
       "        11                426.0\n",
       "...                         ...\n",
       "1498    12                339.0\n",
       "1499    9                 346.0\n",
       "        10                385.0\n",
       "        11                308.0\n",
       "        12                496.0\n",
       "\n",
       "[2258 rows x 1 columns]"
      ]
     },
     "execution_count": 133,
     "metadata": {},
     "output_type": "execute_result"
    }
   ],
   "source": [
    "# Calculate the amount of minutes spent by each user per month. Save the result.\n",
    "# we will use the rounded value we created earlier so billing is correct\n",
    "aggr_minutes_df =  calls_df[['user_id', 'month', 'duration_rounded']].groupby(['user_id', 'month']).sum()\n",
    "aggr_minutes_df = aggr_minutes_df.rename(columns={'duration_rounded': 'billable_minutes'})\n",
    "aggr_minutes_df"
   ]
  },
  {
   "cell_type": "code",
   "execution_count": 134,
   "metadata": {},
   "outputs": [
    {
     "data": {
      "text/html": [
       "<div>\n",
       "<style scoped>\n",
       "    .dataframe tbody tr th:only-of-type {\n",
       "        vertical-align: middle;\n",
       "    }\n",
       "\n",
       "    .dataframe tbody tr th {\n",
       "        vertical-align: top;\n",
       "    }\n",
       "\n",
       "    .dataframe thead th {\n",
       "        text-align: right;\n",
       "    }\n",
       "</style>\n",
       "<table border=\"1\" class=\"dataframe\">\n",
       "  <thead>\n",
       "    <tr style=\"text-align: right;\">\n",
       "      <th></th>\n",
       "      <th></th>\n",
       "      <th>messages_count</th>\n",
       "    </tr>\n",
       "    <tr>\n",
       "      <th>user_id</th>\n",
       "      <th>month</th>\n",
       "      <th></th>\n",
       "    </tr>\n",
       "  </thead>\n",
       "  <tbody>\n",
       "    <tr>\n",
       "      <th>1000</th>\n",
       "      <th>12</th>\n",
       "      <td>11</td>\n",
       "    </tr>\n",
       "    <tr>\n",
       "      <th rowspan=\"4\" valign=\"top\">1001</th>\n",
       "      <th>8</th>\n",
       "      <td>30</td>\n",
       "    </tr>\n",
       "    <tr>\n",
       "      <th>9</th>\n",
       "      <td>44</td>\n",
       "    </tr>\n",
       "    <tr>\n",
       "      <th>10</th>\n",
       "      <td>53</td>\n",
       "    </tr>\n",
       "    <tr>\n",
       "      <th>11</th>\n",
       "      <td>36</td>\n",
       "    </tr>\n",
       "    <tr>\n",
       "      <th>...</th>\n",
       "      <th>...</th>\n",
       "      <td>...</td>\n",
       "    </tr>\n",
       "    <tr>\n",
       "      <th rowspan=\"4\" valign=\"top\">1496</th>\n",
       "      <th>9</th>\n",
       "      <td>21</td>\n",
       "    </tr>\n",
       "    <tr>\n",
       "      <th>10</th>\n",
       "      <td>18</td>\n",
       "    </tr>\n",
       "    <tr>\n",
       "      <th>11</th>\n",
       "      <td>13</td>\n",
       "    </tr>\n",
       "    <tr>\n",
       "      <th>12</th>\n",
       "      <td>11</td>\n",
       "    </tr>\n",
       "    <tr>\n",
       "      <th>1497</th>\n",
       "      <th>12</th>\n",
       "      <td>50</td>\n",
       "    </tr>\n",
       "  </tbody>\n",
       "</table>\n",
       "<p>1806 rows × 1 columns</p>\n",
       "</div>"
      ],
      "text/plain": [
       "               messages_count\n",
       "user_id month                \n",
       "1000    12                 11\n",
       "1001    8                  30\n",
       "        9                  44\n",
       "        10                 53\n",
       "        11                 36\n",
       "...                       ...\n",
       "1496    9                  21\n",
       "        10                 18\n",
       "        11                 13\n",
       "        12                 11\n",
       "1497    12                 50\n",
       "\n",
       "[1806 rows x 1 columns]"
      ]
     },
     "execution_count": 134,
     "metadata": {},
     "output_type": "execute_result"
    }
   ],
   "source": [
    "# Calculate the number of messages sent by each user per month. Save the result.\n",
    "messages_df['month'] = messages_df['message_date'].dt.month\n",
    "aggr_messages_df =  messages_df[['id', 'user_id', 'month']].groupby(['user_id', 'month']).count()\n",
    "aggr_messages_df = aggr_messages_df.rename(columns={'id': 'messages_count'})\n",
    "aggr_messages_df"
   ]
  },
  {
   "cell_type": "code",
   "execution_count": 135,
   "metadata": {},
   "outputs": [
    {
     "data": {
      "text/html": [
       "<div>\n",
       "<style scoped>\n",
       "    .dataframe tbody tr th:only-of-type {\n",
       "        vertical-align: middle;\n",
       "    }\n",
       "\n",
       "    .dataframe tbody tr th {\n",
       "        vertical-align: top;\n",
       "    }\n",
       "\n",
       "    .dataframe thead th {\n",
       "        text-align: right;\n",
       "    }\n",
       "</style>\n",
       "<table border=\"1\" class=\"dataframe\">\n",
       "  <thead>\n",
       "    <tr style=\"text-align: right;\">\n",
       "      <th></th>\n",
       "      <th></th>\n",
       "      <th>mb_used</th>\n",
       "      <th>gb_used</th>\n",
       "    </tr>\n",
       "    <tr>\n",
       "      <th>user_id</th>\n",
       "      <th>month</th>\n",
       "      <th></th>\n",
       "      <th></th>\n",
       "    </tr>\n",
       "  </thead>\n",
       "  <tbody>\n",
       "    <tr>\n",
       "      <th>1000</th>\n",
       "      <th>12</th>\n",
       "      <td>1901.47</td>\n",
       "      <td>1.856904</td>\n",
       "    </tr>\n",
       "    <tr>\n",
       "      <th rowspan=\"4\" valign=\"top\">1001</th>\n",
       "      <th>8</th>\n",
       "      <td>6919.15</td>\n",
       "      <td>6.756982</td>\n",
       "    </tr>\n",
       "    <tr>\n",
       "      <th>9</th>\n",
       "      <td>13314.82</td>\n",
       "      <td>13.002754</td>\n",
       "    </tr>\n",
       "    <tr>\n",
       "      <th>10</th>\n",
       "      <td>22330.49</td>\n",
       "      <td>21.807119</td>\n",
       "    </tr>\n",
       "    <tr>\n",
       "      <th>11</th>\n",
       "      <td>18504.30</td>\n",
       "      <td>18.070605</td>\n",
       "    </tr>\n",
       "    <tr>\n",
       "      <th>...</th>\n",
       "      <th>...</th>\n",
       "      <td>...</td>\n",
       "      <td>...</td>\n",
       "    </tr>\n",
       "    <tr>\n",
       "      <th>1498</th>\n",
       "      <th>12</th>\n",
       "      <td>23137.69</td>\n",
       "      <td>22.595400</td>\n",
       "    </tr>\n",
       "    <tr>\n",
       "      <th rowspan=\"4\" valign=\"top\">1499</th>\n",
       "      <th>9</th>\n",
       "      <td>12984.76</td>\n",
       "      <td>12.680430</td>\n",
       "    </tr>\n",
       "    <tr>\n",
       "      <th>10</th>\n",
       "      <td>19492.43</td>\n",
       "      <td>19.035576</td>\n",
       "    </tr>\n",
       "    <tr>\n",
       "      <th>11</th>\n",
       "      <td>16813.83</td>\n",
       "      <td>16.419756</td>\n",
       "    </tr>\n",
       "    <tr>\n",
       "      <th>12</th>\n",
       "      <td>22059.21</td>\n",
       "      <td>21.542197</td>\n",
       "    </tr>\n",
       "  </tbody>\n",
       "</table>\n",
       "<p>2277 rows × 2 columns</p>\n",
       "</div>"
      ],
      "text/plain": [
       "                mb_used    gb_used\n",
       "user_id month                     \n",
       "1000    12      1901.47   1.856904\n",
       "1001    8       6919.15   6.756982\n",
       "        9      13314.82  13.002754\n",
       "        10     22330.49  21.807119\n",
       "        11     18504.30  18.070605\n",
       "...                 ...        ...\n",
       "1498    12     23137.69  22.595400\n",
       "1499    9      12984.76  12.680430\n",
       "        10     19492.43  19.035576\n",
       "        11     16813.83  16.419756\n",
       "        12     22059.21  21.542197\n",
       "\n",
       "[2277 rows x 2 columns]"
      ]
     },
     "execution_count": 135,
     "metadata": {},
     "output_type": "execute_result"
    }
   ],
   "source": [
    "# Calculate the volume of internet traffic used by each user per month. Save the result.\n",
    "aggr_internet_df = internet_df[['user_id', 'month', 'mb_used', 'gb_used']].groupby(['user_id', 'month']).sum()\n",
    "aggr_internet_df"
   ]
  },
  {
   "cell_type": "code",
   "execution_count": 136,
   "metadata": {},
   "outputs": [
    {
     "data": {
      "text/html": [
       "<div>\n",
       "<style scoped>\n",
       "    .dataframe tbody tr th:only-of-type {\n",
       "        vertical-align: middle;\n",
       "    }\n",
       "\n",
       "    .dataframe tbody tr th {\n",
       "        vertical-align: top;\n",
       "    }\n",
       "\n",
       "    .dataframe thead th {\n",
       "        text-align: right;\n",
       "    }\n",
       "</style>\n",
       "<table border=\"1\" class=\"dataframe\">\n",
       "  <thead>\n",
       "    <tr style=\"text-align: right;\">\n",
       "      <th></th>\n",
       "      <th></th>\n",
       "      <th>mb_used</th>\n",
       "      <th>gb_used</th>\n",
       "      <th>messages_count</th>\n",
       "      <th>billable_minutes</th>\n",
       "      <th>call_count</th>\n",
       "    </tr>\n",
       "    <tr>\n",
       "      <th>user_id</th>\n",
       "      <th>month</th>\n",
       "      <th></th>\n",
       "      <th></th>\n",
       "      <th></th>\n",
       "      <th></th>\n",
       "      <th></th>\n",
       "    </tr>\n",
       "  </thead>\n",
       "  <tbody>\n",
       "    <tr>\n",
       "      <th>1000</th>\n",
       "      <th>12</th>\n",
       "      <td>1901.47</td>\n",
       "      <td>1.856904</td>\n",
       "      <td>11.0</td>\n",
       "      <td>124.0</td>\n",
       "      <td>16.0</td>\n",
       "    </tr>\n",
       "    <tr>\n",
       "      <th rowspan=\"4\" valign=\"top\">1001</th>\n",
       "      <th>8</th>\n",
       "      <td>6919.15</td>\n",
       "      <td>6.756982</td>\n",
       "      <td>30.0</td>\n",
       "      <td>182.0</td>\n",
       "      <td>27.0</td>\n",
       "    </tr>\n",
       "    <tr>\n",
       "      <th>9</th>\n",
       "      <td>13314.82</td>\n",
       "      <td>13.002754</td>\n",
       "      <td>44.0</td>\n",
       "      <td>315.0</td>\n",
       "      <td>49.0</td>\n",
       "    </tr>\n",
       "    <tr>\n",
       "      <th>10</th>\n",
       "      <td>22330.49</td>\n",
       "      <td>21.807119</td>\n",
       "      <td>53.0</td>\n",
       "      <td>393.0</td>\n",
       "      <td>65.0</td>\n",
       "    </tr>\n",
       "    <tr>\n",
       "      <th>11</th>\n",
       "      <td>18504.30</td>\n",
       "      <td>18.070605</td>\n",
       "      <td>36.0</td>\n",
       "      <td>426.0</td>\n",
       "      <td>64.0</td>\n",
       "    </tr>\n",
       "    <tr>\n",
       "      <th>...</th>\n",
       "      <th>...</th>\n",
       "      <td>...</td>\n",
       "      <td>...</td>\n",
       "      <td>...</td>\n",
       "      <td>...</td>\n",
       "      <td>...</td>\n",
       "    </tr>\n",
       "    <tr>\n",
       "      <th>1470</th>\n",
       "      <th>12</th>\n",
       "      <td>0.00</td>\n",
       "      <td>0.000000</td>\n",
       "      <td>153.0</td>\n",
       "      <td>592.0</td>\n",
       "      <td>78.0</td>\n",
       "    </tr>\n",
       "    <tr>\n",
       "      <th>1482</th>\n",
       "      <th>10</th>\n",
       "      <td>0.00</td>\n",
       "      <td>0.000000</td>\n",
       "      <td>2.0</td>\n",
       "      <td>0.0</td>\n",
       "      <td>0.0</td>\n",
       "    </tr>\n",
       "    <tr>\n",
       "      <th>1484</th>\n",
       "      <th>11</th>\n",
       "      <td>0.00</td>\n",
       "      <td>0.000000</td>\n",
       "      <td>1.0</td>\n",
       "      <td>38.0</td>\n",
       "      <td>2.0</td>\n",
       "    </tr>\n",
       "    <tr>\n",
       "      <th>1491</th>\n",
       "      <th>4</th>\n",
       "      <td>0.00</td>\n",
       "      <td>0.000000</td>\n",
       "      <td>6.0</td>\n",
       "      <td>44.0</td>\n",
       "      <td>8.0</td>\n",
       "    </tr>\n",
       "    <tr>\n",
       "      <th>1044</th>\n",
       "      <th>8</th>\n",
       "      <td>0.00</td>\n",
       "      <td>0.000000</td>\n",
       "      <td>0.0</td>\n",
       "      <td>13.0</td>\n",
       "      <td>1.0</td>\n",
       "    </tr>\n",
       "  </tbody>\n",
       "</table>\n",
       "<p>2293 rows × 5 columns</p>\n",
       "</div>"
      ],
      "text/plain": [
       "                mb_used    gb_used  messages_count  billable_minutes  \\\n",
       "user_id month                                                          \n",
       "1000    12      1901.47   1.856904            11.0             124.0   \n",
       "1001    8       6919.15   6.756982            30.0             182.0   \n",
       "        9      13314.82  13.002754            44.0             315.0   \n",
       "        10     22330.49  21.807119            53.0             393.0   \n",
       "        11     18504.30  18.070605            36.0             426.0   \n",
       "...                 ...        ...             ...               ...   \n",
       "1470    12         0.00   0.000000           153.0             592.0   \n",
       "1482    10         0.00   0.000000             2.0               0.0   \n",
       "1484    11         0.00   0.000000             1.0              38.0   \n",
       "1491    4          0.00   0.000000             6.0              44.0   \n",
       "1044    8          0.00   0.000000             0.0              13.0   \n",
       "\n",
       "               call_count  \n",
       "user_id month              \n",
       "1000    12           16.0  \n",
       "1001    8            27.0  \n",
       "        9            49.0  \n",
       "        10           65.0  \n",
       "        11           64.0  \n",
       "...                   ...  \n",
       "1470    12           78.0  \n",
       "1482    10            0.0  \n",
       "1484    11            2.0  \n",
       "1491    4             8.0  \n",
       "1044    8             1.0  \n",
       "\n",
       "[2293 rows x 5 columns]"
      ]
     },
     "execution_count": 136,
     "metadata": {},
     "output_type": "execute_result"
    }
   ],
   "source": [
    "# Merge the data for calls, minutes, messages, internet based on user_id and month\n",
    "# we fill NA and outer join to make sure we keep all datapoints and fill zeroes where values do not exist \n",
    "data_frames = [aggr_internet_df, aggr_messages_df, aggr_minutes_df, aggr_calls_df]\n",
    "df = reduce(lambda left,right: pd.merge(left,right,on=['user_id', 'month'], how='outer'), data_frames).fillna(0)\n",
    "df"
   ]
  },
  {
   "cell_type": "code",
   "execution_count": 137,
   "metadata": {},
   "outputs": [
    {
     "data": {
      "text/html": [
       "<div>\n",
       "<style scoped>\n",
       "    .dataframe tbody tr th:only-of-type {\n",
       "        vertical-align: middle;\n",
       "    }\n",
       "\n",
       "    .dataframe tbody tr th {\n",
       "        vertical-align: top;\n",
       "    }\n",
       "\n",
       "    .dataframe thead th {\n",
       "        text-align: right;\n",
       "    }\n",
       "</style>\n",
       "<table border=\"1\" class=\"dataframe\">\n",
       "  <thead>\n",
       "    <tr style=\"text-align: right;\">\n",
       "      <th></th>\n",
       "      <th>user_id</th>\n",
       "      <th>month</th>\n",
       "      <th>mb_used</th>\n",
       "      <th>gb_used</th>\n",
       "      <th>messages_count</th>\n",
       "      <th>billable_minutes</th>\n",
       "      <th>call_count</th>\n",
       "      <th>plan</th>\n",
       "    </tr>\n",
       "  </thead>\n",
       "  <tbody>\n",
       "    <tr>\n",
       "      <th>0</th>\n",
       "      <td>1000</td>\n",
       "      <td>12</td>\n",
       "      <td>1901.47</td>\n",
       "      <td>1.856904</td>\n",
       "      <td>11.0</td>\n",
       "      <td>124.0</td>\n",
       "      <td>16.0</td>\n",
       "      <td>ultimate</td>\n",
       "    </tr>\n",
       "    <tr>\n",
       "      <th>1</th>\n",
       "      <td>1001</td>\n",
       "      <td>8</td>\n",
       "      <td>6919.15</td>\n",
       "      <td>6.756982</td>\n",
       "      <td>30.0</td>\n",
       "      <td>182.0</td>\n",
       "      <td>27.0</td>\n",
       "      <td>surf</td>\n",
       "    </tr>\n",
       "    <tr>\n",
       "      <th>2</th>\n",
       "      <td>1001</td>\n",
       "      <td>9</td>\n",
       "      <td>13314.82</td>\n",
       "      <td>13.002754</td>\n",
       "      <td>44.0</td>\n",
       "      <td>315.0</td>\n",
       "      <td>49.0</td>\n",
       "      <td>surf</td>\n",
       "    </tr>\n",
       "    <tr>\n",
       "      <th>3</th>\n",
       "      <td>1001</td>\n",
       "      <td>10</td>\n",
       "      <td>22330.49</td>\n",
       "      <td>21.807119</td>\n",
       "      <td>53.0</td>\n",
       "      <td>393.0</td>\n",
       "      <td>65.0</td>\n",
       "      <td>surf</td>\n",
       "    </tr>\n",
       "    <tr>\n",
       "      <th>4</th>\n",
       "      <td>1001</td>\n",
       "      <td>11</td>\n",
       "      <td>18504.30</td>\n",
       "      <td>18.070605</td>\n",
       "      <td>36.0</td>\n",
       "      <td>426.0</td>\n",
       "      <td>64.0</td>\n",
       "      <td>surf</td>\n",
       "    </tr>\n",
       "    <tr>\n",
       "      <th>...</th>\n",
       "      <td>...</td>\n",
       "      <td>...</td>\n",
       "      <td>...</td>\n",
       "      <td>...</td>\n",
       "      <td>...</td>\n",
       "      <td>...</td>\n",
       "      <td>...</td>\n",
       "      <td>...</td>\n",
       "    </tr>\n",
       "    <tr>\n",
       "      <th>2288</th>\n",
       "      <td>1470</td>\n",
       "      <td>12</td>\n",
       "      <td>0.00</td>\n",
       "      <td>0.000000</td>\n",
       "      <td>153.0</td>\n",
       "      <td>592.0</td>\n",
       "      <td>78.0</td>\n",
       "      <td>surf</td>\n",
       "    </tr>\n",
       "    <tr>\n",
       "      <th>2289</th>\n",
       "      <td>1482</td>\n",
       "      <td>10</td>\n",
       "      <td>0.00</td>\n",
       "      <td>0.000000</td>\n",
       "      <td>2.0</td>\n",
       "      <td>0.0</td>\n",
       "      <td>0.0</td>\n",
       "      <td>ultimate</td>\n",
       "    </tr>\n",
       "    <tr>\n",
       "      <th>2290</th>\n",
       "      <td>1484</td>\n",
       "      <td>11</td>\n",
       "      <td>0.00</td>\n",
       "      <td>0.000000</td>\n",
       "      <td>1.0</td>\n",
       "      <td>38.0</td>\n",
       "      <td>2.0</td>\n",
       "      <td>surf</td>\n",
       "    </tr>\n",
       "    <tr>\n",
       "      <th>2291</th>\n",
       "      <td>1491</td>\n",
       "      <td>4</td>\n",
       "      <td>0.00</td>\n",
       "      <td>0.000000</td>\n",
       "      <td>6.0</td>\n",
       "      <td>44.0</td>\n",
       "      <td>8.0</td>\n",
       "      <td>surf</td>\n",
       "    </tr>\n",
       "    <tr>\n",
       "      <th>2292</th>\n",
       "      <td>1044</td>\n",
       "      <td>8</td>\n",
       "      <td>0.00</td>\n",
       "      <td>0.000000</td>\n",
       "      <td>0.0</td>\n",
       "      <td>13.0</td>\n",
       "      <td>1.0</td>\n",
       "      <td>surf</td>\n",
       "    </tr>\n",
       "  </tbody>\n",
       "</table>\n",
       "<p>2293 rows × 8 columns</p>\n",
       "</div>"
      ],
      "text/plain": [
       "      user_id  month   mb_used    gb_used  messages_count  billable_minutes  \\\n",
       "0        1000     12   1901.47   1.856904            11.0             124.0   \n",
       "1        1001      8   6919.15   6.756982            30.0             182.0   \n",
       "2        1001      9  13314.82  13.002754            44.0             315.0   \n",
       "3        1001     10  22330.49  21.807119            53.0             393.0   \n",
       "4        1001     11  18504.30  18.070605            36.0             426.0   \n",
       "...       ...    ...       ...        ...             ...               ...   \n",
       "2288     1470     12      0.00   0.000000           153.0             592.0   \n",
       "2289     1482     10      0.00   0.000000             2.0               0.0   \n",
       "2290     1484     11      0.00   0.000000             1.0              38.0   \n",
       "2291     1491      4      0.00   0.000000             6.0              44.0   \n",
       "2292     1044      8      0.00   0.000000             0.0              13.0   \n",
       "\n",
       "      call_count      plan  \n",
       "0           16.0  ultimate  \n",
       "1           27.0      surf  \n",
       "2           49.0      surf  \n",
       "3           65.0      surf  \n",
       "4           64.0      surf  \n",
       "...          ...       ...  \n",
       "2288        78.0      surf  \n",
       "2289         0.0  ultimate  \n",
       "2290         2.0      surf  \n",
       "2291         8.0      surf  \n",
       "2292         1.0      surf  \n",
       "\n",
       "[2293 rows x 8 columns]"
      ]
     },
     "execution_count": 137,
     "metadata": {},
     "output_type": "execute_result"
    }
   ],
   "source": [
    "# Add the plan information\n",
    "df = df.reset_index()\n",
    "df = pd.merge(df,users_df[['user_id','plan']], on=['user_id'], how='left')\n",
    "df"
   ]
  },
  {
   "cell_type": "code",
   "execution_count": 138,
   "metadata": {},
   "outputs": [
    {
     "data": {
      "text/html": [
       "<div>\n",
       "<style scoped>\n",
       "    .dataframe tbody tr th:only-of-type {\n",
       "        vertical-align: middle;\n",
       "    }\n",
       "\n",
       "    .dataframe tbody tr th {\n",
       "        vertical-align: top;\n",
       "    }\n",
       "\n",
       "    .dataframe thead th {\n",
       "        text-align: right;\n",
       "    }\n",
       "</style>\n",
       "<table border=\"1\" class=\"dataframe\">\n",
       "  <thead>\n",
       "    <tr style=\"text-align: right;\">\n",
       "      <th></th>\n",
       "      <th>user_id</th>\n",
       "      <th>month</th>\n",
       "      <th>mb_used</th>\n",
       "      <th>gb_used</th>\n",
       "      <th>messages_count</th>\n",
       "      <th>billable_minutes</th>\n",
       "      <th>call_count</th>\n",
       "      <th>plan_name</th>\n",
       "      <th>messages_included</th>\n",
       "      <th>mb_per_month_included</th>\n",
       "      <th>minutes_included</th>\n",
       "      <th>usd_monthly_pay</th>\n",
       "      <th>usd_per_gb</th>\n",
       "      <th>usd_per_message</th>\n",
       "      <th>usd_per_minute</th>\n",
       "    </tr>\n",
       "  </thead>\n",
       "  <tbody>\n",
       "    <tr>\n",
       "      <th>0</th>\n",
       "      <td>1000</td>\n",
       "      <td>12</td>\n",
       "      <td>1901.47</td>\n",
       "      <td>1.856904</td>\n",
       "      <td>11.0</td>\n",
       "      <td>124.0</td>\n",
       "      <td>16.0</td>\n",
       "      <td>ultimate</td>\n",
       "      <td>1000</td>\n",
       "      <td>30720</td>\n",
       "      <td>3000</td>\n",
       "      <td>70.0</td>\n",
       "      <td>7.0</td>\n",
       "      <td>0.01</td>\n",
       "      <td>0.01</td>\n",
       "    </tr>\n",
       "    <tr>\n",
       "      <th>1</th>\n",
       "      <td>1001</td>\n",
       "      <td>8</td>\n",
       "      <td>6919.15</td>\n",
       "      <td>6.756982</td>\n",
       "      <td>30.0</td>\n",
       "      <td>182.0</td>\n",
       "      <td>27.0</td>\n",
       "      <td>surf</td>\n",
       "      <td>50</td>\n",
       "      <td>15360</td>\n",
       "      <td>500</td>\n",
       "      <td>20.0</td>\n",
       "      <td>10.0</td>\n",
       "      <td>0.03</td>\n",
       "      <td>0.03</td>\n",
       "    </tr>\n",
       "    <tr>\n",
       "      <th>2</th>\n",
       "      <td>1001</td>\n",
       "      <td>9</td>\n",
       "      <td>13314.82</td>\n",
       "      <td>13.002754</td>\n",
       "      <td>44.0</td>\n",
       "      <td>315.0</td>\n",
       "      <td>49.0</td>\n",
       "      <td>surf</td>\n",
       "      <td>50</td>\n",
       "      <td>15360</td>\n",
       "      <td>500</td>\n",
       "      <td>20.0</td>\n",
       "      <td>10.0</td>\n",
       "      <td>0.03</td>\n",
       "      <td>0.03</td>\n",
       "    </tr>\n",
       "    <tr>\n",
       "      <th>3</th>\n",
       "      <td>1001</td>\n",
       "      <td>10</td>\n",
       "      <td>22330.49</td>\n",
       "      <td>21.807119</td>\n",
       "      <td>53.0</td>\n",
       "      <td>393.0</td>\n",
       "      <td>65.0</td>\n",
       "      <td>surf</td>\n",
       "      <td>50</td>\n",
       "      <td>15360</td>\n",
       "      <td>500</td>\n",
       "      <td>20.0</td>\n",
       "      <td>10.0</td>\n",
       "      <td>0.03</td>\n",
       "      <td>0.03</td>\n",
       "    </tr>\n",
       "    <tr>\n",
       "      <th>4</th>\n",
       "      <td>1001</td>\n",
       "      <td>11</td>\n",
       "      <td>18504.30</td>\n",
       "      <td>18.070605</td>\n",
       "      <td>36.0</td>\n",
       "      <td>426.0</td>\n",
       "      <td>64.0</td>\n",
       "      <td>surf</td>\n",
       "      <td>50</td>\n",
       "      <td>15360</td>\n",
       "      <td>500</td>\n",
       "      <td>20.0</td>\n",
       "      <td>10.0</td>\n",
       "      <td>0.03</td>\n",
       "      <td>0.03</td>\n",
       "    </tr>\n",
       "    <tr>\n",
       "      <th>...</th>\n",
       "      <td>...</td>\n",
       "      <td>...</td>\n",
       "      <td>...</td>\n",
       "      <td>...</td>\n",
       "      <td>...</td>\n",
       "      <td>...</td>\n",
       "      <td>...</td>\n",
       "      <td>...</td>\n",
       "      <td>...</td>\n",
       "      <td>...</td>\n",
       "      <td>...</td>\n",
       "      <td>...</td>\n",
       "      <td>...</td>\n",
       "      <td>...</td>\n",
       "      <td>...</td>\n",
       "    </tr>\n",
       "    <tr>\n",
       "      <th>2288</th>\n",
       "      <td>1470</td>\n",
       "      <td>12</td>\n",
       "      <td>0.00</td>\n",
       "      <td>0.000000</td>\n",
       "      <td>153.0</td>\n",
       "      <td>592.0</td>\n",
       "      <td>78.0</td>\n",
       "      <td>surf</td>\n",
       "      <td>50</td>\n",
       "      <td>15360</td>\n",
       "      <td>500</td>\n",
       "      <td>20.0</td>\n",
       "      <td>10.0</td>\n",
       "      <td>0.03</td>\n",
       "      <td>0.03</td>\n",
       "    </tr>\n",
       "    <tr>\n",
       "      <th>2289</th>\n",
       "      <td>1482</td>\n",
       "      <td>10</td>\n",
       "      <td>0.00</td>\n",
       "      <td>0.000000</td>\n",
       "      <td>2.0</td>\n",
       "      <td>0.0</td>\n",
       "      <td>0.0</td>\n",
       "      <td>ultimate</td>\n",
       "      <td>1000</td>\n",
       "      <td>30720</td>\n",
       "      <td>3000</td>\n",
       "      <td>70.0</td>\n",
       "      <td>7.0</td>\n",
       "      <td>0.01</td>\n",
       "      <td>0.01</td>\n",
       "    </tr>\n",
       "    <tr>\n",
       "      <th>2290</th>\n",
       "      <td>1484</td>\n",
       "      <td>11</td>\n",
       "      <td>0.00</td>\n",
       "      <td>0.000000</td>\n",
       "      <td>1.0</td>\n",
       "      <td>38.0</td>\n",
       "      <td>2.0</td>\n",
       "      <td>surf</td>\n",
       "      <td>50</td>\n",
       "      <td>15360</td>\n",
       "      <td>500</td>\n",
       "      <td>20.0</td>\n",
       "      <td>10.0</td>\n",
       "      <td>0.03</td>\n",
       "      <td>0.03</td>\n",
       "    </tr>\n",
       "    <tr>\n",
       "      <th>2291</th>\n",
       "      <td>1491</td>\n",
       "      <td>4</td>\n",
       "      <td>0.00</td>\n",
       "      <td>0.000000</td>\n",
       "      <td>6.0</td>\n",
       "      <td>44.0</td>\n",
       "      <td>8.0</td>\n",
       "      <td>surf</td>\n",
       "      <td>50</td>\n",
       "      <td>15360</td>\n",
       "      <td>500</td>\n",
       "      <td>20.0</td>\n",
       "      <td>10.0</td>\n",
       "      <td>0.03</td>\n",
       "      <td>0.03</td>\n",
       "    </tr>\n",
       "    <tr>\n",
       "      <th>2292</th>\n",
       "      <td>1044</td>\n",
       "      <td>8</td>\n",
       "      <td>0.00</td>\n",
       "      <td>0.000000</td>\n",
       "      <td>0.0</td>\n",
       "      <td>13.0</td>\n",
       "      <td>1.0</td>\n",
       "      <td>surf</td>\n",
       "      <td>50</td>\n",
       "      <td>15360</td>\n",
       "      <td>500</td>\n",
       "      <td>20.0</td>\n",
       "      <td>10.0</td>\n",
       "      <td>0.03</td>\n",
       "      <td>0.03</td>\n",
       "    </tr>\n",
       "  </tbody>\n",
       "</table>\n",
       "<p>2293 rows × 15 columns</p>\n",
       "</div>"
      ],
      "text/plain": [
       "      user_id  month   mb_used    gb_used  messages_count  billable_minutes  \\\n",
       "0        1000     12   1901.47   1.856904            11.0             124.0   \n",
       "1        1001      8   6919.15   6.756982            30.0             182.0   \n",
       "2        1001      9  13314.82  13.002754            44.0             315.0   \n",
       "3        1001     10  22330.49  21.807119            53.0             393.0   \n",
       "4        1001     11  18504.30  18.070605            36.0             426.0   \n",
       "...       ...    ...       ...        ...             ...               ...   \n",
       "2288     1470     12      0.00   0.000000           153.0             592.0   \n",
       "2289     1482     10      0.00   0.000000             2.0               0.0   \n",
       "2290     1484     11      0.00   0.000000             1.0              38.0   \n",
       "2291     1491      4      0.00   0.000000             6.0              44.0   \n",
       "2292     1044      8      0.00   0.000000             0.0              13.0   \n",
       "\n",
       "      call_count plan_name  messages_included  mb_per_month_included  \\\n",
       "0           16.0  ultimate               1000                  30720   \n",
       "1           27.0      surf                 50                  15360   \n",
       "2           49.0      surf                 50                  15360   \n",
       "3           65.0      surf                 50                  15360   \n",
       "4           64.0      surf                 50                  15360   \n",
       "...          ...       ...                ...                    ...   \n",
       "2288        78.0      surf                 50                  15360   \n",
       "2289         0.0  ultimate               1000                  30720   \n",
       "2290         2.0      surf                 50                  15360   \n",
       "2291         8.0      surf                 50                  15360   \n",
       "2292         1.0      surf                 50                  15360   \n",
       "\n",
       "      minutes_included  usd_monthly_pay  usd_per_gb  usd_per_message  \\\n",
       "0                 3000             70.0         7.0             0.01   \n",
       "1                  500             20.0        10.0             0.03   \n",
       "2                  500             20.0        10.0             0.03   \n",
       "3                  500             20.0        10.0             0.03   \n",
       "4                  500             20.0        10.0             0.03   \n",
       "...                ...              ...         ...              ...   \n",
       "2288               500             20.0        10.0             0.03   \n",
       "2289              3000             70.0         7.0             0.01   \n",
       "2290               500             20.0        10.0             0.03   \n",
       "2291               500             20.0        10.0             0.03   \n",
       "2292               500             20.0        10.0             0.03   \n",
       "\n",
       "      usd_per_minute  \n",
       "0               0.01  \n",
       "1               0.03  \n",
       "2               0.03  \n",
       "3               0.03  \n",
       "4               0.03  \n",
       "...              ...  \n",
       "2288            0.03  \n",
       "2289            0.01  \n",
       "2290            0.03  \n",
       "2291            0.03  \n",
       "2292            0.03  \n",
       "\n",
       "[2293 rows x 15 columns]"
      ]
     },
     "execution_count": 138,
     "metadata": {},
     "output_type": "execute_result"
    }
   ],
   "source": [
    "df = df.rename(columns={'plan': 'plan_name'})\n",
    "df = pd.merge(df, plans_df, on=['plan_name'], how='left')\n",
    "df"
   ]
  },
  {
   "cell_type": "markdown",
   "metadata": {},
   "source": [
    "Here we calculate the revenue in each of the three categories of revenue. We then add the billing rate to get total revenue. After done we display the dataFrame so we can spot check the calculations"
   ]
  },
  {
   "cell_type": "code",
   "execution_count": 139,
   "metadata": {},
   "outputs": [
    {
     "data": {
      "text/html": [
       "<div>\n",
       "<style scoped>\n",
       "    .dataframe tbody tr th:only-of-type {\n",
       "        vertical-align: middle;\n",
       "    }\n",
       "\n",
       "    .dataframe tbody tr th {\n",
       "        vertical-align: top;\n",
       "    }\n",
       "\n",
       "    .dataframe thead th {\n",
       "        text-align: right;\n",
       "    }\n",
       "</style>\n",
       "<table border=\"1\" class=\"dataframe\">\n",
       "  <thead>\n",
       "    <tr style=\"text-align: right;\">\n",
       "      <th></th>\n",
       "      <th>user_id</th>\n",
       "      <th>month</th>\n",
       "      <th>mb_used</th>\n",
       "      <th>gb_used</th>\n",
       "      <th>messages_count</th>\n",
       "      <th>billable_minutes</th>\n",
       "      <th>call_count</th>\n",
       "      <th>plan_name</th>\n",
       "      <th>messages_included</th>\n",
       "      <th>mb_per_month_included</th>\n",
       "      <th>minutes_included</th>\n",
       "      <th>usd_monthly_pay</th>\n",
       "      <th>usd_per_gb</th>\n",
       "      <th>usd_per_message</th>\n",
       "      <th>usd_per_minute</th>\n",
       "      <th>messages_revenue</th>\n",
       "      <th>internet_revenue</th>\n",
       "      <th>call_revenue</th>\n",
       "    </tr>\n",
       "  </thead>\n",
       "  <tbody>\n",
       "    <tr>\n",
       "      <th>0</th>\n",
       "      <td>1000</td>\n",
       "      <td>12</td>\n",
       "      <td>1901.47</td>\n",
       "      <td>1.856904</td>\n",
       "      <td>11.0</td>\n",
       "      <td>124.0</td>\n",
       "      <td>16.0</td>\n",
       "      <td>ultimate</td>\n",
       "      <td>1000</td>\n",
       "      <td>30720</td>\n",
       "      <td>3000</td>\n",
       "      <td>70.0</td>\n",
       "      <td>7.0</td>\n",
       "      <td>0.01</td>\n",
       "      <td>0.01</td>\n",
       "      <td>0.00</td>\n",
       "      <td>0.0</td>\n",
       "      <td>0.00</td>\n",
       "    </tr>\n",
       "    <tr>\n",
       "      <th>1</th>\n",
       "      <td>1001</td>\n",
       "      <td>8</td>\n",
       "      <td>6919.15</td>\n",
       "      <td>6.756982</td>\n",
       "      <td>30.0</td>\n",
       "      <td>182.0</td>\n",
       "      <td>27.0</td>\n",
       "      <td>surf</td>\n",
       "      <td>50</td>\n",
       "      <td>15360</td>\n",
       "      <td>500</td>\n",
       "      <td>20.0</td>\n",
       "      <td>10.0</td>\n",
       "      <td>0.03</td>\n",
       "      <td>0.03</td>\n",
       "      <td>0.00</td>\n",
       "      <td>0.0</td>\n",
       "      <td>0.00</td>\n",
       "    </tr>\n",
       "    <tr>\n",
       "      <th>2</th>\n",
       "      <td>1001</td>\n",
       "      <td>9</td>\n",
       "      <td>13314.82</td>\n",
       "      <td>13.002754</td>\n",
       "      <td>44.0</td>\n",
       "      <td>315.0</td>\n",
       "      <td>49.0</td>\n",
       "      <td>surf</td>\n",
       "      <td>50</td>\n",
       "      <td>15360</td>\n",
       "      <td>500</td>\n",
       "      <td>20.0</td>\n",
       "      <td>10.0</td>\n",
       "      <td>0.03</td>\n",
       "      <td>0.03</td>\n",
       "      <td>0.00</td>\n",
       "      <td>0.0</td>\n",
       "      <td>0.00</td>\n",
       "    </tr>\n",
       "    <tr>\n",
       "      <th>3</th>\n",
       "      <td>1001</td>\n",
       "      <td>10</td>\n",
       "      <td>22330.49</td>\n",
       "      <td>21.807119</td>\n",
       "      <td>53.0</td>\n",
       "      <td>393.0</td>\n",
       "      <td>65.0</td>\n",
       "      <td>surf</td>\n",
       "      <td>50</td>\n",
       "      <td>15360</td>\n",
       "      <td>500</td>\n",
       "      <td>20.0</td>\n",
       "      <td>10.0</td>\n",
       "      <td>0.03</td>\n",
       "      <td>0.03</td>\n",
       "      <td>0.09</td>\n",
       "      <td>70.0</td>\n",
       "      <td>0.00</td>\n",
       "    </tr>\n",
       "    <tr>\n",
       "      <th>4</th>\n",
       "      <td>1001</td>\n",
       "      <td>11</td>\n",
       "      <td>18504.30</td>\n",
       "      <td>18.070605</td>\n",
       "      <td>36.0</td>\n",
       "      <td>426.0</td>\n",
       "      <td>64.0</td>\n",
       "      <td>surf</td>\n",
       "      <td>50</td>\n",
       "      <td>15360</td>\n",
       "      <td>500</td>\n",
       "      <td>20.0</td>\n",
       "      <td>10.0</td>\n",
       "      <td>0.03</td>\n",
       "      <td>0.03</td>\n",
       "      <td>0.00</td>\n",
       "      <td>40.0</td>\n",
       "      <td>0.00</td>\n",
       "    </tr>\n",
       "    <tr>\n",
       "      <th>...</th>\n",
       "      <td>...</td>\n",
       "      <td>...</td>\n",
       "      <td>...</td>\n",
       "      <td>...</td>\n",
       "      <td>...</td>\n",
       "      <td>...</td>\n",
       "      <td>...</td>\n",
       "      <td>...</td>\n",
       "      <td>...</td>\n",
       "      <td>...</td>\n",
       "      <td>...</td>\n",
       "      <td>...</td>\n",
       "      <td>...</td>\n",
       "      <td>...</td>\n",
       "      <td>...</td>\n",
       "      <td>...</td>\n",
       "      <td>...</td>\n",
       "      <td>...</td>\n",
       "    </tr>\n",
       "    <tr>\n",
       "      <th>2288</th>\n",
       "      <td>1470</td>\n",
       "      <td>12</td>\n",
       "      <td>0.00</td>\n",
       "      <td>0.000000</td>\n",
       "      <td>153.0</td>\n",
       "      <td>592.0</td>\n",
       "      <td>78.0</td>\n",
       "      <td>surf</td>\n",
       "      <td>50</td>\n",
       "      <td>15360</td>\n",
       "      <td>500</td>\n",
       "      <td>20.0</td>\n",
       "      <td>10.0</td>\n",
       "      <td>0.03</td>\n",
       "      <td>0.03</td>\n",
       "      <td>3.09</td>\n",
       "      <td>0.0</td>\n",
       "      <td>2.76</td>\n",
       "    </tr>\n",
       "    <tr>\n",
       "      <th>2289</th>\n",
       "      <td>1482</td>\n",
       "      <td>10</td>\n",
       "      <td>0.00</td>\n",
       "      <td>0.000000</td>\n",
       "      <td>2.0</td>\n",
       "      <td>0.0</td>\n",
       "      <td>0.0</td>\n",
       "      <td>ultimate</td>\n",
       "      <td>1000</td>\n",
       "      <td>30720</td>\n",
       "      <td>3000</td>\n",
       "      <td>70.0</td>\n",
       "      <td>7.0</td>\n",
       "      <td>0.01</td>\n",
       "      <td>0.01</td>\n",
       "      <td>0.00</td>\n",
       "      <td>0.0</td>\n",
       "      <td>0.00</td>\n",
       "    </tr>\n",
       "    <tr>\n",
       "      <th>2290</th>\n",
       "      <td>1484</td>\n",
       "      <td>11</td>\n",
       "      <td>0.00</td>\n",
       "      <td>0.000000</td>\n",
       "      <td>1.0</td>\n",
       "      <td>38.0</td>\n",
       "      <td>2.0</td>\n",
       "      <td>surf</td>\n",
       "      <td>50</td>\n",
       "      <td>15360</td>\n",
       "      <td>500</td>\n",
       "      <td>20.0</td>\n",
       "      <td>10.0</td>\n",
       "      <td>0.03</td>\n",
       "      <td>0.03</td>\n",
       "      <td>0.00</td>\n",
       "      <td>0.0</td>\n",
       "      <td>0.00</td>\n",
       "    </tr>\n",
       "    <tr>\n",
       "      <th>2291</th>\n",
       "      <td>1491</td>\n",
       "      <td>4</td>\n",
       "      <td>0.00</td>\n",
       "      <td>0.000000</td>\n",
       "      <td>6.0</td>\n",
       "      <td>44.0</td>\n",
       "      <td>8.0</td>\n",
       "      <td>surf</td>\n",
       "      <td>50</td>\n",
       "      <td>15360</td>\n",
       "      <td>500</td>\n",
       "      <td>20.0</td>\n",
       "      <td>10.0</td>\n",
       "      <td>0.03</td>\n",
       "      <td>0.03</td>\n",
       "      <td>0.00</td>\n",
       "      <td>0.0</td>\n",
       "      <td>0.00</td>\n",
       "    </tr>\n",
       "    <tr>\n",
       "      <th>2292</th>\n",
       "      <td>1044</td>\n",
       "      <td>8</td>\n",
       "      <td>0.00</td>\n",
       "      <td>0.000000</td>\n",
       "      <td>0.0</td>\n",
       "      <td>13.0</td>\n",
       "      <td>1.0</td>\n",
       "      <td>surf</td>\n",
       "      <td>50</td>\n",
       "      <td>15360</td>\n",
       "      <td>500</td>\n",
       "      <td>20.0</td>\n",
       "      <td>10.0</td>\n",
       "      <td>0.03</td>\n",
       "      <td>0.03</td>\n",
       "      <td>0.00</td>\n",
       "      <td>0.0</td>\n",
       "      <td>0.00</td>\n",
       "    </tr>\n",
       "  </tbody>\n",
       "</table>\n",
       "<p>2293 rows × 18 columns</p>\n",
       "</div>"
      ],
      "text/plain": [
       "      user_id  month   mb_used    gb_used  messages_count  billable_minutes  \\\n",
       "0        1000     12   1901.47   1.856904            11.0             124.0   \n",
       "1        1001      8   6919.15   6.756982            30.0             182.0   \n",
       "2        1001      9  13314.82  13.002754            44.0             315.0   \n",
       "3        1001     10  22330.49  21.807119            53.0             393.0   \n",
       "4        1001     11  18504.30  18.070605            36.0             426.0   \n",
       "...       ...    ...       ...        ...             ...               ...   \n",
       "2288     1470     12      0.00   0.000000           153.0             592.0   \n",
       "2289     1482     10      0.00   0.000000             2.0               0.0   \n",
       "2290     1484     11      0.00   0.000000             1.0              38.0   \n",
       "2291     1491      4      0.00   0.000000             6.0              44.0   \n",
       "2292     1044      8      0.00   0.000000             0.0              13.0   \n",
       "\n",
       "      call_count plan_name  messages_included  mb_per_month_included  \\\n",
       "0           16.0  ultimate               1000                  30720   \n",
       "1           27.0      surf                 50                  15360   \n",
       "2           49.0      surf                 50                  15360   \n",
       "3           65.0      surf                 50                  15360   \n",
       "4           64.0      surf                 50                  15360   \n",
       "...          ...       ...                ...                    ...   \n",
       "2288        78.0      surf                 50                  15360   \n",
       "2289         0.0  ultimate               1000                  30720   \n",
       "2290         2.0      surf                 50                  15360   \n",
       "2291         8.0      surf                 50                  15360   \n",
       "2292         1.0      surf                 50                  15360   \n",
       "\n",
       "      minutes_included  usd_monthly_pay  usd_per_gb  usd_per_message  \\\n",
       "0                 3000             70.0         7.0             0.01   \n",
       "1                  500             20.0        10.0             0.03   \n",
       "2                  500             20.0        10.0             0.03   \n",
       "3                  500             20.0        10.0             0.03   \n",
       "4                  500             20.0        10.0             0.03   \n",
       "...                ...              ...         ...              ...   \n",
       "2288               500             20.0        10.0             0.03   \n",
       "2289              3000             70.0         7.0             0.01   \n",
       "2290               500             20.0        10.0             0.03   \n",
       "2291               500             20.0        10.0             0.03   \n",
       "2292               500             20.0        10.0             0.03   \n",
       "\n",
       "      usd_per_minute  messages_revenue  internet_revenue  call_revenue  \n",
       "0               0.01              0.00               0.0          0.00  \n",
       "1               0.03              0.00               0.0          0.00  \n",
       "2               0.03              0.00               0.0          0.00  \n",
       "3               0.03              0.09              70.0          0.00  \n",
       "4               0.03              0.00              40.0          0.00  \n",
       "...              ...               ...               ...           ...  \n",
       "2288            0.03              3.09               0.0          2.76  \n",
       "2289            0.01              0.00               0.0          0.00  \n",
       "2290            0.03              0.00               0.0          0.00  \n",
       "2291            0.03              0.00               0.0          0.00  \n",
       "2292            0.03              0.00               0.0          0.00  \n",
       "\n",
       "[2293 rows x 18 columns]"
      ]
     },
     "execution_count": 139,
     "metadata": {},
     "output_type": "execute_result"
    }
   ],
   "source": [
    "# Calculate the monthly revenue for each user\n",
    "# Calculate each Segment revenue to simplify\n",
    "# Messages\n",
    "df['messages_revenue'] = np.where(df['messages_count'] > df['messages_included'], \n",
    "                                  (df['messages_count']-df['messages_included'])*df['usd_per_message'], \n",
    "                                  0)\n",
    "# Internet\n",
    "df['internet_revenue'] = np.where(df['gb_used'] > (df['mb_per_month_included']/1024), \n",
    "                                    np.ceil((df['gb_used'] - (df['mb_per_month_included']/1024)))*df['usd_per_gb'], \n",
    "                                   0)\n",
    "# Call Minutes\n",
    "df['call_revenue'] = np.where(df['billable_minutes'] > df['minutes_included'], \n",
    "                             (df['billable_minutes'] - df['minutes_included'])*df['usd_per_minute'], \n",
    "                              0)\n",
    "\n",
    "\n",
    "df"
   ]
  },
  {
   "cell_type": "code",
   "execution_count": 140,
   "metadata": {},
   "outputs": [
    {
     "data": {
      "text/html": [
       "<div>\n",
       "<style scoped>\n",
       "    .dataframe tbody tr th:only-of-type {\n",
       "        vertical-align: middle;\n",
       "    }\n",
       "\n",
       "    .dataframe tbody tr th {\n",
       "        vertical-align: top;\n",
       "    }\n",
       "\n",
       "    .dataframe thead th {\n",
       "        text-align: right;\n",
       "    }\n",
       "</style>\n",
       "<table border=\"1\" class=\"dataframe\">\n",
       "  <thead>\n",
       "    <tr style=\"text-align: right;\">\n",
       "      <th></th>\n",
       "      <th>user_id</th>\n",
       "      <th>month</th>\n",
       "      <th>mb_used</th>\n",
       "      <th>gb_used</th>\n",
       "      <th>messages_count</th>\n",
       "      <th>billable_minutes</th>\n",
       "      <th>call_count</th>\n",
       "      <th>plan_name</th>\n",
       "      <th>messages_included</th>\n",
       "      <th>mb_per_month_included</th>\n",
       "      <th>minutes_included</th>\n",
       "      <th>usd_monthly_pay</th>\n",
       "      <th>usd_per_gb</th>\n",
       "      <th>usd_per_message</th>\n",
       "      <th>usd_per_minute</th>\n",
       "      <th>messages_revenue</th>\n",
       "      <th>internet_revenue</th>\n",
       "      <th>call_revenue</th>\n",
       "      <th>total_revenue</th>\n",
       "    </tr>\n",
       "  </thead>\n",
       "  <tbody>\n",
       "    <tr>\n",
       "      <th>0</th>\n",
       "      <td>1000</td>\n",
       "      <td>12</td>\n",
       "      <td>1901.47</td>\n",
       "      <td>1.856904</td>\n",
       "      <td>11.0</td>\n",
       "      <td>124.0</td>\n",
       "      <td>16.0</td>\n",
       "      <td>ultimate</td>\n",
       "      <td>1000</td>\n",
       "      <td>30720</td>\n",
       "      <td>3000</td>\n",
       "      <td>70.0</td>\n",
       "      <td>7.0</td>\n",
       "      <td>0.01</td>\n",
       "      <td>0.01</td>\n",
       "      <td>0.00</td>\n",
       "      <td>0.0</td>\n",
       "      <td>0.00</td>\n",
       "      <td>70.00</td>\n",
       "    </tr>\n",
       "    <tr>\n",
       "      <th>1</th>\n",
       "      <td>1001</td>\n",
       "      <td>8</td>\n",
       "      <td>6919.15</td>\n",
       "      <td>6.756982</td>\n",
       "      <td>30.0</td>\n",
       "      <td>182.0</td>\n",
       "      <td>27.0</td>\n",
       "      <td>surf</td>\n",
       "      <td>50</td>\n",
       "      <td>15360</td>\n",
       "      <td>500</td>\n",
       "      <td>20.0</td>\n",
       "      <td>10.0</td>\n",
       "      <td>0.03</td>\n",
       "      <td>0.03</td>\n",
       "      <td>0.00</td>\n",
       "      <td>0.0</td>\n",
       "      <td>0.00</td>\n",
       "      <td>20.00</td>\n",
       "    </tr>\n",
       "    <tr>\n",
       "      <th>2</th>\n",
       "      <td>1001</td>\n",
       "      <td>9</td>\n",
       "      <td>13314.82</td>\n",
       "      <td>13.002754</td>\n",
       "      <td>44.0</td>\n",
       "      <td>315.0</td>\n",
       "      <td>49.0</td>\n",
       "      <td>surf</td>\n",
       "      <td>50</td>\n",
       "      <td>15360</td>\n",
       "      <td>500</td>\n",
       "      <td>20.0</td>\n",
       "      <td>10.0</td>\n",
       "      <td>0.03</td>\n",
       "      <td>0.03</td>\n",
       "      <td>0.00</td>\n",
       "      <td>0.0</td>\n",
       "      <td>0.00</td>\n",
       "      <td>20.00</td>\n",
       "    </tr>\n",
       "    <tr>\n",
       "      <th>3</th>\n",
       "      <td>1001</td>\n",
       "      <td>10</td>\n",
       "      <td>22330.49</td>\n",
       "      <td>21.807119</td>\n",
       "      <td>53.0</td>\n",
       "      <td>393.0</td>\n",
       "      <td>65.0</td>\n",
       "      <td>surf</td>\n",
       "      <td>50</td>\n",
       "      <td>15360</td>\n",
       "      <td>500</td>\n",
       "      <td>20.0</td>\n",
       "      <td>10.0</td>\n",
       "      <td>0.03</td>\n",
       "      <td>0.03</td>\n",
       "      <td>0.09</td>\n",
       "      <td>70.0</td>\n",
       "      <td>0.00</td>\n",
       "      <td>90.09</td>\n",
       "    </tr>\n",
       "    <tr>\n",
       "      <th>4</th>\n",
       "      <td>1001</td>\n",
       "      <td>11</td>\n",
       "      <td>18504.30</td>\n",
       "      <td>18.070605</td>\n",
       "      <td>36.0</td>\n",
       "      <td>426.0</td>\n",
       "      <td>64.0</td>\n",
       "      <td>surf</td>\n",
       "      <td>50</td>\n",
       "      <td>15360</td>\n",
       "      <td>500</td>\n",
       "      <td>20.0</td>\n",
       "      <td>10.0</td>\n",
       "      <td>0.03</td>\n",
       "      <td>0.03</td>\n",
       "      <td>0.00</td>\n",
       "      <td>40.0</td>\n",
       "      <td>0.00</td>\n",
       "      <td>60.00</td>\n",
       "    </tr>\n",
       "    <tr>\n",
       "      <th>...</th>\n",
       "      <td>...</td>\n",
       "      <td>...</td>\n",
       "      <td>...</td>\n",
       "      <td>...</td>\n",
       "      <td>...</td>\n",
       "      <td>...</td>\n",
       "      <td>...</td>\n",
       "      <td>...</td>\n",
       "      <td>...</td>\n",
       "      <td>...</td>\n",
       "      <td>...</td>\n",
       "      <td>...</td>\n",
       "      <td>...</td>\n",
       "      <td>...</td>\n",
       "      <td>...</td>\n",
       "      <td>...</td>\n",
       "      <td>...</td>\n",
       "      <td>...</td>\n",
       "      <td>...</td>\n",
       "    </tr>\n",
       "    <tr>\n",
       "      <th>2288</th>\n",
       "      <td>1470</td>\n",
       "      <td>12</td>\n",
       "      <td>0.00</td>\n",
       "      <td>0.000000</td>\n",
       "      <td>153.0</td>\n",
       "      <td>592.0</td>\n",
       "      <td>78.0</td>\n",
       "      <td>surf</td>\n",
       "      <td>50</td>\n",
       "      <td>15360</td>\n",
       "      <td>500</td>\n",
       "      <td>20.0</td>\n",
       "      <td>10.0</td>\n",
       "      <td>0.03</td>\n",
       "      <td>0.03</td>\n",
       "      <td>3.09</td>\n",
       "      <td>0.0</td>\n",
       "      <td>2.76</td>\n",
       "      <td>25.85</td>\n",
       "    </tr>\n",
       "    <tr>\n",
       "      <th>2289</th>\n",
       "      <td>1482</td>\n",
       "      <td>10</td>\n",
       "      <td>0.00</td>\n",
       "      <td>0.000000</td>\n",
       "      <td>2.0</td>\n",
       "      <td>0.0</td>\n",
       "      <td>0.0</td>\n",
       "      <td>ultimate</td>\n",
       "      <td>1000</td>\n",
       "      <td>30720</td>\n",
       "      <td>3000</td>\n",
       "      <td>70.0</td>\n",
       "      <td>7.0</td>\n",
       "      <td>0.01</td>\n",
       "      <td>0.01</td>\n",
       "      <td>0.00</td>\n",
       "      <td>0.0</td>\n",
       "      <td>0.00</td>\n",
       "      <td>70.00</td>\n",
       "    </tr>\n",
       "    <tr>\n",
       "      <th>2290</th>\n",
       "      <td>1484</td>\n",
       "      <td>11</td>\n",
       "      <td>0.00</td>\n",
       "      <td>0.000000</td>\n",
       "      <td>1.0</td>\n",
       "      <td>38.0</td>\n",
       "      <td>2.0</td>\n",
       "      <td>surf</td>\n",
       "      <td>50</td>\n",
       "      <td>15360</td>\n",
       "      <td>500</td>\n",
       "      <td>20.0</td>\n",
       "      <td>10.0</td>\n",
       "      <td>0.03</td>\n",
       "      <td>0.03</td>\n",
       "      <td>0.00</td>\n",
       "      <td>0.0</td>\n",
       "      <td>0.00</td>\n",
       "      <td>20.00</td>\n",
       "    </tr>\n",
       "    <tr>\n",
       "      <th>2291</th>\n",
       "      <td>1491</td>\n",
       "      <td>4</td>\n",
       "      <td>0.00</td>\n",
       "      <td>0.000000</td>\n",
       "      <td>6.0</td>\n",
       "      <td>44.0</td>\n",
       "      <td>8.0</td>\n",
       "      <td>surf</td>\n",
       "      <td>50</td>\n",
       "      <td>15360</td>\n",
       "      <td>500</td>\n",
       "      <td>20.0</td>\n",
       "      <td>10.0</td>\n",
       "      <td>0.03</td>\n",
       "      <td>0.03</td>\n",
       "      <td>0.00</td>\n",
       "      <td>0.0</td>\n",
       "      <td>0.00</td>\n",
       "      <td>20.00</td>\n",
       "    </tr>\n",
       "    <tr>\n",
       "      <th>2292</th>\n",
       "      <td>1044</td>\n",
       "      <td>8</td>\n",
       "      <td>0.00</td>\n",
       "      <td>0.000000</td>\n",
       "      <td>0.0</td>\n",
       "      <td>13.0</td>\n",
       "      <td>1.0</td>\n",
       "      <td>surf</td>\n",
       "      <td>50</td>\n",
       "      <td>15360</td>\n",
       "      <td>500</td>\n",
       "      <td>20.0</td>\n",
       "      <td>10.0</td>\n",
       "      <td>0.03</td>\n",
       "      <td>0.03</td>\n",
       "      <td>0.00</td>\n",
       "      <td>0.0</td>\n",
       "      <td>0.00</td>\n",
       "      <td>20.00</td>\n",
       "    </tr>\n",
       "  </tbody>\n",
       "</table>\n",
       "<p>2293 rows × 19 columns</p>\n",
       "</div>"
      ],
      "text/plain": [
       "      user_id  month   mb_used    gb_used  messages_count  billable_minutes  \\\n",
       "0        1000     12   1901.47   1.856904            11.0             124.0   \n",
       "1        1001      8   6919.15   6.756982            30.0             182.0   \n",
       "2        1001      9  13314.82  13.002754            44.0             315.0   \n",
       "3        1001     10  22330.49  21.807119            53.0             393.0   \n",
       "4        1001     11  18504.30  18.070605            36.0             426.0   \n",
       "...       ...    ...       ...        ...             ...               ...   \n",
       "2288     1470     12      0.00   0.000000           153.0             592.0   \n",
       "2289     1482     10      0.00   0.000000             2.0               0.0   \n",
       "2290     1484     11      0.00   0.000000             1.0              38.0   \n",
       "2291     1491      4      0.00   0.000000             6.0              44.0   \n",
       "2292     1044      8      0.00   0.000000             0.0              13.0   \n",
       "\n",
       "      call_count plan_name  messages_included  mb_per_month_included  \\\n",
       "0           16.0  ultimate               1000                  30720   \n",
       "1           27.0      surf                 50                  15360   \n",
       "2           49.0      surf                 50                  15360   \n",
       "3           65.0      surf                 50                  15360   \n",
       "4           64.0      surf                 50                  15360   \n",
       "...          ...       ...                ...                    ...   \n",
       "2288        78.0      surf                 50                  15360   \n",
       "2289         0.0  ultimate               1000                  30720   \n",
       "2290         2.0      surf                 50                  15360   \n",
       "2291         8.0      surf                 50                  15360   \n",
       "2292         1.0      surf                 50                  15360   \n",
       "\n",
       "      minutes_included  usd_monthly_pay  usd_per_gb  usd_per_message  \\\n",
       "0                 3000             70.0         7.0             0.01   \n",
       "1                  500             20.0        10.0             0.03   \n",
       "2                  500             20.0        10.0             0.03   \n",
       "3                  500             20.0        10.0             0.03   \n",
       "4                  500             20.0        10.0             0.03   \n",
       "...                ...              ...         ...              ...   \n",
       "2288               500             20.0        10.0             0.03   \n",
       "2289              3000             70.0         7.0             0.01   \n",
       "2290               500             20.0        10.0             0.03   \n",
       "2291               500             20.0        10.0             0.03   \n",
       "2292               500             20.0        10.0             0.03   \n",
       "\n",
       "      usd_per_minute  messages_revenue  internet_revenue  call_revenue  \\\n",
       "0               0.01              0.00               0.0          0.00   \n",
       "1               0.03              0.00               0.0          0.00   \n",
       "2               0.03              0.00               0.0          0.00   \n",
       "3               0.03              0.09              70.0          0.00   \n",
       "4               0.03              0.00              40.0          0.00   \n",
       "...              ...               ...               ...           ...   \n",
       "2288            0.03              3.09               0.0          2.76   \n",
       "2289            0.01              0.00               0.0          0.00   \n",
       "2290            0.03              0.00               0.0          0.00   \n",
       "2291            0.03              0.00               0.0          0.00   \n",
       "2292            0.03              0.00               0.0          0.00   \n",
       "\n",
       "      total_revenue  \n",
       "0             70.00  \n",
       "1             20.00  \n",
       "2             20.00  \n",
       "3             90.09  \n",
       "4             60.00  \n",
       "...             ...  \n",
       "2288          25.85  \n",
       "2289          70.00  \n",
       "2290          20.00  \n",
       "2291          20.00  \n",
       "2292          20.00  \n",
       "\n",
       "[2293 rows x 19 columns]"
      ]
     },
     "execution_count": 140,
     "metadata": {},
     "output_type": "execute_result"
    }
   ],
   "source": [
    "# Calc total revenue\n",
    "df['total_revenue'] = df['messages_revenue'] + df['internet_revenue'] + df['call_revenue'] + df['usd_monthly_pay']\n",
    "df"
   ]
  },
  {
   "cell_type": "markdown",
   "metadata": {},
   "source": [
    "## Study user behaviour"
   ]
  },
  {
   "cell_type": "code",
   "execution_count": 141,
   "metadata": {},
   "outputs": [
    {
     "name": "stdout",
     "output_type": "stream",
     "text": [
      "records under ultimate plan: 720\n",
      "records under surf plan: 1573\n"
     ]
    }
   ],
   "source": [
    "# Creating plan filters for plotting\n",
    "ultimate = df['plan_name']=='ultimate'\n",
    "surf = df['plan_name']=='surf'\n",
    "\n",
    "print('records under ultimate plan:',len(df[ultimate]))\n",
    "print('records under surf plan:',len(df[surf]))"
   ]
  },
  {
   "cell_type": "markdown",
   "metadata": {},
   "source": [
    "### Calls"
   ]
  },
  {
   "cell_type": "code",
   "execution_count": 142,
   "metadata": {},
   "outputs": [
    {
     "data": {
      "image/png": "[encoded data removed]",
      "text/plain": [
       "<Figure size 432x288 with 1 Axes>"
      ]
     },
     "metadata": {
      "needs_background": "light"
     },
     "output_type": "display_data"
    }
   ],
   "source": [
    "# Compare average duration of calls per each plan per each distinct month. Plot a bar plat to visualize it.\n",
    "avg_call_df = df[['month', 'billable_minutes', 'plan_name']].groupby(['plan_name', 'month']).mean().reset_index()\n",
    "\n",
    "plt.bar(avg_call_df['month'][avg_call_df['plan_name']=='ultimate'], avg_call_df['billable_minutes'][avg_call_df['plan_name']=='ultimate'], color='red', label='ultimate')\n",
    "plt.bar(avg_call_df['month'][avg_call_df['plan_name']=='surf'], avg_call_df['billable_minutes'][avg_call_df['plan_name']=='surf'], color='blue', alpha=0.5, label='surf')\n",
    "plt.title('Avg. Minutes of Calls Per Month by Plan')\n",
    "plt.xlabel('Month of Year')\n",
    "plt.ylabel('Avg. Minutes')\n",
    "plt.legend()\n",
    "plt.show()"
   ]
  },
  {
   "cell_type": "code",
   "execution_count": 143,
   "metadata": {},
   "outputs": [
    {
     "name": "stdout",
     "output_type": "stream",
     "text": [
      "Minutes summary Ultimate Plan - \n",
      " count     720.000000\n",
      "mean      430.450000\n",
      "std       240.508762\n",
      "min         0.000000\n",
      "25%       260.000000\n",
      "50%       424.000000\n",
      "75%       565.250000\n",
      "max      1369.000000\n",
      "Name: billable_minutes, dtype: float64\n",
      "Minutes summary Surf Plan - \n",
      " count    1573.000000\n",
      "mean      428.749523\n",
      "std       234.453150\n",
      "min         0.000000\n",
      "25%       272.000000\n",
      "50%       425.000000\n",
      "75%       576.000000\n",
      "max      1510.000000\n",
      "Name: billable_minutes, dtype: float64\n",
      "----------------------------------------\n",
      "Minutes Variance Ultimate Plan -  57844.46481223922\n",
      "Minutes Variance Surf Plan -  54968.27946065038\n",
      "----------------------------------------\n"
     ]
    },
    {
     "data": {
      "image/png": "[encoded data removed]",
      "text/plain": [
       "<Figure size 432x288 with 1 Axes>"
      ]
     },
     "metadata": {
      "needs_background": "light"
     },
     "output_type": "display_data"
    },
    {
     "data": {
      "image/png": "[encoded data removed]",
      "text/plain": [
       "<Figure size 432x288 with 1 Axes>"
      ]
     },
     "metadata": {
      "needs_background": "light"
     },
     "output_type": "display_data"
    },
    {
     "data": {
      "image/png": "[encoded data removed]",
      "text/plain": [
       "<Figure size 432x288 with 1 Axes>"
      ]
     },
     "metadata": {
      "needs_background": "light"
     },
     "output_type": "display_data"
    }
   ],
   "source": [
    "# Compare the number of minutes users of each plan require each month. Plot a histogram.\n",
    "print('Minutes summary Ultimate Plan - \\n', df['billable_minutes'][ultimate].describe())\n",
    "print('Minutes summary Surf Plan - \\n', df['billable_minutes'][surf].describe())\n",
    "\n",
    "print('----------------------------------------')\n",
    "\n",
    "print('Minutes Variance Ultimate Plan - ', df['billable_minutes'][ultimate].var())\n",
    "print('Minutes Variance Surf Plan - ', df['billable_minutes'][surf].var())\n",
    "\n",
    "print('----------------------------------------')\n",
    "\n",
    "# Generate histograms to view frequencies\n",
    "df['billable_minutes'][ultimate].hist()\n",
    "plt.title('Frequency Distribution of Minutes Used in Ultimate Plan')\n",
    "plt.show()\n",
    "df['billable_minutes'][surf].hist(color='orange')\n",
    "plt.title('Frequency Distribution of Minutes Used in Surf Plan')\n",
    "plt.show()\n",
    "\n",
    "# Combine histograms with alpha to see overlay\n",
    "df['billable_minutes'][ultimate].hist(label='ultimate')\n",
    "df['billable_minutes'][surf].hist(color='purple', alpha=.4, label='surf')\n",
    "plt.title('Frequency Distribution of Minutes Used in Ultimate Plan')\n",
    "plt.legend()\n",
    "plt.show()"
   ]
  },
  {
   "cell_type": "code",
   "execution_count": 144,
   "metadata": {},
   "outputs": [
    {
     "data": {
      "image/png": "[encoded data removed]",
      "text/plain": [
       "<Figure size 1080x720 with 1 Axes>"
      ]
     },
     "metadata": {
      "needs_background": "light"
     },
     "output_type": "display_data"
    }
   ],
   "source": [
    "# Plot a boxplot to visualize the distribution of the monthly call duration\n",
    "df.boxplot(column='billable_minutes', by='plan_name', figsize=(15,10))\n",
    "plt.show()"
   ]
  },
  {
   "cell_type": "markdown",
   "metadata": {},
   "source": [
    "#### Call Data Findings\n",
    "The Histograms are pretty interesting for the minutes used. While both are similar there is one main difference. In the ultimate plan there are a LOT of occurances in the 400-500 bin. While the Surf plan has a much more even (slightly normal?) distribution around the 300-400, 400-500, 500-600 buckets. Both have similar right tails where only a few users are using large amounts of minutes in a given month. \n",
    "\n",
    "From the above Plots and stats, we can see that the minute usage remains very similair across the surf and ultimate plan. The Average, Variance, and distribution of the plans remain similar. While it appears that the surf plan may have a few more outliers on the boxplot, there is no conclusive evidence that behavior on calls is different between the users on the different plans."
   ]
  },
  {
   "cell_type": "markdown",
   "metadata": {},
   "source": [
    " "
   ]
  },
  {
   "cell_type": "markdown",
   "metadata": {},
   "source": [
    "### Messages"
   ]
  },
  {
   "cell_type": "code",
   "execution_count": 145,
   "metadata": {},
   "outputs": [
    {
     "data": {
      "image/png": "[encoded data removed]",
      "text/plain": [
       "<Figure size 432x288 with 1 Axes>"
      ]
     },
     "metadata": {
      "needs_background": "light"
     },
     "output_type": "display_data"
    }
   ],
   "source": [
    "# Plotting Avg. messages per month per plan\n",
    "avg_messages_df = df[['month', 'messages_count', 'plan_name']].groupby(['plan_name', 'month']).mean().reset_index()\n",
    "\n",
    "plt.bar(avg_messages_df['month'][avg_messages_df['plan_name']=='ultimate'], avg_messages_df['messages_count'][avg_messages_df['plan_name']=='ultimate'], color='red', label='ultimate')\n",
    "plt.bar(avg_messages_df['month'][avg_messages_df['plan_name']=='surf'], avg_messages_df['messages_count'][avg_messages_df['plan_name']=='surf'], color='blue', alpha=0.5, label='surf')\n",
    "plt.title('Avg. Messages sent Per Month by Plan')\n",
    "plt.xlabel('Month of Year')\n",
    "plt.ylabel('Avg. Message Count')\n",
    "plt.legend()\n",
    "plt.show()"
   ]
  },
  {
   "cell_type": "code",
   "execution_count": 146,
   "metadata": {},
   "outputs": [
    {
     "name": "stdout",
     "output_type": "stream",
     "text": [
      "Messages summary Ultimate Plan - \n",
      " count    720.000000\n",
      "mean      37.551389\n",
      "std       34.767179\n",
      "min        0.000000\n",
      "25%        7.000000\n",
      "50%       30.000000\n",
      "75%       61.000000\n",
      "max      166.000000\n",
      "Name: messages_count, dtype: float64\n",
      "Messages summary Surf Plan - \n",
      " count    1573.000000\n",
      "mean       31.159568\n",
      "std        33.566717\n",
      "min         0.000000\n",
      "25%         3.000000\n",
      "50%        24.000000\n",
      "75%        47.000000\n",
      "max       266.000000\n",
      "Name: messages_count, dtype: float64\n",
      "----------------------------------------\n",
      "Messages Variance Ultimate Plan -  1208.7567435481378\n",
      "Messages Variance Surf Plan -  1126.7245219504066\n",
      "----------------------------------------\n"
     ]
    },
    {
     "data": {
      "image/png": "[encoded data removed]",
      "text/plain": [
       "<Figure size 432x288 with 1 Axes>"
      ]
     },
     "metadata": {
      "needs_background": "light"
     },
     "output_type": "display_data"
    },
    {
     "data": {
      "image/png": "[encoded data removed]",
      "text/plain": [
       "<Figure size 432x288 with 1 Axes>"
      ]
     },
     "metadata": {
      "needs_background": "light"
     },
     "output_type": "display_data"
    },
    {
     "data": {
      "image/png": "[encoded data removed]",
      "text/plain": [
       "<Figure size 432x288 with 1 Axes>"
      ]
     },
     "metadata": {
      "needs_background": "light"
     },
     "output_type": "display_data"
    }
   ],
   "source": [
    "# Compare the number of messages users of each plan require each month.\n",
    "print('Messages summary Ultimate Plan - \\n', df['messages_count'][ultimate].describe())\n",
    "print('Messages summary Surf Plan - \\n', df['messages_count'][surf].describe())\n",
    "\n",
    "print('----------------------------------------')\n",
    "\n",
    "print('Messages Variance Ultimate Plan - ', df['messages_count'][ultimate].var())\n",
    "print('Messages Variance Surf Plan - ', df['messages_count'][surf].var())\n",
    "\n",
    "print('----------------------------------------')\n",
    "\n",
    "# Generate histograms to view frequencies\n",
    "df['messages_count'][ultimate].hist()\n",
    "plt.title('Frequency Distribution of Message Count in Ultimate Plan')\n",
    "plt.show()\n",
    "df['messages_count'][surf].hist(color='orange')\n",
    "plt.title('Frequency Distribution of Message Count in Surf Plan')\n",
    "plt.show()\n",
    "\n",
    "# Combine histograms with alpha to see overlay\n",
    "df['messages_count'][ultimate].hist(label='ultimate')\n",
    "df['messages_count'][surf].hist(color='purple', alpha=.4, label='surf')\n",
    "plt.title('Frequency Distribution of Message Count in Combined Plans')\n",
    "plt.legend()\n",
    "plt.show()\n"
   ]
  },
  {
   "cell_type": "code",
   "execution_count": 147,
   "metadata": {},
   "outputs": [
    {
     "data": {
      "image/png": "[encoded data removed]",
      "text/plain": [
       "<Figure size 1080x720 with 1 Axes>"
      ]
     },
     "metadata": {
      "needs_background": "light"
     },
     "output_type": "display_data"
    }
   ],
   "source": [
    "# Plot a boxplot to visualize the distribution of the messages sent\n",
    "df.boxplot(column='messages_count', by='plan_name', figsize=(15,10))\n",
    "plt.show()"
   ]
  },
  {
   "cell_type": "markdown",
   "metadata": {},
   "source": [
    "#### Messages data findings\n",
    "The histograms show that both plans have very similar distributions of messages sent. Most users are sending the amount in the first few buckets of the histogram (0-25, 25-50), with a pretty steep decline and only a few users sending high amounts of messages in a given month. \n",
    "\n",
    "The conclusion here is similar to the call data. There is no large difference in message usage from the users of the plans. Both the users on the surf and ultimate plan end up having very similar message sending patterns. The only slight finding we see here, is the average ultimate plan user will send *slightly* more messages versus the average surf user. The variance, average, and histogram distributions are all similar. "
   ]
  },
  {
   "cell_type": "markdown",
   "metadata": {},
   "source": [
    " "
   ]
  },
  {
   "cell_type": "markdown",
   "metadata": {},
   "source": [
    "### Internet"
   ]
  },
  {
   "cell_type": "code",
   "execution_count": 148,
   "metadata": {},
   "outputs": [
    {
     "data": {
      "image/png": "[encoded data removed]",
      "text/plain": [
       "<Figure size 432x288 with 1 Axes>"
      ]
     },
     "metadata": {
      "needs_background": "light"
     },
     "output_type": "display_data"
    }
   ],
   "source": [
    "# Plotting Avg. mb usage per month per plan\n",
    "avg_mb_df = df[['month', 'mb_used', 'plan_name']].groupby(['plan_name', 'month']).mean().reset_index()\n",
    "\n",
    "plt.bar(avg_mb_df['month'][avg_mb_df['plan_name']=='ultimate'], avg_mb_df['mb_used'][avg_mb_df['plan_name']=='ultimate'], color='red', label='ultimate')\n",
    "plt.bar(avg_mb_df['month'][avg_mb_df['plan_name']=='surf'], avg_mb_df['mb_used'][avg_mb_df['plan_name']=='surf'], color='blue', alpha=0.5, label='surf')\n",
    "plt.title('Avg. Internet Usage Per Month by Plan')\n",
    "plt.xlabel('Month of Year')\n",
    "plt.ylabel('Avg. MB Used')\n",
    "plt.legend()\n",
    "plt.show()"
   ]
  },
  {
   "cell_type": "code",
   "execution_count": 149,
   "metadata": {},
   "outputs": [
    {
     "name": "stdout",
     "output_type": "stream",
     "text": [
      "Internet summary Ultimate Plan - \n",
      " count      720.000000\n",
      "mean     17214.699694\n",
      "std       7851.897435\n",
      "min          0.000000\n",
      "25%      12666.955000\n",
      "50%      16858.340000\n",
      "75%      21014.527500\n",
      "max      46595.330000\n",
      "Name: mb_used, dtype: float64\n",
      "Internet summary Surf Plan - \n",
      " count     1573.000000\n",
      "mean     16558.283490\n",
      "std       8013.513327\n",
      "min          0.000000\n",
      "25%      11986.520000\n",
      "50%      16829.310000\n",
      "75%      20999.610000\n",
      "max      70931.590000\n",
      "Name: mb_used, dtype: float64\n",
      "----------------------------------------\n",
      "Internet Variance Ultimate Plan -  61652293.32385832\n",
      "Internet Variance Surf Plan -  64216395.83802795\n",
      "----------------------------------------\n"
     ]
    },
    {
     "data": {
      "image/png": "[encoded data removed]",
      "text/plain": [
       "<Figure size 432x288 with 1 Axes>"
      ]
     },
     "metadata": {
      "needs_background": "light"
     },
     "output_type": "display_data"
    },
    {
     "data": {
      "image/png": "[encoded data removed]",
      "text/plain": [
       "<Figure size 432x288 with 1 Axes>"
      ]
     },
     "metadata": {
      "needs_background": "light"
     },
     "output_type": "display_data"
    },
    {
     "data": {
      "image/png": "[encoded data removed]",
      "text/plain": [
       "<Figure size 432x288 with 1 Axes>"
      ]
     },
     "metadata": {
      "needs_background": "light"
     },
     "output_type": "display_data"
    }
   ],
   "source": [
    "# Compare the mb data usage users of each plan require. \n",
    "print('Internet summary Ultimate Plan - \\n', df['mb_used'][ultimate].describe())\n",
    "print('Internet summary Surf Plan - \\n', df['mb_used'][surf].describe())\n",
    "\n",
    "print('----------------------------------------')\n",
    "\n",
    "print('Internet Variance Ultimate Plan - ', df['mb_used'][ultimate].var())\n",
    "print('Internet Variance Surf Plan - ', df['mb_used'][surf].var())\n",
    "\n",
    "print('----------------------------------------')\n",
    "\n",
    "# Generate histograms to view frequencies\n",
    "df['mb_used'][ultimate].hist()\n",
    "plt.title('Frequency Distribution of mb usage in Ultimate Plan')\n",
    "plt.show()\n",
    "df['mb_used'][surf].hist(color='orange')\n",
    "plt.title('Frequency Distribution of mb usage in Surf Plan')\n",
    "plt.show()\n",
    "\n",
    "# Combine histograms with alpha to see overlay\n",
    "df['mb_used'][ultimate].hist(label='ultimate')\n",
    "df['mb_used'][surf].hist(color='purple', alpha=.4, label='surf')\n",
    "plt.title('Frequency Distribution of mb usage in combined Plans')\n",
    "plt.legend()\n",
    "plt.show()\n"
   ]
  },
  {
   "cell_type": "code",
   "execution_count": 150,
   "metadata": {},
   "outputs": [
    {
     "data": {
      "image/png": "[encoded data removed]",
      "text/plain": [
       "<Figure size 1080x720 with 1 Axes>"
      ]
     },
     "metadata": {
      "needs_background": "light"
     },
     "output_type": "display_data"
    }
   ],
   "source": [
    "# Plot a boxplot to visualize the distribution of the mb internet usage\n",
    "df.boxplot(column='mb_used', by='plan_name', figsize=(15,10))\n",
    "plt.show()"
   ]
  },
  {
   "cell_type": "markdown",
   "metadata": {},
   "source": [
    "#### Internet data findings\n",
    "In the histograms, we can see that after the highest frequency bucket (between 10-20k mb), on the surf plan the distribution drops off very quickly, but on the ultimate plan there are still a few significant buckets. This matches up with the Avg. Ultimate plan user using just a little bit more internet versus the average Surf user. \n",
    "\n",
    "Again we find that usage between users on the Surf and Ultimate plans does not differ much when it comes to internet usage. While the average ultimate user does use more data, overall the frequency distributions, average, and variance remian similar across plans. There is nothing to point to different usage based on plans. "
   ]
  },
  {
   "cell_type": "markdown",
   "metadata": {},
   "source": [
    " "
   ]
  },
  {
   "cell_type": "markdown",
   "metadata": {},
   "source": [
    "## Revenue"
   ]
  },
  {
   "cell_type": "markdown",
   "metadata": {},
   "source": [
    "[Likewise you have studied the user behaviour, statistically describe the revenue between the plans.]"
   ]
  },
  {
   "cell_type": "code",
   "execution_count": 151,
   "metadata": {},
   "outputs": [],
   "source": [
    "df['extra_revenue'] = df['messages_revenue'] + df['internet_revenue'] + df['call_revenue']"
   ]
  },
  {
   "cell_type": "code",
   "execution_count": 152,
   "metadata": {},
   "outputs": [
    {
     "data": {
      "image/png": "[encoded data removed]",
      "text/plain": [
       "<Figure size 432x288 with 1 Axes>"
      ]
     },
     "metadata": {
      "needs_background": "light"
     },
     "output_type": "display_data"
    }
   ],
   "source": [
    "# Plotting Avg. revenue per plan by month\n",
    "avg_rev_df = df[['month', 'total_revenue', 'plan_name']].groupby(['plan_name', 'month']).mean().reset_index()\n",
    "\n",
    "plt.bar(avg_rev_df['month'][avg_rev_df['plan_name']=='ultimate'], avg_rev_df['total_revenue'][avg_rev_df['plan_name']=='ultimate'], color='red', label='ultimate')\n",
    "plt.bar(avg_rev_df['month'][avg_rev_df['plan_name']=='surf'], avg_rev_df['total_revenue'][avg_rev_df['plan_name']=='surf'], color='blue', alpha=0.5, label='surf')\n",
    "plt.title('Avg. Revenue Per Month by Plan')\n",
    "plt.xlabel('Month of Year')\n",
    "plt.ylabel('Avg. Revenue')\n",
    "plt.legend()\n",
    "plt.show()"
   ]
  },
  {
   "cell_type": "code",
   "execution_count": 153,
   "metadata": {},
   "outputs": [
    {
     "data": {
      "image/png": "[encoded data removed]",
      "text/plain": [
       "<Figure size 432x288 with 1 Axes>"
      ]
     },
     "metadata": {
      "needs_background": "light"
     },
     "output_type": "display_data"
    }
   ],
   "source": [
    "# Plotting Avg. extra revenue per plan by month\n",
    "avg_rev_df = df[['month', 'extra_revenue', 'plan_name']].groupby(['plan_name', 'month']).mean().reset_index()\n",
    "\n",
    "plt.bar(avg_rev_df['month'][avg_rev_df['plan_name']=='ultimate'], avg_rev_df['extra_revenue'][avg_rev_df['plan_name']=='ultimate'], color='red', label='ultimate')\n",
    "plt.bar(avg_rev_df['month'][avg_rev_df['plan_name']=='surf'], avg_rev_df['extra_revenue'][avg_rev_df['plan_name']=='surf'], color='blue', alpha=0.5, label='surf')\n",
    "plt.legend()\n",
    "plt.show()"
   ]
  },
  {
   "cell_type": "code",
   "execution_count": 154,
   "metadata": {},
   "outputs": [
    {
     "name": "stdout",
     "output_type": "stream",
     "text": [
      "Revenue summary Ultimate Plan - \n",
      " count    720.000000\n",
      "mean      72.313889\n",
      "std       11.395108\n",
      "min       70.000000\n",
      "25%       70.000000\n",
      "50%       70.000000\n",
      "75%       70.000000\n",
      "max      182.000000\n",
      "Name: total_revenue, dtype: float64\n",
      "Revenue summary Surf Plan - \n",
      " count    1573.000000\n",
      "mean       60.706408\n",
      "std        55.388042\n",
      "min        20.000000\n",
      "25%        20.000000\n",
      "50%        40.360000\n",
      "75%        80.360000\n",
      "max       590.370000\n",
      "Name: total_revenue, dtype: float64\n",
      "----------------------------------------\n",
      "Revenue Variance Ultimate Plan -  129.8484855509195\n",
      "Revenue Variance Surf Plan -  3067.835152293878\n",
      "----------------------------------------\n"
     ]
    },
    {
     "data": {
      "image/png": "[encoded data removed]",
      "text/plain": [
       "<Figure size 432x288 with 1 Axes>"
      ]
     },
     "metadata": {
      "needs_background": "light"
     },
     "output_type": "display_data"
    },
    {
     "data": {
      "image/png": "[encoded data removed]",
      "text/plain": [
       "<Figure size 432x288 with 1 Axes>"
      ]
     },
     "metadata": {
      "needs_background": "light"
     },
     "output_type": "display_data"
    },
    {
     "data": {
      "image/png": "[encoded data removed]",
      "text/plain": [
       "<Figure size 432x288 with 1 Axes>"
      ]
     },
     "metadata": {
      "needs_background": "light"
     },
     "output_type": "display_data"
    }
   ],
   "source": [
    "# Compare the revenue of each plan.\n",
    "print('Revenue summary Ultimate Plan - \\n', df['total_revenue'][ultimate].describe())\n",
    "print('Revenue summary Surf Plan - \\n', df['total_revenue'][surf].describe())\n",
    "\n",
    "print('----------------------------------------')\n",
    "\n",
    "print('Revenue Variance Ultimate Plan - ', df['total_revenue'][ultimate].var())\n",
    "print('Revenue Variance Surf Plan - ', df['total_revenue'][surf].var())\n",
    "\n",
    "print('----------------------------------------')\n",
    "\n",
    "# Generate histograms to view frequencies\n",
    "df['total_revenue'][ultimate].hist()\n",
    "plt.title('Frequency Distribution of Revenue in Ultimate Plan')\n",
    "plt.show()\n",
    "df['total_revenue'][surf].hist(color='orange')\n",
    "plt.title('Frequency Distribution of Revenue in Surf Plan')\n",
    "plt.show()\n",
    "\n",
    "# Combine histograms with alpha to see overlay\n",
    "df['total_revenue'][ultimate].hist(label='ultimate', bins=10)\n",
    "df['total_revenue'][surf].hist(color='purple', alpha=.4, label='surf', bins=10)\n",
    "plt.title('Frequency Distribution of Revenue of Combined Plans')\n",
    "plt.legend()\n",
    "plt.show()"
   ]
  },
  {
   "cell_type": "code",
   "execution_count": 155,
   "metadata": {},
   "outputs": [
    {
     "data": {
      "image/png": "[encoded data removed]",
      "text/plain": [
       "<Figure size 1080x720 with 1 Axes>"
      ]
     },
     "metadata": {
      "needs_background": "light"
     },
     "output_type": "display_data"
    }
   ],
   "source": [
    "# Plot a boxplot to visualize the distribution of the revenue per plan\n",
    "df.boxplot(column='total_revenue', by='plan_name', figsize=(15,10))\n",
    "plt.show()"
   ]
  },
  {
   "cell_type": "code",
   "execution_count": 156,
   "metadata": {},
   "outputs": [
    {
     "data": {
      "image/png": "[encoded data removed]",
      "text/plain": [
       "<Figure size 432x288 with 1 Axes>"
      ]
     },
     "metadata": {
      "needs_background": "light"
     },
     "output_type": "display_data"
    },
    {
     "data": {
      "text/html": [
       "<div>\n",
       "<style scoped>\n",
       "    .dataframe tbody tr th:only-of-type {\n",
       "        vertical-align: middle;\n",
       "    }\n",
       "\n",
       "    .dataframe tbody tr th {\n",
       "        vertical-align: top;\n",
       "    }\n",
       "\n",
       "    .dataframe thead th {\n",
       "        text-align: right;\n",
       "    }\n",
       "</style>\n",
       "<table border=\"1\" class=\"dataframe\">\n",
       "  <thead>\n",
       "    <tr style=\"text-align: right;\">\n",
       "      <th></th>\n",
       "      <th>plan_name</th>\n",
       "      <th>extra_revenue</th>\n",
       "    </tr>\n",
       "  </thead>\n",
       "  <tbody>\n",
       "    <tr>\n",
       "      <th>0</th>\n",
       "      <td>surf</td>\n",
       "      <td>40.706408</td>\n",
       "    </tr>\n",
       "    <tr>\n",
       "      <th>1</th>\n",
       "      <td>ultimate</td>\n",
       "      <td>2.313889</td>\n",
       "    </tr>\n",
       "  </tbody>\n",
       "</table>\n",
       "</div>"
      ],
      "text/plain": [
       "  plan_name  extra_revenue\n",
       "0      surf      40.706408\n",
       "1  ultimate       2.313889"
      ]
     },
     "execution_count": 156,
     "metadata": {},
     "output_type": "execute_result"
    }
   ],
   "source": [
    "avg_rev_df = df[['extra_revenue', 'plan_name']].groupby(['plan_name']).mean().reset_index()\n",
    "avg_rev_df.plot.bar(x='plan_name', y='extra_revenue')\n",
    "plt.title('Avg. Extra revenue by plan')\n",
    "plt.show()\n",
    "avg_rev_df"
   ]
  },
  {
   "cell_type": "markdown",
   "metadata": {},
   "source": [
    "#### Revenue Data Findings\n",
    "Here the histograms clearly show a difference. In the ultimate plan we can see most of our data centers around the first bucket. This can be explained by most Ultimate plan users paying their flat fee and not having to pay any overage/extra revenue for using extra services above their plan. \n",
    "The Surf distribution shows a wider range of values since the users pay a much more variable amount based on their overage usage. \n",
    "Here we find the biggest difference yet between the users of the ultimate and surf plans. While the ultimate plan revenues stay steady with a consistent average, low variance and only a few outliers - The Surf plan has high variance with a wider distribution. While most of the revenue generated by the ultimate plan comes from the plan cost itself, most of the surf revenue comes from the extra charges for going over on the three different services. "
   ]
  },
  {
   "cell_type": "markdown",
   "metadata": {},
   "source": [
    " "
   ]
  },
  {
   "cell_type": "markdown",
   "metadata": {},
   "source": [
    "## Test statistical hypotheses"
   ]
  },
  {
   "cell_type": "markdown",
   "metadata": {},
   "source": [
    "[Test the hypothesis that the average revenue from users of the Ultimate and Surf calling plans differs.]"
   ]
  },
  {
   "cell_type": "markdown",
   "metadata": {},
   "source": [
    "Here we are going to test if there is a statistical difference between revenue from the users of the ultimate and the surf plans. \n",
    "\n",
    "\n",
    "<u><b>Hypotheses</b></u> \n",
    "\n",
    "H0 - There is no statistical difference between the two plans average Revenue \n",
    "\n",
    "H1 - There is a difference between the two plans revenues \n",
    "\n",
    "critical level - 1%"
   ]
  },
  {
   "cell_type": "code",
   "execution_count": 157,
   "metadata": {},
   "outputs": [
    {
     "name": "stdout",
     "output_type": "stream",
     "text": [
      "p-value:  2.862674510698644e-08\n"
     ]
    }
   ],
   "source": [
    "# Test the hypotheses\n",
    "sample_1 = df['total_revenue'][ultimate]\n",
    "sample_2 = df['total_revenue'][surf]\n",
    "\n",
    "results = st.ttest_ind(\n",
    "    sample_1, \n",
    "    sample_2)\n",
    "\n",
    "print('p-value: ', results.pvalue)\n"
   ]
  },
  {
   "cell_type": "markdown",
   "metadata": {},
   "source": [
    "With the above P-value, we prove our H0, there is no statistical difference in the average revenue of users in the two plans. "
   ]
  },
  {
   "cell_type": "markdown",
   "metadata": {},
   "source": [
    "[Test the hypothesis that the average revenue from users in the NY-NJ area is different from that of the users from the other regions.]"
   ]
  },
  {
   "cell_type": "markdown",
   "metadata": {},
   "source": [
    "<u><b>Hypotheses</b></u> \n",
    "\n",
    "H0 - There is no statistical difference between the different regions average Revenue \n",
    "\n",
    "H1 - the average revenue from users in the NY-NJ area is different from that of the users from the other regions.\n",
    "\n",
    "critical level - 1%"
   ]
  },
  {
   "cell_type": "code",
   "execution_count": 158,
   "metadata": {},
   "outputs": [],
   "source": [
    "# join city data to df\n",
    "df = pd.merge(df, users_df[['user_id', 'city']], on='user_id', how='left')"
   ]
  },
  {
   "cell_type": "code",
   "execution_count": 159,
   "metadata": {},
   "outputs": [
    {
     "data": {
      "text/html": [
       "<div>\n",
       "<style scoped>\n",
       "    .dataframe tbody tr th:only-of-type {\n",
       "        vertical-align: middle;\n",
       "    }\n",
       "\n",
       "    .dataframe tbody tr th {\n",
       "        vertical-align: top;\n",
       "    }\n",
       "\n",
       "    .dataframe thead th {\n",
       "        text-align: right;\n",
       "    }\n",
       "</style>\n",
       "<table border=\"1\" class=\"dataframe\">\n",
       "  <thead>\n",
       "    <tr style=\"text-align: right;\">\n",
       "      <th></th>\n",
       "      <th>user_id</th>\n",
       "      <th>month</th>\n",
       "      <th>mb_used</th>\n",
       "      <th>gb_used</th>\n",
       "      <th>messages_count</th>\n",
       "      <th>billable_minutes</th>\n",
       "      <th>call_count</th>\n",
       "      <th>plan_name</th>\n",
       "      <th>messages_included</th>\n",
       "      <th>mb_per_month_included</th>\n",
       "      <th>...</th>\n",
       "      <th>usd_monthly_pay</th>\n",
       "      <th>usd_per_gb</th>\n",
       "      <th>usd_per_message</th>\n",
       "      <th>usd_per_minute</th>\n",
       "      <th>messages_revenue</th>\n",
       "      <th>internet_revenue</th>\n",
       "      <th>call_revenue</th>\n",
       "      <th>total_revenue</th>\n",
       "      <th>extra_revenue</th>\n",
       "      <th>city</th>\n",
       "    </tr>\n",
       "  </thead>\n",
       "  <tbody>\n",
       "    <tr>\n",
       "      <th>0</th>\n",
       "      <td>1000</td>\n",
       "      <td>12</td>\n",
       "      <td>1901.47</td>\n",
       "      <td>1.856904</td>\n",
       "      <td>11.0</td>\n",
       "      <td>124.0</td>\n",
       "      <td>16.0</td>\n",
       "      <td>ultimate</td>\n",
       "      <td>1000</td>\n",
       "      <td>30720</td>\n",
       "      <td>...</td>\n",
       "      <td>70.0</td>\n",
       "      <td>7.0</td>\n",
       "      <td>0.01</td>\n",
       "      <td>0.01</td>\n",
       "      <td>0.0</td>\n",
       "      <td>0.0</td>\n",
       "      <td>0.0</td>\n",
       "      <td>70.0</td>\n",
       "      <td>0.0</td>\n",
       "      <td>Atlanta-Sandy Springs-Roswell, GA MSA</td>\n",
       "    </tr>\n",
       "  </tbody>\n",
       "</table>\n",
       "<p>1 rows × 21 columns</p>\n",
       "</div>"
      ],
      "text/plain": [
       "   user_id  month  mb_used   gb_used  messages_count  billable_minutes  \\\n",
       "0     1000     12  1901.47  1.856904            11.0             124.0   \n",
       "\n",
       "   call_count plan_name  messages_included  mb_per_month_included  ...  \\\n",
       "0        16.0  ultimate               1000                  30720  ...   \n",
       "\n",
       "   usd_monthly_pay  usd_per_gb  usd_per_message  usd_per_minute  \\\n",
       "0             70.0         7.0             0.01            0.01   \n",
       "\n",
       "   messages_revenue  internet_revenue  call_revenue  total_revenue  \\\n",
       "0               0.0               0.0           0.0           70.0   \n",
       "\n",
       "   extra_revenue                                   city  \n",
       "0            0.0  Atlanta-Sandy Springs-Roswell, GA MSA  \n",
       "\n",
       "[1 rows x 21 columns]"
      ]
     },
     "execution_count": 159,
     "metadata": {},
     "output_type": "execute_result"
    }
   ],
   "source": [
    "# Create mask for NY-NJ cities\n",
    "df[~df['city'].str.contains('NY-NJ')].head(1)"
   ]
  },
  {
   "cell_type": "code",
   "execution_count": 160,
   "metadata": {},
   "outputs": [
    {
     "name": "stdout",
     "output_type": "stream",
     "text": [
      "p-value:  0.043557431621342436\n"
     ]
    }
   ],
   "source": [
    "# Test the hypotheses\n",
    "sample_1 = df['total_revenue'][df['city'].str.contains('NY-NJ')]\n",
    "sample_2 = df['total_revenue'][~df['city'].str.contains('NY-NJ')]\n",
    "\n",
    "results = st.ttest_ind(\n",
    "    sample_1, \n",
    "    sample_2)\n",
    "\n",
    "print('p-value: ', results.pvalue)"
   ]
  },
  {
   "cell_type": "markdown",
   "metadata": {},
   "source": [
    "With a P-Value > .01, we disprove the null hypothesis -> we now believe there is a statistical difference between the users in the NY-NJ region versus the rest of the areas. \n",
    "\n",
    "H1 - the average revenue from users in the NY-NJ area is different from that of the users from the other regions"
   ]
  },
  {
   "cell_type": "markdown",
   "metadata": {},
   "source": [
    "## General conclusion\n",
    "Though the data was pretty clean there were a few assumptions made during the cleaning and analysis of the data. \n",
    " - The largest assumption made, was that the data did not span Multiple years. When we did aggregations by month, we did not include a year - this means if there were multiple years of data our groupbys would be combining those as we did not include a year in the groupby clause. \n",
    " - Another assumption was working with USD in columns. This caused us to Float datatypes over ints so we could accurately calculate decimals/cents in the numbers. \n",
    " \n",
    "Overall we covered many different topics in Statistical Data Analysis, we saw the users behavior patterns did not differe much when we compared them by plan. With our brief test using location, we did see a difference. This opens up a future analysis where we perform statistical analysis of revenues across the many different regions of the users to see if we find patterns/insight into usasge. "
   ]
  },
  {
   "cell_type": "code",
   "execution_count": null,
   "metadata": {},
   "outputs": [],
   "source": []
  }
 ],
 "metadata": {
  "ExecuteTimeLog": [
   {
    "duration": 828,
    "start_time": "2021-11-16T09:21:11.304Z"
   },
   {
    "duration": 893,
    "start_time": "2021-11-16T09:21:17.728Z"
   },
   {
    "duration": 1150,
    "start_time": "2021-11-16T09:21:29.568Z"
   },
   {
    "duration": 3,
    "start_time": "2021-11-16T09:24:14.495Z"
   },
   {
    "duration": 120,
    "start_time": "2021-11-16T09:24:46.630Z"
   },
   {
    "duration": 3,
    "start_time": "2021-11-16T09:28:27.882Z"
   },
   {
    "duration": 4,
    "start_time": "2021-11-16T09:29:54.281Z"
   },
   {
    "duration": 3,
    "start_time": "2021-11-16T09:30:45.936Z"
   },
   {
    "duration": 4,
    "start_time": "2021-11-16T09:31:06.300Z"
   },
   {
    "duration": 113,
    "start_time": "2021-11-16T09:31:37.208Z"
   },
   {
    "duration": 143,
    "start_time": "2021-11-16T09:31:48.656Z"
   },
   {
    "duration": 98,
    "start_time": "2021-11-16T09:31:55.678Z"
   },
   {
    "duration": 3,
    "start_time": "2021-11-16T09:32:08.535Z"
   },
   {
    "duration": 111,
    "start_time": "2021-11-16T09:32:10.120Z"
   },
   {
    "duration": 3,
    "start_time": "2021-11-16T09:32:15.732Z"
   },
   {
    "duration": 4,
    "start_time": "2021-11-16T09:32:29.423Z"
   },
   {
    "duration": 3,
    "start_time": "2021-11-16T10:03:03.074Z"
   },
   {
    "duration": 3,
    "start_time": "2021-11-16T10:10:01.288Z"
   },
   {
    "duration": 3,
    "start_time": "2021-11-16T10:10:46.923Z"
   },
   {
    "duration": 121,
    "start_time": "2021-11-16T10:37:46.494Z"
   },
   {
    "duration": 125,
    "start_time": "2021-11-16T10:38:20.632Z"
   },
   {
    "duration": 112,
    "start_time": "2021-11-16T10:46:53.001Z"
   },
   {
    "duration": 110,
    "start_time": "2021-11-16T10:48:25.775Z"
   },
   {
    "duration": 3,
    "start_time": "2021-11-16T10:50:18.720Z"
   },
   {
    "duration": 4,
    "start_time": "2021-11-16T10:50:37.649Z"
   },
   {
    "duration": 2,
    "start_time": "2021-11-16T10:50:51.884Z"
   },
   {
    "duration": 3,
    "start_time": "2021-11-16T10:51:56.237Z"
   },
   {
    "duration": 101,
    "start_time": "2021-11-16T10:53:13.791Z"
   },
   {
    "duration": 3,
    "start_time": "2021-11-16T10:55:59.186Z"
   },
   {
    "duration": 3,
    "start_time": "2021-11-16T10:56:10.751Z"
   },
   {
    "duration": 3,
    "start_time": "2021-11-16T10:56:49.038Z"
   },
   {
    "duration": 3,
    "start_time": "2021-11-16T10:56:49.174Z"
   },
   {
    "duration": 4,
    "start_time": "2021-11-16T10:56:49.414Z"
   },
   {
    "duration": 3,
    "start_time": "2021-11-16T10:56:49.680Z"
   },
   {
    "duration": 3,
    "start_time": "2021-11-16T10:56:50.370Z"
   },
   {
    "duration": 114,
    "start_time": "2021-11-16T10:59:34.518Z"
   },
   {
    "duration": 3,
    "start_time": "2021-11-16T11:01:41.201Z"
   },
   {
    "duration": 116,
    "start_time": "2021-11-16T11:01:48.754Z"
   },
   {
    "duration": 3,
    "start_time": "2021-11-16T11:02:16.685Z"
   },
   {
    "duration": 3,
    "start_time": "2021-11-16T11:02:19.479Z"
   },
   {
    "duration": 3,
    "start_time": "2021-11-16T11:02:47.067Z"
   },
   {
    "duration": 3,
    "start_time": "2021-11-16T11:02:49.353Z"
   },
   {
    "duration": 3,
    "start_time": "2021-11-16T11:03:07.835Z"
   },
   {
    "duration": 3,
    "start_time": "2021-11-16T11:03:07.953Z"
   },
   {
    "duration": 112,
    "start_time": "2021-11-16T11:07:52.072Z"
   },
   {
    "duration": 187,
    "start_time": "2021-11-16T11:09:23.468Z"
   },
   {
    "duration": 4,
    "start_time": "2021-11-16T11:10:01.455Z"
   },
   {
    "duration": 3,
    "start_time": "2021-11-16T11:10:05.069Z"
   },
   {
    "duration": 4,
    "start_time": "2021-11-16T11:10:13.376Z"
   },
   {
    "duration": 3,
    "start_time": "2021-11-16T11:10:14.434Z"
   },
   {
    "duration": 3,
    "start_time": "2021-11-16T11:10:22.853Z"
   },
   {
    "duration": 4,
    "start_time": "2021-11-16T11:27:29.279Z"
   },
   {
    "duration": 4,
    "start_time": "2021-11-16T11:29:08.919Z"
   },
   {
    "duration": 118,
    "start_time": "2021-11-16T11:29:46.703Z"
   },
   {
    "duration": 437,
    "start_time": "2021-11-16T11:36:02.181Z"
   },
   {
    "duration": 157,
    "start_time": "2021-11-16T11:36:14.388Z"
   },
   {
    "duration": 207,
    "start_time": "2021-11-16T11:47:15.898Z"
   },
   {
    "duration": 3,
    "start_time": "2021-11-16T11:53:52.092Z"
   },
   {
    "duration": 3,
    "start_time": "2021-11-16T11:53:52.236Z"
   },
   {
    "duration": 3,
    "start_time": "2021-11-16T11:59:12.005Z"
   },
   {
    "duration": 112,
    "start_time": "2021-11-16T12:00:33.446Z"
   },
   {
    "duration": 3,
    "start_time": "2021-11-16T12:02:14.453Z"
   },
   {
    "duration": 3,
    "start_time": "2021-11-16T12:02:39.512Z"
   },
   {
    "duration": 106,
    "start_time": "2021-11-16T12:03:03.460Z"
   },
   {
    "duration": 3,
    "start_time": "2021-11-17T20:37:21.139Z"
   },
   {
    "duration": 3,
    "start_time": "2021-11-17T20:37:22.229Z"
   },
   {
    "duration": 3,
    "start_time": "2021-11-17T20:38:38.806Z"
   },
   {
    "duration": 3,
    "start_time": "2021-11-17T20:38:41.958Z"
   },
   {
    "duration": 3,
    "start_time": "2021-11-17T20:43:46.551Z"
   },
   {
    "duration": 4,
    "start_time": "2021-11-17T20:58:21.835Z"
   },
   {
    "duration": 3,
    "start_time": "2021-11-17T20:59:21.872Z"
   },
   {
    "duration": 4,
    "start_time": "2021-11-17T20:59:45.352Z"
   },
   {
    "duration": 4,
    "start_time": "2021-11-17T20:59:49.646Z"
   },
   {
    "duration": 159,
    "start_time": "2021-11-17T21:02:26.949Z"
   },
   {
    "duration": 3,
    "start_time": "2021-11-17T21:03:53.461Z"
   },
   {
    "duration": 3,
    "start_time": "2021-11-17T21:03:53.694Z"
   },
   {
    "duration": 3,
    "start_time": "2021-11-17T21:05:28.145Z"
   },
   {
    "duration": 116,
    "start_time": "2021-11-17T21:05:57.787Z"
   },
   {
    "duration": 3,
    "start_time": "2021-11-17T21:06:37.993Z"
   },
   {
    "duration": 3,
    "start_time": "2021-11-17T21:06:38.261Z"
   },
   {
    "duration": 3,
    "start_time": "2021-11-17T21:11:54.358Z"
   },
   {
    "duration": 3,
    "start_time": "2021-11-17T21:12:43.846Z"
   },
   {
    "duration": 4,
    "start_time": "2021-11-17T21:13:08.773Z"
   },
   {
    "duration": 3,
    "start_time": "2021-11-17T21:14:44.441Z"
   },
   {
    "duration": 3,
    "start_time": "2021-11-17T21:15:42.059Z"
   },
   {
    "duration": 4,
    "start_time": "2021-11-17T21:15:51.995Z"
   },
   {
    "duration": 3,
    "start_time": "2021-11-17T21:15:53.923Z"
   },
   {
    "duration": 3,
    "start_time": "2021-11-17T21:15:55.282Z"
   },
   {
    "duration": 3,
    "start_time": "2021-11-17T21:16:28.492Z"
   },
   {
    "duration": 3,
    "start_time": "2021-11-17T21:16:32.603Z"
   },
   {
    "duration": 3,
    "start_time": "2021-11-17T21:17:06.941Z"
   },
   {
    "duration": 98,
    "start_time": "2021-11-17T21:18:05.733Z"
   },
   {
    "duration": 4,
    "start_time": "2021-11-17T21:21:35.255Z"
   },
   {
    "duration": 3,
    "start_time": "2021-11-17T21:21:37.804Z"
   },
   {
    "duration": 4,
    "start_time": "2021-11-17T21:23:06.071Z"
   },
   {
    "duration": 3,
    "start_time": "2021-11-17T21:23:24.799Z"
   },
   {
    "duration": 3,
    "start_time": "2021-11-17T21:23:32.591Z"
   },
   {
    "duration": 98,
    "start_time": "2021-11-17T21:28:31.559Z"
   },
   {
    "duration": 3,
    "start_time": "2021-11-17T21:28:45.448Z"
   },
   {
    "duration": 3,
    "start_time": "2021-11-17T21:29:17.303Z"
   },
   {
    "duration": 3,
    "start_time": "2021-11-17T21:29:29.617Z"
   },
   {
    "duration": 3,
    "start_time": "2021-11-17T21:29:32.681Z"
   },
   {
    "duration": 3,
    "start_time": "2021-11-17T21:36:11.474Z"
   },
   {
    "duration": 3,
    "start_time": "2021-11-17T21:36:14.791Z"
   },
   {
    "duration": 3,
    "start_time": "2021-11-17T21:36:53.943Z"
   },
   {
    "duration": 3,
    "start_time": "2021-11-17T21:36:56.165Z"
   },
   {
    "duration": 4,
    "start_time": "2021-11-17T21:37:16.590Z"
   },
   {
    "duration": 3,
    "start_time": "2021-11-17T21:37:22.702Z"
   },
   {
    "duration": 4,
    "start_time": "2021-11-17T21:38:03.479Z"
   },
   {
    "duration": 3,
    "start_time": "2021-11-17T21:38:08.601Z"
   },
   {
    "duration": 3,
    "start_time": "2021-11-17T21:38:12.928Z"
   },
   {
    "duration": 3,
    "start_time": "2021-11-17T21:38:48.896Z"
   },
   {
    "duration": 2,
    "start_time": "2021-11-17T21:38:49.171Z"
   },
   {
    "duration": 4,
    "start_time": "2021-11-17T21:39:57.889Z"
   },
   {
    "duration": 3,
    "start_time": "2021-11-17T21:39:58.057Z"
   },
   {
    "duration": 3,
    "start_time": "2021-11-17T21:41:20.108Z"
   },
   {
    "duration": 3,
    "start_time": "2021-11-17T21:41:20.629Z"
   },
   {
    "duration": 3,
    "start_time": "2021-11-17T21:42:49.136Z"
   },
   {
    "duration": 3,
    "start_time": "2021-11-17T21:43:15.137Z"
   },
   {
    "duration": 4,
    "start_time": "2021-11-17T21:43:16.766Z"
   },
   {
    "duration": 4,
    "start_time": "2021-11-17T21:43:31.711Z"
   },
   {
    "duration": 3,
    "start_time": "2021-11-17T21:43:36.312Z"
   },
   {
    "duration": 4,
    "start_time": "2021-11-17T21:45:08.825Z"
   },
   {
    "duration": 4,
    "start_time": "2021-11-17T21:45:10.119Z"
   },
   {
    "duration": 4,
    "start_time": "2021-11-17T21:45:13.748Z"
   },
   {
    "duration": 3,
    "start_time": "2021-11-17T21:45:22.219Z"
   },
   {
    "duration": 3,
    "start_time": "2021-11-17T21:45:33.412Z"
   },
   {
    "duration": 2,
    "start_time": "2021-11-17T21:46:01.885Z"
   },
   {
    "duration": 3,
    "start_time": "2021-11-17T21:46:03.628Z"
   },
   {
    "duration": 107,
    "start_time": "2021-11-17T21:47:32.512Z"
   },
   {
    "duration": 103,
    "start_time": "2021-11-17T21:50:36.243Z"
   },
   {
    "duration": 3,
    "start_time": "2021-11-18T06:28:31.440Z"
   },
   {
    "duration": 3,
    "start_time": "2021-11-18T06:29:00.168Z"
   },
   {
    "duration": 3,
    "start_time": "2021-11-18T06:31:27.008Z"
   },
   {
    "duration": 2,
    "start_time": "2021-11-18T06:35:34.288Z"
   },
   {
    "duration": 2,
    "start_time": "2021-11-18T06:38:04.527Z"
   },
   {
    "duration": 776,
    "start_time": "2022-07-07T21:46:13.841Z"
   },
   {
    "duration": 181,
    "start_time": "2022-07-07T21:49:39.003Z"
   },
   {
    "duration": 644,
    "start_time": "2022-07-07T21:52:05.032Z"
   },
   {
    "duration": 9,
    "start_time": "2022-07-07T21:54:21.555Z"
   },
   {
    "duration": 9,
    "start_time": "2022-07-07T21:54:39.081Z"
   },
   {
    "duration": 5,
    "start_time": "2022-07-07T21:56:18.245Z"
   },
   {
    "duration": 90,
    "start_time": "2022-07-07T21:56:57.146Z"
   },
   {
    "duration": 27,
    "start_time": "2022-07-07T21:57:02.966Z"
   },
   {
    "duration": 3,
    "start_time": "2022-07-07T22:06:37.085Z"
   },
   {
    "duration": 6,
    "start_time": "2022-07-07T22:06:45.660Z"
   },
   {
    "duration": 6,
    "start_time": "2022-07-07T22:07:01.045Z"
   },
   {
    "duration": 6,
    "start_time": "2022-07-07T22:07:41.240Z"
   },
   {
    "duration": 5,
    "start_time": "2022-07-07T22:11:52.614Z"
   },
   {
    "duration": 6,
    "start_time": "2022-07-07T22:12:14.321Z"
   },
   {
    "duration": 11,
    "start_time": "2022-07-07T22:13:26.358Z"
   },
   {
    "duration": 12,
    "start_time": "2022-07-07T22:13:38.589Z"
   },
   {
    "duration": 15,
    "start_time": "2022-07-07T22:14:54.332Z"
   },
   {
    "duration": 16,
    "start_time": "2022-07-07T22:16:44.570Z"
   },
   {
    "duration": 10,
    "start_time": "2022-07-07T22:16:54.053Z"
   },
   {
    "duration": 5,
    "start_time": "2022-07-07T22:17:11.453Z"
   },
   {
    "duration": 6,
    "start_time": "2022-07-07T22:20:29.289Z"
   },
   {
    "duration": 6,
    "start_time": "2022-07-07T22:20:34.193Z"
   },
   {
    "duration": 9,
    "start_time": "2022-07-07T22:25:31.201Z"
   },
   {
    "duration": 8,
    "start_time": "2022-07-07T22:25:35.497Z"
   },
   {
    "duration": 3,
    "start_time": "2022-07-07T22:27:30.935Z"
   },
   {
    "duration": 11,
    "start_time": "2022-07-07T22:30:24.959Z"
   },
   {
    "duration": 8,
    "start_time": "2022-07-07T22:30:31.579Z"
   },
   {
    "duration": 9,
    "start_time": "2022-07-07T22:30:40.806Z"
   },
   {
    "duration": 14,
    "start_time": "2022-07-07T22:31:00.503Z"
   },
   {
    "duration": 3,
    "start_time": "2022-07-07T22:31:23.222Z"
   },
   {
    "duration": 289,
    "start_time": "2022-07-07T22:31:24.446Z"
   },
   {
    "duration": 31,
    "start_time": "2022-07-07T22:31:26.102Z"
   },
   {
    "duration": 8,
    "start_time": "2022-07-07T22:31:26.554Z"
   },
   {
    "duration": 5,
    "start_time": "2022-07-07T22:31:26.818Z"
   },
   {
    "duration": 12,
    "start_time": "2022-07-07T22:31:28.742Z"
   },
   {
    "duration": 2,
    "start_time": "2022-07-07T22:31:30.430Z"
   },
   {
    "duration": 23,
    "start_time": "2022-07-07T22:31:31.946Z"
   },
   {
    "duration": 10,
    "start_time": "2022-07-07T22:31:33.786Z"
   },
   {
    "duration": 7,
    "start_time": "2022-07-07T22:31:38.102Z"
   },
   {
    "duration": 5,
    "start_time": "2022-07-07T22:31:38.882Z"
   },
   {
    "duration": 14,
    "start_time": "2022-07-07T22:31:42.035Z"
   },
   {
    "duration": 16,
    "start_time": "2022-07-07T22:31:54.422Z"
   },
   {
    "duration": 14,
    "start_time": "2022-07-07T22:36:09.015Z"
   },
   {
    "duration": 11,
    "start_time": "2022-07-07T22:36:23.323Z"
   },
   {
    "duration": 22,
    "start_time": "2022-07-07T22:37:53.796Z"
   },
   {
    "duration": 9,
    "start_time": "2022-07-07T22:38:02.741Z"
   },
   {
    "duration": 5,
    "start_time": "2022-07-07T22:38:14.737Z"
   },
   {
    "duration": 15,
    "start_time": "2022-07-07T22:39:38.621Z"
   },
   {
    "duration": 3,
    "start_time": "2022-07-07T23:17:08.247Z"
   },
   {
    "duration": 24,
    "start_time": "2022-07-08T00:15:39.461Z"
   },
   {
    "duration": 15,
    "start_time": "2022-07-08T00:15:44.654Z"
   },
   {
    "duration": 12,
    "start_time": "2022-07-08T00:17:29.052Z"
   },
   {
    "duration": 13,
    "start_time": "2022-07-08T00:18:12.884Z"
   },
   {
    "duration": 7,
    "start_time": "2022-07-08T00:18:23.260Z"
   },
   {
    "duration": 11,
    "start_time": "2022-07-08T00:19:16.452Z"
   },
   {
    "duration": 5,
    "start_time": "2022-07-08T00:20:16.723Z"
   },
   {
    "duration": 16,
    "start_time": "2022-07-08T00:22:34.495Z"
   },
   {
    "duration": 3,
    "start_time": "2022-07-08T00:24:47.865Z"
   },
   {
    "duration": 20,
    "start_time": "2022-07-08T00:25:09.193Z"
   },
   {
    "duration": 8,
    "start_time": "2022-07-08T00:25:16.910Z"
   },
   {
    "duration": 5,
    "start_time": "2022-07-08T00:27:17.056Z"
   },
   {
    "duration": 14,
    "start_time": "2022-07-08T00:27:44.777Z"
   },
   {
    "duration": 23,
    "start_time": "2022-07-08T00:31:04.080Z"
   },
   {
    "duration": 3,
    "start_time": "2022-07-08T00:33:11.356Z"
   },
   {
    "duration": 21,
    "start_time": "2022-07-08T00:34:48.166Z"
   },
   {
    "duration": 13,
    "start_time": "2022-07-08T00:35:29.743Z"
   },
   {
    "duration": 13,
    "start_time": "2022-07-08T00:43:09.742Z"
   },
   {
    "duration": 45,
    "start_time": "2022-07-08T00:47:21.580Z"
   },
   {
    "duration": 44,
    "start_time": "2022-07-08T00:47:27.751Z"
   },
   {
    "duration": 26,
    "start_time": "2022-07-08T00:48:20.754Z"
   },
   {
    "duration": 45,
    "start_time": "2022-07-08T00:48:43.286Z"
   },
   {
    "duration": 46,
    "start_time": "2022-07-08T00:49:45.596Z"
   },
   {
    "duration": 46,
    "start_time": "2022-07-08T00:49:52.900Z"
   },
   {
    "duration": 44,
    "start_time": "2022-07-08T00:54:46.949Z"
   },
   {
    "duration": 28,
    "start_time": "2022-07-08T00:55:53.727Z"
   },
   {
    "duration": 11,
    "start_time": "2022-07-08T00:56:14.791Z"
   },
   {
    "duration": 3,
    "start_time": "2022-07-08T00:56:53.987Z"
   },
   {
    "duration": 283,
    "start_time": "2022-07-08T00:56:53.992Z"
   },
   {
    "duration": 29,
    "start_time": "2022-07-08T00:56:54.277Z"
   },
   {
    "duration": 9,
    "start_time": "2022-07-08T00:56:54.308Z"
   },
   {
    "duration": 15,
    "start_time": "2022-07-08T00:56:54.319Z"
   },
   {
    "duration": 15,
    "start_time": "2022-07-08T00:56:54.336Z"
   },
   {
    "duration": 7,
    "start_time": "2022-07-08T00:56:54.353Z"
   },
   {
    "duration": 16,
    "start_time": "2022-07-08T00:56:54.362Z"
   },
   {
    "duration": 10,
    "start_time": "2022-07-08T00:56:54.380Z"
   },
   {
    "duration": 10,
    "start_time": "2022-07-08T00:56:54.392Z"
   },
   {
    "duration": 27,
    "start_time": "2022-07-08T00:56:54.404Z"
   },
   {
    "duration": 22,
    "start_time": "2022-07-08T00:56:54.433Z"
   },
   {
    "duration": 14,
    "start_time": "2022-07-08T00:56:54.457Z"
   },
   {
    "duration": 50,
    "start_time": "2022-07-08T00:56:54.475Z"
   },
   {
    "duration": 9,
    "start_time": "2022-07-08T00:56:54.527Z"
   },
   {
    "duration": 10,
    "start_time": "2022-07-08T00:56:54.538Z"
   },
   {
    "duration": 28,
    "start_time": "2022-07-08T00:56:54.550Z"
   },
   {
    "duration": 45,
    "start_time": "2022-07-08T00:56:54.580Z"
   },
   {
    "duration": 14,
    "start_time": "2022-07-08T00:56:54.628Z"
   },
   {
    "duration": 16,
    "start_time": "2022-07-08T00:56:54.643Z"
   },
   {
    "duration": 7,
    "start_time": "2022-07-08T00:56:54.661Z"
   },
   {
    "duration": 16,
    "start_time": "2022-07-08T00:56:54.670Z"
   },
   {
    "duration": 14,
    "start_time": "2022-07-08T00:56:54.688Z"
   },
   {
    "duration": 15,
    "start_time": "2022-07-08T00:56:54.725Z"
   },
   {
    "duration": 23,
    "start_time": "2022-07-08T00:56:54.742Z"
   },
   {
    "duration": 8,
    "start_time": "2022-07-08T00:56:54.766Z"
   },
   {
    "duration": 11,
    "start_time": "2022-07-08T00:56:54.776Z"
   },
   {
    "duration": 42,
    "start_time": "2022-07-08T00:56:54.789Z"
   },
   {
    "duration": 23,
    "start_time": "2022-07-08T00:56:54.833Z"
   },
   {
    "duration": 24,
    "start_time": "2022-07-08T00:56:54.858Z"
   },
   {
    "duration": 10,
    "start_time": "2022-07-08T00:56:54.884Z"
   },
   {
    "duration": 54,
    "start_time": "2022-07-08T00:56:54.896Z"
   },
   {
    "duration": 0,
    "start_time": "2022-07-08T00:56:54.952Z"
   },
   {
    "duration": 53,
    "start_time": "2022-07-08T00:57:14.610Z"
   },
   {
    "duration": 28,
    "start_time": "2022-07-08T00:57:27.749Z"
   },
   {
    "duration": 30,
    "start_time": "2022-07-08T00:57:58.405Z"
   },
   {
    "duration": 23,
    "start_time": "2022-07-08T00:59:43.587Z"
   },
   {
    "duration": 27,
    "start_time": "2022-07-08T00:59:48.147Z"
   },
   {
    "duration": 31,
    "start_time": "2022-07-08T00:59:54.806Z"
   },
   {
    "duration": 16,
    "start_time": "2022-07-08T01:02:51.267Z"
   },
   {
    "duration": 61,
    "start_time": "2022-07-08T01:04:24.752Z"
   },
   {
    "duration": 46,
    "start_time": "2022-07-08T01:04:31.428Z"
   },
   {
    "duration": 32,
    "start_time": "2022-07-08T01:04:55.140Z"
   },
   {
    "duration": 3,
    "start_time": "2022-07-08T01:05:01.800Z"
   },
   {
    "duration": 299,
    "start_time": "2022-07-08T01:05:01.804Z"
   },
   {
    "duration": 25,
    "start_time": "2022-07-08T01:05:02.104Z"
   },
   {
    "duration": 9,
    "start_time": "2022-07-08T01:05:02.130Z"
   },
   {
    "duration": 14,
    "start_time": "2022-07-08T01:05:02.141Z"
   },
   {
    "duration": 29,
    "start_time": "2022-07-08T01:05:02.157Z"
   },
   {
    "duration": 13,
    "start_time": "2022-07-08T01:05:02.187Z"
   },
   {
    "duration": 17,
    "start_time": "2022-07-08T01:05:02.201Z"
   },
   {
    "duration": 18,
    "start_time": "2022-07-08T01:05:02.220Z"
   },
   {
    "duration": 23,
    "start_time": "2022-07-08T01:05:02.240Z"
   },
   {
    "duration": 13,
    "start_time": "2022-07-08T01:05:02.265Z"
   },
   {
    "duration": 20,
    "start_time": "2022-07-08T01:05:02.280Z"
   },
   {
    "duration": 16,
    "start_time": "2022-07-08T01:05:02.302Z"
   },
   {
    "duration": 73,
    "start_time": "2022-07-08T01:05:02.320Z"
   },
   {
    "duration": 8,
    "start_time": "2022-07-08T01:05:02.395Z"
   },
   {
    "duration": 21,
    "start_time": "2022-07-08T01:05:02.404Z"
   },
   {
    "duration": 27,
    "start_time": "2022-07-08T01:05:02.427Z"
   },
   {
    "duration": 21,
    "start_time": "2022-07-08T01:05:02.456Z"
   },
   {
    "duration": 10,
    "start_time": "2022-07-08T01:05:02.479Z"
   },
   {
    "duration": 11,
    "start_time": "2022-07-08T01:05:02.491Z"
   },
   {
    "duration": 26,
    "start_time": "2022-07-08T01:05:02.504Z"
   },
   {
    "duration": 16,
    "start_time": "2022-07-08T01:05:02.531Z"
   },
   {
    "duration": 24,
    "start_time": "2022-07-08T01:05:02.548Z"
   },
   {
    "duration": 21,
    "start_time": "2022-07-08T01:05:02.574Z"
   },
   {
    "duration": 22,
    "start_time": "2022-07-08T01:05:02.597Z"
   },
   {
    "duration": 9,
    "start_time": "2022-07-08T01:05:02.620Z"
   },
   {
    "duration": 10,
    "start_time": "2022-07-08T01:05:02.630Z"
   },
   {
    "duration": 26,
    "start_time": "2022-07-08T01:05:02.641Z"
   },
   {
    "duration": 21,
    "start_time": "2022-07-08T01:05:02.668Z"
   },
   {
    "duration": 23,
    "start_time": "2022-07-08T01:05:02.690Z"
   },
   {
    "duration": 16,
    "start_time": "2022-07-08T01:05:02.714Z"
   },
   {
    "duration": 62,
    "start_time": "2022-07-08T01:05:02.732Z"
   },
   {
    "duration": 32,
    "start_time": "2022-07-08T01:05:02.796Z"
   },
   {
    "duration": 29,
    "start_time": "2022-07-08T01:05:02.830Z"
   },
   {
    "duration": 31,
    "start_time": "2022-07-08T01:05:07.156Z"
   },
   {
    "duration": 3,
    "start_time": "2022-07-08T01:14:43.805Z"
   },
   {
    "duration": 9,
    "start_time": "2022-07-08T01:15:52.300Z"
   },
   {
    "duration": 3,
    "start_time": "2022-07-08T01:16:31.237Z"
   },
   {
    "duration": 31,
    "start_time": "2022-07-08T01:16:37.253Z"
   },
   {
    "duration": 17,
    "start_time": "2022-07-08T01:30:28.200Z"
   },
   {
    "duration": 18,
    "start_time": "2022-07-08T01:32:34.738Z"
   },
   {
    "duration": 28,
    "start_time": "2022-07-08T01:34:33.963Z"
   },
   {
    "duration": 21,
    "start_time": "2022-07-08T01:59:39.501Z"
   },
   {
    "duration": 3,
    "start_time": "2022-07-08T02:06:30.933Z"
   },
   {
    "duration": 298,
    "start_time": "2022-07-08T02:06:30.939Z"
   },
   {
    "duration": 26,
    "start_time": "2022-07-08T02:06:31.238Z"
   },
   {
    "duration": 8,
    "start_time": "2022-07-08T02:06:31.266Z"
   },
   {
    "duration": 8,
    "start_time": "2022-07-08T02:06:31.276Z"
   },
   {
    "duration": 18,
    "start_time": "2022-07-08T02:06:31.286Z"
   },
   {
    "duration": 20,
    "start_time": "2022-07-08T02:06:31.306Z"
   },
   {
    "duration": 17,
    "start_time": "2022-07-08T02:06:31.327Z"
   },
   {
    "duration": 17,
    "start_time": "2022-07-08T02:06:31.346Z"
   },
   {
    "duration": 11,
    "start_time": "2022-07-08T02:06:31.364Z"
   },
   {
    "duration": 10,
    "start_time": "2022-07-08T02:06:31.377Z"
   },
   {
    "duration": 34,
    "start_time": "2022-07-08T02:06:31.388Z"
   },
   {
    "duration": 30,
    "start_time": "2022-07-08T02:06:31.423Z"
   },
   {
    "duration": 29,
    "start_time": "2022-07-08T02:06:31.456Z"
   },
   {
    "duration": 7,
    "start_time": "2022-07-08T02:06:31.486Z"
   },
   {
    "duration": 32,
    "start_time": "2022-07-08T02:06:31.495Z"
   },
   {
    "duration": 31,
    "start_time": "2022-07-08T02:06:31.529Z"
   },
   {
    "duration": 22,
    "start_time": "2022-07-08T02:06:31.561Z"
   },
   {
    "duration": 25,
    "start_time": "2022-07-08T02:06:31.585Z"
   },
   {
    "duration": 21,
    "start_time": "2022-07-08T02:06:31.612Z"
   },
   {
    "duration": 32,
    "start_time": "2022-07-08T02:06:31.635Z"
   },
   {
    "duration": 37,
    "start_time": "2022-07-08T02:06:31.669Z"
   },
   {
    "duration": 38,
    "start_time": "2022-07-08T02:06:31.707Z"
   },
   {
    "duration": 48,
    "start_time": "2022-07-08T02:06:31.746Z"
   },
   {
    "duration": 39,
    "start_time": "2022-07-08T02:06:31.795Z"
   },
   {
    "duration": 24,
    "start_time": "2022-07-08T02:06:31.835Z"
   },
   {
    "duration": 34,
    "start_time": "2022-07-08T02:06:31.861Z"
   },
   {
    "duration": 44,
    "start_time": "2022-07-08T02:06:31.896Z"
   },
   {
    "duration": 33,
    "start_time": "2022-07-08T02:06:31.941Z"
   },
   {
    "duration": 21,
    "start_time": "2022-07-08T02:06:31.975Z"
   },
   {
    "duration": 9,
    "start_time": "2022-07-08T02:06:31.997Z"
   },
   {
    "duration": 60,
    "start_time": "2022-07-08T02:06:32.007Z"
   },
   {
    "duration": 26,
    "start_time": "2022-07-08T02:06:32.070Z"
   },
   {
    "duration": 43,
    "start_time": "2022-07-08T02:06:32.098Z"
   },
   {
    "duration": 26,
    "start_time": "2022-07-08T02:06:32.143Z"
   },
   {
    "duration": 29,
    "start_time": "2022-07-08T02:06:32.170Z"
   },
   {
    "duration": 37,
    "start_time": "2022-07-08T02:06:32.201Z"
   },
   {
    "duration": 26,
    "start_time": "2022-07-08T02:06:32.240Z"
   },
   {
    "duration": 16,
    "start_time": "2022-07-08T02:06:38.933Z"
   },
   {
    "duration": 16,
    "start_time": "2022-07-08T02:07:08.000Z"
   },
   {
    "duration": 22,
    "start_time": "2022-07-08T02:07:29.653Z"
   },
   {
    "duration": 32,
    "start_time": "2022-07-08T02:12:04.618Z"
   },
   {
    "duration": 29,
    "start_time": "2022-07-08T02:15:00.744Z"
   },
   {
    "duration": 882,
    "start_time": "2022-07-08T02:18:59.991Z"
   },
   {
    "duration": 3,
    "start_time": "2022-07-08T02:19:20.467Z"
   },
   {
    "duration": 268,
    "start_time": "2022-07-08T02:19:20.473Z"
   },
   {
    "duration": 24,
    "start_time": "2022-07-08T02:19:20.743Z"
   },
   {
    "duration": 12,
    "start_time": "2022-07-08T02:19:20.768Z"
   },
   {
    "duration": 11,
    "start_time": "2022-07-08T02:19:20.781Z"
   },
   {
    "duration": 17,
    "start_time": "2022-07-08T02:19:20.794Z"
   },
   {
    "duration": 10,
    "start_time": "2022-07-08T02:19:20.812Z"
   },
   {
    "duration": 18,
    "start_time": "2022-07-08T02:19:20.823Z"
   },
   {
    "duration": 8,
    "start_time": "2022-07-08T02:19:20.843Z"
   },
   {
    "duration": 9,
    "start_time": "2022-07-08T02:19:20.853Z"
   },
   {
    "duration": 7,
    "start_time": "2022-07-08T02:19:20.864Z"
   },
   {
    "duration": 16,
    "start_time": "2022-07-08T02:19:20.872Z"
   },
   {
    "duration": 15,
    "start_time": "2022-07-08T02:19:20.890Z"
   },
   {
    "duration": 21,
    "start_time": "2022-07-08T02:19:20.923Z"
   },
   {
    "duration": 7,
    "start_time": "2022-07-08T02:19:20.947Z"
   },
   {
    "duration": 8,
    "start_time": "2022-07-08T02:19:20.956Z"
   },
   {
    "duration": 20,
    "start_time": "2022-07-08T02:19:20.965Z"
   },
   {
    "duration": 42,
    "start_time": "2022-07-08T02:19:20.987Z"
   },
   {
    "duration": 12,
    "start_time": "2022-07-08T02:19:21.030Z"
   },
   {
    "duration": 31,
    "start_time": "2022-07-08T02:19:21.043Z"
   },
   {
    "duration": 7,
    "start_time": "2022-07-08T02:19:21.075Z"
   },
   {
    "duration": 10,
    "start_time": "2022-07-08T02:19:21.083Z"
   },
   {
    "duration": 22,
    "start_time": "2022-07-08T02:19:21.095Z"
   },
   {
    "duration": 19,
    "start_time": "2022-07-08T02:19:21.118Z"
   },
   {
    "duration": 19,
    "start_time": "2022-07-08T02:19:21.138Z"
   },
   {
    "duration": 7,
    "start_time": "2022-07-08T02:19:21.159Z"
   },
   {
    "duration": 7,
    "start_time": "2022-07-08T02:19:21.168Z"
   },
   {
    "duration": 14,
    "start_time": "2022-07-08T02:19:21.176Z"
   },
   {
    "duration": 37,
    "start_time": "2022-07-08T02:19:21.192Z"
   },
   {
    "duration": 20,
    "start_time": "2022-07-08T02:19:21.230Z"
   },
   {
    "duration": 8,
    "start_time": "2022-07-08T02:19:21.252Z"
   },
   {
    "duration": 71,
    "start_time": "2022-07-08T02:19:21.261Z"
   },
   {
    "duration": 25,
    "start_time": "2022-07-08T02:19:21.333Z"
   },
   {
    "duration": 31,
    "start_time": "2022-07-08T02:19:21.359Z"
   },
   {
    "duration": 45,
    "start_time": "2022-07-08T02:19:21.392Z"
   },
   {
    "duration": 29,
    "start_time": "2022-07-08T02:19:21.439Z"
   },
   {
    "duration": 19,
    "start_time": "2022-07-08T02:19:21.469Z"
   },
   {
    "duration": 48,
    "start_time": "2022-07-08T02:19:21.490Z"
   },
   {
    "duration": 30,
    "start_time": "2022-07-08T02:19:21.540Z"
   },
   {
    "duration": 29,
    "start_time": "2022-07-08T02:19:25.408Z"
   },
   {
    "duration": 2,
    "start_time": "2022-07-08T02:26:36.967Z"
   },
   {
    "duration": 5,
    "start_time": "2022-07-08T02:26:36.972Z"
   },
   {
    "duration": 9,
    "start_time": "2022-07-08T02:26:36.979Z"
   },
   {
    "duration": 19,
    "start_time": "2022-07-08T02:26:36.990Z"
   },
   {
    "duration": 22,
    "start_time": "2022-07-08T02:26:37.011Z"
   },
   {
    "duration": 9,
    "start_time": "2022-07-08T02:26:37.035Z"
   },
   {
    "duration": 8,
    "start_time": "2022-07-08T02:26:37.045Z"
   },
   {
    "duration": 5,
    "start_time": "2022-07-08T02:26:37.054Z"
   },
   {
    "duration": 3,
    "start_time": "2022-07-08T02:26:41.646Z"
   },
   {
    "duration": 302,
    "start_time": "2022-07-08T02:26:41.651Z"
   },
   {
    "duration": 25,
    "start_time": "2022-07-08T02:26:41.955Z"
   },
   {
    "duration": 10,
    "start_time": "2022-07-08T02:26:41.982Z"
   },
   {
    "duration": 6,
    "start_time": "2022-07-08T02:26:41.995Z"
   },
   {
    "duration": 35,
    "start_time": "2022-07-08T02:26:42.002Z"
   },
   {
    "duration": 3,
    "start_time": "2022-07-08T02:26:42.039Z"
   },
   {
    "duration": 23,
    "start_time": "2022-07-08T02:26:42.044Z"
   },
   {
    "duration": 12,
    "start_time": "2022-07-08T02:26:42.069Z"
   },
   {
    "duration": 10,
    "start_time": "2022-07-08T02:26:42.082Z"
   },
   {
    "duration": 7,
    "start_time": "2022-07-08T02:26:42.093Z"
   },
   {
    "duration": 32,
    "start_time": "2022-07-08T02:26:42.101Z"
   },
   {
    "duration": 16,
    "start_time": "2022-07-08T02:26:42.135Z"
   },
   {
    "duration": 35,
    "start_time": "2022-07-08T02:26:42.154Z"
   },
   {
    "duration": 7,
    "start_time": "2022-07-08T02:26:42.191Z"
   },
   {
    "duration": 22,
    "start_time": "2022-07-08T02:26:42.199Z"
   },
   {
    "duration": 38,
    "start_time": "2022-07-08T02:26:42.222Z"
   },
   {
    "duration": 20,
    "start_time": "2022-07-08T02:26:42.262Z"
   },
   {
    "duration": 11,
    "start_time": "2022-07-08T02:26:42.284Z"
   },
   {
    "duration": 39,
    "start_time": "2022-07-08T02:26:42.296Z"
   },
   {
    "duration": 14,
    "start_time": "2022-07-08T02:26:42.337Z"
   },
   {
    "duration": 18,
    "start_time": "2022-07-08T02:26:42.353Z"
   },
   {
    "duration": 16,
    "start_time": "2022-07-08T02:26:42.373Z"
   },
   {
    "duration": 21,
    "start_time": "2022-07-08T02:26:42.391Z"
   },
   {
    "duration": 25,
    "start_time": "2022-07-08T02:26:42.414Z"
   },
   {
    "duration": 10,
    "start_time": "2022-07-08T02:26:42.440Z"
   },
   {
    "duration": 21,
    "start_time": "2022-07-08T02:26:42.451Z"
   },
   {
    "duration": 23,
    "start_time": "2022-07-08T02:26:42.474Z"
   },
   {
    "duration": 23,
    "start_time": "2022-07-08T02:26:42.499Z"
   },
   {
    "duration": 33,
    "start_time": "2022-07-08T02:26:42.523Z"
   },
   {
    "duration": 8,
    "start_time": "2022-07-08T02:26:42.558Z"
   },
   {
    "duration": 66,
    "start_time": "2022-07-08T02:26:42.568Z"
   },
   {
    "duration": 26,
    "start_time": "2022-07-08T02:26:42.637Z"
   },
   {
    "duration": 30,
    "start_time": "2022-07-08T02:26:42.665Z"
   },
   {
    "duration": 41,
    "start_time": "2022-07-08T02:26:42.696Z"
   },
   {
    "duration": 30,
    "start_time": "2022-07-08T02:26:42.739Z"
   },
   {
    "duration": 18,
    "start_time": "2022-07-08T02:26:42.770Z"
   },
   {
    "duration": 50,
    "start_time": "2022-07-08T02:26:42.790Z"
   },
   {
    "duration": 31,
    "start_time": "2022-07-08T02:26:42.842Z"
   },
   {
    "duration": 26,
    "start_time": "2022-07-08T02:26:42.874Z"
   },
   {
    "duration": 38,
    "start_time": "2022-07-08T02:26:42.903Z"
   },
   {
    "duration": 13,
    "start_time": "2022-07-08T02:26:42.943Z"
   },
   {
    "duration": 16,
    "start_time": "2022-07-08T02:26:42.958Z"
   },
   {
    "duration": 10,
    "start_time": "2022-07-08T02:26:42.976Z"
   },
   {
    "duration": 16,
    "start_time": "2022-07-08T02:26:42.988Z"
   },
   {
    "duration": 9,
    "start_time": "2022-07-08T02:26:43.005Z"
   },
   {
    "duration": 28,
    "start_time": "2022-07-08T02:26:43.015Z"
   },
   {
    "duration": 13,
    "start_time": "2022-07-08T02:26:43.045Z"
   },
   {
    "duration": 3,
    "start_time": "2022-07-08T02:28:44.992Z"
   },
   {
    "duration": 165,
    "start_time": "2022-07-08T02:31:07.257Z"
   },
   {
    "duration": 192,
    "start_time": "2022-07-08T02:31:12.793Z"
   },
   {
    "duration": 149,
    "start_time": "2022-07-08T02:31:22.280Z"
   },
   {
    "duration": 145,
    "start_time": "2022-07-08T02:31:29.444Z"
   },
   {
    "duration": 137,
    "start_time": "2022-07-08T02:31:36.827Z"
   },
   {
    "duration": 137,
    "start_time": "2022-07-08T02:31:43.164Z"
   },
   {
    "duration": 179,
    "start_time": "2022-07-08T02:31:47.127Z"
   },
   {
    "duration": 6,
    "start_time": "2022-07-08T02:32:46.064Z"
   },
   {
    "duration": 7,
    "start_time": "2022-07-08T02:32:57.580Z"
   },
   {
    "duration": 7,
    "start_time": "2022-07-08T02:33:06.728Z"
   },
   {
    "duration": 267,
    "start_time": "2022-07-08T02:33:45.160Z"
   },
   {
    "duration": 269,
    "start_time": "2022-07-08T02:35:03.291Z"
   },
   {
    "duration": 337,
    "start_time": "2022-07-08T02:35:14.108Z"
   },
   {
    "duration": 143,
    "start_time": "2022-07-08T02:35:29.381Z"
   },
   {
    "duration": 130,
    "start_time": "2022-07-08T02:35:33.834Z"
   },
   {
    "duration": 241,
    "start_time": "2022-07-08T02:35:47.278Z"
   },
   {
    "duration": 226,
    "start_time": "2022-07-08T02:35:59.202Z"
   },
   {
    "duration": 262,
    "start_time": "2022-07-08T02:36:08.774Z"
   },
   {
    "duration": 495,
    "start_time": "2022-07-08T02:37:06.462Z"
   },
   {
    "duration": 421,
    "start_time": "2022-07-08T02:37:12.042Z"
   },
   {
    "duration": 397,
    "start_time": "2022-07-08T02:37:25.125Z"
   },
   {
    "duration": 393,
    "start_time": "2022-07-08T02:38:19.845Z"
   },
   {
    "duration": 514,
    "start_time": "2022-07-08T02:39:02.029Z"
   },
   {
    "duration": 411,
    "start_time": "2022-07-08T02:39:11.025Z"
   },
   {
    "duration": 390,
    "start_time": "2022-07-08T02:39:18.793Z"
   },
   {
    "duration": 441,
    "start_time": "2022-07-08T02:41:16.703Z"
   },
   {
    "duration": 489,
    "start_time": "2022-07-08T02:41:33.977Z"
   },
   {
    "duration": 416,
    "start_time": "2022-07-08T02:41:46.262Z"
   },
   {
    "duration": 424,
    "start_time": "2022-07-08T02:42:07.294Z"
   },
   {
    "duration": 124,
    "start_time": "2022-07-08T02:44:32.888Z"
   },
   {
    "duration": 116,
    "start_time": "2022-07-08T02:44:38.388Z"
   },
   {
    "duration": 211,
    "start_time": "2022-07-08T02:44:56.841Z"
   },
   {
    "duration": 106,
    "start_time": "2022-07-08T02:45:13.619Z"
   },
   {
    "duration": 158,
    "start_time": "2022-07-08T02:45:29.130Z"
   },
   {
    "duration": 834,
    "start_time": "2022-07-08T02:52:18.664Z"
   },
   {
    "duration": 735,
    "start_time": "2022-07-08T02:52:33.836Z"
   },
   {
    "duration": 151,
    "start_time": "2022-07-08T02:52:47.440Z"
   },
   {
    "duration": 121,
    "start_time": "2022-07-08T02:53:11.113Z"
   },
   {
    "duration": 218,
    "start_time": "2022-07-08T02:53:31.048Z"
   },
   {
    "duration": 206,
    "start_time": "2022-07-08T02:54:22.857Z"
   },
   {
    "duration": 170,
    "start_time": "2022-07-08T02:55:22.257Z"
   },
   {
    "duration": 308,
    "start_time": "2022-07-08T02:55:50.304Z"
   },
   {
    "duration": 134,
    "start_time": "2022-07-08T02:56:03.596Z"
   },
   {
    "duration": 132,
    "start_time": "2022-07-08T02:56:14.679Z"
   },
   {
    "duration": 127,
    "start_time": "2022-07-08T02:56:18.852Z"
   },
   {
    "duration": 123,
    "start_time": "2022-07-08T02:56:25.344Z"
   },
   {
    "duration": 122,
    "start_time": "2022-07-08T02:56:28.843Z"
   },
   {
    "duration": 124,
    "start_time": "2022-07-08T02:56:35.247Z"
   },
   {
    "duration": 120,
    "start_time": "2022-07-08T02:56:57.791Z"
   },
   {
    "duration": 160,
    "start_time": "2022-07-08T02:57:08.307Z"
   },
   {
    "duration": 526,
    "start_time": "2022-07-08T02:57:32.066Z"
   },
   {
    "duration": 420,
    "start_time": "2022-07-08T02:57:57.594Z"
   },
   {
    "duration": 878,
    "start_time": "2022-07-08T03:00:10.713Z"
   },
   {
    "duration": 146,
    "start_time": "2022-07-08T03:00:23.813Z"
   },
   {
    "duration": 1307,
    "start_time": "2022-07-08T03:01:18.298Z"
   },
   {
    "duration": 752,
    "start_time": "2022-07-08T03:01:29.346Z"
   },
   {
    "duration": 421,
    "start_time": "2022-07-08T03:01:37.174Z"
   },
   {
    "duration": 153,
    "start_time": "2022-07-08T03:02:24.006Z"
   },
   {
    "duration": 164,
    "start_time": "2022-07-08T03:05:56.196Z"
   },
   {
    "duration": 167,
    "start_time": "2022-07-08T03:07:29.344Z"
   },
   {
    "duration": 259,
    "start_time": "2022-07-08T03:08:03.304Z"
   },
   {
    "duration": 401,
    "start_time": "2022-07-08T03:09:52.582Z"
   },
   {
    "duration": 32,
    "start_time": "2022-07-08T03:22:32.293Z"
   },
   {
    "duration": 5,
    "start_time": "2022-07-08T03:23:09.620Z"
   },
   {
    "duration": 169,
    "start_time": "2022-07-08T03:24:09.860Z"
   },
   {
    "duration": 4,
    "start_time": "2022-07-08T03:24:21.260Z"
   },
   {
    "duration": 164,
    "start_time": "2022-07-08T03:24:26.392Z"
   },
   {
    "duration": 171,
    "start_time": "2022-07-08T03:26:10.162Z"
   },
   {
    "duration": 385,
    "start_time": "2022-07-08T03:26:29.986Z"
   },
   {
    "duration": 167,
    "start_time": "2022-07-08T03:28:10.913Z"
   },
   {
    "duration": 259,
    "start_time": "2022-07-08T03:28:58.612Z"
   },
   {
    "duration": 13,
    "start_time": "2022-07-08T03:29:16.505Z"
   },
   {
    "duration": 139,
    "start_time": "2022-07-08T03:29:27.343Z"
   },
   {
    "duration": 123,
    "start_time": "2022-07-08T03:29:38.361Z"
   },
   {
    "duration": 20,
    "start_time": "2022-07-08T03:33:19.343Z"
   },
   {
    "duration": 130,
    "start_time": "2022-07-08T03:33:29.575Z"
   },
   {
    "duration": 429,
    "start_time": "2022-07-08T03:46:17.311Z"
   },
   {
    "duration": 11,
    "start_time": "2022-07-08T03:49:17.524Z"
   },
   {
    "duration": 97,
    "start_time": "2022-07-08T03:52:23.242Z"
   },
   {
    "duration": 26,
    "start_time": "2022-07-08T03:55:20.313Z"
   },
   {
    "duration": 5,
    "start_time": "2022-07-08T03:55:34.438Z"
   },
   {
    "duration": 4,
    "start_time": "2022-07-08T03:55:50.652Z"
   },
   {
    "duration": 25,
    "start_time": "2022-07-08T03:58:11.886Z"
   },
   {
    "duration": 60,
    "start_time": "2022-07-08T03:59:00.518Z"
   },
   {
    "duration": 962,
    "start_time": "2022-07-08T04:00:17.677Z"
   },
   {
    "duration": 5,
    "start_time": "2022-07-08T04:01:44.816Z"
   },
   {
    "duration": 321,
    "start_time": "2022-07-08T04:01:44.825Z"
   },
   {
    "duration": 27,
    "start_time": "2022-07-08T04:01:45.147Z"
   },
   {
    "duration": 9,
    "start_time": "2022-07-08T04:01:45.175Z"
   },
   {
    "duration": 10,
    "start_time": "2022-07-08T04:01:45.186Z"
   },
   {
    "duration": 16,
    "start_time": "2022-07-08T04:01:45.197Z"
   },
   {
    "duration": 29,
    "start_time": "2022-07-08T04:01:45.215Z"
   },
   {
    "duration": 24,
    "start_time": "2022-07-08T04:01:45.247Z"
   },
   {
    "duration": 17,
    "start_time": "2022-07-08T04:01:45.273Z"
   },
   {
    "duration": 11,
    "start_time": "2022-07-08T04:01:45.292Z"
   },
   {
    "duration": 12,
    "start_time": "2022-07-08T04:01:45.304Z"
   },
   {
    "duration": 41,
    "start_time": "2022-07-08T04:01:45.317Z"
   },
   {
    "duration": 24,
    "start_time": "2022-07-08T04:01:45.360Z"
   },
   {
    "duration": 35,
    "start_time": "2022-07-08T04:01:45.388Z"
   },
   {
    "duration": 12,
    "start_time": "2022-07-08T04:01:45.424Z"
   },
   {
    "duration": 11,
    "start_time": "2022-07-08T04:01:45.442Z"
   },
   {
    "duration": 17,
    "start_time": "2022-07-08T04:01:45.455Z"
   },
   {
    "duration": 22,
    "start_time": "2022-07-08T04:01:45.474Z"
   },
   {
    "duration": 37,
    "start_time": "2022-07-08T04:01:45.498Z"
   },
   {
    "duration": 17,
    "start_time": "2022-07-08T04:01:45.544Z"
   },
   {
    "duration": 9,
    "start_time": "2022-07-08T04:01:45.562Z"
   },
   {
    "duration": 22,
    "start_time": "2022-07-08T04:01:45.573Z"
   },
   {
    "duration": 16,
    "start_time": "2022-07-08T04:01:45.597Z"
   },
   {
    "duration": 24,
    "start_time": "2022-07-08T04:01:45.614Z"
   },
   {
    "duration": 24,
    "start_time": "2022-07-08T04:01:45.642Z"
   },
   {
    "duration": 9,
    "start_time": "2022-07-08T04:01:45.668Z"
   },
   {
    "duration": 12,
    "start_time": "2022-07-08T04:01:45.679Z"
   },
   {
    "duration": 46,
    "start_time": "2022-07-08T04:01:45.693Z"
   },
   {
    "duration": 21,
    "start_time": "2022-07-08T04:01:45.743Z"
   },
   {
    "duration": 22,
    "start_time": "2022-07-08T04:01:45.766Z"
   },
   {
    "duration": 10,
    "start_time": "2022-07-08T04:01:45.789Z"
   },
   {
    "duration": 78,
    "start_time": "2022-07-08T04:01:45.801Z"
   },
   {
    "duration": 56,
    "start_time": "2022-07-08T04:01:45.881Z"
   },
   {
    "duration": 33,
    "start_time": "2022-07-08T04:01:45.938Z"
   },
   {
    "duration": 31,
    "start_time": "2022-07-08T04:01:45.973Z"
   },
   {
    "duration": 49,
    "start_time": "2022-07-08T04:01:46.006Z"
   },
   {
    "duration": 23,
    "start_time": "2022-07-08T04:01:46.057Z"
   },
   {
    "duration": 49,
    "start_time": "2022-07-08T04:01:46.081Z"
   },
   {
    "duration": 36,
    "start_time": "2022-07-08T04:01:46.132Z"
   },
   {
    "duration": 31,
    "start_time": "2022-07-08T04:01:46.169Z"
   },
   {
    "duration": 11,
    "start_time": "2022-07-08T04:01:46.228Z"
   },
   {
    "duration": 192,
    "start_time": "2022-07-08T04:01:46.245Z"
   },
   {
    "duration": 562,
    "start_time": "2022-07-08T04:01:46.443Z"
   },
   {
    "duration": 205,
    "start_time": "2022-07-08T04:01:47.008Z"
   },
   {
    "duration": 235,
    "start_time": "2022-07-08T04:01:47.215Z"
   },
   {
    "duration": 490,
    "start_time": "2022-07-08T04:01:47.452Z"
   },
   {
    "duration": 185,
    "start_time": "2022-07-08T04:01:47.946Z"
   },
   {
    "duration": 212,
    "start_time": "2022-07-08T04:01:48.139Z"
   },
   {
    "duration": 535,
    "start_time": "2022-07-08T04:01:48.353Z"
   },
   {
    "duration": 208,
    "start_time": "2022-07-08T04:01:48.890Z"
   },
   {
    "duration": 4,
    "start_time": "2022-07-08T04:01:49.100Z"
   },
   {
    "duration": 210,
    "start_time": "2022-07-08T04:01:49.106Z"
   },
   {
    "duration": 175,
    "start_time": "2022-07-08T04:01:49.324Z"
   },
   {
    "duration": 461,
    "start_time": "2022-07-08T04:01:49.501Z"
   },
   {
    "duration": 198,
    "start_time": "2022-07-08T04:01:49.964Z"
   },
   {
    "duration": 150,
    "start_time": "2022-07-08T04:01:50.163Z"
   },
   {
    "duration": 7,
    "start_time": "2022-07-08T04:01:50.315Z"
   },
   {
    "duration": 67,
    "start_time": "2022-07-08T04:01:50.328Z"
   },
   {
    "duration": 0,
    "start_time": "2022-07-08T04:01:50.397Z"
   },
   {
    "duration": 40,
    "start_time": "2022-07-08T04:02:22.692Z"
   },
   {
    "duration": 44,
    "start_time": "2022-07-08T04:02:48.372Z"
   },
   {
    "duration": 4,
    "start_time": "2022-07-08T04:04:29.778Z"
   },
   {
    "duration": 289,
    "start_time": "2022-07-08T04:04:29.784Z"
   },
   {
    "duration": 27,
    "start_time": "2022-07-08T04:04:30.075Z"
   },
   {
    "duration": 34,
    "start_time": "2022-07-08T04:04:30.104Z"
   },
   {
    "duration": 14,
    "start_time": "2022-07-08T04:04:30.143Z"
   },
   {
    "duration": 38,
    "start_time": "2022-07-08T04:04:30.159Z"
   },
   {
    "duration": 3,
    "start_time": "2022-07-08T04:04:30.200Z"
   },
   {
    "duration": 52,
    "start_time": "2022-07-08T04:04:30.205Z"
   },
   {
    "duration": 22,
    "start_time": "2022-07-08T04:04:30.259Z"
   },
   {
    "duration": 20,
    "start_time": "2022-07-08T04:04:30.282Z"
   },
   {
    "duration": 48,
    "start_time": "2022-07-08T04:04:30.304Z"
   },
   {
    "duration": 31,
    "start_time": "2022-07-08T04:04:30.355Z"
   },
   {
    "duration": 19,
    "start_time": "2022-07-08T04:04:30.388Z"
   },
   {
    "duration": 35,
    "start_time": "2022-07-08T04:04:30.410Z"
   },
   {
    "duration": 10,
    "start_time": "2022-07-08T04:04:30.447Z"
   },
   {
    "duration": 25,
    "start_time": "2022-07-08T04:04:30.459Z"
   },
   {
    "duration": 31,
    "start_time": "2022-07-08T04:04:30.486Z"
   },
   {
    "duration": 46,
    "start_time": "2022-07-08T04:04:30.518Z"
   },
   {
    "duration": 17,
    "start_time": "2022-07-08T04:04:30.565Z"
   },
   {
    "duration": 31,
    "start_time": "2022-07-08T04:04:30.584Z"
   },
   {
    "duration": 18,
    "start_time": "2022-07-08T04:04:30.617Z"
   },
   {
    "duration": 19,
    "start_time": "2022-07-08T04:04:30.643Z"
   },
   {
    "duration": 15,
    "start_time": "2022-07-08T04:04:30.664Z"
   },
   {
    "duration": 16,
    "start_time": "2022-07-08T04:04:30.682Z"
   },
   {
    "duration": 34,
    "start_time": "2022-07-08T04:04:30.700Z"
   },
   {
    "duration": 11,
    "start_time": "2022-07-08T04:04:30.736Z"
   },
   {
    "duration": 27,
    "start_time": "2022-07-08T04:04:30.752Z"
   },
   {
    "duration": 26,
    "start_time": "2022-07-08T04:04:30.781Z"
   },
   {
    "duration": 41,
    "start_time": "2022-07-08T04:04:30.808Z"
   },
   {
    "duration": 30,
    "start_time": "2022-07-08T04:04:30.852Z"
   },
   {
    "duration": 10,
    "start_time": "2022-07-08T04:04:30.884Z"
   },
   {
    "duration": 74,
    "start_time": "2022-07-08T04:04:30.896Z"
   },
   {
    "duration": 27,
    "start_time": "2022-07-08T04:04:30.972Z"
   },
   {
    "duration": 55,
    "start_time": "2022-07-08T04:04:31.000Z"
   },
   {
    "duration": 28,
    "start_time": "2022-07-08T04:04:31.057Z"
   },
   {
    "duration": 60,
    "start_time": "2022-07-08T04:04:31.086Z"
   },
   {
    "duration": 21,
    "start_time": "2022-07-08T04:04:31.147Z"
   },
   {
    "duration": 65,
    "start_time": "2022-07-08T04:04:31.170Z"
   },
   {
    "duration": 34,
    "start_time": "2022-07-08T04:04:31.237Z"
   },
   {
    "duration": 35,
    "start_time": "2022-07-08T04:04:31.273Z"
   },
   {
    "duration": 43,
    "start_time": "2022-07-08T04:04:31.312Z"
   },
   {
    "duration": 293,
    "start_time": "2022-07-08T04:04:31.357Z"
   },
   {
    "duration": 502,
    "start_time": "2022-07-08T04:04:31.652Z"
   },
   {
    "duration": 198,
    "start_time": "2022-07-08T04:04:32.156Z"
   },
   {
    "duration": 173,
    "start_time": "2022-07-08T04:04:32.356Z"
   },
   {
    "duration": 467,
    "start_time": "2022-07-08T04:04:32.540Z"
   },
   {
    "duration": 197,
    "start_time": "2022-07-08T04:04:33.009Z"
   },
   {
    "duration": 180,
    "start_time": "2022-07-08T04:04:33.208Z"
   },
   {
    "duration": 554,
    "start_time": "2022-07-08T04:04:33.390Z"
   },
   {
    "duration": 194,
    "start_time": "2022-07-08T04:04:33.952Z"
   },
   {
    "duration": 6,
    "start_time": "2022-07-08T04:04:34.147Z"
   },
   {
    "duration": 192,
    "start_time": "2022-07-08T04:04:34.155Z"
   },
   {
    "duration": 188,
    "start_time": "2022-07-08T04:04:34.349Z"
   },
   {
    "duration": 466,
    "start_time": "2022-07-08T04:04:34.541Z"
   },
   {
    "duration": 182,
    "start_time": "2022-07-08T04:04:35.009Z"
   },
   {
    "duration": 153,
    "start_time": "2022-07-08T04:04:35.192Z"
   },
   {
    "duration": 6,
    "start_time": "2022-07-08T04:04:35.346Z"
   },
   {
    "duration": 51,
    "start_time": "2022-07-08T04:04:35.353Z"
   },
   {
    "duration": 56,
    "start_time": "2022-07-08T04:04:35.406Z"
   },
   {
    "duration": 17,
    "start_time": "2022-07-08T04:04:35.464Z"
   },
   {
    "duration": 28,
    "start_time": "2022-07-08T04:05:50.090Z"
   },
   {
    "duration": 99,
    "start_time": "2022-07-08T04:06:08.765Z"
   },
   {
    "duration": 11,
    "start_time": "2022-07-08T04:06:31.165Z"
   },
   {
    "duration": 3,
    "start_time": "2022-07-08T04:16:22.985Z"
   },
   {
    "duration": 305,
    "start_time": "2022-07-08T04:16:22.990Z"
   },
   {
    "duration": 140,
    "start_time": "2022-07-08T04:16:23.297Z"
   },
   {
    "duration": 12,
    "start_time": "2022-07-08T04:16:23.443Z"
   },
   {
    "duration": 5,
    "start_time": "2022-07-08T04:16:23.458Z"
   },
   {
    "duration": 20,
    "start_time": "2022-07-08T04:16:23.465Z"
   },
   {
    "duration": 5,
    "start_time": "2022-07-08T04:16:23.487Z"
   },
   {
    "duration": 37,
    "start_time": "2022-07-08T04:16:23.494Z"
   },
   {
    "duration": 14,
    "start_time": "2022-07-08T04:16:23.538Z"
   },
   {
    "duration": 7,
    "start_time": "2022-07-08T04:16:23.554Z"
   },
   {
    "duration": 7,
    "start_time": "2022-07-08T04:16:23.562Z"
   },
   {
    "duration": 19,
    "start_time": "2022-07-08T04:16:23.571Z"
   },
   {
    "duration": 13,
    "start_time": "2022-07-08T04:16:23.591Z"
   },
   {
    "duration": 31,
    "start_time": "2022-07-08T04:16:23.626Z"
   },
   {
    "duration": 10,
    "start_time": "2022-07-08T04:16:23.659Z"
   },
   {
    "duration": 38,
    "start_time": "2022-07-08T04:16:23.671Z"
   },
   {
    "duration": 30,
    "start_time": "2022-07-08T04:16:23.711Z"
   },
   {
    "duration": 21,
    "start_time": "2022-07-08T04:16:23.744Z"
   },
   {
    "duration": 11,
    "start_time": "2022-07-08T04:16:23.767Z"
   },
   {
    "duration": 15,
    "start_time": "2022-07-08T04:16:23.780Z"
   },
   {
    "duration": 7,
    "start_time": "2022-07-08T04:16:23.796Z"
   },
   {
    "duration": 25,
    "start_time": "2022-07-08T04:16:23.805Z"
   },
   {
    "duration": 24,
    "start_time": "2022-07-08T04:16:23.840Z"
   },
   {
    "duration": 16,
    "start_time": "2022-07-08T04:16:23.867Z"
   },
   {
    "duration": 20,
    "start_time": "2022-07-08T04:16:23.885Z"
   },
   {
    "duration": 35,
    "start_time": "2022-07-08T04:16:23.907Z"
   },
   {
    "duration": 5,
    "start_time": "2022-07-08T04:16:23.944Z"
   },
   {
    "duration": 18,
    "start_time": "2022-07-08T04:16:23.950Z"
   },
   {
    "duration": 27,
    "start_time": "2022-07-08T04:16:23.969Z"
   },
   {
    "duration": 39,
    "start_time": "2022-07-08T04:16:23.999Z"
   },
   {
    "duration": 11,
    "start_time": "2022-07-08T04:16:24.041Z"
   },
   {
    "duration": 52,
    "start_time": "2022-07-08T04:16:24.054Z"
   },
   {
    "duration": 41,
    "start_time": "2022-07-08T04:16:24.108Z"
   },
   {
    "duration": 35,
    "start_time": "2022-07-08T04:16:24.151Z"
   },
   {
    "duration": 58,
    "start_time": "2022-07-08T04:16:24.188Z"
   },
   {
    "duration": 31,
    "start_time": "2022-07-08T04:16:24.250Z"
   },
   {
    "duration": 19,
    "start_time": "2022-07-08T04:16:24.282Z"
   },
   {
    "duration": 43,
    "start_time": "2022-07-08T04:16:24.303Z"
   },
   {
    "duration": 36,
    "start_time": "2022-07-08T04:16:24.348Z"
   },
   {
    "duration": 29,
    "start_time": "2022-07-08T04:16:24.385Z"
   },
   {
    "duration": 18,
    "start_time": "2022-07-08T04:16:24.425Z"
   },
   {
    "duration": 203,
    "start_time": "2022-07-08T04:16:24.445Z"
   },
   {
    "duration": 497,
    "start_time": "2022-07-08T04:16:24.650Z"
   },
   {
    "duration": 183,
    "start_time": "2022-07-08T04:16:25.149Z"
   },
   {
    "duration": 422,
    "start_time": "2022-07-08T04:16:25.333Z"
   },
   {
    "duration": 547,
    "start_time": "2022-07-08T04:16:25.756Z"
   },
   {
    "duration": 187,
    "start_time": "2022-07-08T04:16:26.305Z"
   },
   {
    "duration": 340,
    "start_time": "2022-07-08T04:16:26.494Z"
   },
   {
    "duration": 499,
    "start_time": "2022-07-08T04:16:26.838Z"
   },
   {
    "duration": 269,
    "start_time": "2022-07-08T04:16:27.339Z"
   },
   {
    "duration": 20,
    "start_time": "2022-07-08T04:16:27.610Z"
   },
   {
    "duration": 238,
    "start_time": "2022-07-08T04:16:27.634Z"
   },
   {
    "duration": 187,
    "start_time": "2022-07-08T04:16:27.874Z"
   },
   {
    "duration": 456,
    "start_time": "2022-07-08T04:16:28.063Z"
   },
   {
    "duration": 179,
    "start_time": "2022-07-08T04:16:28.525Z"
   },
   {
    "duration": 279,
    "start_time": "2022-07-08T04:16:28.706Z"
   },
   {
    "duration": 5,
    "start_time": "2022-07-08T04:16:28.987Z"
   },
   {
    "duration": 12,
    "start_time": "2022-07-08T04:16:28.994Z"
   },
   {
    "duration": 43,
    "start_time": "2022-07-08T04:16:29.007Z"
   },
   {
    "duration": 9,
    "start_time": "2022-07-08T04:16:29.052Z"
   },
   {
    "duration": 1148,
    "start_time": "2022-07-08T04:16:55.116Z"
   },
   {
    "duration": 306,
    "start_time": "2022-07-08T04:16:56.266Z"
   },
   {
    "duration": 31,
    "start_time": "2022-07-08T04:16:56.574Z"
   },
   {
    "duration": 9,
    "start_time": "2022-07-08T04:16:56.607Z"
   },
   {
    "duration": 8,
    "start_time": "2022-07-08T04:16:56.623Z"
   },
   {
    "duration": 17,
    "start_time": "2022-07-08T04:16:56.632Z"
   },
   {
    "duration": 3,
    "start_time": "2022-07-08T04:16:56.651Z"
   },
   {
    "duration": 24,
    "start_time": "2022-07-08T04:16:56.656Z"
   },
   {
    "duration": 11,
    "start_time": "2022-07-08T04:16:56.682Z"
   },
   {
    "duration": 39,
    "start_time": "2022-07-08T04:16:56.695Z"
   },
   {
    "duration": 21,
    "start_time": "2022-07-08T04:16:56.736Z"
   },
   {
    "duration": 19,
    "start_time": "2022-07-08T04:16:56.758Z"
   },
   {
    "duration": 17,
    "start_time": "2022-07-08T04:16:56.780Z"
   },
   {
    "duration": 54,
    "start_time": "2022-07-08T04:16:56.801Z"
   },
   {
    "duration": 8,
    "start_time": "2022-07-08T04:16:56.857Z"
   },
   {
    "duration": 8,
    "start_time": "2022-07-08T04:16:56.867Z"
   },
   {
    "duration": 28,
    "start_time": "2022-07-08T04:16:56.877Z"
   },
   {
    "duration": 41,
    "start_time": "2022-07-08T04:16:56.928Z"
   },
   {
    "duration": 12,
    "start_time": "2022-07-08T04:16:56.972Z"
   },
   {
    "duration": 13,
    "start_time": "2022-07-08T04:16:56.986Z"
   },
   {
    "duration": 9,
    "start_time": "2022-07-08T04:16:57.032Z"
   },
   {
    "duration": 12,
    "start_time": "2022-07-08T04:16:57.042Z"
   },
   {
    "duration": 14,
    "start_time": "2022-07-08T04:16:57.056Z"
   },
   {
    "duration": 16,
    "start_time": "2022-07-08T04:16:57.071Z"
   },
   {
    "duration": 54,
    "start_time": "2022-07-08T04:16:57.089Z"
   },
   {
    "duration": 18,
    "start_time": "2022-07-08T04:16:57.147Z"
   },
   {
    "duration": 19,
    "start_time": "2022-07-08T04:16:57.168Z"
   },
   {
    "duration": 27,
    "start_time": "2022-07-08T04:16:57.189Z"
   },
   {
    "duration": 33,
    "start_time": "2022-07-08T04:16:57.218Z"
   },
   {
    "duration": 54,
    "start_time": "2022-07-08T04:16:57.253Z"
   },
   {
    "duration": 13,
    "start_time": "2022-07-08T04:16:57.309Z"
   },
   {
    "duration": 92,
    "start_time": "2022-07-08T04:16:57.323Z"
   },
   {
    "duration": 40,
    "start_time": "2022-07-08T04:16:57.417Z"
   },
   {
    "duration": 51,
    "start_time": "2022-07-08T04:16:57.459Z"
   },
   {
    "duration": 41,
    "start_time": "2022-07-08T04:16:57.513Z"
   },
   {
    "duration": 33,
    "start_time": "2022-07-08T04:16:57.557Z"
   },
   {
    "duration": 50,
    "start_time": "2022-07-08T04:16:57.592Z"
   },
   {
    "duration": 26,
    "start_time": "2022-07-08T04:16:57.643Z"
   },
   {
    "duration": 39,
    "start_time": "2022-07-08T04:16:57.671Z"
   },
   {
    "duration": 48,
    "start_time": "2022-07-08T04:16:57.712Z"
   },
   {
    "duration": 10,
    "start_time": "2022-07-08T04:16:57.764Z"
   },
   {
    "duration": 195,
    "start_time": "2022-07-08T04:16:57.776Z"
   },
   {
    "duration": 497,
    "start_time": "2022-07-08T04:16:57.973Z"
   },
   {
    "duration": 196,
    "start_time": "2022-07-08T04:16:58.471Z"
   },
   {
    "duration": 200,
    "start_time": "2022-07-08T04:16:58.669Z"
   },
   {
    "duration": 447,
    "start_time": "2022-07-08T04:16:58.871Z"
   },
   {
    "duration": 258,
    "start_time": "2022-07-08T04:16:59.320Z"
   },
   {
    "duration": 193,
    "start_time": "2022-07-08T04:16:59.580Z"
   },
   {
    "duration": 475,
    "start_time": "2022-07-08T04:16:59.775Z"
   },
   {
    "duration": 215,
    "start_time": "2022-07-08T04:17:00.252Z"
   },
   {
    "duration": 4,
    "start_time": "2022-07-08T04:17:00.470Z"
   },
   {
    "duration": 202,
    "start_time": "2022-07-08T04:17:00.476Z"
   },
   {
    "duration": 190,
    "start_time": "2022-07-08T04:17:00.680Z"
   },
   {
    "duration": 509,
    "start_time": "2022-07-08T04:17:00.872Z"
   },
   {
    "duration": 324,
    "start_time": "2022-07-08T04:17:01.383Z"
   },
   {
    "duration": 149,
    "start_time": "2022-07-08T04:17:01.709Z"
   },
   {
    "duration": 6,
    "start_time": "2022-07-08T04:17:01.860Z"
   },
   {
    "duration": 29,
    "start_time": "2022-07-08T04:17:01.867Z"
   },
   {
    "duration": 35,
    "start_time": "2022-07-08T04:17:01.898Z"
   },
   {
    "duration": 65,
    "start_time": "2022-07-08T04:17:01.935Z"
   },
   {
    "duration": 1148,
    "start_time": "2022-07-08T06:28:25.532Z"
   },
   {
    "duration": 1113,
    "start_time": "2022-07-08T06:28:26.683Z"
   },
   {
    "duration": 36,
    "start_time": "2022-07-08T06:28:27.797Z"
   },
   {
    "duration": 9,
    "start_time": "2022-07-08T06:28:27.835Z"
   },
   {
    "duration": 9,
    "start_time": "2022-07-08T06:28:27.846Z"
   },
   {
    "duration": 16,
    "start_time": "2022-07-08T06:28:27.856Z"
   },
   {
    "duration": 2,
    "start_time": "2022-07-08T06:28:27.899Z"
   },
   {
    "duration": 16,
    "start_time": "2022-07-08T06:28:27.904Z"
   },
   {
    "duration": 14,
    "start_time": "2022-07-08T06:28:27.922Z"
   },
   {
    "duration": 6,
    "start_time": "2022-07-08T06:28:27.939Z"
   },
   {
    "duration": 6,
    "start_time": "2022-07-08T06:28:27.947Z"
   },
   {
    "duration": 57,
    "start_time": "2022-07-08T06:28:27.955Z"
   },
   {
    "duration": 16,
    "start_time": "2022-07-08T06:28:28.015Z"
   },
   {
    "duration": 30,
    "start_time": "2022-07-08T06:28:28.033Z"
   },
   {
    "duration": 10,
    "start_time": "2022-07-08T06:28:28.065Z"
   },
   {
    "duration": 7,
    "start_time": "2022-07-08T06:28:28.097Z"
   },
   {
    "duration": 22,
    "start_time": "2022-07-08T06:28:28.106Z"
   },
   {
    "duration": 27,
    "start_time": "2022-07-08T06:28:28.129Z"
   },
   {
    "duration": 43,
    "start_time": "2022-07-08T06:28:28.158Z"
   },
   {
    "duration": 20,
    "start_time": "2022-07-08T06:28:28.203Z"
   },
   {
    "duration": 9,
    "start_time": "2022-07-08T06:28:28.225Z"
   },
   {
    "duration": 7,
    "start_time": "2022-07-08T06:28:28.236Z"
   },
   {
    "duration": 17,
    "start_time": "2022-07-08T06:28:28.246Z"
   },
   {
    "duration": 46,
    "start_time": "2022-07-08T06:28:28.265Z"
   },
   {
    "duration": 22,
    "start_time": "2022-07-08T06:28:28.313Z"
   },
   {
    "duration": 13,
    "start_time": "2022-07-08T06:28:28.337Z"
   },
   {
    "duration": 16,
    "start_time": "2022-07-08T06:28:28.351Z"
   },
   {
    "duration": 14,
    "start_time": "2022-07-08T06:28:28.397Z"
   },
   {
    "duration": 22,
    "start_time": "2022-07-08T06:28:28.413Z"
   },
   {
    "duration": 25,
    "start_time": "2022-07-08T06:28:28.437Z"
   },
   {
    "duration": 36,
    "start_time": "2022-07-08T06:28:28.464Z"
   },
   {
    "duration": 60,
    "start_time": "2022-07-08T06:28:28.501Z"
   },
   {
    "duration": 53,
    "start_time": "2022-07-08T06:28:28.562Z"
   },
   {
    "duration": 33,
    "start_time": "2022-07-08T06:28:28.617Z"
   },
   {
    "duration": 48,
    "start_time": "2022-07-08T06:28:28.652Z"
   },
   {
    "duration": 36,
    "start_time": "2022-07-08T06:28:28.701Z"
   },
   {
    "duration": 22,
    "start_time": "2022-07-08T06:28:28.739Z"
   },
   {
    "duration": 55,
    "start_time": "2022-07-08T06:28:28.763Z"
   },
   {
    "duration": 35,
    "start_time": "2022-07-08T06:28:28.820Z"
   },
   {
    "duration": 61,
    "start_time": "2022-07-08T06:28:28.857Z"
   },
   {
    "duration": 8,
    "start_time": "2022-07-08T06:28:28.920Z"
   },
   {
    "duration": 216,
    "start_time": "2022-07-08T06:28:28.930Z"
   },
   {
    "duration": 542,
    "start_time": "2022-07-08T06:28:29.147Z"
   },
   {
    "duration": 200,
    "start_time": "2022-07-08T06:28:29.691Z"
   },
   {
    "duration": 185,
    "start_time": "2022-07-08T06:28:29.898Z"
   },
   {
    "duration": 494,
    "start_time": "2022-07-08T06:28:30.085Z"
   },
   {
    "duration": 276,
    "start_time": "2022-07-08T06:28:30.581Z"
   },
   {
    "duration": 219,
    "start_time": "2022-07-08T06:28:30.859Z"
   },
   {
    "duration": 486,
    "start_time": "2022-07-08T06:28:31.080Z"
   },
   {
    "duration": 201,
    "start_time": "2022-07-08T06:28:31.567Z"
   },
   {
    "duration": 5,
    "start_time": "2022-07-08T06:28:31.770Z"
   },
   {
    "duration": 224,
    "start_time": "2022-07-08T06:28:31.777Z"
   },
   {
    "duration": 190,
    "start_time": "2022-07-08T06:28:32.003Z"
   },
   {
    "duration": 480,
    "start_time": "2022-07-08T06:28:32.198Z"
   },
   {
    "duration": 284,
    "start_time": "2022-07-08T06:28:32.680Z"
   },
   {
    "duration": 151,
    "start_time": "2022-07-08T06:28:32.965Z"
   },
   {
    "duration": 5,
    "start_time": "2022-07-08T06:28:33.118Z"
   },
   {
    "duration": 11,
    "start_time": "2022-07-08T06:28:33.125Z"
   },
   {
    "duration": 24,
    "start_time": "2022-07-08T06:28:33.138Z"
   },
   {
    "duration": 36,
    "start_time": "2022-07-08T06:28:33.164Z"
   },
   {
    "duration": 6,
    "start_time": "2022-07-08T08:27:11.293Z"
   },
   {
    "duration": 1635,
    "start_time": "2022-07-08T08:38:45.319Z"
   },
   {
    "duration": 161,
    "start_time": "2022-07-08T08:39:05.018Z"
   },
   {
    "duration": 1265,
    "start_time": "2022-07-09T12:29:39.371Z"
   },
   {
    "duration": 510,
    "start_time": "2022-07-09T12:29:40.638Z"
   },
   {
    "duration": 31,
    "start_time": "2022-07-09T12:29:41.150Z"
   },
   {
    "duration": 8,
    "start_time": "2022-07-09T12:29:41.183Z"
   },
   {
    "duration": 7,
    "start_time": "2022-07-09T12:29:41.192Z"
   },
   {
    "duration": 20,
    "start_time": "2022-07-09T12:29:41.201Z"
   },
   {
    "duration": 3,
    "start_time": "2022-07-09T12:29:41.223Z"
   },
   {
    "duration": 21,
    "start_time": "2022-07-09T12:29:41.228Z"
   },
   {
    "duration": 22,
    "start_time": "2022-07-09T12:29:41.250Z"
   },
   {
    "duration": 18,
    "start_time": "2022-07-09T12:29:41.274Z"
   },
   {
    "duration": 11,
    "start_time": "2022-07-09T12:29:41.294Z"
   },
   {
    "duration": 23,
    "start_time": "2022-07-09T12:29:41.307Z"
   },
   {
    "duration": 19,
    "start_time": "2022-07-09T12:29:41.331Z"
   },
   {
    "duration": 28,
    "start_time": "2022-07-09T12:29:41.352Z"
   },
   {
    "duration": 22,
    "start_time": "2022-07-09T12:29:41.382Z"
   },
   {
    "duration": 9,
    "start_time": "2022-07-09T12:29:41.406Z"
   },
   {
    "duration": 16,
    "start_time": "2022-07-09T12:29:41.417Z"
   },
   {
    "duration": 23,
    "start_time": "2022-07-09T12:29:41.434Z"
   },
   {
    "duration": 13,
    "start_time": "2022-07-09T12:29:41.459Z"
   },
   {
    "duration": 14,
    "start_time": "2022-07-09T12:29:41.501Z"
   },
   {
    "duration": 8,
    "start_time": "2022-07-09T12:29:41.517Z"
   },
   {
    "duration": 6,
    "start_time": "2022-07-09T12:29:41.527Z"
   },
   {
    "duration": 12,
    "start_time": "2022-07-09T12:29:41.535Z"
   },
   {
    "duration": 53,
    "start_time": "2022-07-09T12:29:41.549Z"
   },
   {
    "duration": 22,
    "start_time": "2022-07-09T12:29:41.604Z"
   },
   {
    "duration": 9,
    "start_time": "2022-07-09T12:29:41.628Z"
   },
   {
    "duration": 7,
    "start_time": "2022-07-09T12:29:41.639Z"
   },
   {
    "duration": 17,
    "start_time": "2022-07-09T12:29:41.650Z"
   },
   {
    "duration": 44,
    "start_time": "2022-07-09T12:29:41.669Z"
   },
   {
    "duration": 25,
    "start_time": "2022-07-09T12:29:41.715Z"
   },
   {
    "duration": 10,
    "start_time": "2022-07-09T12:29:41.742Z"
   },
   {
    "duration": 86,
    "start_time": "2022-07-09T12:29:41.754Z"
   },
   {
    "duration": 27,
    "start_time": "2022-07-09T12:29:41.842Z"
   },
   {
    "duration": 59,
    "start_time": "2022-07-09T12:29:41.871Z"
   },
   {
    "duration": 34,
    "start_time": "2022-07-09T12:29:41.931Z"
   },
   {
    "duration": 43,
    "start_time": "2022-07-09T12:29:41.967Z"
   },
   {
    "duration": 23,
    "start_time": "2022-07-09T12:29:42.011Z"
   },
   {
    "duration": 29,
    "start_time": "2022-07-09T12:29:42.035Z"
   },
   {
    "duration": 51,
    "start_time": "2022-07-09T12:29:42.066Z"
   },
   {
    "duration": 0,
    "start_time": "2022-07-09T12:29:42.119Z"
   },
   {
    "duration": 0,
    "start_time": "2022-07-09T12:29:42.120Z"
   },
   {
    "duration": 0,
    "start_time": "2022-07-09T12:29:42.121Z"
   },
   {
    "duration": 0,
    "start_time": "2022-07-09T12:29:42.122Z"
   },
   {
    "duration": 0,
    "start_time": "2022-07-09T12:29:42.123Z"
   },
   {
    "duration": 0,
    "start_time": "2022-07-09T12:29:42.125Z"
   },
   {
    "duration": 0,
    "start_time": "2022-07-09T12:29:42.126Z"
   },
   {
    "duration": 0,
    "start_time": "2022-07-09T12:29:42.127Z"
   },
   {
    "duration": 0,
    "start_time": "2022-07-09T12:29:42.129Z"
   },
   {
    "duration": 0,
    "start_time": "2022-07-09T12:29:42.131Z"
   },
   {
    "duration": 0,
    "start_time": "2022-07-09T12:29:42.132Z"
   },
   {
    "duration": 0,
    "start_time": "2022-07-09T12:29:42.134Z"
   },
   {
    "duration": 0,
    "start_time": "2022-07-09T12:29:42.134Z"
   },
   {
    "duration": 0,
    "start_time": "2022-07-09T12:29:42.136Z"
   },
   {
    "duration": 0,
    "start_time": "2022-07-09T12:29:42.137Z"
   },
   {
    "duration": 0,
    "start_time": "2022-07-09T12:29:42.138Z"
   },
   {
    "duration": 0,
    "start_time": "2022-07-09T12:29:42.139Z"
   },
   {
    "duration": 0,
    "start_time": "2022-07-09T12:29:42.140Z"
   },
   {
    "duration": 0,
    "start_time": "2022-07-09T12:29:42.141Z"
   },
   {
    "duration": 0,
    "start_time": "2022-07-09T12:29:42.142Z"
   },
   {
    "duration": 0,
    "start_time": "2022-07-09T12:29:42.143Z"
   },
   {
    "duration": 32,
    "start_time": "2022-07-09T12:30:46.581Z"
   },
   {
    "duration": 3,
    "start_time": "2022-07-09T12:30:53.447Z"
   },
   {
    "duration": 266,
    "start_time": "2022-07-09T12:30:53.461Z"
   },
   {
    "duration": 26,
    "start_time": "2022-07-09T12:30:53.729Z"
   },
   {
    "duration": 10,
    "start_time": "2022-07-09T12:30:53.757Z"
   },
   {
    "duration": 7,
    "start_time": "2022-07-09T12:30:53.769Z"
   },
   {
    "duration": 19,
    "start_time": "2022-07-09T12:30:53.778Z"
   },
   {
    "duration": 4,
    "start_time": "2022-07-09T12:30:53.801Z"
   },
   {
    "duration": 19,
    "start_time": "2022-07-09T12:30:53.807Z"
   },
   {
    "duration": 15,
    "start_time": "2022-07-09T12:30:53.827Z"
   },
   {
    "duration": 13,
    "start_time": "2022-07-09T12:30:53.844Z"
   },
   {
    "duration": 19,
    "start_time": "2022-07-09T12:30:53.860Z"
   },
   {
    "duration": 34,
    "start_time": "2022-07-09T12:30:53.881Z"
   },
   {
    "duration": 40,
    "start_time": "2022-07-09T12:30:53.917Z"
   },
   {
    "duration": 27,
    "start_time": "2022-07-09T12:30:53.959Z"
   },
   {
    "duration": 17,
    "start_time": "2022-07-09T12:30:53.988Z"
   },
   {
    "duration": 10,
    "start_time": "2022-07-09T12:30:54.007Z"
   },
   {
    "duration": 22,
    "start_time": "2022-07-09T12:30:54.019Z"
   },
   {
    "duration": 23,
    "start_time": "2022-07-09T12:30:54.042Z"
   },
   {
    "duration": 12,
    "start_time": "2022-07-09T12:30:54.067Z"
   },
   {
    "duration": 33,
    "start_time": "2022-07-09T12:30:54.080Z"
   },
   {
    "duration": 7,
    "start_time": "2022-07-09T12:30:54.115Z"
   },
   {
    "duration": 11,
    "start_time": "2022-07-09T12:30:54.124Z"
   },
   {
    "duration": 15,
    "start_time": "2022-07-09T12:30:54.136Z"
   },
   {
    "duration": 16,
    "start_time": "2022-07-09T12:30:54.152Z"
   },
   {
    "duration": 48,
    "start_time": "2022-07-09T12:30:54.169Z"
   },
   {
    "duration": 8,
    "start_time": "2022-07-09T12:30:54.219Z"
   },
   {
    "duration": 7,
    "start_time": "2022-07-09T12:30:54.229Z"
   },
   {
    "duration": 14,
    "start_time": "2022-07-09T12:30:54.237Z"
   },
   {
    "duration": 17,
    "start_time": "2022-07-09T12:30:54.255Z"
   },
   {
    "duration": 48,
    "start_time": "2022-07-09T12:30:54.273Z"
   },
   {
    "duration": 9,
    "start_time": "2022-07-09T12:30:54.322Z"
   },
   {
    "duration": 55,
    "start_time": "2022-07-09T12:30:54.332Z"
   },
   {
    "duration": 27,
    "start_time": "2022-07-09T12:30:54.400Z"
   },
   {
    "duration": 30,
    "start_time": "2022-07-09T12:30:54.429Z"
   },
   {
    "duration": 46,
    "start_time": "2022-07-09T12:30:54.461Z"
   },
   {
    "duration": 30,
    "start_time": "2022-07-09T12:30:54.508Z"
   },
   {
    "duration": 22,
    "start_time": "2022-07-09T12:30:54.539Z"
   },
   {
    "duration": 50,
    "start_time": "2022-07-09T12:30:54.565Z"
   },
   {
    "duration": 30,
    "start_time": "2022-07-09T12:30:54.616Z"
   },
   {
    "duration": 27,
    "start_time": "2022-07-09T12:30:54.648Z"
   },
   {
    "duration": 28,
    "start_time": "2022-07-09T12:30:54.677Z"
   },
   {
    "duration": 178,
    "start_time": "2022-07-09T12:30:54.706Z"
   },
   {
    "duration": 516,
    "start_time": "2022-07-09T12:30:54.886Z"
   },
   {
    "duration": 189,
    "start_time": "2022-07-09T12:30:55.404Z"
   },
   {
    "duration": 173,
    "start_time": "2022-07-09T12:30:55.595Z"
   },
   {
    "duration": 442,
    "start_time": "2022-07-09T12:30:55.769Z"
   },
   {
    "duration": 242,
    "start_time": "2022-07-09T12:30:56.213Z"
   },
   {
    "duration": 204,
    "start_time": "2022-07-09T12:30:56.456Z"
   },
   {
    "duration": 424,
    "start_time": "2022-07-09T12:30:56.661Z"
   },
   {
    "duration": 168,
    "start_time": "2022-07-09T12:30:57.087Z"
   },
   {
    "duration": 4,
    "start_time": "2022-07-09T12:30:57.256Z"
   },
   {
    "duration": 185,
    "start_time": "2022-07-09T12:30:57.261Z"
   },
   {
    "duration": 167,
    "start_time": "2022-07-09T12:30:57.448Z"
   },
   {
    "duration": 454,
    "start_time": "2022-07-09T12:30:57.616Z"
   },
   {
    "duration": 284,
    "start_time": "2022-07-09T12:30:58.071Z"
   },
   {
    "duration": 159,
    "start_time": "2022-07-09T12:30:58.357Z"
   },
   {
    "duration": 5,
    "start_time": "2022-07-09T12:30:58.517Z"
   },
   {
    "duration": 15,
    "start_time": "2022-07-09T12:30:58.523Z"
   },
   {
    "duration": 23,
    "start_time": "2022-07-09T12:30:58.539Z"
   },
   {
    "duration": 8,
    "start_time": "2022-07-09T12:30:58.563Z"
   },
   {
    "duration": 3,
    "start_time": "2022-07-09T12:46:06.171Z"
   },
   {
    "duration": 279,
    "start_time": "2022-07-09T12:46:06.176Z"
   },
   {
    "duration": 28,
    "start_time": "2022-07-09T12:46:06.456Z"
   },
   {
    "duration": 30,
    "start_time": "2022-07-09T12:46:06.486Z"
   },
   {
    "duration": 23,
    "start_time": "2022-07-09T12:46:06.518Z"
   },
   {
    "duration": 37,
    "start_time": "2022-07-09T12:46:06.543Z"
   },
   {
    "duration": 20,
    "start_time": "2022-07-09T12:46:06.582Z"
   },
   {
    "duration": 30,
    "start_time": "2022-07-09T12:46:06.603Z"
   },
   {
    "duration": 34,
    "start_time": "2022-07-09T12:46:06.635Z"
   },
   {
    "duration": 14,
    "start_time": "2022-07-09T12:46:06.671Z"
   },
   {
    "duration": 27,
    "start_time": "2022-07-09T12:46:06.687Z"
   },
   {
    "duration": 49,
    "start_time": "2022-07-09T12:46:06.716Z"
   },
   {
    "duration": 34,
    "start_time": "2022-07-09T12:46:06.767Z"
   },
   {
    "duration": 48,
    "start_time": "2022-07-09T12:46:06.802Z"
   },
   {
    "duration": 21,
    "start_time": "2022-07-09T12:46:06.852Z"
   },
   {
    "duration": 19,
    "start_time": "2022-07-09T12:46:06.874Z"
   },
   {
    "duration": 44,
    "start_time": "2022-07-09T12:46:06.895Z"
   },
   {
    "duration": 30,
    "start_time": "2022-07-09T12:46:06.941Z"
   },
   {
    "duration": 10,
    "start_time": "2022-07-09T12:46:06.974Z"
   },
   {
    "duration": 34,
    "start_time": "2022-07-09T12:46:06.986Z"
   },
   {
    "duration": 20,
    "start_time": "2022-07-09T12:46:07.022Z"
   },
   {
    "duration": 20,
    "start_time": "2022-07-09T12:46:07.045Z"
   },
   {
    "duration": 22,
    "start_time": "2022-07-09T12:46:07.066Z"
   },
   {
    "duration": 37,
    "start_time": "2022-07-09T12:46:07.089Z"
   },
   {
    "duration": 21,
    "start_time": "2022-07-09T12:46:07.128Z"
   },
   {
    "duration": 18,
    "start_time": "2022-07-09T12:46:07.151Z"
   },
   {
    "duration": 22,
    "start_time": "2022-07-09T12:46:07.171Z"
   },
   {
    "duration": 19,
    "start_time": "2022-07-09T12:46:07.195Z"
   },
   {
    "duration": 42,
    "start_time": "2022-07-09T12:46:07.216Z"
   },
   {
    "duration": 20,
    "start_time": "2022-07-09T12:46:07.260Z"
   },
   {
    "duration": 15,
    "start_time": "2022-07-09T12:46:07.282Z"
   },
   {
    "duration": 82,
    "start_time": "2022-07-09T12:46:07.299Z"
   },
   {
    "duration": 30,
    "start_time": "2022-07-09T12:46:07.383Z"
   },
   {
    "duration": 39,
    "start_time": "2022-07-09T12:46:07.415Z"
   },
   {
    "duration": 30,
    "start_time": "2022-07-09T12:46:07.455Z"
   },
   {
    "duration": 58,
    "start_time": "2022-07-09T12:46:07.486Z"
   },
   {
    "duration": 21,
    "start_time": "2022-07-09T12:46:07.546Z"
   },
   {
    "duration": 49,
    "start_time": "2022-07-09T12:46:07.569Z"
   },
   {
    "duration": 33,
    "start_time": "2022-07-09T12:46:07.621Z"
   },
   {
    "duration": 44,
    "start_time": "2022-07-09T12:46:07.656Z"
   },
   {
    "duration": 7,
    "start_time": "2022-07-09T12:46:07.702Z"
   },
   {
    "duration": 203,
    "start_time": "2022-07-09T12:46:07.711Z"
   },
   {
    "duration": 523,
    "start_time": "2022-07-09T12:46:07.916Z"
   },
   {
    "duration": 177,
    "start_time": "2022-07-09T12:46:08.441Z"
   },
   {
    "duration": 186,
    "start_time": "2022-07-09T12:46:08.620Z"
   },
   {
    "duration": 598,
    "start_time": "2022-07-09T12:46:08.808Z"
   },
   {
    "duration": 192,
    "start_time": "2022-07-09T12:46:09.409Z"
   },
   {
    "duration": 211,
    "start_time": "2022-07-09T12:46:09.602Z"
   },
   {
    "duration": 525,
    "start_time": "2022-07-09T12:46:09.815Z"
   },
   {
    "duration": 201,
    "start_time": "2022-07-09T12:46:10.342Z"
   },
   {
    "duration": 5,
    "start_time": "2022-07-09T12:46:10.545Z"
   },
   {
    "duration": 216,
    "start_time": "2022-07-09T12:46:10.552Z"
   },
   {
    "duration": 176,
    "start_time": "2022-07-09T12:46:10.769Z"
   },
   {
    "duration": 596,
    "start_time": "2022-07-09T12:46:10.946Z"
   },
   {
    "duration": 187,
    "start_time": "2022-07-09T12:46:11.544Z"
   },
   {
    "duration": 165,
    "start_time": "2022-07-09T12:46:11.733Z"
   },
   {
    "duration": 5,
    "start_time": "2022-07-09T12:46:11.901Z"
   },
   {
    "duration": 39,
    "start_time": "2022-07-09T12:46:11.908Z"
   },
   {
    "duration": 28,
    "start_time": "2022-07-09T12:46:11.949Z"
   },
   {
    "duration": 8,
    "start_time": "2022-07-09T12:46:11.979Z"
   },
   {
    "duration": 118,
    "start_time": "2022-07-13T04:30:47.247Z"
   }
  ],
  "kernelspec": {
   "display_name": "Python 3 (ipykernel)",
   "language": "python",
   "name": "python3"
  },
  "language_info": {
   "codemirror_mode": {
    "name": "ipython",
    "version": 3
   },
   "file_extension": ".py",
   "mimetype": "text/x-python",
   "name": "python",
   "nbconvert_exporter": "python",
   "pygments_lexer": "ipython3",
   "version": "3.9.7"
  },
  "toc": {
   "base_numbering": 1,
   "nav_menu": {},
   "number_sections": true,
   "sideBar": true,
   "skip_h1_title": false,
   "title_cell": "Table of Contents",
   "title_sidebar": "Contents",
   "toc_cell": false,
   "toc_position": {},
   "toc_section_display": true,
   "toc_window_display": true
  }
 },
 "nbformat": 4,
 "nbformat_minor": 2
}
